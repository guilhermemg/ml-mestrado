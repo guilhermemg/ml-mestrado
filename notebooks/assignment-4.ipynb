{
 "cells": [
  {
   "cell_type": "markdown",
   "metadata": {},
   "source": [
    "# Descrição de Atividade\n",
    "\n",
    "Nessa atividade você irá usar seus conhecimentos sobre classificação para prever quais candidatos à Câmara de Deputados foram eleitos nas eleições de 2014. De forma específica:\n",
    "\n",
    " 1. Há desbalanceamento das classes (isto é, uma classe tem muito mais instâncias que outra)? Em que proporção? Quais efeitos colaterais o desbalanceamento de classes pode causar no classificador? Como você poderia tratar isso? (1 pt.)\n",
    " 2. Treine: um modelo de regressão logística, KNN, uma árvore de decisão e um modelo de adaboost. Tune esses modelos usando validação cruzada e controle overfitting se necessário, considerando as particularidades de cada modelo.  (2 pts.)\n",
    "Reporte Precision, Recall e AUC-Precision&Recall no treino e validação. Há uma grande diferença de desempenho no treino/validação? Como você avalia os resultados? Justifique sua resposta. (2 pt.)\n",
    " 3. Interprete as saídas dos modelos. Quais atributos parecem ser mais importantes de acordo com cada modelo?  (2 pts.)\n",
    " 4. Envie seus melhores modelos à competição do Kaggle. Faça pelo menos uma submissão. Sugestões para melhorar o modelo: (2 pts.)\n",
    " 5. Experimente outros modelos (e.g. SVM, RandomForests e GradientBoosting).\n",
    " 6. Experimente outras estratégias de ensembles (e.g. Stacking).\n",
    " 7. Experimente balancear as classes,  caso estejam desbalanceadas.\n",
    "\n",
    "Os dados estão neste link: https://www.kaggle.com/c/ufcg-cdp-20182-lab3/data (Links para um site externo)Links para um site externo\n",
    "\n",
    "Para a entrega envie o link no GitHub com o notebook usado para resolver o Lab.\n",
    "\n",
    "\n",
    "### Descrição dos dados:\n",
    "\n",
    "Os dados utilizados correspondem aos das eleições de Deputado Federal nos anos de 2006, 2010 e 2014. Estão dividos nas seguintes colunas:\n",
    "\n",
    "* **ano**: Ano da eleição;\n",
    "* **sequencial_candidato**: O identificador do candidato. Corresponde à coluna Id do arquivo de submissão;\n",
    "* **nome**: Nome do candidato;\n",
    "* **uf**: Sigla do estado do candidato;\n",
    "* **partido**: Partido do candidato;\n",
    "* **quantidade_doacoes**: Número de doações que um candidato recebeu;\n",
    "* **quantidade_doadores**: Numero de doadores que um candidato teve;\n",
    "* **total_receita**: Total de receita de um candidato;\n",
    "* **media_receita**: Média da receita de um candidato;\n",
    "* **recursos_de_outros_candidatos.comites**: Total de receita proveniente de outros candidatos e comitês;\n",
    "* **recursos_de_pessoas_fisicas**: Total de receita proveniente de pessoas físicas;\n",
    "* **recursos_de_pessoas_juridicas**: Total de receita proveniente de pessoas juridicas;\n",
    "* **recursos_proprios**:Total de receita proveniente dos próprios candidatos;\n",
    "* **recursos_de_partido_politico**: Total de receita proveniente do partido do candidato;\n",
    "* **quantidade_despesas**: Número de despesas que um candidato teve;\n",
    "* **quantidade_fornecedores**: Número de fornecedores que um candidato teve;\n",
    "* **total_despesa**: Total de depesa de um candidato;\n",
    "* **media_despesa**: Média da despesa de um candidato;\n",
    "* **cargo**: Cargo ao qual o candidato está concorrendo;\n",
    "* **sexo**: Sexo do candidato;\n",
    "* **grau**: Grau de escolaridade do candidato;\n",
    "* **estado_civil**: Estado civil do candidato;\n",
    "* **ocupacao**: Ocupação do candidato;\n",
    "* **situacao**: Situação final do candidato. Corresponde à coluna **Predict** do arquivo de submissão;"
   ]
  },
  {
   "cell_type": "markdown",
   "metadata": {},
   "source": [
    "## Import Libraries"
   ]
  },
  {
   "cell_type": "code",
   "execution_count": 183,
   "metadata": {},
   "outputs": [],
   "source": [
    "import pandas as pd\n",
    "import numpy as np\n",
    "import seaborn as sns\n",
    "import matplotlib\n",
    "\n",
    "from sklearn.metrics import mean_squared_error\n",
    "from sklearn.model_selection import cross_val_score\n",
    "from sklearn.linear_model import Ridge, RidgeCV, LassoCV, LinearRegression\n",
    "from sklearn.neighbors import KNeighborsRegressor\n",
    "from sklearn.ensemble import RandomForestRegressor\n",
    "from sklearn.tree import DecisionTreeRegressor\n",
    "from sklearn.svm import SVR\n",
    "\n",
    "import matplotlib.pyplot as plt\n",
    "from scipy.stats import skew\n",
    "from scipy.stats.stats import pearsonr\n",
    "\n",
    "sns.set(style=\"ticks\")\n",
    "\n",
    "%matplotlib inline"
   ]
  },
  {
   "cell_type": "markdown",
   "metadata": {},
   "source": [
    "## Load Data"
   ]
  },
  {
   "cell_type": "code",
   "execution_count": 184,
   "metadata": {},
   "outputs": [
    {
     "data": {
      "text/plain": [
       "(7622, 24)"
      ]
     },
     "execution_count": 184,
     "metadata": {},
     "output_type": "execute_result"
    }
   ],
   "source": [
    "candidates_df = pd.read_csv('../data/assignment_4/train.csv')\n",
    "candidates_df.shape"
   ]
  },
  {
   "cell_type": "code",
   "execution_count": 185,
   "metadata": {},
   "outputs": [
    {
     "data": {
      "text/plain": [
       "(4592, 23)"
      ]
     },
     "execution_count": 185,
     "metadata": {},
     "output_type": "execute_result"
    }
   ],
   "source": [
    "candidates_test_df = pd.read_csv('../data/assignment_4/test.csv')\n",
    "candidates_test_df.shape"
   ]
  },
  {
   "cell_type": "markdown",
   "metadata": {},
   "source": [
    "### Remove Colunas Desnecessárias para Análise"
   ]
  },
  {
   "cell_type": "code",
   "execution_count": 186,
   "metadata": {},
   "outputs": [],
   "source": [
    "candidates_df.set_index('sequencial_candidato', inplace=True, drop=True)\n",
    "candidates_test_df.set_index('sequencial_candidato', inplace=True, drop=True)"
   ]
  },
  {
   "cell_type": "markdown",
   "metadata": {},
   "source": [
    "## EDA - Exploratory Data Analysis\n",
    "\n",
    "Inicialmente, devemos fazer uma análise exploratória dos dados para descobrir como eles estão distribuídos, se possuem valores extraordinários (outliers) e se tem alguma correlação mais forte entre si, especialmente com a variável alvo (**situacao**)."
   ]
  },
  {
   "cell_type": "code",
   "execution_count": 187,
   "metadata": {},
   "outputs": [
    {
     "data": {
      "text/plain": [
       "Index(['ano', 'nome', 'uf', 'partido', 'quantidade_doacoes',\n",
       "       'quantidade_doadores', 'total_receita', 'media_receita',\n",
       "       'recursos_de_outros_candidatos.comites', 'recursos_de_pessoas_fisicas',\n",
       "       'recursos_de_pessoas_juridicas', 'recursos_proprios',\n",
       "       'recursos_de_partido_politico', 'quantidade_despesas',\n",
       "       'quantidade_fornecedores', 'total_despesa', 'media_despesa', 'cargo',\n",
       "       'sexo', 'grau', 'estado_civil', 'ocupacao', 'situacao'],\n",
       "      dtype='object')"
      ]
     },
     "execution_count": 187,
     "metadata": {},
     "output_type": "execute_result"
    }
   ],
   "source": [
    "candidates_df.columns"
   ]
  },
  {
   "cell_type": "code",
   "execution_count": 188,
   "metadata": {},
   "outputs": [
    {
     "data": {
      "text/plain": [
       "Index(['ano', 'nome', 'uf', 'partido', 'quantidade_doacoes',\n",
       "       'quantidade_doadores', 'total_receita', 'media_receita',\n",
       "       'recursos_de_outros_candidatos.comites', 'recursos_de_pessoas_fisicas',\n",
       "       'recursos_de_pessoas_juridicas', 'recursos_proprios',\n",
       "       'recursos_de_partido_politico', 'quantidade_despesas',\n",
       "       'quantidade_fornecedores', 'total_despesa', 'media_despesa', 'cargo',\n",
       "       'sexo', 'grau', 'estado_civil', 'ocupacao'],\n",
       "      dtype='object')"
      ]
     },
     "execution_count": 188,
     "metadata": {},
     "output_type": "execute_result"
    }
   ],
   "source": [
    "candidates_test_df.columns"
   ]
  },
  {
   "cell_type": "code",
   "execution_count": 189,
   "metadata": {},
   "outputs": [
    {
     "data": {
      "text/html": [
       "<div>\n",
       "<style scoped>\n",
       "    .dataframe tbody tr th:only-of-type {\n",
       "        vertical-align: middle;\n",
       "    }\n",
       "\n",
       "    .dataframe tbody tr th {\n",
       "        vertical-align: top;\n",
       "    }\n",
       "\n",
       "    .dataframe thead th {\n",
       "        text-align: right;\n",
       "    }\n",
       "</style>\n",
       "<table border=\"1\" class=\"dataframe\">\n",
       "  <thead>\n",
       "    <tr style=\"text-align: right;\">\n",
       "      <th></th>\n",
       "      <th>ano</th>\n",
       "      <th>quantidade_doacoes</th>\n",
       "      <th>quantidade_doadores</th>\n",
       "      <th>total_receita</th>\n",
       "      <th>media_receita</th>\n",
       "      <th>recursos_de_outros_candidatos.comites</th>\n",
       "      <th>recursos_de_pessoas_fisicas</th>\n",
       "      <th>recursos_de_pessoas_juridicas</th>\n",
       "      <th>recursos_proprios</th>\n",
       "      <th>recursos_de_partido_politico</th>\n",
       "      <th>quantidade_despesas</th>\n",
       "      <th>quantidade_fornecedores</th>\n",
       "      <th>total_despesa</th>\n",
       "      <th>media_despesa</th>\n",
       "    </tr>\n",
       "  </thead>\n",
       "  <tbody>\n",
       "    <tr>\n",
       "      <th>count</th>\n",
       "      <td>7622.000000</td>\n",
       "      <td>7622.000000</td>\n",
       "      <td>7622.000000</td>\n",
       "      <td>7.622000e+03</td>\n",
       "      <td>7622.000000</td>\n",
       "      <td>7.622000e+03</td>\n",
       "      <td>7.622000e+03</td>\n",
       "      <td>7.622000e+03</td>\n",
       "      <td>7.622000e+03</td>\n",
       "      <td>7.622000e+03</td>\n",
       "      <td>7622.000000</td>\n",
       "      <td>7622.000000</td>\n",
       "      <td>7.622000e+03</td>\n",
       "      <td>7622.000000</td>\n",
       "    </tr>\n",
       "    <tr>\n",
       "      <th>mean</th>\n",
       "      <td>2008.120703</td>\n",
       "      <td>27.673839</td>\n",
       "      <td>25.239963</td>\n",
       "      <td>1.732199e+05</td>\n",
       "      <td>5456.131027</td>\n",
       "      <td>1.965750e+04</td>\n",
       "      <td>2.315820e+04</td>\n",
       "      <td>7.921689e+04</td>\n",
       "      <td>2.577600e+04</td>\n",
       "      <td>2.541136e+04</td>\n",
       "      <td>130.485174</td>\n",
       "      <td>107.849777</td>\n",
       "      <td>1.554507e+05</td>\n",
       "      <td>1346.643975</td>\n",
       "    </tr>\n",
       "    <tr>\n",
       "      <th>std</th>\n",
       "      <td>1.996485</td>\n",
       "      <td>116.511888</td>\n",
       "      <td>101.804938</td>\n",
       "      <td>4.444187e+05</td>\n",
       "      <td>14003.313610</td>\n",
       "      <td>1.041636e+05</td>\n",
       "      <td>6.689215e+04</td>\n",
       "      <td>2.514138e+05</td>\n",
       "      <td>1.495312e+05</td>\n",
       "      <td>1.308613e+05</td>\n",
       "      <td>411.039689</td>\n",
       "      <td>333.905884</td>\n",
       "      <td>3.901120e+05</td>\n",
       "      <td>6164.552399</td>\n",
       "    </tr>\n",
       "    <tr>\n",
       "      <th>min</th>\n",
       "      <td>2006.000000</td>\n",
       "      <td>1.000000</td>\n",
       "      <td>1.000000</td>\n",
       "      <td>0.000000e+00</td>\n",
       "      <td>0.000000</td>\n",
       "      <td>0.000000e+00</td>\n",
       "      <td>0.000000e+00</td>\n",
       "      <td>0.000000e+00</td>\n",
       "      <td>0.000000e+00</td>\n",
       "      <td>0.000000e+00</td>\n",
       "      <td>1.000000</td>\n",
       "      <td>1.000000</td>\n",
       "      <td>0.000000e+00</td>\n",
       "      <td>0.000000</td>\n",
       "    </tr>\n",
       "    <tr>\n",
       "      <th>25%</th>\n",
       "      <td>2006.000000</td>\n",
       "      <td>4.000000</td>\n",
       "      <td>3.000000</td>\n",
       "      <td>2.829208e+03</td>\n",
       "      <td>625.000000</td>\n",
       "      <td>0.000000e+00</td>\n",
       "      <td>0.000000e+00</td>\n",
       "      <td>0.000000e+00</td>\n",
       "      <td>0.000000e+00</td>\n",
       "      <td>0.000000e+00</td>\n",
       "      <td>6.000000</td>\n",
       "      <td>5.000000</td>\n",
       "      <td>2.689600e+03</td>\n",
       "      <td>352.500000</td>\n",
       "    </tr>\n",
       "    <tr>\n",
       "      <th>50%</th>\n",
       "      <td>2010.000000</td>\n",
       "      <td>9.000000</td>\n",
       "      <td>8.000000</td>\n",
       "      <td>1.334511e+04</td>\n",
       "      <td>1537.775000</td>\n",
       "      <td>1.125000e+03</td>\n",
       "      <td>1.350000e+03</td>\n",
       "      <td>0.000000e+00</td>\n",
       "      <td>1.121600e+03</td>\n",
       "      <td>0.000000e+00</td>\n",
       "      <td>20.000000</td>\n",
       "      <td>18.000000</td>\n",
       "      <td>1.226735e+04</td>\n",
       "      <td>711.365000</td>\n",
       "    </tr>\n",
       "    <tr>\n",
       "      <th>75%</th>\n",
       "      <td>2010.000000</td>\n",
       "      <td>23.000000</td>\n",
       "      <td>21.000000</td>\n",
       "      <td>1.046682e+05</td>\n",
       "      <td>4666.247500</td>\n",
       "      <td>6.196375e+03</td>\n",
       "      <td>1.574625e+04</td>\n",
       "      <td>1.725875e+04</td>\n",
       "      <td>9.600000e+03</td>\n",
       "      <td>0.000000e+00</td>\n",
       "      <td>80.000000</td>\n",
       "      <td>68.000000</td>\n",
       "      <td>9.633950e+04</td>\n",
       "      <td>1399.812500</td>\n",
       "    </tr>\n",
       "    <tr>\n",
       "      <th>max</th>\n",
       "      <td>2010.000000</td>\n",
       "      <td>6997.000000</td>\n",
       "      <td>5800.000000</td>\n",
       "      <td>5.690642e+06</td>\n",
       "      <td>500180.000000</td>\n",
       "      <td>3.664205e+06</td>\n",
       "      <td>1.403049e+06</td>\n",
       "      <td>3.178226e+06</td>\n",
       "      <td>5.525600e+06</td>\n",
       "      <td>2.745700e+06</td>\n",
       "      <td>9932.000000</td>\n",
       "      <td>8359.000000</td>\n",
       "      <td>4.989491e+06</td>\n",
       "      <td>500177.000000</td>\n",
       "    </tr>\n",
       "  </tbody>\n",
       "</table>\n",
       "</div>"
      ],
      "text/plain": [
       "               ano  quantidade_doacoes  quantidade_doadores  total_receita  \\\n",
       "count  7622.000000         7622.000000          7622.000000   7.622000e+03   \n",
       "mean   2008.120703           27.673839            25.239963   1.732199e+05   \n",
       "std       1.996485          116.511888           101.804938   4.444187e+05   \n",
       "min    2006.000000            1.000000             1.000000   0.000000e+00   \n",
       "25%    2006.000000            4.000000             3.000000   2.829208e+03   \n",
       "50%    2010.000000            9.000000             8.000000   1.334511e+04   \n",
       "75%    2010.000000           23.000000            21.000000   1.046682e+05   \n",
       "max    2010.000000         6997.000000          5800.000000   5.690642e+06   \n",
       "\n",
       "       media_receita  recursos_de_outros_candidatos.comites  \\\n",
       "count    7622.000000                           7.622000e+03   \n",
       "mean     5456.131027                           1.965750e+04   \n",
       "std     14003.313610                           1.041636e+05   \n",
       "min         0.000000                           0.000000e+00   \n",
       "25%       625.000000                           0.000000e+00   \n",
       "50%      1537.775000                           1.125000e+03   \n",
       "75%      4666.247500                           6.196375e+03   \n",
       "max    500180.000000                           3.664205e+06   \n",
       "\n",
       "       recursos_de_pessoas_fisicas  recursos_de_pessoas_juridicas  \\\n",
       "count                 7.622000e+03                   7.622000e+03   \n",
       "mean                  2.315820e+04                   7.921689e+04   \n",
       "std                   6.689215e+04                   2.514138e+05   \n",
       "min                   0.000000e+00                   0.000000e+00   \n",
       "25%                   0.000000e+00                   0.000000e+00   \n",
       "50%                   1.350000e+03                   0.000000e+00   \n",
       "75%                   1.574625e+04                   1.725875e+04   \n",
       "max                   1.403049e+06                   3.178226e+06   \n",
       "\n",
       "       recursos_proprios  recursos_de_partido_politico  quantidade_despesas  \\\n",
       "count       7.622000e+03                  7.622000e+03          7622.000000   \n",
       "mean        2.577600e+04                  2.541136e+04           130.485174   \n",
       "std         1.495312e+05                  1.308613e+05           411.039689   \n",
       "min         0.000000e+00                  0.000000e+00             1.000000   \n",
       "25%         0.000000e+00                  0.000000e+00             6.000000   \n",
       "50%         1.121600e+03                  0.000000e+00            20.000000   \n",
       "75%         9.600000e+03                  0.000000e+00            80.000000   \n",
       "max         5.525600e+06                  2.745700e+06          9932.000000   \n",
       "\n",
       "       quantidade_fornecedores  total_despesa  media_despesa  \n",
       "count              7622.000000   7.622000e+03    7622.000000  \n",
       "mean                107.849777   1.554507e+05    1346.643975  \n",
       "std                 333.905884   3.901120e+05    6164.552399  \n",
       "min                   1.000000   0.000000e+00       0.000000  \n",
       "25%                   5.000000   2.689600e+03     352.500000  \n",
       "50%                  18.000000   1.226735e+04     711.365000  \n",
       "75%                  68.000000   9.633950e+04    1399.812500  \n",
       "max                8359.000000   4.989491e+06  500177.000000  "
      ]
     },
     "execution_count": 189,
     "metadata": {},
     "output_type": "execute_result"
    }
   ],
   "source": [
    "candidates_df.describe(exclude=['category', 'object'])"
   ]
  },
  {
   "cell_type": "code",
   "execution_count": 190,
   "metadata": {},
   "outputs": [
    {
     "data": {
      "text/html": [
       "<div>\n",
       "<style scoped>\n",
       "    .dataframe tbody tr th:only-of-type {\n",
       "        vertical-align: middle;\n",
       "    }\n",
       "\n",
       "    .dataframe tbody tr th {\n",
       "        vertical-align: top;\n",
       "    }\n",
       "\n",
       "    .dataframe thead th {\n",
       "        text-align: right;\n",
       "    }\n",
       "</style>\n",
       "<table border=\"1\" class=\"dataframe\">\n",
       "  <thead>\n",
       "    <tr style=\"text-align: right;\">\n",
       "      <th></th>\n",
       "      <th>ano</th>\n",
       "      <th>quantidade_doacoes</th>\n",
       "      <th>quantidade_doadores</th>\n",
       "      <th>total_receita</th>\n",
       "      <th>media_receita</th>\n",
       "      <th>recursos_de_outros_candidatos.comites</th>\n",
       "      <th>recursos_de_pessoas_fisicas</th>\n",
       "      <th>recursos_de_pessoas_juridicas</th>\n",
       "      <th>recursos_proprios</th>\n",
       "      <th>recursos_de_partido_politico</th>\n",
       "      <th>quantidade_despesas</th>\n",
       "      <th>quantidade_fornecedores</th>\n",
       "      <th>total_despesa</th>\n",
       "      <th>media_despesa</th>\n",
       "    </tr>\n",
       "  </thead>\n",
       "  <tbody>\n",
       "    <tr>\n",
       "      <th>count</th>\n",
       "      <td>4592.0</td>\n",
       "      <td>4592.000000</td>\n",
       "      <td>4592.000000</td>\n",
       "      <td>4.592000e+03</td>\n",
       "      <td>4592.000000</td>\n",
       "      <td>4.592000e+03</td>\n",
       "      <td>4.592000e+03</td>\n",
       "      <td>4.592000e+03</td>\n",
       "      <td>4.592000e+03</td>\n",
       "      <td>4.592000e+03</td>\n",
       "      <td>4592.000000</td>\n",
       "      <td>4592.000000</td>\n",
       "      <td>4.592000e+03</td>\n",
       "      <td>4592.000000</td>\n",
       "    </tr>\n",
       "    <tr>\n",
       "      <th>mean</th>\n",
       "      <td>2014.0</td>\n",
       "      <td>23.642857</td>\n",
       "      <td>20.229530</td>\n",
       "      <td>2.205028e+05</td>\n",
       "      <td>5804.729399</td>\n",
       "      <td>2.106498e+04</td>\n",
       "      <td>2.880955e+04</td>\n",
       "      <td>6.525898e+04</td>\n",
       "      <td>2.288240e+04</td>\n",
       "      <td>8.248691e+04</td>\n",
       "      <td>140.183145</td>\n",
       "      <td>110.778310</td>\n",
       "      <td>1.927513e+05</td>\n",
       "      <td>1141.754201</td>\n",
       "    </tr>\n",
       "    <tr>\n",
       "      <th>std</th>\n",
       "      <td>0.0</td>\n",
       "      <td>47.769573</td>\n",
       "      <td>38.468956</td>\n",
       "      <td>6.258873e+05</td>\n",
       "      <td>14199.375563</td>\n",
       "      <td>8.975554e+04</td>\n",
       "      <td>9.386364e+04</td>\n",
       "      <td>2.614898e+05</td>\n",
       "      <td>1.243660e+05</td>\n",
       "      <td>3.395826e+05</td>\n",
       "      <td>436.281920</td>\n",
       "      <td>344.046031</td>\n",
       "      <td>5.450958e+05</td>\n",
       "      <td>1617.057005</td>\n",
       "    </tr>\n",
       "    <tr>\n",
       "      <th>min</th>\n",
       "      <td>2014.0</td>\n",
       "      <td>1.000000</td>\n",
       "      <td>1.000000</td>\n",
       "      <td>1.400000e-01</td>\n",
       "      <td>0.140000</td>\n",
       "      <td>0.000000e+00</td>\n",
       "      <td>0.000000e+00</td>\n",
       "      <td>0.000000e+00</td>\n",
       "      <td>0.000000e+00</td>\n",
       "      <td>0.000000e+00</td>\n",
       "      <td>1.000000</td>\n",
       "      <td>1.000000</td>\n",
       "      <td>1.400000e-01</td>\n",
       "      <td>0.140000</td>\n",
       "    </tr>\n",
       "    <tr>\n",
       "      <th>25%</th>\n",
       "      <td>2014.0</td>\n",
       "      <td>4.000000</td>\n",
       "      <td>4.000000</td>\n",
       "      <td>3.000000e+03</td>\n",
       "      <td>564.295000</td>\n",
       "      <td>0.000000e+00</td>\n",
       "      <td>0.000000e+00</td>\n",
       "      <td>0.000000e+00</td>\n",
       "      <td>0.000000e+00</td>\n",
       "      <td>0.000000e+00</td>\n",
       "      <td>6.000000</td>\n",
       "      <td>5.000000</td>\n",
       "      <td>2.769360e+03</td>\n",
       "      <td>394.292500</td>\n",
       "    </tr>\n",
       "    <tr>\n",
       "      <th>50%</th>\n",
       "      <td>2014.0</td>\n",
       "      <td>9.000000</td>\n",
       "      <td>8.000000</td>\n",
       "      <td>1.101452e+04</td>\n",
       "      <td>1319.810000</td>\n",
       "      <td>7.870650e+02</td>\n",
       "      <td>1.500000e+03</td>\n",
       "      <td>0.000000e+00</td>\n",
       "      <td>3.000000e+02</td>\n",
       "      <td>0.000000e+00</td>\n",
       "      <td>15.000000</td>\n",
       "      <td>13.000000</td>\n",
       "      <td>1.039450e+04</td>\n",
       "      <td>733.080000</td>\n",
       "    </tr>\n",
       "    <tr>\n",
       "      <th>75%</th>\n",
       "      <td>2014.0</td>\n",
       "      <td>20.000000</td>\n",
       "      <td>18.000000</td>\n",
       "      <td>8.193502e+04</td>\n",
       "      <td>4141.415000</td>\n",
       "      <td>7.243938e+03</td>\n",
       "      <td>1.201250e+04</td>\n",
       "      <td>2.400000e+03</td>\n",
       "      <td>6.451000e+03</td>\n",
       "      <td>5.000000e+03</td>\n",
       "      <td>63.000000</td>\n",
       "      <td>53.000000</td>\n",
       "      <td>7.384302e+04</td>\n",
       "      <td>1307.592500</td>\n",
       "    </tr>\n",
       "    <tr>\n",
       "      <th>max</th>\n",
       "      <td>2014.0</td>\n",
       "      <td>684.000000</td>\n",
       "      <td>496.000000</td>\n",
       "      <td>6.832481e+06</td>\n",
       "      <td>281250.000000</td>\n",
       "      <td>1.674510e+06</td>\n",
       "      <td>1.826762e+06</td>\n",
       "      <td>3.828338e+06</td>\n",
       "      <td>3.343815e+06</td>\n",
       "      <td>5.769682e+06</td>\n",
       "      <td>6413.000000</td>\n",
       "      <td>5170.000000</td>\n",
       "      <td>7.420179e+06</td>\n",
       "      <td>33270.340000</td>\n",
       "    </tr>\n",
       "  </tbody>\n",
       "</table>\n",
       "</div>"
      ],
      "text/plain": [
       "          ano  quantidade_doacoes  quantidade_doadores  total_receita  \\\n",
       "count  4592.0         4592.000000          4592.000000   4.592000e+03   \n",
       "mean   2014.0           23.642857            20.229530   2.205028e+05   \n",
       "std       0.0           47.769573            38.468956   6.258873e+05   \n",
       "min    2014.0            1.000000             1.000000   1.400000e-01   \n",
       "25%    2014.0            4.000000             4.000000   3.000000e+03   \n",
       "50%    2014.0            9.000000             8.000000   1.101452e+04   \n",
       "75%    2014.0           20.000000            18.000000   8.193502e+04   \n",
       "max    2014.0          684.000000           496.000000   6.832481e+06   \n",
       "\n",
       "       media_receita  recursos_de_outros_candidatos.comites  \\\n",
       "count    4592.000000                           4.592000e+03   \n",
       "mean     5804.729399                           2.106498e+04   \n",
       "std     14199.375563                           8.975554e+04   \n",
       "min         0.140000                           0.000000e+00   \n",
       "25%       564.295000                           0.000000e+00   \n",
       "50%      1319.810000                           7.870650e+02   \n",
       "75%      4141.415000                           7.243938e+03   \n",
       "max    281250.000000                           1.674510e+06   \n",
       "\n",
       "       recursos_de_pessoas_fisicas  recursos_de_pessoas_juridicas  \\\n",
       "count                 4.592000e+03                   4.592000e+03   \n",
       "mean                  2.880955e+04                   6.525898e+04   \n",
       "std                   9.386364e+04                   2.614898e+05   \n",
       "min                   0.000000e+00                   0.000000e+00   \n",
       "25%                   0.000000e+00                   0.000000e+00   \n",
       "50%                   1.500000e+03                   0.000000e+00   \n",
       "75%                   1.201250e+04                   2.400000e+03   \n",
       "max                   1.826762e+06                   3.828338e+06   \n",
       "\n",
       "       recursos_proprios  recursos_de_partido_politico  quantidade_despesas  \\\n",
       "count       4.592000e+03                  4.592000e+03          4592.000000   \n",
       "mean        2.288240e+04                  8.248691e+04           140.183145   \n",
       "std         1.243660e+05                  3.395826e+05           436.281920   \n",
       "min         0.000000e+00                  0.000000e+00             1.000000   \n",
       "25%         0.000000e+00                  0.000000e+00             6.000000   \n",
       "50%         3.000000e+02                  0.000000e+00            15.000000   \n",
       "75%         6.451000e+03                  5.000000e+03            63.000000   \n",
       "max         3.343815e+06                  5.769682e+06          6413.000000   \n",
       "\n",
       "       quantidade_fornecedores  total_despesa  media_despesa  \n",
       "count              4592.000000   4.592000e+03    4592.000000  \n",
       "mean                110.778310   1.927513e+05    1141.754201  \n",
       "std                 344.046031   5.450958e+05    1617.057005  \n",
       "min                   1.000000   1.400000e-01       0.140000  \n",
       "25%                   5.000000   2.769360e+03     394.292500  \n",
       "50%                  13.000000   1.039450e+04     733.080000  \n",
       "75%                  53.000000   7.384302e+04    1307.592500  \n",
       "max                5170.000000   7.420179e+06   33270.340000  "
      ]
     },
     "execution_count": 190,
     "metadata": {},
     "output_type": "execute_result"
    }
   ],
   "source": [
    "candidates_test_df.describe(exclude=['category','object'])"
   ]
  },
  {
   "cell_type": "markdown",
   "metadata": {},
   "source": [
    "A tabela acima já nos permite tirar uma série de insights sobre os dados que temos, entretando precisamos investigar a existência de valores estranhos no nosso dataset, como valores não-numéricos (NaN) em variáveis numéricas:"
   ]
  },
  {
   "cell_type": "code",
   "execution_count": 191,
   "metadata": {},
   "outputs": [],
   "source": [
    "for col in candidates_df.columns:\n",
    "    amount_nan = candidates_df[str(col)].isna().sum()\n",
    "    if amount_nan > 0:\n",
    "        print(\"Column [{:02}]: {:40} - Amount NaN: {}\".format(candidates_df.columns.get_loc(str(col)), str(col), amount_nan))"
   ]
  },
  {
   "cell_type": "markdown",
   "metadata": {},
   "source": [
    "Faz o mesmo para o dataset de testes"
   ]
  },
  {
   "cell_type": "code",
   "execution_count": 192,
   "metadata": {},
   "outputs": [],
   "source": [
    "for col in candidates_test_df.columns:\n",
    "    amount_nan = candidates_test_df[str(col)].isna().sum()\n",
    "    if amount_nan > 0:\n",
    "        print(\"Column [{:02}]: {:40} - Amount NaN: {}\".format(candidates_test_df.columns.get_loc(str(col)), str(col), amount_nan))"
   ]
  },
  {
   "cell_type": "markdown",
   "metadata": {},
   "source": [
    "Como vemos, nosso dataset **_não_** possui valores NaN para as colunas numéricas."
   ]
  },
  {
   "cell_type": "markdown",
   "metadata": {},
   "source": [
    "### Calculando Skewness de Variáveis Numéricas\n",
    "\n",
    "Aqui nós transformamos skewed features para que tenham uma distribuição mais normalizada. Ter uma distribuição mais normalizada nos garante um maior arsenal de ferramentas estatísticas e computacionais que podemos utilizar, assim como torna a análise dos dados mais conveniente para nós.\n",
    "\n",
    "Nós utilizamos o **log(1 + x)** em vez de apenas **log(x)**, uma vez que o log de 0 não existe, e várias de nossas variáveis tem esses valores, como as que preenchemos em substituição a NaN na seção acima. Além disso, como estamos lidando com valores de receita, despesa, etc. é comum ter valores 0 em nossas distribuições."
   ]
  },
  {
   "cell_type": "code",
   "execution_count": 193,
   "metadata": {},
   "outputs": [
    {
     "data": {
      "text/plain": [
       "array([[<matplotlib.axes._subplots.AxesSubplot object at 0x7f3ec205a630>,\n",
       "        <matplotlib.axes._subplots.AxesSubplot object at 0x7f3ec200fd30>]],\n",
       "      dtype=object)"
      ]
     },
     "execution_count": 193,
     "metadata": {},
     "output_type": "execute_result"
    },
    {
     "data": {
      "image/png": "[encoded data removed]",
      "text/plain": [
       "<Figure size 864x432 with 2 Axes>"
      ]
     },
     "metadata": {},
     "output_type": "display_data"
    }
   ],
   "source": [
    "matplotlib.rcParams['figure.figsize'] = (12.0, 6.0)\n",
    "media_despesa = pd.DataFrame({\"media_despesa\" : candidates_df[\"media_despesa\"], \"log(media_despesa + 1)\" : np.log1p(candidates_df[\"media_despesa\"])})\n",
    "media_despesa.hist()"
   ]
  },
  {
   "cell_type": "code",
   "execution_count": 194,
   "metadata": {},
   "outputs": [
    {
     "name": "stdout",
     "output_type": "stream",
     "text": [
      "Index(['quantidade_doacoes', 'quantidade_doadores', 'total_receita',\n",
      "       'media_receita', 'recursos_de_outros_candidatos.comites',\n",
      "       'recursos_de_pessoas_fisicas', 'recursos_de_pessoas_juridicas',\n",
      "       'recursos_proprios', 'recursos_de_partido_politico',\n",
      "       'quantidade_despesas', 'quantidade_fornecedores', 'total_despesa',\n",
      "       'media_despesa'],\n",
      "      dtype='object')\n"
     ]
    }
   ],
   "source": [
    "numeric_features = candidates_df.dtypes[candidates_df.dtypes != 'object'].index\n",
    "\n",
    "skewed_feats = candidates_df[numeric_features].apply(lambda x: skew(x.dropna())) #compute skewness\n",
    "skewed_feats = skewed_feats[skewed_feats > 0.75]\n",
    "skewed_feats = skewed_feats.index\n",
    "\n",
    "print(skewed_feats)\n",
    "\n",
    "candidates_df[skewed_feats] = np.log1p(candidates_df[skewed_feats])"
   ]
  },
  {
   "cell_type": "markdown",
   "metadata": {},
   "source": [
    "Faz o mesmo para o dataset de testes"
   ]
  },
  {
   "cell_type": "code",
   "execution_count": 195,
   "metadata": {},
   "outputs": [],
   "source": [
    "numeric_features = candidates_test_df.dtypes[candidates_test_df.dtypes != 'object'].index\n",
    "\n",
    "skewed_feats = candidates_test_df[numeric_features].apply(lambda x: skew(x.dropna())) #compute skewness\n",
    "skewed_feats = skewed_feats[skewed_feats > 0.75]\n",
    "skewed_feats = skewed_feats.index\n",
    "\n",
    "candidates_test_df[skewed_feats] = np.log1p(candidates_test_df[skewed_feats])"
   ]
  },
  {
   "cell_type": "markdown",
   "metadata": {},
   "source": [
    "### Variáveis Categóricas\n",
    "\n",
    "Como estamos trabalhando com modelos que apenas aceitam variáveis numéricas, precisamos também transformar variáveis categóricas do nosso dataset em variáveis numéricas com as quais nosso modelo de machine learning pode trabalhar. As variáveis não-numéricas (categóricas) que temos são as seguintes:"
   ]
  },
  {
   "cell_type": "code",
   "execution_count": 196,
   "metadata": {},
   "outputs": [
    {
     "name": "stdout",
     "output_type": "stream",
     "text": [
      "Column [02]: uf                                      \n",
      "Column [03]: partido                                 \n",
      "Column [17]: cargo                                   \n",
      "Column [18]: sexo                                    \n",
      "Column [19]: grau                                    \n",
      "Column [20]: estado_civil                            \n",
      "Column [21]: ocupacao                                \n",
      "Column [22]: situacao                                \n"
     ]
    }
   ],
   "source": [
    "cat_variables = []\n",
    "\n",
    "for col in candidates_df.columns:\n",
    "    if not np.issubdtype(candidates_df[str(col)].dtype, np.number) and col != 'nome':\n",
    "        cat_variables.append(col)\n",
    "        print(\"Column [{:02}]: {:40}\".format(candidates_df.columns.get_loc(str(col)), str(col)))"
   ]
  },
  {
   "cell_type": "markdown",
   "metadata": {},
   "source": [
    "Vamos verificar a distribuição dessas variáveis, exceto **nome**, para entender como e se podemos transformar todas para um valor inteiro."
   ]
  },
  {
   "cell_type": "markdown",
   "metadata": {},
   "source": [
    "Para o dataset de testes:"
   ]
  },
  {
   "cell_type": "code",
   "execution_count": 197,
   "metadata": {},
   "outputs": [
    {
     "name": "stdout",
     "output_type": "stream",
     "text": [
      "Column [02]: uf                                      \n",
      "Column [03]: partido                                 \n",
      "Column [17]: cargo                                   \n",
      "Column [18]: sexo                                    \n",
      "Column [19]: grau                                    \n",
      "Column [20]: estado_civil                            \n",
      "Column [21]: ocupacao                                \n"
     ]
    }
   ],
   "source": [
    "cat_variables_test = []\n",
    "\n",
    "for col in candidates_test_df.columns:\n",
    "    if not np.issubdtype(candidates_test_df[str(col)].dtype, np.number) and col != 'nome':\n",
    "        cat_variables_test.append(col)\n",
    "        print(\"Column [{:02}]: {:40}\".format(candidates_test_df.columns.get_loc(str(col)), str(col)))"
   ]
  },
  {
   "cell_type": "markdown",
   "metadata": {},
   "source": [
    "#### Distribuição das Variáveis Categóricas\n",
    "\n",
    "Façamos agora uma análise das distribuições das variáveis categóricas no dataset de **treino e validação**."
   ]
  },
  {
   "cell_type": "code",
   "execution_count": 198,
   "metadata": {},
   "outputs": [
    {
     "data": {
      "text/plain": [
       "<matplotlib.axes._subplots.AxesSubplot at 0x7f3ec2361128>"
      ]
     },
     "execution_count": 198,
     "metadata": {},
     "output_type": "execute_result"
    },
    {
     "data": {
      "image/png": "[encoded data removed]",
      "text/plain": [
       "<Figure size 864x432 with 1 Axes>"
      ]
     },
     "metadata": {},
     "output_type": "display_data"
    }
   ],
   "source": [
    "sns.countplot(x='situacao', data=candidates_df)"
   ]
  },
  {
   "cell_type": "code",
   "execution_count": 199,
   "metadata": {},
   "outputs": [
    {
     "name": "stdout",
     "output_type": "stream",
     "text": [
      "Número de candidatos Eleitos: 1026\n",
      "Número de candidatos Não-Eleitos: 6596\n",
      "Total de candidatos: 7622\n",
      "\n",
      "Proporãço de candidatos eleitos: 13.46%\n",
      "Proporãço de candidatos não-eleitos: 86.54%\n"
     ]
    }
   ],
   "source": [
    "num_elected_candidates = candidates_df.situacao[candidates_df.situacao == 'eleito'].count()\n",
    "num_not_elected_candidates = candidates_df.situacao[candidates_df.situacao == 'nao_eleito'].count()\n",
    "total_candidates = candidates_df.shape[0]\n",
    "\n",
    "print(\"Número de candidatos Eleitos: {}\".format(num_elected_candidates))\n",
    "print(\"Número de candidatos Não-Eleitos: {}\".format(num_not_elected_candidates))\n",
    "print(\"Total de candidatos: {}\\n\".format(total_candidates))\n",
    "\n",
    "print(\"Proporãço de candidatos eleitos: {:2.2%}\".format((num_elected_candidates/total_candidates)))\n",
    "print(\"Proporãço de candidatos não-eleitos: {:2.2%}\".format((num_not_elected_candidates/total_candidates)))"
   ]
  },
  {
   "cell_type": "markdown",
   "metadata": {},
   "source": [
    "A variável alvo **situacao** é bastante desbalanceada, em uma proporção de aproximadamente 1 eleito para cada 6 não-eleitos. Precisamente 13.46% dos candidatos foram eleitos, enquanto 86.54% não foram eleitos.\n",
    "\n",
    "Esse desbalanceamento pode causar alguns efeitos colaterais na classificação feita pelo modelo preditor, tais como overfitting do modelo em relação à classe majoritária, o que prejudica a acurácia da predição, podendo causar até mesmo a interpretação incorreta dos resultados se o desbalanceamento não for endereçado corretamente.\n",
    "\n",
    "Existem algumas práticas que podemos adotar para corrigir e lidar com esse desbalanceamento, a saber:\n",
    "\n",
    "* Coleta de mais dados, que poderia rebalancear as classes, a depender da natureza do problema;\n",
    "* Mudar a forma de amostragem do dataset, a qual pode estar gerando uma amostra desbalanceada, contudo o dataset não está desbalanceado;\n",
    "* Usar alguma forma de gerar dados sintéticos como Synthetic Minority Over-sampling Technique (SMOTE);\n",
    "* Incorporar algum modelo que tem uma forma de penalização para compensar o desbalanceamento de classes a exemplo de penalized-LDA e penalized-SVM;"
   ]
  },
  {
   "cell_type": "markdown",
   "metadata": {},
   "source": [
    "Aqui podemos aplicar uma função e transformar cada estado para um código numérico:"
   ]
  },
  {
   "cell_type": "code",
   "execution_count": 200,
   "metadata": {},
   "outputs": [
    {
     "data": {
      "text/plain": [
       "<matplotlib.axes._subplots.AxesSubplot at 0x7f3ec232e3c8>"
      ]
     },
     "execution_count": 200,
     "metadata": {},
     "output_type": "execute_result"
    },
    {
     "data": {
      "image/png": "[encoded data removed]",
      "text/plain": [
       "<Figure size 1800x432 with 1 Axes>"
      ]
     },
     "metadata": {},
     "output_type": "display_data"
    }
   ],
   "source": [
    "fig, ax = plt.subplots(figsize=(25,6))\n",
    "sns.countplot(x='partido', data=candidates_df)"
   ]
  },
  {
   "cell_type": "code",
   "execution_count": 201,
   "metadata": {},
   "outputs": [
    {
     "data": {
      "text/plain": [
       "<matplotlib.axes._subplots.AxesSubplot at 0x7f3ec228f9e8>"
      ]
     },
     "execution_count": 201,
     "metadata": {},
     "output_type": "execute_result"
    },
    {
     "data": {
      "image/png": "[encoded data removed]",
      "text/plain": [
       "<Figure size 864x432 with 1 Axes>"
      ]
     },
     "metadata": {},
     "output_type": "display_data"
    }
   ],
   "source": [
    "sns.countplot(x='sexo', hue='situacao', data=candidates_df)"
   ]
  },
  {
   "cell_type": "code",
   "execution_count": 202,
   "metadata": {},
   "outputs": [
    {
     "data": {
      "text/plain": [
       "<matplotlib.axes._subplots.AxesSubplot at 0x7f3ec33e3668>"
      ]
     },
     "execution_count": 202,
     "metadata": {},
     "output_type": "execute_result"
    },
    {
     "data": {
      "image/png": "[encoded data removed]",
      "text/plain": [
       "<Figure size 1800x432 with 1 Axes>"
      ]
     },
     "metadata": {},
     "output_type": "display_data"
    }
   ],
   "source": [
    "fig, ax = plt.subplots(figsize=(25,6))\n",
    "sns.countplot(ax=ax, x='grau', hue='situacao', data=candidates_df)"
   ]
  },
  {
   "cell_type": "code",
   "execution_count": 203,
   "metadata": {},
   "outputs": [
    {
     "data": {
      "text/plain": [
       "<matplotlib.axes._subplots.AxesSubplot at 0x7f3ec9f28710>"
      ]
     },
     "execution_count": 203,
     "metadata": {},
     "output_type": "execute_result"
    },
    {
     "data": {
      "image/png": "[encoded data removed]",
      "text/plain": [
       "<Figure size 864x432 with 1 Axes>"
      ]
     },
     "metadata": {},
     "output_type": "display_data"
    }
   ],
   "source": [
    "sns.countplot(x='cargo', data=candidates_df, hue='situacao')"
   ]
  },
  {
   "cell_type": "code",
   "execution_count": 204,
   "metadata": {},
   "outputs": [
    {
     "data": {
      "text/plain": [
       "<matplotlib.axes._subplots.AxesSubplot at 0x7f3ec21881d0>"
      ]
     },
     "execution_count": 204,
     "metadata": {},
     "output_type": "execute_result"
    },
    {
     "data": {
      "image/png": "[encoded data removed]",
      "text/plain": [
       "<Figure size 864x432 with 1 Axes>"
      ]
     },
     "metadata": {},
     "output_type": "display_data"
    }
   ],
   "source": [
    "sns.countplot(x='estado_civil', data=candidates_df, hue='situacao')"
   ]
  },
  {
   "cell_type": "markdown",
   "metadata": {},
   "source": [
    "Note que podemos tratar a variável **grau** como uma variável ordinária:"
   ]
  },
  {
   "cell_type": "code",
   "execution_count": 205,
   "metadata": {},
   "outputs": [],
   "source": [
    "cleanup_nums = {\"grau\" : {\"LÊ E ESCREVE\": 1, \n",
    "                       \"ENSINO FUNDAMENTAL INCOMPLETO\":2, \n",
    "                       \"ENSINO FUNDAMENTAL COMPLETO\":3, \n",
    "                       \"ENSINO MÉDIO INCOMPLETO\":4,\n",
    "                       \"ENSINO MÉDIO COMPLETO\":5,\n",
    "                       \"SUPERIOR INCOMPLETO\":6,\n",
    "                       \"SUPERIOR COMPLETO\": 7}}\n",
    "\n",
    "candidates_df.replace(cleanup_nums, inplace=True)\n",
    "candidates_test_df.replace(cleanup_nums, inplace=True)"
   ]
  },
  {
   "cell_type": "markdown",
   "metadata": {},
   "source": [
    "Para a variável **ocupacao** nós temos um conjunto muito grande de diferentes valores, o que inviabiliza a exposição gráfica de todos os valores, entretando nós expomos aqui as quantidades para as 20 ocupações mais comuns:"
   ]
  },
  {
   "cell_type": "code",
   "execution_count": 206,
   "metadata": {},
   "outputs": [
    {
     "data": {
      "text/plain": [
       "OUTROS                       854\n",
       "DEPUTADO                     717\n",
       "ADVOGADO                     698\n",
       "EMPRESÁRIO                   662\n",
       "COMERCIANTE                  336\n",
       "MÉDICO                       335\n",
       "VEREADOR                     329\n",
       "SERVIDOR PÚBLICO ESTADUAL    254\n",
       "SERVIDOR PÚBLICO FEDERAL     221\n",
       "PROFESSOR DE ENSINO MÉDIO    180\n",
       "Name: ocupacao, dtype: int64"
      ]
     },
     "execution_count": 206,
     "metadata": {},
     "output_type": "execute_result"
    }
   ],
   "source": [
    "candidates_df.ocupacao.value_counts().head(10)"
   ]
  },
  {
   "cell_type": "markdown",
   "metadata": {},
   "source": [
    "### Dummy Variables\n",
    "\n",
    "Para transformar essas variáveis categóricas em numéricas (dummy variables), utilizamos uma função especial da biblioteca _pandas_. Contudo nós precisamos concatenar os datasets de treino e validação com o de testes, caso contrário, teremos _features_ que serão modeladas para um dataset e não existirão em outro, o que causa a incompatibilidade e consequentemente a impossibilidade de utilização dos dados de **teste** no modelo gerado com os dados de **treino e validação**."
   ]
  },
  {
   "cell_type": "markdown",
   "metadata": {},
   "source": [
    "Antes de criar as variáveis dummy, vamos descobrir quais as quantidade de valores únicos para cada uma das variáveis categóricas que temos em mãos. Assim, nós podemos identificar quais valores de variáveis existem no dataset de _teste_, mas não existem no de _treino e validação_ (**no qual nos baseamos para criarmos o modelo preditor**) e então nós podemos fazer os ajustes necessários."
   ]
  },
  {
   "cell_type": "code",
   "execution_count": 207,
   "metadata": {},
   "outputs": [
    {
     "name": "stdout",
     "output_type": "stream",
     "text": [
      "Dataset de Treino e Validação\n",
      "Variável: uf - Número de Valores Únicos: 27\n",
      "Variável: partido - Número de Valores Únicos: 31\n",
      "Variável: cargo - Número de Valores Únicos: 1\n",
      "Variável: sexo - Número de Valores Únicos: 2\n",
      "Variável: grau - Número de Valores Únicos: 7\n",
      "Variável: estado_civil - Número de Valores Únicos: 5\n",
      "Variável: ocupacao - Número de Valores Únicos: 176\n",
      "Variável: situacao - Número de Valores Únicos: 2\n",
      "\n",
      "Dataset de Testes:\n",
      "Variável: uf - Número de Valores Únicos: 27\n",
      "Variável: partido - Número de Valores Únicos: 27\n",
      "Variável: cargo - Número de Valores Únicos: 1\n",
      "Variável: sexo - Número de Valores Únicos: 2\n",
      "Variável: grau - Número de Valores Únicos: 7\n",
      "Variável: estado_civil - Número de Valores Únicos: 5\n",
      "Variável: ocupacao - Número de Valores Únicos: 142\n"
     ]
    }
   ],
   "source": [
    "print(\"Dataset de Treino e Validação\")    \n",
    "for cat_var in cat_variables:\n",
    "    print(\"Variável: {} - Número de Valores Únicos: {}\".format(cat_var, candidates_df[cat_var].nunique()))\n",
    "\n",
    "print()    \n",
    "\n",
    "print(\"Dataset de Testes:\")\n",
    "for cat_var in cat_variables_test:\n",
    "    print(\"Variável: {} - Número de Valores Únicos: {}\".format(cat_var, candidates_test_df[cat_var].nunique()))"
   ]
  },
  {
   "cell_type": "markdown",
   "metadata": {},
   "source": [
    "A variável **situacao** não existe nos dados de teste, portanto precisamos salvar essa coluna antes de fazer de transformar as variáveis categóricas em variáveis dummy, para que então possamos recriar o dataset de treino com essa coluna ao final do processo de dummying."
   ]
  },
  {
   "cell_type": "code",
   "execution_count": 208,
   "metadata": {},
   "outputs": [
    {
     "data": {
      "text/html": [
       "<div>\n",
       "<style scoped>\n",
       "    .dataframe tbody tr th:only-of-type {\n",
       "        vertical-align: middle;\n",
       "    }\n",
       "\n",
       "    .dataframe tbody tr th {\n",
       "        vertical-align: top;\n",
       "    }\n",
       "\n",
       "    .dataframe thead th {\n",
       "        text-align: right;\n",
       "    }\n",
       "</style>\n",
       "<table border=\"1\" class=\"dataframe\">\n",
       "  <thead>\n",
       "    <tr style=\"text-align: right;\">\n",
       "      <th></th>\n",
       "      <th>situacao</th>\n",
       "    </tr>\n",
       "    <tr>\n",
       "      <th>sequencial_candidato</th>\n",
       "      <th></th>\n",
       "    </tr>\n",
       "  </thead>\n",
       "  <tbody>\n",
       "    <tr>\n",
       "      <th>10001</th>\n",
       "      <td>nao_eleito</td>\n",
       "    </tr>\n",
       "    <tr>\n",
       "      <th>10002</th>\n",
       "      <td>nao_eleito</td>\n",
       "    </tr>\n",
       "    <tr>\n",
       "      <th>10002</th>\n",
       "      <td>eleito</td>\n",
       "    </tr>\n",
       "    <tr>\n",
       "      <th>10002</th>\n",
       "      <td>nao_eleito</td>\n",
       "    </tr>\n",
       "    <tr>\n",
       "      <th>10003</th>\n",
       "      <td>eleito</td>\n",
       "    </tr>\n",
       "  </tbody>\n",
       "</table>\n",
       "</div>"
      ],
      "text/plain": [
       "                        situacao\n",
       "sequencial_candidato            \n",
       "10001                 nao_eleito\n",
       "10002                 nao_eleito\n",
       "10002                     eleito\n",
       "10002                 nao_eleito\n",
       "10003                     eleito"
      ]
     },
     "execution_count": 208,
     "metadata": {},
     "output_type": "execute_result"
    }
   ],
   "source": [
    "situation_df = candidates_df[['situacao']]\n",
    "situation_df.head()"
   ]
  },
  {
   "cell_type": "markdown",
   "metadata": {},
   "source": [
    "Identificando valores de variáveis categóricas presentes no dataset de _testes_ mas não no dataset de _treino e validação_."
   ]
  },
  {
   "cell_type": "code",
   "execution_count": 209,
   "metadata": {},
   "outputs": [
    {
     "name": "stdout",
     "output_type": "stream",
     "text": [
      "Variável: uf - Num Unique Values: 27\n",
      "Variável: partido - Num Unique Values: 31\n",
      "Variável: cargo - Num Unique Values: 1\n",
      "Variável: sexo - Num Unique Values: 2\n",
      "Variável: grau - Num Unique Values: 7\n",
      "Variável: estado_civil - Num Unique Values: 5\n",
      "Variável: ocupacao - Num Unique Values: 176\n",
      "Número esperado de colunas: 249\n"
     ]
    }
   ],
   "source": [
    "dic_catvar_uniques = {}\n",
    "\n",
    "cat_variables_without_situacao = [x for x in cat_variables if x != 'situacao']\n",
    "\n",
    "for cat_var in cat_variables_without_situacao:\n",
    "    dic_catvar_uniques[cat_var] = set(candidates_df[cat_var].unique())\n",
    "    set_uni_val_test_dataset = set(candidates_test_df[cat_var].unique())\n",
    "    \n",
    "    # union of sets ==> no repeated values\n",
    "    dic_catvar_uniques[cat_var] = set_uni_val_test_dataset.union(dic_catvar_uniques[cat_var])\n",
    "\n",
    "s = 0    \n",
    "for key,val in dic_catvar_uniques.items():\n",
    "    print(\"Variável: {} - Num Unique Values: {}\".format(key, len(val)))\n",
    "    s += len(val)\n",
    "    \n",
    "print(\"Número esperado de colunas: {}\".format(s))"
   ]
  },
  {
   "cell_type": "markdown",
   "metadata": {},
   "source": [
    "Como podemos ver, os valores de **partido** e **ocupacao** são as variáveis críticas com as quais precisamos nos preocupar no momento de fazer o _dummy_ das variáveis categóricas. \n",
    "\n",
    "Abaixo, nós concatenamos os datasets de **_treino e validação_** e o dataset de **_teste_** e então criamos as variáveis _dummy_. Em seguida separamos o dataset em treino e teste novamente baseado no valor de **ano**.\n",
    "\n",
    "Essa abordagem resolve o problema levantado acima, fazendo com que tenhamos ao final o mesmo número de variáveis nos datasets de treino e de teste."
   ]
  },
  {
   "cell_type": "code",
   "execution_count": 154,
   "metadata": {},
   "outputs": [
    {
     "data": {
      "text/plain": [
       "(12214, 257)"
      ]
     },
     "execution_count": 154,
     "metadata": {},
     "output_type": "execute_result"
    }
   ],
   "source": [
    "candidates_df.drop(columns=['situacao', 'nome'], inplace=True)\n",
    "candidates_test_df.drop(columns=['nome'], inplace=True)\n",
    "\n",
    "candidates_train_test_df = pd.concat([candidates_df, candidates_test_df])\n",
    "candidates_train_test_df = pd.get_dummies(candidates_train_test_df)\n",
    "candidates_train_test_df.shape"
   ]
  },
  {
   "cell_type": "code",
   "execution_count": 215,
   "metadata": {},
   "outputs": [
    {
     "data": {
      "text/plain": [
       "{'situacao'}"
      ]
     },
     "execution_count": 215,
     "metadata": {},
     "output_type": "execute_result"
    }
   ],
   "source": [
    "set(candidates_df.columns) - set(candidates_test_df.columns)"
   ]
  },
  {
   "cell_type": "code",
   "execution_count": 29,
   "metadata": {},
   "outputs": [
    {
     "data": {
      "text/plain": [
       "(7622, 11172)"
      ]
     },
     "execution_count": 29,
     "metadata": {},
     "output_type": "execute_result"
    }
   ],
   "source": [
    "candidates_df = candidates_train_test_df[(candidates_train_test_df.ano == 2006) | (candidates_train_test_df.ano == 2010)]\n",
    "candidates_df.shape"
   ]
  },
  {
   "cell_type": "code",
   "execution_count": 30,
   "metadata": {},
   "outputs": [
    {
     "data": {
      "text/plain": [
       "(4592, 11172)"
      ]
     },
     "execution_count": 30,
     "metadata": {},
     "output_type": "execute_result"
    }
   ],
   "source": [
    "candidates_test_df = candidates_train_test_df[candidates_train_test_df.ano == 2014]\n",
    "candidates_test_df.shape"
   ]
  },
  {
   "cell_type": "markdown",
   "metadata": {},
   "source": [
    "### Reintegrando **situacao** ao dataset"
   ]
  },
  {
   "cell_type": "code",
   "execution_count": 31,
   "metadata": {},
   "outputs": [
    {
     "data": {
      "text/plain": [
       "(15426, 11173)"
      ]
     },
     "execution_count": 31,
     "metadata": {},
     "output_type": "execute_result"
    }
   ],
   "source": [
    "new_candidates_df = pd.merge(candidates_df, situation_df, right_index=True, left_index=True)\n",
    "new_candidates_df.shape"
   ]
  },
  {
   "cell_type": "markdown",
   "metadata": {},
   "source": [
    "### Distribuição de Variáveis Numéricas"
   ]
  },
  {
   "cell_type": "code",
   "execution_count": null,
   "metadata": {},
   "outputs": [],
   "source": [
    "#sns.catplot(x=candidates_df, x_vars=['total_despesa', 'total_receita', 'quantidade_doacoes', 'quantidade_fornecedores'], y_vars=['situacao'], aspect=1.5, height=4)\n",
    "sns.catplot(x='situacao', y='total_despesa', data=candidates_df, hue='situacao')"
   ]
  },
  {
   "cell_type": "code",
   "execution_count": null,
   "metadata": {},
   "outputs": [],
   "source": [
    "sns.pairplot(candidates_df, x_vars=['recursos_proprios', 'recursos_de_outros_candidatos_comites'], y_vars=['votos'], aspect=2, height=4)"
   ]
  },
  {
   "cell_type": "code",
   "execution_count": null,
   "metadata": {},
   "outputs": [],
   "source": [
    "sns.pairplot(candidates_df, x_vars=['recursos_de_pessoas_juridicas', 'recursos_de_pessoas_fisicas'], y_vars=['votos'], aspect=2, height=4)"
   ]
  },
  {
   "cell_type": "markdown",
   "metadata": {},
   "source": [
    "## Modelos - Versão 1\n",
    "\n",
    "Nesta versão, utilizamos como dados de treino, os dados da eleição de 2006, e como dados de teste, os dados da eleição de 2010. Em um segundo momento, utilizaremos os dados da eleição de 2014 como dados de teste."
   ]
  },
  {
   "cell_type": "code",
   "execution_count": null,
   "metadata": {},
   "outputs": [],
   "source": [
    "candidates_train = candidates_df[candidates_df.ano == 2006]\n",
    "candidates_val = candidates_df[candidates_df.ano == 2010]\n",
    "\n",
    "feats = candidates_df.columns[candidates_df.columns != 'votos']\n",
    "\n",
    "X_train = candidates_train[feats]\n",
    "y_train = candidates_train['votos']\n",
    "\n",
    "X_val = candidates_val[feats]\n",
    "y_val = candidates_val['votos']"
   ]
  },
  {
   "cell_type": "markdown",
   "metadata": {},
   "source": [
    "### Validação Cruzada\n",
    "\n",
    "Abaixo definimos uma adaptação de uma função criada por Alexandru Papiu em [Regularized Linear Models](https://www.kaggle.com/apapiu/regularized-linear-models), que nos retorna a média dos RMSE's de um dado modelo para uma cross-validation no dataset de treino e um k-fold com k = 5."
   ]
  },
  {
   "cell_type": "code",
   "execution_count": null,
   "metadata": {},
   "outputs": [],
   "source": [
    "def mean_rmse_cv(model):\n",
    "    return np.sqrt(-cross_val_score(model, X_train, y_train, scoring=\"neg_mean_squared_error\", cv = 5)).mean()"
   ]
  },
  {
   "cell_type": "markdown",
   "metadata": {},
   "source": [
    "### Sem Regularização\n"
   ]
  },
  {
   "cell_type": "code",
   "execution_count": null,
   "metadata": {},
   "outputs": [],
   "source": [
    "lr = LinearRegression().fit(X_train, y_train)\n",
    "predictions = lr.predict(X_val)\n",
    "\n",
    "print(\"RMSE Linear Regressor - Train - Cross-Validated: {:2.3}\".format(mean_rmse_cv(lr)))\n",
    "print(\"RMSE Linear Regressor - Validation: {:2.3}\".format(np.sqrt(mean_squared_error(y_pred=predictions, y_true=y_val))))"
   ]
  },
  {
   "cell_type": "markdown",
   "metadata": {},
   "source": [
    "Como podemos observar, os valores de RMSE para um modelo linear multivariado sem regularização tem um erro bastante elevado. Isso provavelmente se deve ao fato de está acontecendo overfitting. Uma simples olhada na ordem dos coeficientes do modelo nos permite observar isso. Caso os coeficientes sejam muito grandes, temos overfitting."
   ]
  },
  {
   "cell_type": "code",
   "execution_count": null,
   "metadata": {},
   "outputs": [],
   "source": [
    "coefs = lr.coef_\n",
    "ax = sns.distplot(coefs, kde=False)\n",
    "ax.set(xlabel='Valores dos Coeficientes', ylabel='Quantidade de Coeficientes')\n",
    "plt.show()"
   ]
  },
  {
   "cell_type": "markdown",
   "metadata": {},
   "source": [
    "##### **Plot Resíduos vs Predições - Linear Regressor**\n",
    "\n",
    "Abaixo nós plotamos o gráfico de resíduos vs predições. Ele nos possibilita visualizar o quão eficiente nosso modelo é para capturar a variância de nossos dados e representá-los de maneira adequada. O mais próximo que os valores de resíduos estiverem da linha demarcada (0), melhor será o nosso modelo."
   ]
  },
  {
   "cell_type": "code",
   "execution_count": null,
   "metadata": {},
   "outputs": [],
   "source": [
    "sns.residplot(y_val, predictions)"
   ]
  },
  {
   "cell_type": "markdown",
   "metadata": {},
   "source": [
    "Como vemos, nosso modelo feito com um Linear Regressor sem regularização não é um bom preditor: nós não observamos padrões visuais surgindo na distribuição dos resíduos, o que é um mal indício de adequabilidade do modelo, existem características que não estão sendo corretamente capturadas. E também os pontos estão concentrados aleatoriamente ao redor da linha nula (0)."
   ]
  },
  {
   "cell_type": "markdown",
   "metadata": {},
   "source": [
    "### Com Regularização"
   ]
  },
  {
   "cell_type": "markdown",
   "metadata": {},
   "source": [
    "#### **_Ridge_**"
   ]
  },
  {
   "cell_type": "code",
   "execution_count": null,
   "metadata": {},
   "outputs": [],
   "source": [
    "alphas = [0.05, 0.1, 0.3, 1, 3, 5, 10, 15, 30, 50, 75]\n",
    "\n",
    "ridge_train_rmses = []\n",
    "for alpha in alphas:\n",
    "    ridge = Ridge(alpha=alpha).fit(X_train, y_train)\n",
    "    ridge_train_rmses.append(mean_rmse_cv(ridge))\n",
    "\n",
    "cv_ridge_train = pd.Series(ridge_train_rmses, index = alphas)\n",
    "\n",
    "cv_ridge_train.plot(title = \"Training Data\")\n",
    "plt.xlabel(\"alpha\")\n",
    "plt.ylabel(\"rmse\")"
   ]
  },
  {
   "cell_type": "markdown",
   "metadata": {},
   "source": [
    "O valor de **alpha** associado com o menor RMSE é **10**. Então vamos utilizar esse valor para configurar nosso modelo de regressão linear Ridge, o qual utiliza normalização **l2**. O valor de RMSE encontrado para alpha = 10 é em torno de 1.02."
   ]
  },
  {
   "cell_type": "code",
   "execution_count": null,
   "metadata": {},
   "outputs": [],
   "source": [
    "cv_ridge_train.min()"
   ]
  },
  {
   "cell_type": "code",
   "execution_count": null,
   "metadata": {},
   "outputs": [],
   "source": [
    "ridge = Ridge(alpha = 10).fit(X_train, y_train)\n",
    "predictions = ridge.predict(X_val)\n",
    "print(\"RMSE Ridge Regressor - Train - Cross-Validated: {:2.7}\".format(mean_rmse_cv(ridge)))\n",
    "print(\"RMSE Ridge Regressor - Validation: {:2.7}\".format(np.sqrt(mean_squared_error(y_true=y_val, y_pred=predictions))))"
   ]
  },
  {
   "cell_type": "markdown",
   "metadata": {},
   "source": [
    "##### **Plot Resíduos vs Predições - Ridge**\n",
    "\n",
    "Abaixo nós plotamos o gráfico de resíduos vs predições. Ele nos possibilita visualizar o quão eficiente nosso modelo é para capturar a variância de nossos dados e representá-los de maneira adequada. O mais próximo que os valores de resíduos estiverem da linha demarcada (0), melhor será o nosso modelo."
   ]
  },
  {
   "cell_type": "code",
   "execution_count": null,
   "metadata": {},
   "outputs": [],
   "source": [
    "sns.residplot(y_val, predictions)"
   ]
  },
  {
   "cell_type": "markdown",
   "metadata": {},
   "source": [
    "Como vemos, nosso modelo Ridge é um regressor razoável: nós não observamos nenhum padrão visual na distribuição dos resíduos, o que é um bom indício de adequabilidade do modelo. E também os pontos estão concentrados próximos a linha nula (0)."
   ]
  },
  {
   "cell_type": "markdown",
   "metadata": {},
   "source": [
    "#### **_Lasso_**"
   ]
  },
  {
   "cell_type": "code",
   "execution_count": null,
   "metadata": {},
   "outputs": [],
   "source": [
    "model_lasso = LassoCV(alphas = [1, 5e-1, 1e-1, 5e-2, 1e-3, 1e-4, 1e-5, 1e-6], max_iter=1e5).fit(X_train, y_train)\n",
    "predictions = model_lasso.predict(X_val)\n",
    "print(\"RMSE Lasso Regressor - Train - Cross-Validated: {:2.7}\".format(mean_rmse_cv(model_lasso)))\n",
    "print(\"RMSE Lasso Regressor - Validation: {:2.7}\".format(np.sqrt(mean_squared_error(y_true=y_val, y_pred=predictions))))"
   ]
  },
  {
   "cell_type": "markdown",
   "metadata": {},
   "source": [
    "O modelo Ridge se sai um pouco melhor que o modelo Lasso. Complementando a análise, podemos identificar quais variáveis foram consideradas ou eliminadas pelo modelo de regressão Lasso."
   ]
  },
  {
   "cell_type": "code",
   "execution_count": null,
   "metadata": {},
   "outputs": [],
   "source": [
    "coef = pd.Series(model_lasso.coef_, index = X_train.columns)\n",
    "\n",
    "print(\"Lasso picked \" + str(sum(coef != 0)) + \" variables and eliminated the other \" +  str(sum(coef == 0)) + \" variables\")"
   ]
  },
  {
   "cell_type": "code",
   "execution_count": null,
   "metadata": {},
   "outputs": [],
   "source": [
    "imp_coef = pd.concat([coef.sort_values().head(10), coef.sort_values().tail(10)])\n",
    "\n",
    "matplotlib.rcParams['figure.figsize'] = (15.0, 10.0)\n",
    "imp_coef.plot(kind = \"barh\")\n",
    "plt.title(\"Coefficients in the Lasso Model\")"
   ]
  },
  {
   "cell_type": "markdown",
   "metadata": {},
   "source": [
    "##### **Plot Resíduos vs Predições - Lasso**\n",
    "\n",
    "Abaixo nós plotamos o gráfico de resíduos vs predições. Ele nos possibilita visualizar o quão eficiente nosso modelo é para capturar a variância de nossos dados e representá-los de maneira adequada. O mais próximo que os valores de resíduos estiverem da linha demarcada (0), melhor será o nosso modelo."
   ]
  },
  {
   "cell_type": "code",
   "execution_count": null,
   "metadata": {},
   "outputs": [],
   "source": [
    "predictions = model_lasso.predict(X_val)\n",
    "sns.residplot(y_val, predictions)"
   ]
  },
  {
   "cell_type": "markdown",
   "metadata": {},
   "source": [
    "Como vemos, nosso modelo Lasso é um regressor razoável: nós não observamos nenhum padrão visual na distribuição dos resíduos, o que é um bom indício de adequabilidade do modelo. E também os pontos estão concentrados próximos a linha nula (0)."
   ]
  },
  {
   "cell_type": "markdown",
   "metadata": {},
   "source": [
    "### Non-Parameterized Models"
   ]
  },
  {
   "cell_type": "markdown",
   "metadata": {},
   "source": [
    "#### **_KNN (K-Nearest Neighbors)_**"
   ]
  },
  {
   "cell_type": "code",
   "execution_count": null,
   "metadata": {},
   "outputs": [],
   "source": [
    "training_rmse = []\n",
    "\n",
    "neighbors_settings = range(1, 20, 3)\n",
    "\n",
    "for n_neighbors in neighbors_settings:\n",
    "    knr = KNeighborsRegressor(n_neighbors=n_neighbors).fit(X_train, y_train)\n",
    "    training_rmse.append(mean_rmse_cv(knr))\n",
    "    \n",
    "plt.plot(neighbors_settings, training_rmse, label=\"training rmse\")\n",
    "plt.ylabel(\"rmse\")\n",
    "plt.xlabel(\"n_neighbors\")\n",
    "plt.legend()"
   ]
  },
  {
   "cell_type": "markdown",
   "metadata": {},
   "source": [
    "Aparentemente, o melhor número para K é 18, a partir do qual, os valores de acurácia começam a ser aproximadamente o mesmo. Vamos fazer a análise utilizando as funções para cálculo de RMSE:"
   ]
  },
  {
   "cell_type": "code",
   "execution_count": null,
   "metadata": {},
   "outputs": [],
   "source": [
    "knr = KNeighborsRegressor(n_neighbors = 18).fit(X_train, y_train)\n",
    "predictions = knr.predict(X_val)\n",
    "\n",
    "print(\"RMSE KNN Regressor - Train - Cross-Validated: {:2.7}\".format(mean_rmse_cv(knr)))\n",
    "print(\"RMSE KNN Regressor - Validation: {:2.7}\".format(np.sqrt(mean_squared_error(y_true=y_val, y_pred=predictions))))"
   ]
  },
  {
   "cell_type": "markdown",
   "metadata": {},
   "source": [
    "##### **Plot Resíduos vs Predições - KNN**\n",
    "\n",
    "Abaixo nós plotamos o gráfico de resíduos vs predições. Ele nos possibilita visualizar o quão eficiente nosso modelo é para capturar a variância de nossos dados e representá-los de maneira adequada. O mais próximo que os valores de resíduos estiverem da linha demarcada (0), melhor será o nosso modelo."
   ]
  },
  {
   "cell_type": "code",
   "execution_count": null,
   "metadata": {},
   "outputs": [],
   "source": [
    "sns.residplot(y_val, predictions)"
   ]
  },
  {
   "cell_type": "markdown",
   "metadata": {},
   "source": [
    "### Modelos Extra\n",
    "\n",
    "Nessa sessão vamos testar a eficiência em termos de RMSE, quando utilizamos um Ensemble Random Forest Regressor."
   ]
  },
  {
   "cell_type": "markdown",
   "metadata": {},
   "source": [
    "#### **_Random Forest Regressor_**"
   ]
  },
  {
   "cell_type": "code",
   "execution_count": null,
   "metadata": {},
   "outputs": [],
   "source": [
    "rf = RandomForestRegressor(random_state = 2).fit(X_train, y_train)\n",
    "predictions = rf.predict(X_val)\n",
    "\n",
    "print(\"RMSE Random Forest Regressor - Train - Cross-Validated: {:2.7}\".format(mean_rmse_cv(rf)))\n",
    "print(\"RMSE Random Forest Regressor - Validation: {:2.7}\".format(np.sqrt(mean_squared_error(y_true=y_val, y_pred=predictions))))"
   ]
  },
  {
   "cell_type": "markdown",
   "metadata": {},
   "source": [
    "##### **Plot Resíduos vs Predições - Random Forest**\n",
    "\n",
    "Abaixo nós plotamos o gráfico de resíduos vs predições. Ele nos possibilita visualizar o quão eficiente nosso modelo é para capturar a variância de nossos dados e representá-los de maneira adequada. O mais próximo que os valores de resíduos estiverem da linha demarcada (0), melhor será o nosso modelo."
   ]
  },
  {
   "cell_type": "code",
   "execution_count": null,
   "metadata": {},
   "outputs": [],
   "source": [
    "sns.residplot(y_val, predictions)"
   ]
  },
  {
   "cell_type": "markdown",
   "metadata": {},
   "source": [
    "#### _**Decision Tree Regressor**_"
   ]
  },
  {
   "cell_type": "code",
   "execution_count": null,
   "metadata": {},
   "outputs": [],
   "source": [
    "dt = DecisionTreeRegressor(random_state = 2).fit(X_train, y_train)\n",
    "predictions = dt.predict(X_val)\n",
    "\n",
    "print(\"RMSE Decision Tree Regressor - Train - Cross-Validated: {:2.7}\".format(mean_rmse_cv(dt)))\n",
    "print(\"RMSE Decision Tree Regressor - Validation: {:2.7}\".format(np.sqrt(mean_squared_error(y_true=y_val, y_pred=predictions))))"
   ]
  },
  {
   "cell_type": "markdown",
   "metadata": {},
   "source": [
    "##### **Plot Resíduos vs Predições - Decision Tree Regressor**\n",
    "\n",
    "Abaixo nós plotamos o gráfico de resíduos vs predições. Ele nos possibilita visualizar o quão eficiente nosso modelo é para capturar a variância de nossos dados e representá-los de maneira adequada. O mais próximo que os valores de resíduos estiverem da linha demarcada (0), melhor será o nosso modelo."
   ]
  },
  {
   "cell_type": "code",
   "execution_count": null,
   "metadata": {},
   "outputs": [],
   "source": [
    "sns.residplot(y_val, predictions)"
   ]
  },
  {
   "cell_type": "markdown",
   "metadata": {},
   "source": [
    "#### **_Epsilon-Support Vector Regressor_**"
   ]
  },
  {
   "cell_type": "code",
   "execution_count": null,
   "metadata": {},
   "outputs": [],
   "source": [
    "svr = SVR().fit(X_train, y_train)\n",
    "predictions = svr.predict(X_val)\n",
    "\n",
    "print(\"RMSE SVR - Train - Cross-Validated: {:2.7}\".format(mean_rmse_cv(svr)))\n",
    "print(\"RMSE SVR - Validation: {:2.7}\".format(np.sqrt(mean_squared_error(y_true=y_val, y_pred=predictions))))"
   ]
  },
  {
   "cell_type": "markdown",
   "metadata": {},
   "source": [
    "##### **Plot Resíduos vs Predições - SVR**\n",
    "\n",
    "Abaixo nós plotamos o gráfico de resíduos vs predições. Ele nos possibilita visualizar o quão eficiente nosso modelo é para capturar a variância de nossos dados e representá-los de maneira adequada. O mais próximo que os valores de resíduos estiverem da linha demarcada (0), melhor será o nosso modelo."
   ]
  },
  {
   "cell_type": "code",
   "execution_count": null,
   "metadata": {},
   "outputs": [],
   "source": [
    "sns.residplot(y_val, predictions)"
   ]
  },
  {
   "cell_type": "markdown",
   "metadata": {},
   "source": [
    "Como vemos, em termos de RMSE sobre os dados de validação o **Ridge Regressor** é o melhor modelo que encontramos até agora, com o modelo **Lasso Regressor** bem próximo a ele em termos de RMSE."
   ]
  },
  {
   "cell_type": "markdown",
   "metadata": {},
   "source": [
    "## Modelos - Versão 2\n",
    "\n",
    "Abaixo nós vamos unir os dados de treino e validação usados acima (eleições 2006 e 2010), retreinar o melhor algoritmo identificado e usar os dados de teste (eleição de 2014) para verificar seu desempenho em termos de RMSE."
   ]
  },
  {
   "cell_type": "markdown",
   "metadata": {},
   "source": [
    "### Definindo Variáveis Dependentes e Independentes"
   ]
  },
  {
   "cell_type": "code",
   "execution_count": null,
   "metadata": {},
   "outputs": [],
   "source": [
    "feats = candidates_df.columns[candidates_df.columns != 'votos']\n",
    "\n",
    "X_train = candidates_df[feats]\n",
    "y_train = candidates_df['votos']\n",
    "\n",
    "X_test = candidates_test_df[feats]\n",
    "y_test = candidates_test_df['votos']"
   ]
  },
  {
   "cell_type": "markdown",
   "metadata": {},
   "source": [
    "### Sem Regularização\n"
   ]
  },
  {
   "cell_type": "code",
   "execution_count": null,
   "metadata": {},
   "outputs": [],
   "source": [
    "predictions = lr.predict(X_test)\n",
    "print(\"RMSE Linear Regressor - Test: {:2.5}\".format(np.sqrt(mean_squared_error(y_true=y_test, y_pred=predictions))))"
   ]
  },
  {
   "cell_type": "markdown",
   "metadata": {},
   "source": [
    "##### **Plot Resíduos vs Predições - Linear Regressor**\n",
    "\n",
    "Abaixo nós plotamos o gráfico de resíduos vs predições. Ele nos possibilita visualizar o quão eficiente nosso modelo é para capturar a variância de nossos dados e representá-los de maneira adequada. O mais próximo que os valores de resíduos estiverem da linha demarcada (0), melhor será o nosso modelo."
   ]
  },
  {
   "cell_type": "code",
   "execution_count": null,
   "metadata": {},
   "outputs": [],
   "source": [
    "sns.residplot(y_test, predictions)"
   ]
  },
  {
   "cell_type": "markdown",
   "metadata": {},
   "source": [
    "Como vemos, nosso modelo feito com um **Linear Regressor** sem regularização não é um bom preditor: nós não observamos padrões visuais surgindo na distribuição dos resíduos, o que é um mal indício de adequabilidade do modelo, existem características que não estão sendo corretamente capturadas. E também os pontos estão concentrados aleatoriamente ao redor da linha nula (0)."
   ]
  },
  {
   "cell_type": "markdown",
   "metadata": {},
   "source": [
    "### Com Regularização"
   ]
  },
  {
   "cell_type": "markdown",
   "metadata": {},
   "source": [
    "#### Ridge"
   ]
  },
  {
   "cell_type": "code",
   "execution_count": null,
   "metadata": {},
   "outputs": [],
   "source": [
    "predictions = ridge.predict(X_test)\n",
    "print(\"RMSE Ridge Regressor - Test: {:2.10}\".format(np.sqrt(mean_squared_error(y_true=y_test, y_pred=predictions))))"
   ]
  },
  {
   "cell_type": "markdown",
   "metadata": {},
   "source": [
    "##### **Plot Resíduos vs Predições - Ridge**\n",
    "\n",
    "Abaixo nós plotamos o gráfico de resíduos vs predições. Ele nos possibilita visualizar o quão eficiente nosso modelo é para capturar a variância de nossos dados e representá-los de maneira adequada. O mais próximo que os valores de resíduos estiverem da linha demarcada (0), melhor será o nosso modelo."
   ]
  },
  {
   "cell_type": "code",
   "execution_count": null,
   "metadata": {},
   "outputs": [],
   "source": [
    "sns.residplot(y_test, predictions)"
   ]
  },
  {
   "cell_type": "markdown",
   "metadata": {},
   "source": [
    "Como vemos, nosso modelo **Ridge** é um regressor razoável: nós não observamos nenhum padrão visual na distribuição dos resíduos, o que é um bom indício de adequabilidade do modelo. E também os pontos estão concentrados próximos a linha nula (0).\n",
    "\n",
    "É possível observar também em destaque que o modelo não consegue prever com acurácia para os casos em que os candidatos recebem zero votos. Isso pode ser explicado pelo fato de se tratarem de **outliers**."
   ]
  },
  {
   "cell_type": "markdown",
   "metadata": {},
   "source": [
    "#### Lasso"
   ]
  },
  {
   "cell_type": "code",
   "execution_count": null,
   "metadata": {},
   "outputs": [],
   "source": [
    "predictions = model_lasso.predict(X_test)\n",
    "print(\"RMSE Lasso Regressor - Test: {:2.10}\".format(np.sqrt(mean_squared_error(y_true=y_test, y_pred=predictions))))"
   ]
  },
  {
   "cell_type": "markdown",
   "metadata": {},
   "source": [
    "O modelo **Lasso Regressor** se sai um pouco melhor que o modelo **Ridge Regressor**."
   ]
  },
  {
   "cell_type": "markdown",
   "metadata": {},
   "source": [
    "##### **Plot Resíduos vs Predições - Lasso**\n",
    "\n",
    "Abaixo nós plotamos o gráfico de resíduos vs predições. Ele nos possibilita visualizar o quão eficiente nosso modelo é para capturar a variância de nossos dados e representá-los de maneira adequada. O mais próximo que os valores de resíduos estiverem da linha demarcada (0), melhor será o nosso modelo."
   ]
  },
  {
   "cell_type": "code",
   "execution_count": null,
   "metadata": {},
   "outputs": [],
   "source": [
    "sns.residplot(y_test, predictions)"
   ]
  },
  {
   "cell_type": "markdown",
   "metadata": {},
   "source": [
    "Como vemos, nosso modelo **Lasso** é um regressor razoável: nós não observamos nenhum padrão visual na distribuição dos resíduos, o que é um bom indício de adequabilidade do modelo. E também os pontos estão concentrados próximos a linha nula (0).\n",
    "\n",
    "O modelo Lasso, assim como o Ridge, não consegue prever bem quando os candidatos recebem zero votos."
   ]
  },
  {
   "cell_type": "markdown",
   "metadata": {},
   "source": [
    "### Non-Parameterized Models"
   ]
  },
  {
   "cell_type": "markdown",
   "metadata": {},
   "source": [
    "#### KNN (K-Nearest Neighbors)"
   ]
  },
  {
   "cell_type": "code",
   "execution_count": null,
   "metadata": {},
   "outputs": [],
   "source": [
    "predictions = knr.predict(X_test)\n",
    "print(\"RMSE KNN Regressor - Test: {:2.5}\".format(np.sqrt(mean_squared_error(y_true=y_test, y_pred=predictions))))"
   ]
  },
  {
   "cell_type": "markdown",
   "metadata": {},
   "source": [
    "##### **Plot Resíduos vs Predições - KNN**\n",
    "\n",
    "Abaixo nós plotamos o gráfico de resíduos vs predições. Ele nos possibilita visualizar o quão eficiente nosso modelo é para capturar a variância de nossos dados e representá-los de maneira adequada. O mais próximo que os valores de resíduos estiverem da linha demarcada (0), melhor será o nosso modelo."
   ]
  },
  {
   "cell_type": "code",
   "execution_count": null,
   "metadata": {},
   "outputs": [],
   "source": [
    "sns.residplot(y_test, predictions)"
   ]
  },
  {
   "cell_type": "markdown",
   "metadata": {},
   "source": [
    "Como vemos, nosso modelo **KNN** é um regressor razoável: nós não observamos nenhum padrão visual na distribuição dos resíduos, o que é um bom indício de adequabilidade do modelo. E também os pontos estão concentrados próximos a linha nula (0). Entretanto, o modelo não consegue prever bem quando os candidatos recebem zero votos."
   ]
  },
  {
   "cell_type": "markdown",
   "metadata": {},
   "source": [
    "### Modelos Extra\n",
    "\n",
    "Nessa sessão vamos testar a eficiência em termos de RMSE, quando utilizamos um Ensemble Random Forest Regressor."
   ]
  },
  {
   "cell_type": "markdown",
   "metadata": {},
   "source": [
    "#### **_Random Forest Regressor_**"
   ]
  },
  {
   "cell_type": "code",
   "execution_count": null,
   "metadata": {},
   "outputs": [],
   "source": [
    "predictions = rf.predict(X_test)\n",
    "print(\"RMSE Random Forest Regressor - Test: {:2.10}\".format(np.sqrt(mean_squared_error(y_true=y_test, y_pred=predictions))))"
   ]
  },
  {
   "cell_type": "markdown",
   "metadata": {},
   "source": [
    "##### **Plot Resíduos vs Predições - Random Forests**\n",
    "\n",
    "Abaixo nós plotamos o gráfico de resíduos vs predições. Ele nos possibilita visualizar o quão eficiente nosso modelo é para capturar a variância de nossos dados e representá-los de maneira adequada. O mais próximo que os valores de resíduos estiverem da linha demarcada (0), melhor será o nosso modelo."
   ]
  },
  {
   "cell_type": "code",
   "execution_count": null,
   "metadata": {},
   "outputs": [],
   "source": [
    "sns.residplot(y_test, predictions)"
   ]
  },
  {
   "cell_type": "markdown",
   "metadata": {},
   "source": [
    "Como vemos, nosso modelo **Random Forest** é um regressor razoável: nós não observamos nenhum padrão visual na distribuição dos resíduos, o que é um bom indício de adequabilidade do modelo. E também os pontos estão concentrados próximos a linha nula (0). Entretanto, o modelo, assim como os demais até agora, não consegue prever bem quando os candidatos recebem zero votos.\n",
    "\n",
    "Como esses zero votos provavelmente são **outliers** é preciso dar um tratamento prévio a eles, antes de serem submetidos para criação do modelo preditivo."
   ]
  },
  {
   "cell_type": "markdown",
   "metadata": {},
   "source": [
    "#### **_Decision Tree Regressor_**"
   ]
  },
  {
   "cell_type": "code",
   "execution_count": null,
   "metadata": {},
   "outputs": [],
   "source": [
    "predictions = dt.predict(X_test)\n",
    "print(\"RMSE Decision Tree Regressor - Test: {:2.10}\".format(np.sqrt(mean_squared_error(y_true=y_test, y_pred=predictions))))"
   ]
  },
  {
   "cell_type": "markdown",
   "metadata": {},
   "source": [
    "##### **Plot Resíduos vs Predições - Decision Tree Regressor**\n",
    "\n",
    "Abaixo nós plotamos o gráfico de resíduos vs predições. Ele nos possibilita visualizar o quão eficiente nosso modelo é para capturar a variância de nossos dados e representá-los de maneira adequada. O mais próximo que os valores de resíduos estiverem da linha demarcada (0), melhor será o nosso modelo."
   ]
  },
  {
   "cell_type": "code",
   "execution_count": null,
   "metadata": {},
   "outputs": [],
   "source": [
    "sns.residplot(y_test, predictions)"
   ]
  },
  {
   "cell_type": "markdown",
   "metadata": {},
   "source": [
    "Como vemos, nosso modelo **Decision Tree Regressor** é um regressor razoável: nós não observamos nenhum padrão visual na distribuição dos resíduos, o que é um bom indício de adequabilidade do modelo. E também os pontos estão concentrados próximos a linha nula (0). Entretanto, o modelo não consegue prever bem quando os candidatos recebem zero votos."
   ]
  },
  {
   "cell_type": "markdown",
   "metadata": {},
   "source": [
    "#### **_Epsilon-Support Vector Regressor_**"
   ]
  },
  {
   "cell_type": "code",
   "execution_count": null,
   "metadata": {},
   "outputs": [],
   "source": [
    "predictions = svr.predict(X_test)\n",
    "print(\"RMSE SVR - Test: {:2.10}\".format(np.sqrt(mean_squared_error(y_true=y_test, y_pred=predictions))))"
   ]
  },
  {
   "cell_type": "markdown",
   "metadata": {},
   "source": [
    "##### **Plot Resíduos vs Predições - SVR**\n",
    "\n",
    "Abaixo nós plotamos o gráfico de resíduos vs predições. Ele nos possibilita visualizar o quão eficiente nosso modelo é para capturar a variância de nossos dados e representá-los de maneira adequada. O mais próximo que os valores de resíduos estiverem da linha demarcada (0), melhor será o nosso modelo."
   ]
  },
  {
   "cell_type": "code",
   "execution_count": null,
   "metadata": {},
   "outputs": [],
   "source": [
    "sns.residplot(y_test, predictions)"
   ]
  },
  {
   "cell_type": "markdown",
   "metadata": {},
   "source": [
    "Como vemos, nosso modelo **SVR** é um regressor razoável: nós não observamos nenhum padrão visual na distribuição dos resíduos, o que é um bom indício de adequabilidade do modelo. E também os pontos estão concentrados próximos a linha nula (0). Entretanto, o modelo não consegue prever bem quando os candidatos recebem zero votos."
   ]
  },
  {
   "cell_type": "markdown",
   "metadata": {},
   "source": [
    "### Conclusão"
   ]
  },
  {
   "cell_type": "markdown",
   "metadata": {},
   "source": [
    "Como vemos, o melhor modelo quando utilizamos os dados de teste é o modelo **Lasso Regressor**, com o modelo **Ridge Regressor** bem próximo dele em termos de RMSE."
   ]
  },
  {
   "cell_type": "markdown",
   "metadata": {},
   "source": [
    "## EXTRA - Usando Pipelines e GridSearch do Scikit Learn\n",
    "\n",
    "Abaixo nós fazemos alguns pipelines e grid searches com os mesmos algoritmos usados acima com o intuito de checar se os valores obtidos são correspondentes."
   ]
  },
  {
   "cell_type": "code",
   "execution_count": null,
   "metadata": {},
   "outputs": [],
   "source": [
    "from sklearn.pipeline import Pipeline\n",
    "from sklearn.model_selection import GridSearchCV\n",
    "from sklearn.metrics import make_scorer\n",
    "\n",
    "def rmse_function(y_pred, y_true):\n",
    "    return np.sqrt(mean_squared_error(y_true=y_true, y_pred=y_pred))\n",
    "\n",
    "scorer = make_scorer(rmse_function, greater_is_better=False)\n",
    "\n",
    "# Construct some pipelines\n",
    "pipe_lr = Pipeline([('reg', LinearRegression())])\n",
    "pipe_rf = Pipeline([('reg', RandomForestRegressor())])\n",
    "pipe_lasso = Pipeline([('reg', LassoCV())])\n",
    "pipe_ridge = Pipeline([('reg', RidgeCV())])\n",
    "pipe_knn = Pipeline([('reg', KNeighborsRegressor())])\n",
    "pipe_dt = Pipeline([('reg', DecisionTreeRegressor())])\n",
    "pipe_svr = Pipeline([('reg', SVR())])\n",
    "\n",
    "\n",
    "param_range = [1, 2, 3, 4, 5, 6, 7, 8, 9, 10]\n",
    "\n",
    "grid_params_lr = [{}] \n",
    "\n",
    "grid_params_lasso = [{'reg__alphas' : [[5e-1, 1e-1, 5e-2, 1e-3, 1e-4, 1e-5, 1e-6]],\n",
    "                      'reg__max_iter' : [1e5],\n",
    "                      'reg__random_state' : [2]}]\n",
    "\n",
    "grid_params_ridge = [{'reg__alphas' : [[0.05, 0.1, 0.3, 1, 3, 5, 10, 15, 30, 50, 75]]}]\n",
    "\n",
    "grid_params_rf = [{}]\n",
    "\n",
    "grid_params_knn = [{'reg__n_neighbors' : [1, 3, 5, 7, 10, 15, 18, 21]}]\n",
    "\n",
    "grid_params_dt = [{'reg__random_state' : [2],\n",
    "                   'reg__max_depth' : [5, 10, 50]}]\n",
    "\n",
    "grid_params_svr = [{'reg__C': [1e0, 1e1, 1e2, 1e3]}]\n",
    "\n",
    "# Construct grid searches\n",
    "jobs = -1\n",
    "\n",
    "gs_lr = GridSearchCV(estimator = pipe_lr,\n",
    "                param_grid = grid_params_lr,\n",
    "                scoring = scorer,\n",
    "                cv = 5) \n",
    "\n",
    "gs_rf = GridSearchCV(estimator = pipe_rf,\n",
    "                param_grid = grid_params_rf,\n",
    "                scoring = scorer,\n",
    "                cv = 5, \n",
    "                n_jobs = jobs)\n",
    "\n",
    "gs_lasso = GridSearchCV(estimator = pipe_lasso,\n",
    "                       param_grid = grid_params_lasso,\n",
    "                       scoring = scorer,\n",
    "                       cv = 5,\n",
    "                       n_jobs = jobs)\n",
    "\n",
    "gs_ridge = GridSearchCV(estimator = pipe_ridge,\n",
    "                       param_grid = grid_params_ridge,\n",
    "                       scoring = scorer,\n",
    "                       cv = 5,\n",
    "                       n_jobs = jobs)\n",
    "\n",
    "gs_knn = GridSearchCV(estimator = pipe_knn,\n",
    "                     param_grid = grid_params_knn,\n",
    "                     scoring = scorer,\n",
    "                     cv = 5,\n",
    "                     n_jobs = jobs)\n",
    "\n",
    "gs_dt = GridSearchCV(estimator = pipe_dt,\n",
    "                    param_grid = grid_params_dt,\n",
    "                    scoring = scorer,\n",
    "                    cv = 5,\n",
    "                    n_jobs = jobs)\n",
    "\n",
    "gs_svr = GridSearchCV(estimator = pipe_svr,\n",
    "                     param_grid = grid_params_svr,\n",
    "                     scoring = scorer,\n",
    "                     cv = 5,\n",
    "                     n_jobs = jobs)\n",
    "\n",
    "# List of pipelines for ease of iteration\n",
    "grids = [gs_lr, gs_rf, gs_ridge, gs_lasso, gs_knn, gs_dt, gs_svr]\n",
    "\n",
    "# Dictionary of pipelines and classifier types for ease of reference\n",
    "grid_dict = {0: 'Linear Regressor', 1: 'Random Forest Regressor', \n",
    "            2: 'Ridge Regressor', 3: 'Lasso Regressor', \n",
    "            4: 'KNN Regressor', 5: 'Decision Tree Regressor',\n",
    "            6: 'SVR Regressor'}\n",
    "\n",
    "\n",
    "# Fit the grid search objects\n",
    "print('Performing model optimizations...')\n",
    "best_rmse = float(\"inf\")\n",
    "best_reg = 0\n",
    "best_gs = ''\n",
    "for idx, gs in enumerate(grids):\n",
    "    print('\\nEstimator: %s' % grid_dict[idx])\n",
    "    # Fit grid search\n",
    "    gs.fit(X_train, y_train)\n",
    "\n",
    "    # Best params\n",
    "    print('Best params: %s' % gs.best_params_)\n",
    "    \n",
    "    # Best training data accuracy\n",
    "    print('Best RMSE for training set: %.10f' % -gs.best_score_)\n",
    "    \n",
    "    # Predict on test data with best params\n",
    "    y_pred = gs.predict(X_test)\n",
    "    \n",
    "    rmse = np.sqrt(mean_squared_error(y_true=y_test, y_pred=y_pred))\n",
    "    \n",
    "    # Validation data accuracy of model with best params\n",
    "    print('Test set RMSE for best params: %.10f ' % rmse)\n",
    "    \n",
    "    # Track best (smallest rmse) model\n",
    "    if best_rmse > rmse:\n",
    "        best_rmse = rmse\n",
    "        best_gs = gs\n",
    "        best_reg = idx\n",
    "        \n",
    "print('\\nRegressor with best test set RMSE: ** %s **' % grid_dict[best_reg])"
   ]
  },
  {
   "cell_type": "markdown",
   "metadata": {},
   "source": [
    "### Conclusão\n",
    "\n",
    "Como se observa acima, o melhor modelo encontrado foi o modelo **Lasso Regressor** em termos de RMSE, com o modelo **Ridge Regressor** bem próximo dele em termos de RMSE.\n",
    "\n",
    "Entretanto os valores de RMSE são distintos dos valores encontrados acima. Isso pode se dever ao ajuste dos parâmetros dos modelos, feitos durante a própria busca, e/ou por alguma diferença na função de scoring, que talvez tenha passado despercebida pela nossa análise."
   ]
  }
 ],
 "metadata": {
  "kernelspec": {
   "display_name": "Python 3",
   "language": "python",
   "name": "python3"
  },
  "language_info": {
   "codemirror_mode": {
    "name": "ipython",
    "version": 3
   },
   "file_extension": ".py",
   "mimetype": "text/x-python",
   "name": "python",
   "nbconvert_exporter": "python",
   "pygments_lexer": "ipython3",
   "version": "3.6.6"
  }
 },
 "nbformat": 4,
 "nbformat_minor": 2
}
