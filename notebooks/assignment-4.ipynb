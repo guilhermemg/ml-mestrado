{
 "cells": [
  {
   "cell_type": "markdown",
   "metadata": {},
   "source": [
    "# Descrição de Atividade\n",
    "\n",
    "Nessa atividade você irá usar seus conhecimentos sobre classificação para prever quais candidatos à Câmara de Deputados foram eleitos nas eleições de 2014. De forma específica:\n",
    "\n",
    " 1. Há desbalanceamento das classes (isto é, uma classe tem muito mais instâncias que outra)? Em que proporção? Quais efeitos colaterais o desbalanceamento de classes pode causar no classificador? Como você poderia tratar isso? (1 pt.)\n",
    " 2. Treine: um modelo de regressão logística, KNN, uma árvore de decisão e um modelo de adaboost. Tune esses modelos usando validação cruzada e controle overfitting se necessário, considerando as particularidades de cada modelo.  (2 pts.)\n",
    "Reporte Precision, Recall e AUC-Precision&Recall no treino e validação. Há uma grande diferença de desempenho no treino/validação? Como você avalia os resultados? Justifique sua resposta. (2 pt.)\n",
    " 3. Interprete as saídas dos modelos. Quais atributos parecem ser mais importantes de acordo com cada modelo?  (2 pts.)\n",
    " 4. Envie seus melhores modelos à competição do Kaggle. Faça pelo menos uma submissão. Sugestões para melhorar o modelo: (2 pts.)\n",
    " 5. Experimente outros modelos (e.g. SVM, RandomForests e GradientBoosting).\n",
    " 6. Experimente outras estratégias de ensembles (e.g. Stacking).\n",
    " 7. Experimente balancear as classes,  caso estejam desbalanceadas.\n",
    "\n",
    "Os dados estão neste link: https://www.kaggle.com/c/ufcg-cdp-20182-lab3/data (Links para um site externo)Links para um site externo\n",
    "\n",
    "Para a entrega envie o link no GitHub com o notebook usado para resolver o Lab.\n",
    "\n",
    "\n",
    "### Descrição dos dados:\n",
    "\n",
    "Os dados utilizados correspondem aos das eleições de Deputado Federal nos anos de 2006, 2010 e 2014. Estão dividos nas seguintes colunas:\n",
    "\n",
    "* **ano**: Ano da eleição;\n",
    "* **sequencial_candidato**: O identificador do candidato. Corresponde à coluna Id do arquivo de submissão;\n",
    "* **nome**: Nome do candidato;\n",
    "* **uf**: Sigla do estado do candidato;\n",
    "* **partido**: Partido do candidato;\n",
    "* **quantidade_doacoes**: Número de doações que um candidato recebeu;\n",
    "* **quantidade_doadores**: Numero de doadores que um candidato teve;\n",
    "* **total_receita**: Total de receita de um candidato;\n",
    "* **media_receita**: Média da receita de um candidato;\n",
    "* **recursos_de_outros_candidatos.comites**: Total de receita proveniente de outros candidatos e comitês;\n",
    "* **recursos_de_pessoas_fisicas**: Total de receita proveniente de pessoas físicas;\n",
    "* **recursos_de_pessoas_juridicas**: Total de receita proveniente de pessoas juridicas;\n",
    "* **recursos_proprios**:Total de receita proveniente dos próprios candidatos;\n",
    "* **recursos_de_partido_politico**: Total de receita proveniente do partido do candidato;\n",
    "* **quantidade_despesas**: Número de despesas que um candidato teve;\n",
    "* **quantidade_fornecedores**: Número de fornecedores que um candidato teve;\n",
    "* **total_despesa**: Total de depesa de um candidato;\n",
    "* **media_despesa**: Média da despesa de um candidato;\n",
    "* **cargo**: Cargo ao qual o candidato está concorrendo;\n",
    "* **sexo**: Sexo do candidato;\n",
    "* **grau**: Grau de escolaridade do candidato;\n",
    "* **estado_civil**: Estado civil do candidato;\n",
    "* **ocupacao**: Ocupação do candidato;\n",
    "* **situacao**: Situação final do candidato. Corresponde à coluna **Predict** do arquivo de submissão;"
   ]
  },
  {
   "cell_type": "markdown",
   "metadata": {},
   "source": [
    "## Import Libraries"
   ]
  },
  {
   "cell_type": "code",
   "execution_count": 100,
   "metadata": {},
   "outputs": [
    {
     "data": {
      "text/html": [
       "<script type=\"text/javascript\">window.PlotlyConfig = {MathJaxConfig: 'local'};</script><script type=\"text/javascript\">if (window.MathJax) {MathJax.Hub.Config({SVG: {font: \"STIX-Web\"}});}</script><script>requirejs.config({paths: { 'plotly': ['https://cdn.plot.ly/plotly-latest.min']},});if(!window._Plotly) {require(['plotly'],function(plotly) {window._Plotly=plotly;});}</script>"
      ],
      "text/vnd.plotly.v1+html": [
       "<script type=\"text/javascript\">window.PlotlyConfig = {MathJaxConfig: 'local'};</script><script type=\"text/javascript\">if (window.MathJax) {MathJax.Hub.Config({SVG: {font: \"STIX-Web\"}});}</script><script>requirejs.config({paths: { 'plotly': ['https://cdn.plot.ly/plotly-latest.min']},});if(!window._Plotly) {require(['plotly'],function(plotly) {window._Plotly=plotly;});}</script>"
      ]
     },
     "metadata": {},
     "output_type": "display_data"
    }
   ],
   "source": [
    "import pandas as pd\n",
    "import numpy as np\n",
    "import seaborn as sns\n",
    "import pickle\n",
    "\n",
    "from sklearn.preprocessing import QuantileTransformer\n",
    "from sklearn.linear_model import LogisticRegression\n",
    "from sklearn.neighbors import KNeighborsClassifier\n",
    "from sklearn.ensemble import RandomForestClassifier, AdaBoostClassifier, ExtraTreesClassifier\n",
    "from sklearn.tree import DecisionTreeClassifier\n",
    "from sklearn.svm import SVC\n",
    "from sklearn.pipeline import Pipeline\n",
    "from sklearn.metrics import precision_recall_curve, precision_score, recall_score, f1_score, accuracy_score, roc_auc_score, auc\n",
    "from sklearn.metrics import classification_report, confusion_matrix\n",
    "from sklearn.model_selection import KFold, StratifiedKFold\n",
    "from sklearn.model_selection import cross_val_score, train_test_split\n",
    "from sklearn.externals.joblib import Parallel, delayed\n",
    "\n",
    "from catboost import CatBoostClassifier\n",
    "from lightgbm import LGBMClassifier\n",
    "from xgboost import XGBClassifier\n",
    "\n",
    "from imblearn.over_sampling import SMOTE, ADASYN\n",
    "\n",
    "from collections import Counter\n",
    "\n",
    "from enum import Enum\n",
    "\n",
    "import plotly.offline as py\n",
    "import plotly.graph_objs as go\n",
    "import plotly.tools as tls\n",
    "\n",
    "py.init_notebook_mode(connected=True)\n",
    "\n",
    "sns.set(style=\"ticks\")"
   ]
  },
  {
   "cell_type": "markdown",
   "metadata": {},
   "source": [
    "## Load Data"
   ]
  },
  {
   "cell_type": "code",
   "execution_count": 101,
   "metadata": {},
   "outputs": [],
   "source": [
    "train_df = pd.read_csv('../data/assignment_4/train.csv')\n",
    "test_df = pd.read_csv('../data/assignment_4/test.csv')\n",
    "\n",
    "data = pd.concat([train_df, test_df], sort=False)\n",
    "\n",
    "data.set_index('sequencial_candidato', inplace=True, drop=True)"
   ]
  },
  {
   "cell_type": "markdown",
   "metadata": {},
   "source": [
    "## Preprocess Data"
   ]
  },
  {
   "cell_type": "code",
   "execution_count": 102,
   "metadata": {},
   "outputs": [],
   "source": [
    "data.drop(columns=['nome'], inplace=True)"
   ]
  },
  {
   "cell_type": "code",
   "execution_count": 103,
   "metadata": {},
   "outputs": [],
   "source": [
    "qt = QuantileTransformer(random_state=2, output_distribution='normal')\n",
    "\n",
    "skewed_features = ['quantidade_doacoes', 'quantidade_doadores', 'total_receita',\n",
    "       'media_receita', 'recursos_de_outros_candidatos.comites',\n",
    "       'recursos_de_pessoas_fisicas', 'recursos_de_pessoas_juridicas',\n",
    "       'recursos_proprios', 'recursos_de_partido_politico',\n",
    "       'quantidade_despesas', 'quantidade_fornecedores', 'total_despesa',\n",
    "       'media_despesa']\n",
    "\n",
    "data[skewed_features] = qt.fit_transform(X=data[skewed_features])"
   ]
  },
  {
   "cell_type": "code",
   "execution_count": 104,
   "metadata": {},
   "outputs": [],
   "source": [
    "cleanup_nums = {\"grau\" : {\"LÊ E ESCREVE\": 1, \n",
    "                       \"ENSINO FUNDAMENTAL INCOMPLETO\":2, \n",
    "                       \"ENSINO FUNDAMENTAL COMPLETO\":3, \n",
    "                       \"ENSINO MÉDIO INCOMPLETO\":4,\n",
    "                       \"ENSINO MÉDIO COMPLETO\":5,\n",
    "                       \"SUPERIOR INCOMPLETO\":6,\n",
    "                       \"SUPERIOR COMPLETO\": 7}}\n",
    "\n",
    "data.replace(cleanup_nums, inplace=True)\n",
    "data[\"grau\"] = pd.to_numeric(data[\"grau\"])"
   ]
  },
  {
   "cell_type": "code",
   "execution_count": 105,
   "metadata": {},
   "outputs": [
    {
     "data": {
      "text/plain": [
       "(12214, 258)"
      ]
     },
     "execution_count": 105,
     "metadata": {},
     "output_type": "execute_result"
    }
   ],
   "source": [
    "categorical_feats = [col for col in data.columns if not np.issubdtype(data[str(col)].dtype, np.number) and col not in ['nome', 'situacao']]\n",
    "\n",
    "data = pd.get_dummies(data, columns=categorical_feats)\n",
    "data.shape"
   ]
  },
  {
   "cell_type": "markdown",
   "metadata": {},
   "source": [
    "## Split Data into Train and Test"
   ]
  },
  {
   "cell_type": "code",
   "execution_count": 106,
   "metadata": {},
   "outputs": [
    {
     "name": "stdout",
     "output_type": "stream",
     "text": [
      "(7622, 259)\n",
      "(4592, 259)\n"
     ]
    }
   ],
   "source": [
    "data['situacao_dummy'] = data['situacao'].map({'eleito': 1, 'nao_eleito': 0})\n",
    "\n",
    "train = data[(data.ano == 2006) | (data.ano == 2010)]\n",
    "test = data[data.ano == 2014]\n",
    "\n",
    "print(train.shape)\n",
    "print(test.shape)"
   ]
  },
  {
   "cell_type": "markdown",
   "metadata": {},
   "source": [
    "## Target Class Imbalancing"
   ]
  },
  {
   "cell_type": "code",
   "execution_count": 107,
   "metadata": {},
   "outputs": [
    {
     "data": {
      "text/plain": [
       "<matplotlib.axes._subplots.AxesSubplot at 0x7f93c2a38860>"
      ]
     },
     "execution_count": 107,
     "metadata": {},
     "output_type": "execute_result"
    },
    {
     "data": {
      "image/png": "[encoded data removed]",
      "text/plain": [
       "<Figure size 432x288 with 1 Axes>"
      ]
     },
     "metadata": {},
     "output_type": "display_data"
    }
   ],
   "source": [
    "sns.countplot(x='situacao', data=train)"
   ]
  },
  {
   "cell_type": "code",
   "execution_count": 108,
   "metadata": {},
   "outputs": [
    {
     "name": "stdout",
     "output_type": "stream",
     "text": [
      "Número de candidatos Eleitos: 1026\n",
      "Número de candidatos Não-Eleitos: 6596\n",
      "Total de candidatos: 7622\n",
      "\n",
      "Proporção de candidatos eleitos: 13.46%\n",
      "Proporção de candidatos não-eleitos: 86.54%\n"
     ]
    }
   ],
   "source": [
    "num_elected_candidates = train.situacao[train.situacao == 'eleito'].count()\n",
    "num_not_elected_candidates = train.situacao[train.situacao == 'nao_eleito'].count()\n",
    "total_candidates = train.shape[0]\n",
    "\n",
    "print(\"Número de candidatos Eleitos: {}\".format(num_elected_candidates))\n",
    "print(\"Número de candidatos Não-Eleitos: {}\".format(num_not_elected_candidates))\n",
    "print(\"Total de candidatos: {}\\n\".format(total_candidates))\n",
    "\n",
    "print(\"Proporção de candidatos eleitos: {:2.2%}\".format((num_elected_candidates/total_candidates)))\n",
    "print(\"Proporção de candidatos não-eleitos: {:2.2%}\".format((num_not_elected_candidates/total_candidates)))"
   ]
  },
  {
   "cell_type": "markdown",
   "metadata": {},
   "source": [
    "A variável alvo **situacao** é bastante _desbalanceada_, em uma proporção de aproximadamente 1 eleito para cada 6 não-eleitos. Precisamente 13.46% dos candidatos foram eleitos, enquanto 86.54% não foram eleitos.\n",
    "\n",
    "Esse desbalanceamento pode causar alguns efeitos colaterais na classificação feita pelo modelo preditor, tais como overfitting do modelo em relação à classe majoritária, o que prejudica a acurácia da predição, podendo causar até mesmo a interpretação incorreta dos resultados se o desbalanceamento não for endereçado corretamente.\n",
    "\n",
    "Existem algumas práticas que podemos adotar para corrigir e lidar com esse desbalanceamento, a saber:\n",
    "\n",
    "* Coleta de mais dados, que poderia rebalancear as classes, a depender da natureza do problema;\n",
    "* Mudar a forma de amostragem do dataset, a qual pode estar gerando uma amostra desbalanceada, contudo o dataset não está desbalanceado;\n",
    "* Usar alguma forma de gerar dados sintéticos como Synthetic Minority Over-sampling Technique [SMOTE](https://imbalanced-learn.org/en/stable/over_sampling.html#cbhk2002) e Adaptive Synthetic [ADASYN](https://imbalanced-learn.org/en/stable/over_sampling.html#hbgl2008);\n",
    "* Incorporar algum modelo que tem uma forma de penalização para compensar o desbalanceamento de classes a exemplo de penalized-LDA e penalized-SVM.\n",
    "\n",
    "\n",
    "Para essa atividade nós usaremos a técnica de geração de dados sintéticos SMOTE."
   ]
  },
  {
   "cell_type": "code",
   "execution_count": 109,
   "metadata": {},
   "outputs": [
    {
     "name": "stderr",
     "output_type": "stream",
     "text": [
      "/home/guilherme/anaconda3/envs/ml-mestrado/lib/python3.6/site-packages/pandas/core/frame.py:3697: SettingWithCopyWarning:\n",
      "\n",
      "\n",
      "A value is trying to be set on a copy of a slice from a DataFrame\n",
      "\n",
      "See the caveats in the documentation: http://pandas.pydata.org/pandas-docs/stable/indexing.html#indexing-view-versus-copy\n",
      "\n"
     ]
    },
    {
     "name": "stdout",
     "output_type": "stream",
     "text": [
      "Train SMOTE: [(0.0, 6596), (1.0, 6596)]\n",
      "Test.shape: (4592, 257)\n"
     ]
    }
   ],
   "source": [
    "train.drop(['situacao'], axis=1, inplace=True)\n",
    "test.drop(['situacao', 'situacao_dummy'], axis=1, inplace=True)\n",
    "\n",
    "X = train.loc[:, train.columns != 'situacao_dummy']\n",
    "y = train.situacao_dummy\n",
    "\n",
    "X_train, y_train = SMOTE().fit_resample(X, y)\n",
    "print(\"Train SMOTE: {}\".format(sorted(Counter(y_train).items())))\n",
    "\n",
    "#X_train = pd.DataFrame(X_train, columns=X.columns)\n",
    "\n",
    "X_test = test\n",
    "print(\"Test.shape: {}\".format(X_test.shape))"
   ]
  },
  {
   "cell_type": "markdown",
   "metadata": {},
   "source": [
    "## Split Train and Validation"
   ]
  },
  {
   "cell_type": "code",
   "execution_count": 110,
   "metadata": {},
   "outputs": [],
   "source": [
    "#X_train, X_test, y_train, y_test = train_test_split(X_train, y_train, test_size=0.2, random_state=42)\n",
    "\n",
    "#print(\"Train: {}\".format(X_train.shape, y_train.shape))\n",
    "#print(\"Test: {}\".format(X_test.shape, y_test.shape))"
   ]
  },
  {
   "cell_type": "markdown",
   "metadata": {},
   "source": [
    "## Modelos"
   ]
  },
  {
   "cell_type": "code",
   "execution_count": 111,
   "metadata": {},
   "outputs": [],
   "source": [
    "class ModelsPaths(Enum):\n",
    "    KNR_PATH = 'assignment4-models/knr.p'\n",
    "    LR_PATH = 'assignment4-models/lr.p'\n",
    "    DT_PATH = 'assignment4-models/dt.p'\n",
    "    ADA_PATH = 'assignment4-models/ada.p'\n",
    "    RF_PATH = 'assignment4-models/rf.p'\n",
    "    ET_PATH = 'assignment4-models/et.p'\n",
    "    SVC_PATH = 'assignment4-models/svc.p'\n",
    "    LGBM_PATH = 'assignment4-models/lgbm.p'\n",
    "    CAT_PATH = 'assignment4-models/cat.p'\n",
    "    XGB_PATH = 'assignment4-models/xgb.p'\n",
    "\n",
    "class ModelsNames(Enum):\n",
    "    LR = 'Logistic Regression'\n",
    "    DT = 'Decision Trees'\n",
    "    ET = 'Extra Trees'\n",
    "    RF = 'Random Forest'\n",
    "    ADA = 'AdaBoost'\n",
    "    SVC = 'Support Vector Machine'\n",
    "    LGBM = 'LGBM'\n",
    "    CAT = 'CatBoost'\n",
    "    XGB = 'XGBoost'\n",
    "    KNR = 'KNR'"
   ]
  },
  {
   "cell_type": "markdown",
   "metadata": {},
   "source": [
    "#### Auxiliary Functions"
   ]
  },
  {
   "cell_type": "code",
   "execution_count": 112,
   "metadata": {},
   "outputs": [],
   "source": [
    "def save_trained_model(self, path):\n",
    "    pickle.dump(self.model, open(path.value, 'wb'))\n",
    "\n",
    "def load_trained_model(self, path):\n",
    "    return pickle.load(open(path.value, 'rb'))\n",
    "\n",
    "def _get_top_10_features_and_imps(self, f_names, f_imps):\n",
    "    aux = [(f_name, f_imp) for f_idx_a, f_name in f_names for f_idx_b, f_imp in f_imps if f_idx_a == f_idx_b]\n",
    "    aux.sort(key=lambda tup: -tup[1]) # sort by feature_importance, descending order\n",
    "\n",
    "    top_10_features = aux[:10]\n",
    "    features_names = [x for x,_ in top_10_features]\n",
    "    features_imps = [y for _,y in top_10_features]\n",
    "\n",
    "    return (features_names, features_imps)\n",
    "\n",
    "def _get_feat_names_and_imps_1(self):\n",
    "    f_names = [(f_idx, f_name) for f_idx, f_name in enumerate(train.columns)]\n",
    "    f_imps = [(f_idx, f_imp) for f_idx, f_imp in enumerate(self.model.feature_importances_)]\n",
    "\n",
    "    return _get_top_10_features_and_imps(f_names, f_imps)\n",
    "\n",
    "def _get_feat_names_and_imps_2(self):\n",
    "    imps = (np.std(X_train, 0) * self.model.coef_)[0]\n",
    "\n",
    "    f_names = [(f_idx, f_name) for f_idx, f_name in enumerate(train.columns)]\n",
    "    f_imps = [(f_idx, f_imp) for f_idx, f_imp in enumerate(imps)]\n",
    "\n",
    "    return _get_top_10_features_and_imps(f_names, f_imps)\n",
    "\n",
    "\n",
    "def _plot_graph(self, model_name, features_names, features_imps):\n",
    "    # Scatter plot \n",
    "    trace = go.Scatter(\n",
    "        y = features_imps,\n",
    "        x = features_names,\n",
    "        mode='markers',\n",
    "        marker=dict(\n",
    "            sizemode = 'diameter',\n",
    "            sizeref = 1,\n",
    "            size = 25,\n",
    "            color = features_imps,\n",
    "            colorscale='Portland',\n",
    "            showscale=True\n",
    "        ),\n",
    "        text = features_names\n",
    "    )\n",
    "    data = [trace]\n",
    "\n",
    "    layout= go.Layout(\n",
    "        autosize= True,\n",
    "        title= '{} Feature Importance'.format(model_name.value),\n",
    "        hovermode= 'closest',\n",
    "        yaxis=dict(\n",
    "            title= 'Feature Importance',\n",
    "            ticklen= 5,\n",
    "            gridwidth= 2\n",
    "        ),\n",
    "        showlegend= False\n",
    "    )\n",
    "    fig = go.Figure(data=data, layout=layout)\n",
    "    py.iplot(fig, filename='scatter2010')\n",
    "\n",
    "\n",
    "def plot_feature_importances(self, model_name):\n",
    "    feature_names, feature_imps = None,None\n",
    "\n",
    "    if model_name in [ModelsNames.DT, ModelsNames.ET, ModelsNames.RF, ModelsNames.ADA]:\n",
    "        feature_names, feature_imps = _get_feat_names_and_imps_1()\n",
    "    elif model_name in [ModelsNames.LR]:\n",
    "        feature_names, feature_imps = _get_feat_names_and_imps_2()\n",
    "\n",
    "    _plot_graph(model_name, feature_names, feature_imps)"
   ]
  },
  {
   "cell_type": "raw",
   "metadata": {},
   "source": [
    "class GenericModel(object):\n",
    "    def __init__(self, model):\n",
    "        self.model = model\n",
    "        self.nfolds = 10\n",
    "        self.seed = 42\n",
    "    \n",
    "    def report_cross_validation_results(self):\n",
    "        print('(Cross-)Validation set evaluation')\n",
    "\n",
    "        report_val = {}\n",
    "        scoring = ['precision','recall','f1','accuracy', 'roc_auc']\n",
    "        for sc in scoring:\n",
    "            cv = StratifiedKFold(shuffle=True, random_state=self.seed, n_splits=self.nfolds)\n",
    "            report_val[sc] = cross_val_score(self.model, X_train, y_train, cv=cv, scoring=sc, n_jobs=-1).mean()\n",
    "\n",
    "        for key, val in report_val.items():\n",
    "            print('{} score - validation set: {:.4}'.format(key.capitalize(), val))\n",
    "\n",
    "\n",
    "    def report_results_with_test_set(self):\n",
    "        print('----------------------')\n",
    "        print('Test set evaluation:')\n",
    "\n",
    "        y_pred_test = self.model.predict(X_test)\n",
    "\n",
    "        report_test = {}\n",
    "        report_test['precision'] = precision_score(y_test, y_pred_test)\n",
    "        report_test['recall'] = recall_score(y_test, y_pred_test)\n",
    "        report_test['f1'] = f1_score(y_test, y_pred_test)\n",
    "        report_test['accuracy'] = accuracy_score(y_test, y_pred_test)\n",
    "        report_test['roc_auc'] = roc_auc_score(y_test, y_pred_test)\n",
    "        report_test['auc'] = auc_score(y_test, y_pred_test)\n",
    "\n",
    "        for key, val in report_test.items():\n",
    "            print('{} score - test set: {:.4}'.format(key.capitalize(), val))\n",
    "\n",
    "        print('\\nConfusion Matrix:')\n",
    "        print(confusion_matrix(y_test, y_pred_test))"
   ]
  },
  {
   "cell_type": "markdown",
   "metadata": {},
   "source": [
    "Abaixo definimos alguns wrappers para os modelos que vamos utilizar. Créditos para [**eliotbarr**](https://www.kaggle.com/eliotbarr/stacking-test-sklearn-xgboost-catboost-lightgbm/code) no Kaggle."
   ]
  },
  {
   "cell_type": "code",
   "execution_count": 129,
   "metadata": {},
   "outputs": [],
   "source": [
    "ntrain = X_train.shape[0]\n",
    "ntest = X_test.shape[0]\n",
    "\n",
    "NFOLDS = 3\n",
    "SEED = 42\n",
    "\n",
    "class GenericWrapper(object):\n",
    "    def __init__(self, clf, params=None):\n",
    "        self.clf = clf(**params)\n",
    "\n",
    "    def train(self, X_train, y_train):\n",
    "        self.clf.fit(X_train, y_train)\n",
    "\n",
    "    def predict(self, x):\n",
    "        return self.clf.predict(x)\n",
    "    \n",
    "    def predict_proba(self, x):\n",
    "        return self.clf.predict_proba(x)[:,1]\n",
    "\n",
    "class SklearnWrapper_1(GenericWrapper):\n",
    "    def __init__(self, clf, seed=0, params=None):\n",
    "        params['random_state'] = seed\n",
    "        super().__init__(clf, params)\n",
    "    \n",
    "    def train(self, X_train, y_train):\n",
    "        super().train(X_train, y_train)\n",
    "    \n",
    "    def predict(self, x):\n",
    "        return super().predict(x)\n",
    "    \n",
    "    def predict_proba(self, x):\n",
    "        return super().predict_proba(x)\n",
    "    \n",
    "class SklearnWrapper_2(GenericWrapper):\n",
    "    def __init__(self, clf, params=None):\n",
    "        super().__init__(clf, params)\n",
    "    \n",
    "    def train(self, X_train, y_train):\n",
    "        super().train(X_train, y_train)\n",
    "    \n",
    "    def predict(self, x):\n",
    "        return super().predict(x)\n",
    "    \n",
    "    def predict_proba(self, x):\n",
    "        return super().predict_proba(x)\n",
    "    \n",
    "    \n",
    "class CatboostWrapper(GenericWrapper):\n",
    "    def __init__(self, clf, seed=0, params=None):\n",
    "        params['random_seed'] = seed\n",
    "        self.clf = clf(**params)\n",
    "\n",
    "    def train(self, X_train, y_train):\n",
    "        super().train(X_train, y_train)\n",
    "    \n",
    "    def predict(self, x):\n",
    "        return super().predict(x)\n",
    "    \n",
    "    def predict_proba(self, x):\n",
    "        return super().predict_proba(x)\n",
    "        \n",
    "class LightGBMWrapper(GenericWrapper):\n",
    "    def __init__(self, clf, seed=0, params=None):\n",
    "        params['feature_fraction_seed'] = seed\n",
    "        params['bagging_seed'] = seed\n",
    "        self.clf = clf(**params)\n",
    "\n",
    "    def train(self, X_train, y_train):\n",
    "        super().train(X_train, y_train)\n",
    "    \n",
    "    def predict(self, x):\n",
    "        return super().predict(x)\n",
    "    \n",
    "    def predict_proba(self, x):\n",
    "        return super().predict_proba(x)\n",
    "\n",
    "\n",
    "class XgbWrapper(GenericWrapper):\n",
    "    def __init__(self, clf, seed=0, params=None):\n",
    "        params['seed'] = seed\n",
    "        self.clf = clf(**params)\n",
    "\n",
    "    def train(self, X_train, y_train):\n",
    "        super().train(X_train, y_train)\n",
    "    \n",
    "    def predict(self, x):\n",
    "        return super().predict(x)\n",
    "    \n",
    "    def predict_proba(self, x):\n",
    "        return super().predict_proba(x)\n",
    "\n",
    "\n",
    "def get_oof(clf):\n",
    "    oof_train = np.zeros((ntrain,))\n",
    "    oof_train_proba = np.zeros((ntrain,))\n",
    "    \n",
    "    oof_test = np.zeros((ntest,))\n",
    "    oof_test_skf = np.empty((NFOLDS, ntest))\n",
    "    \n",
    "    kf = StratifiedKFold(shuffle=True, random_state=SEED, n_splits=NFOLDS)\n",
    "    for i, (train_index, test_index) in enumerate(kf.split(X_train, y_train)):\n",
    "        x_tr = X_train[train_index]\n",
    "        y_tr = y_train[train_index]\n",
    "        x_te = X_train[test_index]\n",
    "\n",
    "        clf.train(x_tr, y_tr)\n",
    "\n",
    "        oof_train[test_index] = clf.predict(x_te)\n",
    "        oof_train_proba[test_index] = clf.predict_proba(x_te)\n",
    "        oof_test_skf[i, :] = clf.predict(X_test)\n",
    "        #oof_test_skf_proba[i, :] = clf.predict_proba(X_test)\n",
    "\n",
    "    oof_test[:] = oof_test_skf.mean(axis=0)\n",
    "    #oof_test_proba[:] = oof_test_skf_proba.mean(axis=0)\n",
    "    return oof_train.reshape(-1, 1), oof_test.reshape(-1, 1), oof_train_proba.reshape(-1,1)"
   ]
  },
  {
   "cell_type": "markdown",
   "metadata": {},
   "source": [
    "#### Model Parameters"
   ]
  },
  {
   "cell_type": "code",
   "execution_count": 126,
   "metadata": {},
   "outputs": [],
   "source": [
    "lr_params = {\n",
    "    'solver': 'liblinear'\n",
    "}\n",
    "\n",
    "knr_params = {\n",
    "    'n_neighbors': 3\n",
    "}\n",
    "\n",
    "dt_params = {\n",
    "}\n",
    "\n",
    "ada_params = {\n",
    "    'learning_rate': 0.01\n",
    "}\n",
    "\n",
    "et_params = {\n",
    "    #'n_jobs': 16,\n",
    "    #'n_estimators': 200,\n",
    "    #'max_features': 0.5,\n",
    "    #'max_depth': 12,\n",
    "    #'min_samples_leaf': 2\n",
    "}\n",
    "\n",
    "rf_params = {\n",
    "    #'n_jobs': 16,\n",
    "    #'n_estimators': 200,\n",
    "    #'max_features': 0.2,\n",
    "    #'max_depth': 12,\n",
    "    #'min_samples_leaf': 2\n",
    "}\n",
    "\n",
    "svc_params = {\n",
    "    'probability': True,\n",
    "    'gamma' : 'auto'\n",
    "}\n",
    "\n",
    "xgb_params = {\n",
    "    #'colsample_bytree': 0.7,\n",
    "    'silent': 1,\n",
    "    #'subsample': 0.7,\n",
    "    'learning_rate': 0.1,\n",
    "    #'objective': 'binary:logistic',\n",
    "    #'max_depth': 4,\n",
    "    #'num_parallel_tree': 1,\n",
    "    #'min_child_weight': 1,\n",
    "    'nrounds': 200\n",
    "}\n",
    "\n",
    "catboost_params = {\n",
    "    'iterations': 200,\n",
    "    'learning_rate': 0.5,\n",
    "    'depth': 3,\n",
    "    #'l2_leaf_reg': 40,\n",
    "    #'bootstrap_type': 'Bernoulli',\n",
    "    #'subsample': 0.7,\n",
    "    #'scale_pos_weight': 5,\n",
    "    'eval_metric': 'AUC',\n",
    "    #'od_type': 'Iter',\n",
    "    'allow_writing_files': False,\n",
    "    'verbose': 0\n",
    "}\n",
    "\n",
    "lightgbm_params = {\n",
    "    #'n_estimators':200,\n",
    "    'learning_rate':0.1,\n",
    "    #'num_leaves':123,\n",
    "    #'colsample_bytree':0.8,\n",
    "    #'subsample':0.9,\n",
    "    #'max_depth':15,\n",
    "    #'reg_alpha':0.1,\n",
    "    #'reg_lambda':0.1,\n",
    "    #'min_split_gain':0.01,\n",
    "    #'min_child_weight':2  ,\n",
    "    'silent': 1,\n",
    "    'random_state': 42\n",
    "}"
   ]
  },
  {
   "cell_type": "markdown",
   "metadata": {},
   "source": [
    "### Models"
   ]
  },
  {
   "cell_type": "markdown",
   "metadata": {},
   "source": [
    "#### **_KNN (K-Nearest Neighbors)_**"
   ]
  },
  {
   "cell_type": "code",
   "execution_count": null,
   "metadata": {},
   "outputs": [],
   "source": [
    "knr = KNeighborsClassifier(n_neighbors = 3).fit(X_train, y_train)\n",
    "\n",
    "report_cross_validation_results(knr)\n",
    "report_results_with_test_set(knr)\n",
    "save_trained_model(knr, ModelsPaths.KNR_PATH)"
   ]
  },
  {
   "cell_type": "markdown",
   "metadata": {},
   "source": [
    "#### **_Logistic Regression_**"
   ]
  },
  {
   "cell_type": "code",
   "execution_count": null,
   "metadata": {},
   "outputs": [],
   "source": [
    "lr = LogisticRegression(random_state=42).fit(X_train, y_train)\n",
    "\n",
    "report_cross_validation_results(lr)\n",
    "report_results_with_test_set(lr)\n",
    "save_trained_model(lr, ModelsPaths.LR_PATH)"
   ]
  },
  {
   "cell_type": "markdown",
   "metadata": {},
   "source": [
    "#### _**Decision Tree Classifier**_"
   ]
  },
  {
   "cell_type": "code",
   "execution_count": null,
   "metadata": {},
   "outputs": [],
   "source": [
    "dt = DecisionTreeClassifier(random_state = 42).fit(X_train, y_train)\n",
    "\n",
    "report_cross_validation_results(dt)\n",
    "report_results_with_test_set(dt)\n",
    "save_trained_model(dt, ModelsPaths.DT_PATH)"
   ]
  },
  {
   "cell_type": "markdown",
   "metadata": {},
   "source": [
    "#### **_Adaboost Ensemble_**"
   ]
  },
  {
   "cell_type": "code",
   "execution_count": null,
   "metadata": {},
   "outputs": [],
   "source": [
    "ada = AdaBoostClassifier(random_state=42, learning_rate=0.01).fit(X_train, y_train)\n",
    "\n",
    "report_cross_validation_results(ada)\n",
    "report_results_with_test_set(ada)\n",
    "save_trained_model(ada, ModelsPaths.ADA_PATH)"
   ]
  },
  {
   "cell_type": "markdown",
   "metadata": {},
   "source": [
    "#### **_Random Forest Classifier_**"
   ]
  },
  {
   "cell_type": "code",
   "execution_count": null,
   "metadata": {},
   "outputs": [],
   "source": [
    "rf = RandomForestClassifier(random_state = 42).fit(X_train, y_train)\n",
    "\n",
    "report_cross_validation_results(rf)\n",
    "report_results_with_test_set(rf)\n",
    "save_trained_model(rf, ModelsPaths.RF_PATH)"
   ]
  },
  {
   "cell_type": "markdown",
   "metadata": {},
   "source": [
    "#### **_Extra Trees Classifier_**"
   ]
  },
  {
   "cell_type": "code",
   "execution_count": null,
   "metadata": {},
   "outputs": [],
   "source": [
    "et = ExtraTreesClassifier(random_state=42).fit(X_train, y_train)\n",
    "\n",
    "report_cross_validation_results(et)\n",
    "report_results_with_test_set(et)\n",
    "save_trained_model(et, ModelsPaths.ET_PATH)"
   ]
  },
  {
   "cell_type": "markdown",
   "metadata": {},
   "source": [
    "#### **_Support Vector Classifier_**"
   ]
  },
  {
   "cell_type": "code",
   "execution_count": null,
   "metadata": {},
   "outputs": [],
   "source": [
    "svc = SVC(random_state=42, probability=True).fit(X_train, y_train)\n",
    "\n",
    "report_cross_validation_results(svc)\n",
    "report_results_with_test_set(svc)\n",
    "save_trained_model(svc, ModelsPaths.SVC_PATH)"
   ]
  },
  {
   "cell_type": "markdown",
   "metadata": {},
   "source": [
    "#### **_Gradient Boosting Classifier - LightGBM_**"
   ]
  },
  {
   "cell_type": "code",
   "execution_count": null,
   "metadata": {},
   "outputs": [],
   "source": [
    "lgbm = LGBMClassifier(silent=1, random_state=42, learning_rate=0.1).fit(X_train, y_train)\n",
    "\n",
    "report_cross_validation_results(lgbm)\n",
    "report_results_with_test_set(lgbm)\n",
    "save_trained_model(lgbm, ModelsPaths.LGBM_PATH)"
   ]
  },
  {
   "cell_type": "markdown",
   "metadata": {},
   "source": [
    "#### **_Gradient Boosting Classifier - CatBoost_**"
   ]
  },
  {
   "cell_type": "code",
   "execution_count": null,
   "metadata": {},
   "outputs": [],
   "source": [
    "cat = CatBoostClassifier(random_state=42, learning_rate=0.5, allow_writing_files=False, verbose=0, iterations=200, depth=3).fit(X_train, y_train)\n",
    "\n",
    "report_cross_validation_results(cat)\n",
    "report_results_with_test_set(cat)\n",
    "save_trained_model(cat, ModelsPaths.CAT_PATH)"
   ]
  },
  {
   "cell_type": "markdown",
   "metadata": {},
   "source": [
    "#### **_Gradient Boosting Classifier - XGBoost_**"
   ]
  },
  {
   "cell_type": "code",
   "execution_count": null,
   "metadata": {},
   "outputs": [],
   "source": [
    "xgb = XGBClassifier(learning_rate=0.1, silent=1, seed=42).fit(X_train, y_train)\n",
    "\n",
    "report_cross_validation_results(xgb)\n",
    "report_results_with_test_set(xgb)\n",
    "save_trained_model(xgb, ModelsPaths.XGB_PATH)"
   ]
  },
  {
   "cell_type": "markdown",
   "metadata": {},
   "source": [
    "## Feature Importances Plots"
   ]
  },
  {
   "cell_type": "markdown",
   "metadata": {},
   "source": [
    "Abaixo listamos as 10 features mais importantes elencadas por diferentes modelos que usamos, após o treinamento destes. Créditos para [**arthurtok**](https://www.kaggle.com/arthurtok/introduction-to-ensembling-stacking-in-python/notebook) no Kaggle."
   ]
  },
  {
   "cell_type": "markdown",
   "metadata": {},
   "source": [
    "### Decision Tress, AdaBoost, Random Forest Classifier e Extra Trees Classifier"
   ]
  },
  {
   "cell_type": "code",
   "execution_count": null,
   "metadata": {},
   "outputs": [],
   "source": [
    "dt   = load_trained_model(ModelsPaths.DT_PATH)\n",
    "ada  = load_trained_model(ModelsPaths.ADA_PATH)\n",
    "rf   = load_trained_model(ModelsPaths.RF_PATH)\n",
    "et   = load_trained_model(ModelsPaths.ET_PATH)\n",
    "\n",
    "models = [(dt, ModelsNames.DT), (ada, ModelsNames.ADA), (rf, ModelsNames.RF), (et, ModelsNames.ET)]\n",
    "\n",
    "for model, model_name in models:\n",
    "    plot_feature_importances(model, model_name)"
   ]
  },
  {
   "cell_type": "markdown",
   "metadata": {},
   "source": [
    "Podemos observar que esses modelos divergem quanto à principal feature que deve ser considerada para que um candidato seja eleito. Entretanto, podemos ver algumas que se repetem e que eles consideram como tendo maior importância:\n",
    "\n",
    "* total receita\n",
    "* ocupação Deputado (candidatos tentando reeleição)\n",
    "* total despesa\n",
    "* recursos obtidos (pessoas jurídicas, pessoas físicas, etc.)\n",
    "\n"
   ]
  },
  {
   "cell_type": "markdown",
   "metadata": {},
   "source": [
    "### Logistic Regression"
   ]
  },
  {
   "cell_type": "code",
   "execution_count": null,
   "metadata": {},
   "outputs": [],
   "source": [
    "lr   = load_trained_model(ModelsPaths.LR_PATH)\n",
    "plot_feature_importances(lr, ModelsNames.LR)"
   ]
  },
  {
   "cell_type": "markdown",
   "metadata": {},
   "source": [
    "### KNR"
   ]
  },
  {
   "cell_type": "code",
   "execution_count": null,
   "metadata": {},
   "outputs": [],
   "source": [
    "knr  = load_trained_model(ModelsPaths.KNR_PATH)\n",
    "svc  = load_trained_model(ModelsPaths.SVC_PATH)\n",
    "lgbm = load_trained_model(ModelsPaths.LGBM_PATH)\n",
    "cat  = load_trained_model(ModelsPaths.CAT_PATH)\n",
    "xgb  = load_trained_model(ModelsPaths.XGB_PATH)"
   ]
  },
  {
   "cell_type": "markdown",
   "metadata": {},
   "source": [
    "# Second Level Training - Stacking"
   ]
  },
  {
   "cell_type": "markdown",
   "metadata": {},
   "source": [
    "#### _**Logistic Regression-based Stacking Classifier**_"
   ]
  },
  {
   "cell_type": "code",
   "execution_count": 75,
   "metadata": {},
   "outputs": [
    {
     "name": "stderr",
     "output_type": "stream",
     "text": [
      "/home/guilherme/anaconda3/envs/ml-mestrado/lib/python3.6/site-packages/sklearn/ensemble/forest.py:248: FutureWarning:\n",
      "\n",
      "The default value of n_estimators will change from 10 in version 0.20 to 100 in 0.22.\n",
      "\n",
      "/home/guilherme/anaconda3/envs/ml-mestrado/lib/python3.6/site-packages/sklearn/ensemble/forest.py:248: FutureWarning:\n",
      "\n",
      "The default value of n_estimators will change from 10 in version 0.20 to 100 in 0.22.\n",
      "\n",
      "/home/guilherme/anaconda3/envs/ml-mestrado/lib/python3.6/site-packages/sklearn/svm/base.py:196: FutureWarning:\n",
      "\n",
      "The default value of gamma will change from 'auto' to 'scale' in version 0.22 to account better for unscaled features. Set gamma explicitly to 'auto' or 'scale' to avoid this warning.\n",
      "\n",
      "/home/guilherme/anaconda3/envs/ml-mestrado/lib/python3.6/site-packages/sklearn/svm/base.py:196: FutureWarning:\n",
      "\n",
      "The default value of gamma will change from 'auto' to 'scale' in version 0.22 to account better for unscaled features. Set gamma explicitly to 'auto' or 'scale' to avoid this warning.\n",
      "\n",
      "/home/guilherme/anaconda3/envs/ml-mestrado/lib/python3.6/site-packages/sklearn/svm/base.py:196: FutureWarning:\n",
      "\n",
      "The default value of gamma will change from 'auto' to 'scale' in version 0.22 to account better for unscaled features. Set gamma explicitly to 'auto' or 'scale' to avoid this warning.\n",
      "\n"
     ]
    },
    {
     "ename": "NameError",
     "evalue": "name 'print_complete_report' is not defined",
     "output_type": "error",
     "traceback": [
      "\u001b[0;31m---------------------------------------------------------------------------\u001b[0m",
      "\u001b[0;31mNameError\u001b[0m                                 Traceback (most recent call last)",
      "\u001b[0;32m<ipython-input-75-503986af23b6>\u001b[0m in \u001b[0;36m<module>\u001b[0;34m()\u001b[0m\n\u001b[1;32m     21\u001b[0m \u001b[0;31m#xg_oof_train, xg_oof_test = get_oof(xg)\u001b[0m\u001b[0;34m\u001b[0m\u001b[0;34m\u001b[0m\u001b[0m\n\u001b[1;32m     22\u001b[0m \u001b[0;34m\u001b[0m\u001b[0m\n\u001b[0;32m---> 23\u001b[0;31m print_complete_report([lr_oof_train, ad_oof_train, et_oof_train, rf_oof_train, df_oof_train, \n\u001b[0m\u001b[1;32m     24\u001b[0m                        kn_oof_train, sv_oof_train, lg_oof_train, cb_oof_train])\n\u001b[1;32m     25\u001b[0m \u001b[0;34m\u001b[0m\u001b[0m\n",
      "\u001b[0;31mNameError\u001b[0m: name 'print_complete_report' is not defined"
     ]
    }
   ],
   "source": [
    "lr = SklearnWrapper_1(clf=LogisticRegression, params=lr_params)\n",
    "ad = SklearnWrapper_1(clf=AdaBoostClassifier, seed=SEED, params=ada_params)\n",
    "et = SklearnWrapper_1(clf=ExtraTreesClassifier, seed=SEED, params=et_params)\n",
    "rf = SklearnWrapper_1(clf=RandomForestClassifier, seed=SEED, params=rf_params)\n",
    "dt = SklearnWrapper_1(clf=DecisionTreeClassifier, seed=SEED, params=dt_params)\n",
    "sv = SklearnWrapper_1(clf=SVC, seed=SEED, params=svc_params)\n",
    "kn = SklearnWrapper_2(clf=KNeighborsClassifier, params=knr_params)\n",
    "lg = LightGBMWrapper(clf = LGBMClassifier, seed = SEED, params = lightgbm_params)\n",
    "cb = CatboostWrapper(clf= CatBoostClassifier, seed = SEED, params=catboost_params)\n",
    "xg = XgbWrapper(clf=XGBClassifier, seed=SEED, params=xgb_params)\n",
    "\n",
    "lr_oof_train, lr_oof_test, lr_oof_train_proba = get_oof(lr)\n",
    "ad_oof_train, ad_oof_test, ad_oof_train_proba = get_oof(ad)\n",
    "et_oof_train, et_oof_test, et_oof_train_proba = get_oof(et)\n",
    "rf_oof_train, rf_oof_test, rf_oof_train_proba = get_oof(rf)\n",
    "dt_oof_train, dt_oof_test, dt_oof_train_proba = get_oof(dt)\n",
    "sv_oof_train, sv_oof_test, sv_oof_train_proba = get_oof(sv)\n",
    "kn_oof_train, kn_oof_test, kn_oof_train_proba = get_oof(kn)\n",
    "lg_oof_train, lg_oof_test, lg_oof_train_proba = get_oof(lg)\n",
    "cb_oof_train, cb_oof_test, cb_oof_train_proba = get_oof(cb)\n",
    "#xg_oof_train, xg_oof_test, xg_oof_train_proba = get_oof(xg)"
   ]
  },
  {
   "cell_type": "code",
   "execution_count": 167,
   "metadata": {},
   "outputs": [
    {
     "name": "stdout",
     "output_type": "stream",
     "text": [
      "Precision: 0.9053\n",
      "Recall: 0.9636\n",
      "F1: 0.9335\n",
      "Accuracy: 0.9314\n",
      "Roc_auc: 0.9314\n",
      "----------------------\n",
      "Precision: 0.8724\n",
      "Recall: 0.9648\n",
      "F1: 0.9163\n",
      "Accuracy: 0.9118\n",
      "Roc_auc: 0.9118\n",
      "----------------------\n",
      "Precision: 0.9428\n",
      "Recall: 0.9838\n",
      "F1: 0.9628\n",
      "Accuracy: 0.962\n",
      "Roc_auc: 0.962\n",
      "----------------------\n",
      "Precision: 0.9321\n",
      "Recall: 0.9651\n",
      "F1: 0.9483\n",
      "Accuracy: 0.9474\n",
      "Roc_auc: 0.9474\n",
      "----------------------\n",
      "Precision: 0.9296\n",
      "Recall: 0.9384\n",
      "F1: 0.934\n",
      "Accuracy: 0.9337\n",
      "Roc_auc: 0.9337\n",
      "----------------------\n",
      "Precision: 0.8779\n",
      "Recall: 0.9974\n",
      "F1: 0.9339\n",
      "Accuracy: 0.9294\n",
      "Roc_auc: 0.9294\n",
      "----------------------\n",
      "Precision: 0.8959\n",
      "Recall: 0.9695\n",
      "F1: 0.9313\n",
      "Accuracy: 0.9284\n",
      "Roc_auc: 0.9284\n",
      "----------------------\n",
      "Precision: 0.9451\n",
      "Recall: 0.97\n",
      "F1: 0.9574\n",
      "Accuracy: 0.9568\n",
      "Roc_auc: 0.9568\n",
      "----------------------\n",
      "Precision: 0.9427\n",
      "Recall: 0.9604\n",
      "F1: 0.9515\n",
      "Accuracy: 0.951\n",
      "Roc_auc: 0.951\n",
      "----------------------\n"
     ]
    }
   ],
   "source": [
    "def print_complete_report(*args):\n",
    "    for model_train_result in args:        \n",
    "        print(\"Precision: {:.4}\".format(precision_score(y_train, model_train_result)))\n",
    "        print(\"Recall: {:.4}\".format(recall_score(y_train, model_train_result)))\n",
    "        print(\"F1: {:.4}\".format(f1_score(y_train, model_train_result)))\n",
    "        print(\"Accuracy: {:.4}\".format(accuracy_score(y_train, model_train_result)))\n",
    "        #print(\"AUC: {:.4}\".format(auc(y_train, train_result)))\n",
    "        print(\"Roc_auc: {:.4}\".format(roc_auc_score(y_train, model_train_result)))\n",
    "        print(\"----------------------\")\n",
    "\n",
    "print_complete_report(lr_oof_train, ad_oof_train, et_oof_train, rf_oof_train, dt_oof_train, kn_oof_train, sv_oof_train, lg_oof_train, cb_oof_train)"
   ]
  },
  {
   "cell_type": "code",
   "execution_count": 195,
   "metadata": {},
   "outputs": [],
   "source": [
    "def print_report(y_true, y_pred):\n",
    "    print(\"Precision: {:.4}\".format(precision_score(y_true, y_pred)))\n",
    "    print(\"Recall: {:.4}\".format(recall_score(y_true, y_pred)))\n",
    "    print(\"F1: {:.4}\".format(f1_score(y_true, y_pred)))\n",
    "    print(\"Accuracy: {:.4}\".format(accuracy_score(y_true, y_pred)))\n",
    "    print(\"Roc_auc: {:.4}\".format(roc_auc_score(y_true, y_pred)))"
   ]
  },
  {
   "cell_type": "code",
   "execution_count": 199,
   "metadata": {},
   "outputs": [
    {
     "name": "stdout",
     "output_type": "stream",
     "text": [
      "(13192, 9),(4592, 9)\n",
      "\n",
      "Avaliação dados de treino: \n",
      "Precision: 0.9594\n",
      "Recall: 0.981\n",
      "F1: 0.9701\n",
      "Accuracy: 0.9698\n",
      "Roc_auc: 0.9698\n"
     ]
    }
   ],
   "source": [
    "x_train = np.concatenate((lr_oof_train_proba, ad_oof_train_proba, et_oof_train_proba, rf_oof_train_proba, dt_oof_train_proba,\n",
    "                          kn_oof_train_proba, sv_oof_train_proba, lg_oof_train_proba, cb_oof_train_proba), axis=1)\n",
    "x_test = np.concatenate((lr_oof_test, ad_oof_test, et_oof_test, rf_oof_test, dt_oof_test,\n",
    "                         kn_oof_test, sv_oof_test, lg_oof_test, cb_oof_test), axis=1)\n",
    "\n",
    "print(\"{},{}\".format(x_train.shape, x_test.shape))\n",
    "\n",
    "logistic_regression = LogisticRegression(solver='liblinear')\n",
    "logistic_regression.fit(x_train,y_train)\n",
    "\n",
    "print(\"\\nAvaliação dados de treino: \")\n",
    "print_report(y_true=y_train, y_pred=logistic_regression.predict(x_train))\n",
    "\n",
    "stack_df = pd.DataFrame(X_test)\n",
    "pred = logistic_regression.predict(x_test)\n",
    "stack_df['Predicted'] = pred\n",
    "\n",
    "stack_df.rename(index=str, columns={'sequencial_candidato': 'Id'}, inplace=True)\n",
    "#stack_df.reset_index(level=0, inplace=True)\n",
    "stack_df.replace({'Predicted': {0: 'nao_eleito', 1: 'eleito'}}, inplace=True)\n",
    "\n",
    "stack_df[['Id', 'Predicted']].to_csv('../data/assignment_4/first_submission.csv', index=False)\n",
    "#stack_df.head()"
   ]
  },
  {
   "cell_type": "code",
   "execution_count": null,
   "metadata": {},
   "outputs": [],
   "source": [
    "origin_models = ['knr','lr','dt','ada','rf','svc','et','lgbm','cat','xgb']\n",
    "\n",
    "stack_df = pd.DataFrame(columns=origin_models + ['oracle'])\n",
    "\n",
    "stack_df['knr'] = knr.predict_proba(X_test)[:,1]\n",
    "stack_df['lr'] = lr.predict_proba(X_test)[:,1]\n",
    "stack_df['dt'] = dt.predict_proba(X_test)[:,1]\n",
    "stack_df['ada'] = ada.predict_proba(X_test)[:,1]\n",
    "stack_df['rf'] = rf.predict_proba(X_test)[:,1]\n",
    "stack_df['svc'] = svc.predict_proba(X_test)[:,1]\n",
    "stack_df['et'] = et.predict_proba(X_test)[:,1]\n",
    "stack_df['lgbm'] = lgbm.predict_proba(X_test)[:,1]\n",
    "stack_df['cat'] = cat.predict_proba(X_test)[:,1]\n",
    "stack_df['xgb'] = xgb.predict_proba(X_test)[:,1]\n",
    "stack_df['oracle'] = y_test\n",
    "\n",
    "stack_df.head()"
   ]
  },
  {
   "cell_type": "markdown",
   "metadata": {},
   "source": [
    "Previouslly:\n",
    "\n",
    "* Precision: 0.9481\n",
    "* Recall: 0.9884\n",
    "* F1: 0.9679\n",
    "* Accuracy: 0.9678\n",
    "* Roc_auc: 0.9682\n",
    "\n",
    "After add XGBoostClassifier:\n",
    "\n",
    "* Precision: 0.9658\n",
    "* Recall: 0.9807\n",
    "* F1: 0.9732\n",
    "* Accuracy: 0.9735\n",
    "* Roc_auc: 0.9736"
   ]
  },
  {
   "cell_type": "code",
   "execution_count": null,
   "metadata": {},
   "outputs": [],
   "source": [
    "x__train, x__test, y__train, y__test = train_test_split(stack_df[origin_models], stack_df.oracle, test_size=0.2, random_state=42)\n",
    "\n",
    "stack_lr = LogisticRegression(solver='liblinear').fit(x__train, y__train)\n",
    "pred = stack_lr.predict(x__test)\n",
    "\n",
    "print('Precision: {:.4}'.format(precision_score(y__test, pred)))\n",
    "print('Recall: {:.4}'.format(recall_score(y__test, pred)))\n",
    "print('F1: {:.4}'.format(f1_score(y__test, pred)))\n",
    "print('Accuracy: {:.4}'.format(accuracy_score(y__test, pred)))\n",
    "print('Roc_auc: {:.4}'.format(roc_auc_score(y__test, pred)))"
   ]
  },
  {
   "cell_type": "markdown",
   "metadata": {},
   "source": [
    "### Create Submission File"
   ]
  },
  {
   "cell_type": "code",
   "execution_count": null,
   "metadata": {},
   "outputs": [],
   "source": [
    "X_test.shape, y_test.shape"
   ]
  },
  {
   "cell_type": "code",
   "execution_count": null,
   "metadata": {},
   "outputs": [],
   "source": [
    "stack_df.shape"
   ]
  },
  {
   "cell_type": "code",
   "execution_count": null,
   "metadata": {},
   "outputs": [],
   "source": [
    "sub_df = pd.read_csv('assignment4-data/sample_submission.csv')\n",
    "sub_df[\"target\"] = 0.71044189 * predictions_lgb + 0.36912984 * predictions_xgb\n",
    "sub_df.to_csv(\"assignment4-data/submission_ensemble.csv\", index=False)"
   ]
  },
  {
   "cell_type": "markdown",
   "metadata": {},
   "source": [
    "## EXTRA - Usando Pipelines e GridSearch do Scikit Learn\n",
    "\n",
    "Abaixo nós fazemos alguns pipelines e grid searches com os mesmos algoritmos usados acima com o intuito de checar se os valores obtidos são correspondentes."
   ]
  },
  {
   "cell_type": "raw",
   "metadata": {},
   "source": [
    "from sklearn.pipeline import Pipeline\n",
    "from sklearn.model_selection import GridSearchCV\n",
    "from sklearn.metrics import make_scorer\n",
    "\n",
    "def rmse_function(y_pred, y_true):\n",
    "    return np.sqrt(mean_squared_error(y_true=y_true, y_pred=y_pred))\n",
    "\n",
    "scorer = make_scorer(rmse_function, greater_is_better=False)\n",
    "\n",
    "# Construct some pipelines\n",
    "pipe_lr = Pipeline([('reg', LinearRegression())])\n",
    "pipe_rf = Pipeline([('reg', RandomForestRegressor())])\n",
    "pipe_lasso = Pipeline([('reg', LassoCV())])\n",
    "pipe_ridge = Pipeline([('reg', RidgeCV())])\n",
    "pipe_knn = Pipeline([('reg', KNeighborsRegressor())])\n",
    "pipe_dt = Pipeline([('reg', DecisionTreeRegressor())])\n",
    "pipe_svr = Pipeline([('reg', SVR())])\n",
    "\n",
    "\n",
    "param_range = [1, 2, 3, 4, 5, 6, 7, 8, 9, 10]\n",
    "\n",
    "grid_params_lr = [{}] \n",
    "\n",
    "grid_params_lasso = [{'reg__alphas' : [[5e-1, 1e-1, 5e-2, 1e-3, 1e-4, 1e-5, 1e-6]],\n",
    "                      'reg__max_iter' : [1e5],\n",
    "                      'reg__random_state' : [2]}]\n",
    "\n",
    "grid_params_ridge = [{'reg__alphas' : [[0.05, 0.1, 0.3, 1, 3, 5, 10, 15, 30, 50, 75]]}]\n",
    "\n",
    "grid_params_rf = [{}]\n",
    "\n",
    "grid_params_knn = [{'reg__n_neighbors' : [1, 3, 5, 7, 10, 15, 18, 21]}]\n",
    "\n",
    "grid_params_dt = [{'reg__random_state' : [2],\n",
    "                   'reg__max_depth' : [5, 10, 50]}]\n",
    "\n",
    "grid_params_svr = [{'reg__C': [1e0, 1e1, 1e2, 1e3]}]\n",
    "\n",
    "# Construct grid searches\n",
    "jobs = -1\n",
    "\n",
    "gs_lr = GridSearchCV(estimator = pipe_lr,\n",
    "                param_grid = grid_params_lr,\n",
    "                scoring = scorer,\n",
    "                cv = 5) \n",
    "\n",
    "gs_rf = GridSearchCV(estimator = pipe_rf,\n",
    "                param_grid = grid_params_rf,\n",
    "                scoring = scorer,\n",
    "                cv = 5, \n",
    "                n_jobs = jobs)\n",
    "\n",
    "gs_lasso = GridSearchCV(estimator = pipe_lasso,\n",
    "                       param_grid = grid_params_lasso,\n",
    "                       scoring = scorer,\n",
    "                       cv = 5,\n",
    "                       n_jobs = jobs)\n",
    "\n",
    "gs_ridge = GridSearchCV(estimator = pipe_ridge,\n",
    "                       param_grid = grid_params_ridge,\n",
    "                       scoring = scorer,\n",
    "                       cv = 5,\n",
    "                       n_jobs = jobs)\n",
    "\n",
    "gs_knn = GridSearchCV(estimator = pipe_knn,\n",
    "                     param_grid = grid_params_knn,\n",
    "                     scoring = scorer,\n",
    "                     cv = 5,\n",
    "                     n_jobs = jobs)\n",
    "\n",
    "gs_dt = GridSearchCV(estimator = pipe_dt,\n",
    "                    param_grid = grid_params_dt,\n",
    "                    scoring = scorer,\n",
    "                    cv = 5,\n",
    "                    n_jobs = jobs)\n",
    "\n",
    "gs_svr = GridSearchCV(estimator = pipe_svr,\n",
    "                     param_grid = grid_params_svr,\n",
    "                     scoring = scorer,\n",
    "                     cv = 5,\n",
    "                     n_jobs = jobs)\n",
    "\n",
    "# List of pipelines for ease of iteration\n",
    "grids = [gs_lr, gs_rf, gs_ridge, gs_lasso, gs_knn, gs_dt, gs_svr]\n",
    "\n",
    "# Dictionary of pipelines and classifier types for ease of reference\n",
    "grid_dict = {0: 'Linear Regressor', 1: 'Random Forest Regressor', \n",
    "            2: 'Ridge Regressor', 3: 'Lasso Regressor', \n",
    "            4: 'KNN Regressor', 5: 'Decision Tree Regressor',\n",
    "            6: 'SVR Regressor'}\n",
    "\n",
    "\n",
    "# Fit the grid search objects\n",
    "print('Performing model optimizations...')\n",
    "best_rmse = float(\"inf\")\n",
    "best_reg = 0\n",
    "best_gs = ''\n",
    "for idx, gs in enumerate(grids):\n",
    "    print('\\nEstimator: %s' % grid_dict[idx])\n",
    "    # Fit grid search\n",
    "    gs.fit(X_train, y_train)\n",
    "\n",
    "    # Best params\n",
    "    print('Best params: %s' % gs.best_params_)\n",
    "    \n",
    "    # Best training data accuracy\n",
    "    print('Best RMSE for training set: %.10f' % -gs.best_score_)\n",
    "    \n",
    "    # Predict on test data with best params\n",
    "    y_pred = gs.predict(X_test)\n",
    "    \n",
    "    rmse = np.sqrt(mean_squared_error(y_true=y_test, y_pred=y_pred))\n",
    "    \n",
    "    # Validation data accuracy of model with best params\n",
    "    print('Test set RMSE for best params: %.10f ' % rmse)\n",
    "    \n",
    "    # Track best (smallest rmse) model\n",
    "    if best_rmse > rmse:\n",
    "        best_rmse = rmse\n",
    "        best_gs = gs\n",
    "        best_reg = idx\n",
    "        \n",
    "print('\\nRegressor with best test set RMSE: ** %s **' % grid_dict[best_reg])"
   ]
  },
  {
   "cell_type": "markdown",
   "metadata": {},
   "source": [
    "### Conclusão\n",
    "\n",
    "Como se observa acima, o melhor modelo encontrado foi o modelo **Lasso Regressor** em termos de RMSE, com o modelo **Ridge Regressor** bem próximo dele em termos de RMSE.\n",
    "\n",
    "Entretanto os valores de RMSE são distintos dos valores encontrados acima. Isso pode se dever ao ajuste dos parâmetros dos modelos, feitos durante a própria busca, e/ou por alguma diferença na função de scoring, que talvez tenha passado despercebida pela nossa análise."
   ]
  }
 ],
 "metadata": {
  "kernelspec": {
   "display_name": "Python 3",
   "language": "python",
   "name": "python3"
  },
  "language_info": {
   "codemirror_mode": {
    "name": "ipython",
    "version": 3
   },
   "file_extension": ".py",
   "mimetype": "text/x-python",
   "name": "python",
   "nbconvert_exporter": "python",
   "pygments_lexer": "ipython3",
   "version": "3.6.6"
  }
 },
 "nbformat": 4,
 "nbformat_minor": 2
}
