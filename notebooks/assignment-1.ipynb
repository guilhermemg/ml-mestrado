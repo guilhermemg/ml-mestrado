{
 "cells": [
  {
   "cell_type": "markdown",
   "metadata": {},
   "source": [
    "# Descrição\n",
    "\n",
    "Nessa tarefa você vai programar regressão linear simples do zero em python. Para isso, você vai assistir o seguinte vídeo no [youtube](https://www.youtube.com/watch?v=XdM6ER7zTLk) e seguir o passo a passo da implementação. Embora o código esteja disponível no [github](https://github.com/llSourcell/linear_regression_live) do autor. \n",
    "\n",
    "É importante que você digite o código enquanto assiste. Vários estudos já mostraram que aprendemos melhor dessa forma do que somente assistindo. Teste o programa nos dados também fornecidos no github do autor.\n",
    "\n",
    "Feito isso,  a sua tarefa agora é a seguinte:\n",
    "\n",
    "1. Rode o mesmo programa nos dados contendo anos de escolaridade (primeira coluna) versus salário (segunda coluna). Baixe os dados no link: [income.csv](https://canvas.instructure.com/courses/1389733/files/68104717/download?verifier=u1l8XB5LcZ51C1MtFrBKJJ9sSPz3f3AOo56Nfk2J&wrap=1). Esse exemplo foi trabalhado em sala de aula. \n",
    "2. Modifique o código original para imprimir o RSS a cada iteração do gradiente descendente.\n",
    "3. O que acontece com o RSS ao longo das iterações (aumenta ou diminui) se você usar 1000 iterações? Plote o RSS vs número de iterações.\n",
    "4. Teste valores diferentes do número de iterações e learning_rate até que w0 e w1 sejam aproximadamente iguais a -39 e 5 respectivamente. Reporte os valores do número de iterações e learning_rate usados para atingir esses valores.\n",
    "5. O algoritmo do vídeo usa o número de iterações como critério de parada. Mude o algoritmo para considerar um critério de parada que é relacionado ao tamanho do gradiente (como no algoritmo apresentado em sala). Plote o tamanho do gradiente vs número de iterações.\n",
    "6. Ache um valor de tolerância que se aproxime dos valores dos parâmetros do item 4 acima. Que valor foi esse?\n",
    "7. Implemente a forma fechada (equações normais) de calcular os coeficientes de regressão (vide algoritmo nos slides). Compare o tempo de processamento com o gradiente descendente considerando sua solução do item 6."
   ]
  },
  {
   "cell_type": "markdown",
   "metadata": {},
   "source": [
    "## Item 1"
   ]
  },
  {
   "cell_type": "code",
   "execution_count": 1,
   "metadata": {},
   "outputs": [
    {
     "ename": "IndentationError",
     "evalue": "expected an indented block (<ipython-input-1-000763dceb8b>, line 6)",
     "output_type": "error",
     "traceback": [
      "\u001b[0;36m  File \u001b[0;32m\"<ipython-input-1-000763dceb8b>\"\u001b[0;36m, line \u001b[0;32m6\u001b[0m\n\u001b[0;31m    def gradient_descent_runner(incomes, starting_b, starting_m, lr, num_iter):\u001b[0m\n\u001b[0m      ^\u001b[0m\n\u001b[0;31mIndentationError\u001b[0m\u001b[0;31m:\u001b[0m expected an indented block\n"
     ]
    }
   ],
   "source": [
    "import numpy as np\n",
    "import pandas as pd\n",
    "\n",
    "\n",
    "def compute_error_for_given_incomes(b, m, incomes):\n",
    "    totalError = 0\n",
    "    for i in range(0, len(incomes)):\n",
    "        x = incomes[i,0]\n",
    "        y = incomes[i,1]\n",
    "        totalError += (y - (m * x + b)) ** 2\n",
    "    return totalError / float(len(incomes))\n",
    "\n",
    "\n",
    "def step_gradient(b_current, m_current, incomes, lr):\n",
    "    # gradient descent\n",
    "    b_gradient = 0\n",
    "    m_gradient = 0\n",
    "    \n",
    "\n",
    "def gradient_descent_runner(incomes, starting_b, starting_m, lr, num_iter):\n",
    "    b = starting_b\n",
    "    m = starting_m\n",
    "    \n",
    "    for i in range(num_iter):\n",
    "        b, m = step_gradient(b,m, array(incomes), lr)\n",
    "    \n",
    "    return [b,m]\n",
    "\n",
    "def run():\n",
    "    incomes = pd.read_csv('../data/income.csv')\n",
    "    lr = 1e-4\n",
    "    # y = mx + b\n",
    "    initial_b = 0\n",
    "    initial_m = 0\n",
    "    num_iter = 1000\n",
    "    [b,m] = gradient_descent_runner(incomes, initial_b, initial_m, lr, num_iter)\n",
    "    print(b)\n",
    "    print(m)\n",
    "    \n",
    "def __name__ == '__main__':\n",
    "    run()\n",
    "    "
   ]
  },
  {
   "cell_type": "code",
   "execution_count": null,
   "metadata": {},
   "outputs": [],
   "source": []
  }
 ],
 "metadata": {
  "kernelspec": {
   "display_name": "Python 3",
   "language": "python",
   "name": "python3"
  },
  "language_info": {
   "codemirror_mode": {
    "name": "ipython",
    "version": 3
   },
   "file_extension": ".py",
   "mimetype": "text/x-python",
   "name": "python",
   "nbconvert_exporter": "python",
   "pygments_lexer": "ipython3",
   "version": "3.6.6"
  }
 },
 "nbformat": 4,
 "nbformat_minor": 2
}
