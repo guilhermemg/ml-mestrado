{
 "cells": [
  {
   "cell_type": "markdown",
   "metadata": {},
   "source": [
    "# Descrição de Atividade\n",
    "\n",
    "Nessa atividade você irá usar seus conhecimentos sobre classificação para prever quais candidatos à Câmara de Deputados foram eleitos nas eleições de 2014. De forma específica:\n",
    "\n",
    " 1. Há desbalanceamento das classes (isto é, uma classe tem muito mais instâncias que outra)? Em que proporção? Quais efeitos colaterais o desbalanceamento de classes pode causar no classificador? Como você poderia tratar isso? (1 pt.)\n",
    " 2. Treine: um modelo de regressão logística, KNN, uma árvore de decisão e um modelo de adaboost. Tune esses modelos usando validação cruzada e controle overfitting se necessário, considerando as particularidades de cada modelo.  (2 pts.)\n",
    "Reporte Precision, Recall e AUC-Precision&Recall no treino e validação. Há uma grande diferença de desempenho no treino/validação? Como você avalia os resultados? Justifique sua resposta. (2 pt.)\n",
    " 3. Interprete as saídas dos modelos. Quais atributos parecem ser mais importantes de acordo com cada modelo?  (2 pts.)\n",
    " 4. Envie seus melhores modelos à competição do Kaggle. Faça pelo menos uma submissão. Sugestões para melhorar o modelo: (2 pts.)\n",
    " 5. Experimente outros modelos (e.g. SVM, RandomForests e GradientBoosting).\n",
    " 6. Experimente outras estratégias de ensembles (e.g. Stacking).\n",
    " 7. Experimente balancear as classes,  caso estejam desbalanceadas.\n",
    "\n",
    "Os dados estão neste link: https://www.kaggle.com/c/ufcg-cdp-20182-lab3/data (Links para um site externo)Links para um site externo\n",
    "\n",
    "Para a entrega envie o link no GitHub com o notebook usado para resolver o Lab.\n",
    "\n",
    "\n",
    "### Descrição dos dados:\n",
    "\n",
    "Os dados utilizados correspondem aos das eleições de Deputado Federal nos anos de 2006, 2010 e 2014. Estão dividos nas seguintes colunas:\n",
    "\n",
    "* **ano**: Ano da eleição;\n",
    "* **sequencial_candidato**: O identificador do candidato. Corresponde à coluna Id do arquivo de submissão;\n",
    "* **nome**: Nome do candidato;\n",
    "* **uf**: Sigla do estado do candidato;\n",
    "* **partido**: Partido do candidato;\n",
    "* **quantidade_doacoes**: Número de doações que um candidato recebeu;\n",
    "* **quantidade_doadores**: Numero de doadores que um candidato teve;\n",
    "* **total_receita**: Total de receita de um candidato;\n",
    "* **media_receita**: Média da receita de um candidato;\n",
    "* **recursos_de_outros_candidatos.comites**: Total de receita proveniente de outros candidatos e comitês;\n",
    "* **recursos_de_pessoas_fisicas**: Total de receita proveniente de pessoas físicas;\n",
    "* **recursos_de_pessoas_juridicas**: Total de receita proveniente de pessoas juridicas;\n",
    "* **recursos_proprios**:Total de receita proveniente dos próprios candidatos;\n",
    "* **recursos_de_partido_politico**: Total de receita proveniente do partido do candidato;\n",
    "* **quantidade_despesas**: Número de despesas que um candidato teve;\n",
    "* **quantidade_fornecedores**: Número de fornecedores que um candidato teve;\n",
    "* **total_despesa**: Total de depesa de um candidato;\n",
    "* **media_despesa**: Média da despesa de um candidato;\n",
    "* **cargo**: Cargo ao qual o candidato está concorrendo;\n",
    "* **sexo**: Sexo do candidato;\n",
    "* **grau**: Grau de escolaridade do candidato;\n",
    "* **estado_civil**: Estado civil do candidato;\n",
    "* **ocupacao**: Ocupação do candidato;\n",
    "* **situacao**: Situação final do candidato. Corresponde à coluna **Predict** do arquivo de submissão;"
   ]
  },
  {
   "cell_type": "markdown",
   "metadata": {},
   "source": [
    "## Import Libraries"
   ]
  },
  {
   "cell_type": "code",
   "execution_count": 25,
   "metadata": {},
   "outputs": [],
   "source": [
    "import pandas as pd\n",
    "import numpy as np\n",
    "import seaborn as sns\n",
    "import matplotlib\n",
    "\n",
    "from sklearn.preprocessing import QuantileTransformer\n",
    "from sklearn.linear_model import LogisticRegressionCV\n",
    "from sklearn.neighbors import KNeighborsRegressor\n",
    "from sklearn.ensemble import RandomForestRegressor\n",
    "from sklearn.svm import SVR\n",
    "from sklearn.pipeline import Pipeline\n",
    "from sklearn.metrics import mean_squared_error\n",
    "\n",
    "import matplotlib.pyplot as plt\n",
    "\n",
    "sns.set(style=\"ticks\")\n",
    "\n",
    "%matplotlib inline"
   ]
  },
  {
   "cell_type": "markdown",
   "metadata": {},
   "source": [
    "## Load Data"
   ]
  },
  {
   "cell_type": "code",
   "execution_count": 26,
   "metadata": {},
   "outputs": [],
   "source": [
    "train_df = pd.read_csv('../data/assignment_4/train.csv')\n",
    "test_df = pd.read_csv('../data/assignment_4/test.csv')\n",
    "\n",
    "data = pd.concat([train_df, test_df], sort=False)\n",
    "\n",
    "data.set_index('sequencial_candidato', inplace=True, drop=True)"
   ]
  },
  {
   "cell_type": "markdown",
   "metadata": {},
   "source": [
    "## Preprocess Data"
   ]
  },
  {
   "cell_type": "code",
   "execution_count": 27,
   "metadata": {},
   "outputs": [],
   "source": [
    "qt = QuantileTransformer(random_state=2, output_distribution='normal')\n",
    "\n",
    "skewed_features = ['quantidade_doacoes', 'quantidade_doadores', 'total_receita',\n",
    "       'media_receita', 'recursos_de_outros_candidatos.comites',\n",
    "       'recursos_de_pessoas_fisicas', 'recursos_de_pessoas_juridicas',\n",
    "       'recursos_proprios', 'recursos_de_partido_politico',\n",
    "       'quantidade_despesas', 'quantidade_fornecedores', 'total_despesa',\n",
    "       'media_despesa']\n",
    "\n",
    "data[skewed_features] = qt.fit_transform(X=data[skewed_features])"
   ]
  },
  {
   "cell_type": "code",
   "execution_count": 28,
   "metadata": {},
   "outputs": [],
   "source": [
    "cleanup_nums = {\"grau\" : {\"LÊ E ESCREVE\": 1, \n",
    "                       \"ENSINO FUNDAMENTAL INCOMPLETO\":2, \n",
    "                       \"ENSINO FUNDAMENTAL COMPLETO\":3, \n",
    "                       \"ENSINO MÉDIO INCOMPLETO\":4,\n",
    "                       \"ENSINO MÉDIO COMPLETO\":5,\n",
    "                       \"SUPERIOR INCOMPLETO\":6,\n",
    "                       \"SUPERIOR COMPLETO\": 7}}\n",
    "\n",
    "data.replace(cleanup_nums, inplace=True)\n",
    "data[\"grau\"] = pd.to_numeric(data[\"grau\"])"
   ]
  },
  {
   "cell_type": "code",
   "execution_count": 29,
   "metadata": {},
   "outputs": [
    {
     "data": {
      "text/plain": [
       "(12214, 259)"
      ]
     },
     "execution_count": 29,
     "metadata": {},
     "output_type": "execute_result"
    }
   ],
   "source": [
    "categorical_feats = [col for col in data.columns if not np.issubdtype(data[str(col)].dtype, np.number) and col not in ['nome', 'situacao']]\n",
    "\n",
    "data = pd.get_dummies(data, columns=categorical_feats)\n",
    "data.shape"
   ]
  },
  {
   "cell_type": "markdown",
   "metadata": {},
   "source": [
    "## Split Data into Train and Test"
   ]
  },
  {
   "cell_type": "code",
   "execution_count": 34,
   "metadata": {},
   "outputs": [
    {
     "name": "stdout",
     "output_type": "stream",
     "text": [
      "(7622, 259)\n",
      "(4592, 259)\n"
     ]
    }
   ],
   "source": [
    "train = data[(data.ano == 2006) | (data.ano == 2010)]\n",
    "test = data[data.ano == 2014]\n",
    "\n",
    "print(train.shape)\n",
    "print(test.shape)"
   ]
  },
  {
   "cell_type": "markdown",
   "metadata": {},
   "source": [
    "## Target Class Unbalancing"
   ]
  },
  {
   "cell_type": "code",
   "execution_count": 35,
   "metadata": {},
   "outputs": [
    {
     "data": {
      "text/plain": [
       "<matplotlib.axes._subplots.AxesSubplot at 0x7f1aaa96c6d8>"
      ]
     },
     "execution_count": 35,
     "metadata": {},
     "output_type": "execute_result"
    },
    {
     "data": {
      "image/png": "[encoded data removed]",
      "text/plain": [
       "<Figure size 432x288 with 1 Axes>"
      ]
     },
     "metadata": {},
     "output_type": "display_data"
    }
   ],
   "source": [
    "sns.countplot(x='situacao', data=train)"
   ]
  },
  {
   "cell_type": "code",
   "execution_count": 37,
   "metadata": {},
   "outputs": [
    {
     "name": "stdout",
     "output_type": "stream",
     "text": [
      "Número de candidatos Eleitos: 1026\n",
      "Número de candidatos Não-Eleitos: 6596\n",
      "Total de candidatos: 7622\n",
      "\n",
      "Proporção de candidatos eleitos: 13.46%\n",
      "Proporção de candidatos não-eleitos: 86.54%\n"
     ]
    }
   ],
   "source": [
    "num_elected_candidates = train.situacao[train.situacao == 'eleito'].count()\n",
    "num_not_elected_candidates = train.situacao[train.situacao == 'nao_eleito'].count()\n",
    "total_candidates = train.shape[0]\n",
    "\n",
    "print(\"Número de candidatos Eleitos: {}\".format(num_elected_candidates))\n",
    "print(\"Número de candidatos Não-Eleitos: {}\".format(num_not_elected_candidates))\n",
    "print(\"Total de candidatos: {}\\n\".format(total_candidates))\n",
    "\n",
    "print(\"Proporção de candidatos eleitos: {:2.2%}\".format((num_elected_candidates/total_candidates)))\n",
    "print(\"Proporção de candidatos não-eleitos: {:2.2%}\".format((num_not_elected_candidates/total_candidates)))"
   ]
  },
  {
   "cell_type": "markdown",
   "metadata": {},
   "source": [
    "A variável alvo **situacao** é bastante _desbalanceada_, em uma proporção de aproximadamente 1 eleito para cada 6 não-eleitos. Precisamente 13.46% dos candidatos foram eleitos, enquanto 86.54% não foram eleitos.\n",
    "\n",
    "Esse desbalanceamento pode causar alguns efeitos colaterais na classificação feita pelo modelo preditor, tais como overfitting do modelo em relação à classe majoritária, o que prejudica a acurácia da predição, podendo causar até mesmo a interpretação incorreta dos resultados se o desbalanceamento não for endereçado corretamente.\n",
    "\n",
    "Existem algumas práticas que podemos adotar para corrigir e lidar com esse desbalanceamento, a saber:\n",
    "\n",
    "* Coleta de mais dados, que poderia rebalancear as classes, a depender da natureza do problema;\n",
    "* Mudar a forma de amostragem do dataset, a qual pode estar gerando uma amostra desbalanceada, contudo o dataset não está desbalanceado;\n",
    "* Usar alguma forma de gerar dados sintéticos como Synthetic Minority Over-sampling Technique [SMOTE](https://imbalanced-learn.org/en/stable/over_sampling.html#cbhk2002) e Adaptive Synthetic [ADASYN](https://imbalanced-learn.org/en/stable/over_sampling.html#hbgl2008);\n",
    "* Incorporar algum modelo que tem uma forma de penalização para compensar o desbalanceamento de classes a exemplo de penalized-LDA e penalized-SVM;"
   ]
  },
  {
   "cell_type": "markdown",
   "metadata": {},
   "source": [
    "## Modelos - Versão 1\n",
    "\n",
    "Nesta versão, utilizamos como dados de treino, os dados da eleição de 2006, e como dados de teste, os dados da eleição de 2010. Em um segundo momento, utilizaremos os dados da eleição de 2014 como dados de teste."
   ]
  },
  {
   "cell_type": "code",
   "execution_count": null,
   "metadata": {},
   "outputs": [],
   "source": [
    "candidates_train = candidates_df[candidates_df.ano == 2006]\n",
    "candidates_val = candidates_df[candidates_df.ano == 2010]\n",
    "\n",
    "feats = candidates_df.columns[candidates_df.columns != 'votos']\n",
    "\n",
    "X_train = candidates_train[feats]\n",
    "y_train = candidates_train['votos']\n",
    "\n",
    "X_val = candidates_val[feats]\n",
    "y_val = candidates_val['votos']"
   ]
  },
  {
   "cell_type": "markdown",
   "metadata": {},
   "source": [
    "### Validação Cruzada\n",
    "\n",
    "Abaixo definimos uma adaptação de uma função criada por Alexandru Papiu em [Regularized Linear Models](https://www.kaggle.com/apapiu/regularized-linear-models), que nos retorna a média dos RMSE's de um dado modelo para uma cross-validation no dataset de treino e um k-fold com k = 5."
   ]
  },
  {
   "cell_type": "code",
   "execution_count": null,
   "metadata": {},
   "outputs": [],
   "source": [
    "def mean_rmse_cv(model):\n",
    "    return np.sqrt(-cross_val_score(model, X_train, y_train, scoring=\"neg_mean_squared_error\", cv = 5)).mean()"
   ]
  },
  {
   "cell_type": "markdown",
   "metadata": {},
   "source": [
    "### Sem Regularização\n"
   ]
  },
  {
   "cell_type": "code",
   "execution_count": null,
   "metadata": {},
   "outputs": [],
   "source": [
    "lr = LinearRegression().fit(X_train, y_train)\n",
    "predictions = lr.predict(X_val)\n",
    "\n",
    "print(\"RMSE Linear Regressor - Train - Cross-Validated: {:2.3}\".format(mean_rmse_cv(lr)))\n",
    "print(\"RMSE Linear Regressor - Validation: {:2.3}\".format(np.sqrt(mean_squared_error(y_pred=predictions, y_true=y_val))))"
   ]
  },
  {
   "cell_type": "markdown",
   "metadata": {},
   "source": [
    "Como podemos observar, os valores de RMSE para um modelo linear multivariado sem regularização tem um erro bastante elevado. Isso provavelmente se deve ao fato de está acontecendo overfitting. Uma simples olhada na ordem dos coeficientes do modelo nos permite observar isso. Caso os coeficientes sejam muito grandes, temos overfitting."
   ]
  },
  {
   "cell_type": "code",
   "execution_count": null,
   "metadata": {},
   "outputs": [],
   "source": [
    "coefs = lr.coef_\n",
    "ax = sns.distplot(coefs, kde=False)\n",
    "ax.set(xlabel='Valores dos Coeficientes', ylabel='Quantidade de Coeficientes')\n",
    "plt.show()"
   ]
  },
  {
   "cell_type": "markdown",
   "metadata": {},
   "source": [
    "##### **Plot Resíduos vs Predições - Linear Regressor**\n",
    "\n",
    "Abaixo nós plotamos o gráfico de resíduos vs predições. Ele nos possibilita visualizar o quão eficiente nosso modelo é para capturar a variância de nossos dados e representá-los de maneira adequada. O mais próximo que os valores de resíduos estiverem da linha demarcada (0), melhor será o nosso modelo."
   ]
  },
  {
   "cell_type": "code",
   "execution_count": null,
   "metadata": {},
   "outputs": [],
   "source": [
    "sns.residplot(y_val, predictions)"
   ]
  },
  {
   "cell_type": "markdown",
   "metadata": {},
   "source": [
    "Como vemos, nosso modelo feito com um Linear Regressor sem regularização não é um bom preditor: nós não observamos padrões visuais surgindo na distribuição dos resíduos, o que é um mal indício de adequabilidade do modelo, existem características que não estão sendo corretamente capturadas. E também os pontos estão concentrados aleatoriamente ao redor da linha nula (0)."
   ]
  },
  {
   "cell_type": "markdown",
   "metadata": {},
   "source": [
    "### Com Regularização"
   ]
  },
  {
   "cell_type": "markdown",
   "metadata": {},
   "source": [
    "#### **_Ridge_**"
   ]
  },
  {
   "cell_type": "code",
   "execution_count": null,
   "metadata": {},
   "outputs": [],
   "source": [
    "alphas = [0.05, 0.1, 0.3, 1, 3, 5, 10, 15, 30, 50, 75]\n",
    "\n",
    "ridge_train_rmses = []\n",
    "for alpha in alphas:\n",
    "    ridge = Ridge(alpha=alpha).fit(X_train, y_train)\n",
    "    ridge_train_rmses.append(mean_rmse_cv(ridge))\n",
    "\n",
    "cv_ridge_train = pd.Series(ridge_train_rmses, index = alphas)\n",
    "\n",
    "cv_ridge_train.plot(title = \"Training Data\")\n",
    "plt.xlabel(\"alpha\")\n",
    "plt.ylabel(\"rmse\")"
   ]
  },
  {
   "cell_type": "markdown",
   "metadata": {},
   "source": [
    "O valor de **alpha** associado com o menor RMSE é **10**. Então vamos utilizar esse valor para configurar nosso modelo de regressão linear Ridge, o qual utiliza normalização **l2**. O valor de RMSE encontrado para alpha = 10 é em torno de 1.02."
   ]
  },
  {
   "cell_type": "code",
   "execution_count": null,
   "metadata": {},
   "outputs": [],
   "source": [
    "cv_ridge_train.min()"
   ]
  },
  {
   "cell_type": "code",
   "execution_count": null,
   "metadata": {},
   "outputs": [],
   "source": [
    "ridge = Ridge(alpha = 10).fit(X_train, y_train)\n",
    "predictions = ridge.predict(X_val)\n",
    "print(\"RMSE Ridge Regressor - Train - Cross-Validated: {:2.7}\".format(mean_rmse_cv(ridge)))\n",
    "print(\"RMSE Ridge Regressor - Validation: {:2.7}\".format(np.sqrt(mean_squared_error(y_true=y_val, y_pred=predictions))))"
   ]
  },
  {
   "cell_type": "markdown",
   "metadata": {},
   "source": [
    "##### **Plot Resíduos vs Predições - Ridge**\n",
    "\n",
    "Abaixo nós plotamos o gráfico de resíduos vs predições. Ele nos possibilita visualizar o quão eficiente nosso modelo é para capturar a variância de nossos dados e representá-los de maneira adequada. O mais próximo que os valores de resíduos estiverem da linha demarcada (0), melhor será o nosso modelo."
   ]
  },
  {
   "cell_type": "code",
   "execution_count": null,
   "metadata": {},
   "outputs": [],
   "source": [
    "sns.residplot(y_val, predictions)"
   ]
  },
  {
   "cell_type": "markdown",
   "metadata": {},
   "source": [
    "Como vemos, nosso modelo Ridge é um regressor razoável: nós não observamos nenhum padrão visual na distribuição dos resíduos, o que é um bom indício de adequabilidade do modelo. E também os pontos estão concentrados próximos a linha nula (0)."
   ]
  },
  {
   "cell_type": "markdown",
   "metadata": {},
   "source": [
    "#### **_Lasso_**"
   ]
  },
  {
   "cell_type": "code",
   "execution_count": null,
   "metadata": {},
   "outputs": [],
   "source": [
    "model_lasso = LassoCV(alphas = [1, 5e-1, 1e-1, 5e-2, 1e-3, 1e-4, 1e-5, 1e-6], max_iter=1e5).fit(X_train, y_train)\n",
    "predictions = model_lasso.predict(X_val)\n",
    "print(\"RMSE Lasso Regressor - Train - Cross-Validated: {:2.7}\".format(mean_rmse_cv(model_lasso)))\n",
    "print(\"RMSE Lasso Regressor - Validation: {:2.7}\".format(np.sqrt(mean_squared_error(y_true=y_val, y_pred=predictions))))"
   ]
  },
  {
   "cell_type": "markdown",
   "metadata": {},
   "source": [
    "O modelo Ridge se sai um pouco melhor que o modelo Lasso. Complementando a análise, podemos identificar quais variáveis foram consideradas ou eliminadas pelo modelo de regressão Lasso."
   ]
  },
  {
   "cell_type": "code",
   "execution_count": null,
   "metadata": {},
   "outputs": [],
   "source": [
    "coef = pd.Series(model_lasso.coef_, index = X_train.columns)\n",
    "\n",
    "print(\"Lasso picked \" + str(sum(coef != 0)) + \" variables and eliminated the other \" +  str(sum(coef == 0)) + \" variables\")"
   ]
  },
  {
   "cell_type": "code",
   "execution_count": null,
   "metadata": {},
   "outputs": [],
   "source": [
    "imp_coef = pd.concat([coef.sort_values().head(10), coef.sort_values().tail(10)])\n",
    "\n",
    "matplotlib.rcParams['figure.figsize'] = (15.0, 10.0)\n",
    "imp_coef.plot(kind = \"barh\")\n",
    "plt.title(\"Coefficients in the Lasso Model\")"
   ]
  },
  {
   "cell_type": "markdown",
   "metadata": {},
   "source": [
    "##### **Plot Resíduos vs Predições - Lasso**\n",
    "\n",
    "Abaixo nós plotamos o gráfico de resíduos vs predições. Ele nos possibilita visualizar o quão eficiente nosso modelo é para capturar a variância de nossos dados e representá-los de maneira adequada. O mais próximo que os valores de resíduos estiverem da linha demarcada (0), melhor será o nosso modelo."
   ]
  },
  {
   "cell_type": "code",
   "execution_count": null,
   "metadata": {},
   "outputs": [],
   "source": [
    "predictions = model_lasso.predict(X_val)\n",
    "sns.residplot(y_val, predictions)"
   ]
  },
  {
   "cell_type": "markdown",
   "metadata": {},
   "source": [
    "Como vemos, nosso modelo Lasso é um regressor razoável: nós não observamos nenhum padrão visual na distribuição dos resíduos, o que é um bom indício de adequabilidade do modelo. E também os pontos estão concentrados próximos a linha nula (0)."
   ]
  },
  {
   "cell_type": "markdown",
   "metadata": {},
   "source": [
    "### Non-Parameterized Models"
   ]
  },
  {
   "cell_type": "markdown",
   "metadata": {},
   "source": [
    "#### **_KNN (K-Nearest Neighbors)_**"
   ]
  },
  {
   "cell_type": "code",
   "execution_count": null,
   "metadata": {},
   "outputs": [],
   "source": [
    "training_rmse = []\n",
    "\n",
    "neighbors_settings = range(1, 20, 3)\n",
    "\n",
    "for n_neighbors in neighbors_settings:\n",
    "    knr = KNeighborsRegressor(n_neighbors=n_neighbors).fit(X_train, y_train)\n",
    "    training_rmse.append(mean_rmse_cv(knr))\n",
    "    \n",
    "plt.plot(neighbors_settings, training_rmse, label=\"training rmse\")\n",
    "plt.ylabel(\"rmse\")\n",
    "plt.xlabel(\"n_neighbors\")\n",
    "plt.legend()"
   ]
  },
  {
   "cell_type": "markdown",
   "metadata": {},
   "source": [
    "Aparentemente, o melhor número para K é 18, a partir do qual, os valores de acurácia começam a ser aproximadamente o mesmo. Vamos fazer a análise utilizando as funções para cálculo de RMSE:"
   ]
  },
  {
   "cell_type": "code",
   "execution_count": null,
   "metadata": {},
   "outputs": [],
   "source": [
    "knr = KNeighborsRegressor(n_neighbors = 18).fit(X_train, y_train)\n",
    "predictions = knr.predict(X_val)\n",
    "\n",
    "print(\"RMSE KNN Regressor - Train - Cross-Validated: {:2.7}\".format(mean_rmse_cv(knr)))\n",
    "print(\"RMSE KNN Regressor - Validation: {:2.7}\".format(np.sqrt(mean_squared_error(y_true=y_val, y_pred=predictions))))"
   ]
  },
  {
   "cell_type": "markdown",
   "metadata": {},
   "source": [
    "##### **Plot Resíduos vs Predições - KNN**\n",
    "\n",
    "Abaixo nós plotamos o gráfico de resíduos vs predições. Ele nos possibilita visualizar o quão eficiente nosso modelo é para capturar a variância de nossos dados e representá-los de maneira adequada. O mais próximo que os valores de resíduos estiverem da linha demarcada (0), melhor será o nosso modelo."
   ]
  },
  {
   "cell_type": "code",
   "execution_count": null,
   "metadata": {},
   "outputs": [],
   "source": [
    "sns.residplot(y_val, predictions)"
   ]
  },
  {
   "cell_type": "markdown",
   "metadata": {},
   "source": [
    "### Modelos Extra\n",
    "\n",
    "Nessa sessão vamos testar a eficiência em termos de RMSE, quando utilizamos um Ensemble Random Forest Regressor."
   ]
  },
  {
   "cell_type": "markdown",
   "metadata": {},
   "source": [
    "#### **_Random Forest Regressor_**"
   ]
  },
  {
   "cell_type": "code",
   "execution_count": null,
   "metadata": {},
   "outputs": [],
   "source": [
    "rf = RandomForestRegressor(random_state = 2).fit(X_train, y_train)\n",
    "predictions = rf.predict(X_val)\n",
    "\n",
    "print(\"RMSE Random Forest Regressor - Train - Cross-Validated: {:2.7}\".format(mean_rmse_cv(rf)))\n",
    "print(\"RMSE Random Forest Regressor - Validation: {:2.7}\".format(np.sqrt(mean_squared_error(y_true=y_val, y_pred=predictions))))"
   ]
  },
  {
   "cell_type": "markdown",
   "metadata": {},
   "source": [
    "##### **Plot Resíduos vs Predições - Random Forest**\n",
    "\n",
    "Abaixo nós plotamos o gráfico de resíduos vs predições. Ele nos possibilita visualizar o quão eficiente nosso modelo é para capturar a variância de nossos dados e representá-los de maneira adequada. O mais próximo que os valores de resíduos estiverem da linha demarcada (0), melhor será o nosso modelo."
   ]
  },
  {
   "cell_type": "code",
   "execution_count": null,
   "metadata": {},
   "outputs": [],
   "source": [
    "sns.residplot(y_val, predictions)"
   ]
  },
  {
   "cell_type": "markdown",
   "metadata": {},
   "source": [
    "#### _**Decision Tree Regressor**_"
   ]
  },
  {
   "cell_type": "code",
   "execution_count": null,
   "metadata": {},
   "outputs": [],
   "source": [
    "dt = DecisionTreeRegressor(random_state = 2).fit(X_train, y_train)\n",
    "predictions = dt.predict(X_val)\n",
    "\n",
    "print(\"RMSE Decision Tree Regressor - Train - Cross-Validated: {:2.7}\".format(mean_rmse_cv(dt)))\n",
    "print(\"RMSE Decision Tree Regressor - Validation: {:2.7}\".format(np.sqrt(mean_squared_error(y_true=y_val, y_pred=predictions))))"
   ]
  },
  {
   "cell_type": "markdown",
   "metadata": {},
   "source": [
    "##### **Plot Resíduos vs Predições - Decision Tree Regressor**\n",
    "\n",
    "Abaixo nós plotamos o gráfico de resíduos vs predições. Ele nos possibilita visualizar o quão eficiente nosso modelo é para capturar a variância de nossos dados e representá-los de maneira adequada. O mais próximo que os valores de resíduos estiverem da linha demarcada (0), melhor será o nosso modelo."
   ]
  },
  {
   "cell_type": "code",
   "execution_count": null,
   "metadata": {},
   "outputs": [],
   "source": [
    "sns.residplot(y_val, predictions)"
   ]
  },
  {
   "cell_type": "markdown",
   "metadata": {},
   "source": [
    "#### **_Epsilon-Support Vector Regressor_**"
   ]
  },
  {
   "cell_type": "code",
   "execution_count": null,
   "metadata": {},
   "outputs": [],
   "source": [
    "svr = SVR().fit(X_train, y_train)\n",
    "predictions = svr.predict(X_val)\n",
    "\n",
    "print(\"RMSE SVR - Train - Cross-Validated: {:2.7}\".format(mean_rmse_cv(svr)))\n",
    "print(\"RMSE SVR - Validation: {:2.7}\".format(np.sqrt(mean_squared_error(y_true=y_val, y_pred=predictions))))"
   ]
  },
  {
   "cell_type": "markdown",
   "metadata": {},
   "source": [
    "##### **Plot Resíduos vs Predições - SVR**\n",
    "\n",
    "Abaixo nós plotamos o gráfico de resíduos vs predições. Ele nos possibilita visualizar o quão eficiente nosso modelo é para capturar a variância de nossos dados e representá-los de maneira adequada. O mais próximo que os valores de resíduos estiverem da linha demarcada (0), melhor será o nosso modelo."
   ]
  },
  {
   "cell_type": "code",
   "execution_count": null,
   "metadata": {},
   "outputs": [],
   "source": [
    "sns.residplot(y_val, predictions)"
   ]
  },
  {
   "cell_type": "markdown",
   "metadata": {},
   "source": [
    "Como vemos, em termos de RMSE sobre os dados de validação o **Ridge Regressor** é o melhor modelo que encontramos até agora, com o modelo **Lasso Regressor** bem próximo a ele em termos de RMSE."
   ]
  },
  {
   "cell_type": "markdown",
   "metadata": {},
   "source": [
    "## Modelos - Versão 2\n",
    "\n",
    "Abaixo nós vamos unir os dados de treino e validação usados acima (eleições 2006 e 2010), retreinar o melhor algoritmo identificado e usar os dados de teste (eleição de 2014) para verificar seu desempenho em termos de RMSE."
   ]
  },
  {
   "cell_type": "markdown",
   "metadata": {},
   "source": [
    "### Definindo Variáveis Dependentes e Independentes"
   ]
  },
  {
   "cell_type": "code",
   "execution_count": null,
   "metadata": {},
   "outputs": [],
   "source": [
    "feats = candidates_df.columns[candidates_df.columns != 'votos']\n",
    "\n",
    "X_train = candidates_df[feats]\n",
    "y_train = candidates_df['votos']\n",
    "\n",
    "X_test = candidates_test_df[feats]\n",
    "y_test = candidates_test_df['votos']"
   ]
  },
  {
   "cell_type": "markdown",
   "metadata": {},
   "source": [
    "### Sem Regularização\n"
   ]
  },
  {
   "cell_type": "code",
   "execution_count": null,
   "metadata": {},
   "outputs": [],
   "source": [
    "predictions = lr.predict(X_test)\n",
    "print(\"RMSE Linear Regressor - Test: {:2.5}\".format(np.sqrt(mean_squared_error(y_true=y_test, y_pred=predictions))))"
   ]
  },
  {
   "cell_type": "markdown",
   "metadata": {},
   "source": [
    "##### **Plot Resíduos vs Predições - Linear Regressor**\n",
    "\n",
    "Abaixo nós plotamos o gráfico de resíduos vs predições. Ele nos possibilita visualizar o quão eficiente nosso modelo é para capturar a variância de nossos dados e representá-los de maneira adequada. O mais próximo que os valores de resíduos estiverem da linha demarcada (0), melhor será o nosso modelo."
   ]
  },
  {
   "cell_type": "code",
   "execution_count": null,
   "metadata": {},
   "outputs": [],
   "source": [
    "sns.residplot(y_test, predictions)"
   ]
  },
  {
   "cell_type": "markdown",
   "metadata": {},
   "source": [
    "Como vemos, nosso modelo feito com um **Linear Regressor** sem regularização não é um bom preditor: nós não observamos padrões visuais surgindo na distribuição dos resíduos, o que é um mal indício de adequabilidade do modelo, existem características que não estão sendo corretamente capturadas. E também os pontos estão concentrados aleatoriamente ao redor da linha nula (0)."
   ]
  },
  {
   "cell_type": "markdown",
   "metadata": {},
   "source": [
    "### Com Regularização"
   ]
  },
  {
   "cell_type": "markdown",
   "metadata": {},
   "source": [
    "#### Ridge"
   ]
  },
  {
   "cell_type": "code",
   "execution_count": null,
   "metadata": {},
   "outputs": [],
   "source": [
    "predictions = ridge.predict(X_test)\n",
    "print(\"RMSE Ridge Regressor - Test: {:2.10}\".format(np.sqrt(mean_squared_error(y_true=y_test, y_pred=predictions))))"
   ]
  },
  {
   "cell_type": "markdown",
   "metadata": {},
   "source": [
    "##### **Plot Resíduos vs Predições - Ridge**\n",
    "\n",
    "Abaixo nós plotamos o gráfico de resíduos vs predições. Ele nos possibilita visualizar o quão eficiente nosso modelo é para capturar a variância de nossos dados e representá-los de maneira adequada. O mais próximo que os valores de resíduos estiverem da linha demarcada (0), melhor será o nosso modelo."
   ]
  },
  {
   "cell_type": "code",
   "execution_count": null,
   "metadata": {},
   "outputs": [],
   "source": [
    "sns.residplot(y_test, predictions)"
   ]
  },
  {
   "cell_type": "markdown",
   "metadata": {},
   "source": [
    "Como vemos, nosso modelo **Ridge** é um regressor razoável: nós não observamos nenhum padrão visual na distribuição dos resíduos, o que é um bom indício de adequabilidade do modelo. E também os pontos estão concentrados próximos a linha nula (0).\n",
    "\n",
    "É possível observar também em destaque que o modelo não consegue prever com acurácia para os casos em que os candidatos recebem zero votos. Isso pode ser explicado pelo fato de se tratarem de **outliers**."
   ]
  },
  {
   "cell_type": "markdown",
   "metadata": {},
   "source": [
    "#### Lasso"
   ]
  },
  {
   "cell_type": "code",
   "execution_count": null,
   "metadata": {},
   "outputs": [],
   "source": [
    "predictions = model_lasso.predict(X_test)\n",
    "print(\"RMSE Lasso Regressor - Test: {:2.10}\".format(np.sqrt(mean_squared_error(y_true=y_test, y_pred=predictions))))"
   ]
  },
  {
   "cell_type": "markdown",
   "metadata": {},
   "source": [
    "O modelo **Lasso Regressor** se sai um pouco melhor que o modelo **Ridge Regressor**."
   ]
  },
  {
   "cell_type": "markdown",
   "metadata": {},
   "source": [
    "##### **Plot Resíduos vs Predições - Lasso**\n",
    "\n",
    "Abaixo nós plotamos o gráfico de resíduos vs predições. Ele nos possibilita visualizar o quão eficiente nosso modelo é para capturar a variância de nossos dados e representá-los de maneira adequada. O mais próximo que os valores de resíduos estiverem da linha demarcada (0), melhor será o nosso modelo."
   ]
  },
  {
   "cell_type": "code",
   "execution_count": null,
   "metadata": {},
   "outputs": [],
   "source": [
    "sns.residplot(y_test, predictions)"
   ]
  },
  {
   "cell_type": "markdown",
   "metadata": {},
   "source": [
    "Como vemos, nosso modelo **Lasso** é um regressor razoável: nós não observamos nenhum padrão visual na distribuição dos resíduos, o que é um bom indício de adequabilidade do modelo. E também os pontos estão concentrados próximos a linha nula (0).\n",
    "\n",
    "O modelo Lasso, assim como o Ridge, não consegue prever bem quando os candidatos recebem zero votos."
   ]
  },
  {
   "cell_type": "markdown",
   "metadata": {},
   "source": [
    "### Non-Parameterized Models"
   ]
  },
  {
   "cell_type": "markdown",
   "metadata": {},
   "source": [
    "#### KNN (K-Nearest Neighbors)"
   ]
  },
  {
   "cell_type": "code",
   "execution_count": null,
   "metadata": {},
   "outputs": [],
   "source": [
    "predictions = knr.predict(X_test)\n",
    "print(\"RMSE KNN Regressor - Test: {:2.5}\".format(np.sqrt(mean_squared_error(y_true=y_test, y_pred=predictions))))"
   ]
  },
  {
   "cell_type": "markdown",
   "metadata": {},
   "source": [
    "##### **Plot Resíduos vs Predições - KNN**\n",
    "\n",
    "Abaixo nós plotamos o gráfico de resíduos vs predições. Ele nos possibilita visualizar o quão eficiente nosso modelo é para capturar a variância de nossos dados e representá-los de maneira adequada. O mais próximo que os valores de resíduos estiverem da linha demarcada (0), melhor será o nosso modelo."
   ]
  },
  {
   "cell_type": "code",
   "execution_count": null,
   "metadata": {},
   "outputs": [],
   "source": [
    "sns.residplot(y_test, predictions)"
   ]
  },
  {
   "cell_type": "markdown",
   "metadata": {},
   "source": [
    "Como vemos, nosso modelo **KNN** é um regressor razoável: nós não observamos nenhum padrão visual na distribuição dos resíduos, o que é um bom indício de adequabilidade do modelo. E também os pontos estão concentrados próximos a linha nula (0). Entretanto, o modelo não consegue prever bem quando os candidatos recebem zero votos."
   ]
  },
  {
   "cell_type": "markdown",
   "metadata": {},
   "source": [
    "### Modelos Extra\n",
    "\n",
    "Nessa sessão vamos testar a eficiência em termos de RMSE, quando utilizamos um Ensemble Random Forest Regressor."
   ]
  },
  {
   "cell_type": "markdown",
   "metadata": {},
   "source": [
    "#### **_Random Forest Regressor_**"
   ]
  },
  {
   "cell_type": "code",
   "execution_count": null,
   "metadata": {},
   "outputs": [],
   "source": [
    "predictions = rf.predict(X_test)\n",
    "print(\"RMSE Random Forest Regressor - Test: {:2.10}\".format(np.sqrt(mean_squared_error(y_true=y_test, y_pred=predictions))))"
   ]
  },
  {
   "cell_type": "markdown",
   "metadata": {},
   "source": [
    "##### **Plot Resíduos vs Predições - Random Forests**\n",
    "\n",
    "Abaixo nós plotamos o gráfico de resíduos vs predições. Ele nos possibilita visualizar o quão eficiente nosso modelo é para capturar a variância de nossos dados e representá-los de maneira adequada. O mais próximo que os valores de resíduos estiverem da linha demarcada (0), melhor será o nosso modelo."
   ]
  },
  {
   "cell_type": "code",
   "execution_count": null,
   "metadata": {},
   "outputs": [],
   "source": [
    "sns.residplot(y_test, predictions)"
   ]
  },
  {
   "cell_type": "markdown",
   "metadata": {},
   "source": [
    "Como vemos, nosso modelo **Random Forest** é um regressor razoável: nós não observamos nenhum padrão visual na distribuição dos resíduos, o que é um bom indício de adequabilidade do modelo. E também os pontos estão concentrados próximos a linha nula (0). Entretanto, o modelo, assim como os demais até agora, não consegue prever bem quando os candidatos recebem zero votos.\n",
    "\n",
    "Como esses zero votos provavelmente são **outliers** é preciso dar um tratamento prévio a eles, antes de serem submetidos para criação do modelo preditivo."
   ]
  },
  {
   "cell_type": "markdown",
   "metadata": {},
   "source": [
    "#### **_Decision Tree Regressor_**"
   ]
  },
  {
   "cell_type": "code",
   "execution_count": null,
   "metadata": {},
   "outputs": [],
   "source": [
    "predictions = dt.predict(X_test)\n",
    "print(\"RMSE Decision Tree Regressor - Test: {:2.10}\".format(np.sqrt(mean_squared_error(y_true=y_test, y_pred=predictions))))"
   ]
  },
  {
   "cell_type": "markdown",
   "metadata": {},
   "source": [
    "##### **Plot Resíduos vs Predições - Decision Tree Regressor**\n",
    "\n",
    "Abaixo nós plotamos o gráfico de resíduos vs predições. Ele nos possibilita visualizar o quão eficiente nosso modelo é para capturar a variância de nossos dados e representá-los de maneira adequada. O mais próximo que os valores de resíduos estiverem da linha demarcada (0), melhor será o nosso modelo."
   ]
  },
  {
   "cell_type": "code",
   "execution_count": null,
   "metadata": {},
   "outputs": [],
   "source": [
    "sns.residplot(y_test, predictions)"
   ]
  },
  {
   "cell_type": "markdown",
   "metadata": {},
   "source": [
    "Como vemos, nosso modelo **Decision Tree Regressor** é um regressor razoável: nós não observamos nenhum padrão visual na distribuição dos resíduos, o que é um bom indício de adequabilidade do modelo. E também os pontos estão concentrados próximos a linha nula (0). Entretanto, o modelo não consegue prever bem quando os candidatos recebem zero votos."
   ]
  },
  {
   "cell_type": "markdown",
   "metadata": {},
   "source": [
    "#### **_Epsilon-Support Vector Regressor_**"
   ]
  },
  {
   "cell_type": "code",
   "execution_count": null,
   "metadata": {},
   "outputs": [],
   "source": [
    "predictions = svr.predict(X_test)\n",
    "print(\"RMSE SVR - Test: {:2.10}\".format(np.sqrt(mean_squared_error(y_true=y_test, y_pred=predictions))))"
   ]
  },
  {
   "cell_type": "markdown",
   "metadata": {},
   "source": [
    "##### **Plot Resíduos vs Predições - SVR**\n",
    "\n",
    "Abaixo nós plotamos o gráfico de resíduos vs predições. Ele nos possibilita visualizar o quão eficiente nosso modelo é para capturar a variância de nossos dados e representá-los de maneira adequada. O mais próximo que os valores de resíduos estiverem da linha demarcada (0), melhor será o nosso modelo."
   ]
  },
  {
   "cell_type": "code",
   "execution_count": null,
   "metadata": {},
   "outputs": [],
   "source": [
    "sns.residplot(y_test, predictions)"
   ]
  },
  {
   "cell_type": "markdown",
   "metadata": {},
   "source": [
    "Como vemos, nosso modelo **SVR** é um regressor razoável: nós não observamos nenhum padrão visual na distribuição dos resíduos, o que é um bom indício de adequabilidade do modelo. E também os pontos estão concentrados próximos a linha nula (0). Entretanto, o modelo não consegue prever bem quando os candidatos recebem zero votos."
   ]
  },
  {
   "cell_type": "markdown",
   "metadata": {},
   "source": [
    "### Conclusão"
   ]
  },
  {
   "cell_type": "markdown",
   "metadata": {},
   "source": [
    "Como vemos, o melhor modelo quando utilizamos os dados de teste é o modelo **Lasso Regressor**, com o modelo **Ridge Regressor** bem próximo dele em termos de RMSE."
   ]
  },
  {
   "cell_type": "markdown",
   "metadata": {},
   "source": [
    "## EXTRA - Usando Pipelines e GridSearch do Scikit Learn\n",
    "\n",
    "Abaixo nós fazemos alguns pipelines e grid searches com os mesmos algoritmos usados acima com o intuito de checar se os valores obtidos são correspondentes."
   ]
  },
  {
   "cell_type": "code",
   "execution_count": null,
   "metadata": {},
   "outputs": [],
   "source": [
    "from sklearn.pipeline import Pipeline\n",
    "from sklearn.model_selection import GridSearchCV\n",
    "from sklearn.metrics import make_scorer\n",
    "\n",
    "def rmse_function(y_pred, y_true):\n",
    "    return np.sqrt(mean_squared_error(y_true=y_true, y_pred=y_pred))\n",
    "\n",
    "scorer = make_scorer(rmse_function, greater_is_better=False)\n",
    "\n",
    "# Construct some pipelines\n",
    "pipe_lr = Pipeline([('reg', LinearRegression())])\n",
    "pipe_rf = Pipeline([('reg', RandomForestRegressor())])\n",
    "pipe_lasso = Pipeline([('reg', LassoCV())])\n",
    "pipe_ridge = Pipeline([('reg', RidgeCV())])\n",
    "pipe_knn = Pipeline([('reg', KNeighborsRegressor())])\n",
    "pipe_dt = Pipeline([('reg', DecisionTreeRegressor())])\n",
    "pipe_svr = Pipeline([('reg', SVR())])\n",
    "\n",
    "\n",
    "param_range = [1, 2, 3, 4, 5, 6, 7, 8, 9, 10]\n",
    "\n",
    "grid_params_lr = [{}] \n",
    "\n",
    "grid_params_lasso = [{'reg__alphas' : [[5e-1, 1e-1, 5e-2, 1e-3, 1e-4, 1e-5, 1e-6]],\n",
    "                      'reg__max_iter' : [1e5],\n",
    "                      'reg__random_state' : [2]}]\n",
    "\n",
    "grid_params_ridge = [{'reg__alphas' : [[0.05, 0.1, 0.3, 1, 3, 5, 10, 15, 30, 50, 75]]}]\n",
    "\n",
    "grid_params_rf = [{}]\n",
    "\n",
    "grid_params_knn = [{'reg__n_neighbors' : [1, 3, 5, 7, 10, 15, 18, 21]}]\n",
    "\n",
    "grid_params_dt = [{'reg__random_state' : [2],\n",
    "                   'reg__max_depth' : [5, 10, 50]}]\n",
    "\n",
    "grid_params_svr = [{'reg__C': [1e0, 1e1, 1e2, 1e3]}]\n",
    "\n",
    "# Construct grid searches\n",
    "jobs = -1\n",
    "\n",
    "gs_lr = GridSearchCV(estimator = pipe_lr,\n",
    "                param_grid = grid_params_lr,\n",
    "                scoring = scorer,\n",
    "                cv = 5) \n",
    "\n",
    "gs_rf = GridSearchCV(estimator = pipe_rf,\n",
    "                param_grid = grid_params_rf,\n",
    "                scoring = scorer,\n",
    "                cv = 5, \n",
    "                n_jobs = jobs)\n",
    "\n",
    "gs_lasso = GridSearchCV(estimator = pipe_lasso,\n",
    "                       param_grid = grid_params_lasso,\n",
    "                       scoring = scorer,\n",
    "                       cv = 5,\n",
    "                       n_jobs = jobs)\n",
    "\n",
    "gs_ridge = GridSearchCV(estimator = pipe_ridge,\n",
    "                       param_grid = grid_params_ridge,\n",
    "                       scoring = scorer,\n",
    "                       cv = 5,\n",
    "                       n_jobs = jobs)\n",
    "\n",
    "gs_knn = GridSearchCV(estimator = pipe_knn,\n",
    "                     param_grid = grid_params_knn,\n",
    "                     scoring = scorer,\n",
    "                     cv = 5,\n",
    "                     n_jobs = jobs)\n",
    "\n",
    "gs_dt = GridSearchCV(estimator = pipe_dt,\n",
    "                    param_grid = grid_params_dt,\n",
    "                    scoring = scorer,\n",
    "                    cv = 5,\n",
    "                    n_jobs = jobs)\n",
    "\n",
    "gs_svr = GridSearchCV(estimator = pipe_svr,\n",
    "                     param_grid = grid_params_svr,\n",
    "                     scoring = scorer,\n",
    "                     cv = 5,\n",
    "                     n_jobs = jobs)\n",
    "\n",
    "# List of pipelines for ease of iteration\n",
    "grids = [gs_lr, gs_rf, gs_ridge, gs_lasso, gs_knn, gs_dt, gs_svr]\n",
    "\n",
    "# Dictionary of pipelines and classifier types for ease of reference\n",
    "grid_dict = {0: 'Linear Regressor', 1: 'Random Forest Regressor', \n",
    "            2: 'Ridge Regressor', 3: 'Lasso Regressor', \n",
    "            4: 'KNN Regressor', 5: 'Decision Tree Regressor',\n",
    "            6: 'SVR Regressor'}\n",
    "\n",
    "\n",
    "# Fit the grid search objects\n",
    "print('Performing model optimizations...')\n",
    "best_rmse = float(\"inf\")\n",
    "best_reg = 0\n",
    "best_gs = ''\n",
    "for idx, gs in enumerate(grids):\n",
    "    print('\\nEstimator: %s' % grid_dict[idx])\n",
    "    # Fit grid search\n",
    "    gs.fit(X_train, y_train)\n",
    "\n",
    "    # Best params\n",
    "    print('Best params: %s' % gs.best_params_)\n",
    "    \n",
    "    # Best training data accuracy\n",
    "    print('Best RMSE for training set: %.10f' % -gs.best_score_)\n",
    "    \n",
    "    # Predict on test data with best params\n",
    "    y_pred = gs.predict(X_test)\n",
    "    \n",
    "    rmse = np.sqrt(mean_squared_error(y_true=y_test, y_pred=y_pred))\n",
    "    \n",
    "    # Validation data accuracy of model with best params\n",
    "    print('Test set RMSE for best params: %.10f ' % rmse)\n",
    "    \n",
    "    # Track best (smallest rmse) model\n",
    "    if best_rmse > rmse:\n",
    "        best_rmse = rmse\n",
    "        best_gs = gs\n",
    "        best_reg = idx\n",
    "        \n",
    "print('\\nRegressor with best test set RMSE: ** %s **' % grid_dict[best_reg])"
   ]
  },
  {
   "cell_type": "markdown",
   "metadata": {},
   "source": [
    "### Conclusão\n",
    "\n",
    "Como se observa acima, o melhor modelo encontrado foi o modelo **Lasso Regressor** em termos de RMSE, com o modelo **Ridge Regressor** bem próximo dele em termos de RMSE.\n",
    "\n",
    "Entretanto os valores de RMSE são distintos dos valores encontrados acima. Isso pode se dever ao ajuste dos parâmetros dos modelos, feitos durante a própria busca, e/ou por alguma diferença na função de scoring, que talvez tenha passado despercebida pela nossa análise."
   ]
  }
 ],
 "metadata": {
  "kernelspec": {
   "display_name": "Python 3",
   "language": "python",
   "name": "python3"
  },
  "language_info": {
   "codemirror_mode": {
    "name": "ipython",
    "version": 3
   },
   "file_extension": ".py",
   "mimetype": "text/x-python",
   "name": "python",
   "nbconvert_exporter": "python",
   "pygments_lexer": "ipython3",
   "version": "3.6.6"
  }
 },
 "nbformat": 4,
 "nbformat_minor": 2
}
