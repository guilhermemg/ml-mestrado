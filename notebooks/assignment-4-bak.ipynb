{
 "cells": [
  {
   "cell_type": "markdown",
   "metadata": {},
   "source": [
    "## Split Train and Validation"
   ]
  },
  {
   "cell_type": "code",
   "execution_count": 11,
   "metadata": {},
   "outputs": [],
   "source": [
    "#X_train, X_test, y_train, y_test = train_test_split(X_train, y_train, test_size=0.2, random_state=42)\n",
    "\n",
    "#print(\"Train: {}\".format(X_train.shape, y_train.shape))\n",
    "#print(\"Test: {}\".format(X_test.shape, y_test.shape))"
   ]
  },
  {
   "cell_type": "raw",
   "metadata": {},
   "source": [
    "class GenericModel(object):\n",
    "    def __init__(self, model):\n",
    "        self.model = model\n",
    "        self.nfolds = 10\n",
    "        self.seed = 42\n",
    "    \n",
    "    def report_cross_validation_results(self):\n",
    "        print('(Cross-)Validation set evaluation')\n",
    "\n",
    "        report_val = {}\n",
    "        scoring = ['precision','recall','f1','accuracy', 'roc_auc']\n",
    "        for sc in scoring:\n",
    "            cv = StratifiedKFold(shuffle=True, random_state=self.seed, n_splits=self.nfolds)\n",
    "            report_val[sc] = cross_val_score(self.model, X_train, y_train, cv=cv, scoring=sc, n_jobs=-1).mean()\n",
    "\n",
    "        for key, val in report_val.items():\n",
    "            print('{} score - validation set: {:.4}'.format(key.capitalize(), val))\n",
    "\n",
    "\n",
    "    def report_results_with_test_set(self):\n",
    "        print('----------------------')\n",
    "        print('Test set evaluation:')\n",
    "\n",
    "        y_pred_test = self.model.predict(X_test)\n",
    "\n",
    "        report_test = {}\n",
    "        report_test['precision'] = precision_score(y_test, y_pred_test)\n",
    "        report_test['recall'] = recall_score(y_test, y_pred_test)\n",
    "        report_test['f1'] = f1_score(y_test, y_pred_test)\n",
    "        report_test['accuracy'] = accuracy_score(y_test, y_pred_test)\n",
    "        report_test['roc_auc'] = roc_auc_score(y_test, y_pred_test)\n",
    "        report_test['auc'] = auc_score(y_test, y_pred_test)\n",
    "\n",
    "        for key, val in report_test.items():\n",
    "            print('{} score - test set: {:.4}'.format(key.capitalize(), val))\n",
    "\n",
    "        print('\\nConfusion Matrix:')\n",
    "        print(confusion_matrix(y_test, y_pred_test))"
   ]
  },
  {
   "cell_type": "markdown",
   "metadata": {},
   "source": [
    "## Modelos"
   ]
  },
  {
   "cell_type": "markdown",
   "metadata": {},
   "source": [
    "#### **_KNN (K-Nearest Neighbors)_**"
   ]
  },
  {
   "cell_type": "code",
   "execution_count": null,
   "metadata": {},
   "outputs": [],
   "source": [
    "knr = KNeighborsClassifier(n_neighbors = 3).fit(X_train, y_train)\n",
    "\n",
    "report_cross_validation_results(knr)\n",
    "report_results_with_test_set(knr)\n",
    "save_trained_model(knr, ModelsPaths.KNR_PATH)"
   ]
  },
  {
   "cell_type": "markdown",
   "metadata": {},
   "source": [
    "#### **_Logistic Regression_**"
   ]
  },
  {
   "cell_type": "code",
   "execution_count": null,
   "metadata": {},
   "outputs": [],
   "source": [
    "lr = LogisticRegression(random_state=42).fit(X_train, y_train)\n",
    "\n",
    "report_cross_validation_results(lr)\n",
    "report_results_with_test_set(lr)\n",
    "save_trained_model(lr, ModelsPaths.LR_PATH)"
   ]
  },
  {
   "cell_type": "markdown",
   "metadata": {},
   "source": [
    "#### _**Decision Tree Classifier**_"
   ]
  },
  {
   "cell_type": "code",
   "execution_count": null,
   "metadata": {},
   "outputs": [],
   "source": [
    "dt = DecisionTreeClassifier(random_state = 42).fit(X_train, y_train)\n",
    "\n",
    "report_cross_validation_results(dt)\n",
    "report_results_with_test_set(dt)\n",
    "save_trained_model(dt, ModelsPaths.DT_PATH)"
   ]
  },
  {
   "cell_type": "markdown",
   "metadata": {},
   "source": [
    "#### **_Adaboost Ensemble_**"
   ]
  },
  {
   "cell_type": "code",
   "execution_count": null,
   "metadata": {},
   "outputs": [],
   "source": [
    "ada = AdaBoostClassifier(random_state=42, learning_rate=0.01).fit(X_train, y_train)\n",
    "\n",
    "report_cross_validation_results(ada)\n",
    "report_results_with_test_set(ada)\n",
    "save_trained_model(ada, ModelsPaths.ADA_PATH)"
   ]
  },
  {
   "cell_type": "markdown",
   "metadata": {},
   "source": [
    "#### **_Random Forest Classifier_**"
   ]
  },
  {
   "cell_type": "code",
   "execution_count": null,
   "metadata": {},
   "outputs": [],
   "source": [
    "rf = RandomForestClassifier(random_state = 42).fit(X_train, y_train)\n",
    "\n",
    "report_cross_validation_results(rf)\n",
    "report_results_with_test_set(rf)\n",
    "save_trained_model(rf, ModelsPaths.RF_PATH)"
   ]
  },
  {
   "cell_type": "markdown",
   "metadata": {},
   "source": [
    "#### **_Extra Trees Classifier_**"
   ]
  },
  {
   "cell_type": "code",
   "execution_count": null,
   "metadata": {},
   "outputs": [],
   "source": [
    "et = ExtraTreesClassifier(random_state=42).fit(X_train, y_train)\n",
    "\n",
    "report_cross_validation_results(et)\n",
    "report_results_with_test_set(et)\n",
    "save_trained_model(et, ModelsPaths.ET_PATH)"
   ]
  },
  {
   "cell_type": "markdown",
   "metadata": {},
   "source": [
    "#### **_Support Vector Classifier_**"
   ]
  },
  {
   "cell_type": "code",
   "execution_count": null,
   "metadata": {},
   "outputs": [],
   "source": [
    "svc = SVC(random_state=42, probability=True).fit(X_train, y_train)\n",
    "\n",
    "report_cross_validation_results(svc)\n",
    "report_results_with_test_set(svc)\n",
    "save_trained_model(svc, ModelsPaths.SVC_PATH)"
   ]
  },
  {
   "cell_type": "markdown",
   "metadata": {},
   "source": [
    "#### **_Gradient Boosting Classifier - LightGBM_**"
   ]
  },
  {
   "cell_type": "code",
   "execution_count": null,
   "metadata": {},
   "outputs": [],
   "source": [
    "lgbm = LGBMClassifier(silent=1, random_state=42, learning_rate=0.1).fit(X_train, y_train)\n",
    "\n",
    "report_cross_validation_results(lgbm)\n",
    "report_results_with_test_set(lgbm)\n",
    "save_trained_model(lgbm, ModelsPaths.LGBM_PATH)"
   ]
  },
  {
   "cell_type": "markdown",
   "metadata": {},
   "source": [
    "#### **_Gradient Boosting Classifier - CatBoost_**"
   ]
  },
  {
   "cell_type": "code",
   "execution_count": null,
   "metadata": {},
   "outputs": [],
   "source": [
    "cat = CatBoostClassifier(random_state=42, learning_rate=0.5, allow_writing_files=False, verbose=0, iterations=200, depth=3).fit(X_train, y_train)\n",
    "\n",
    "report_cross_validation_results(cat)\n",
    "report_results_with_test_set(cat)\n",
    "save_trained_model(cat, ModelsPaths.CAT_PATH)"
   ]
  },
  {
   "cell_type": "markdown",
   "metadata": {},
   "source": [
    "#### **_Gradient Boosting Classifier - XGBoost_**"
   ]
  },
  {
   "cell_type": "code",
   "execution_count": 103,
   "metadata": {},
   "outputs": [
    {
     "ename": "NameError",
     "evalue": "name 'report_cross_validation_results' is not defined",
     "output_type": "error",
     "traceback": [
      "\u001b[0;31m---------------------------------------------------------------------------\u001b[0m",
      "\u001b[0;31mNameError\u001b[0m                                 Traceback (most recent call last)",
      "\u001b[0;32m<ipython-input-103-23fac82a862a>\u001b[0m in \u001b[0;36m<module>\u001b[0;34m()\u001b[0m\n\u001b[1;32m      1\u001b[0m \u001b[0mxgb\u001b[0m \u001b[0;34m=\u001b[0m \u001b[0mXGBClassifier\u001b[0m\u001b[0;34m(\u001b[0m\u001b[0mlearning_rate\u001b[0m\u001b[0;34m=\u001b[0m\u001b[0;36m0.1\u001b[0m\u001b[0;34m,\u001b[0m \u001b[0msilent\u001b[0m\u001b[0;34m=\u001b[0m\u001b[0;36m1\u001b[0m\u001b[0;34m,\u001b[0m \u001b[0mseed\u001b[0m\u001b[0;34m=\u001b[0m\u001b[0;36m42\u001b[0m\u001b[0;34m)\u001b[0m\u001b[0;34m.\u001b[0m\u001b[0mfit\u001b[0m\u001b[0;34m(\u001b[0m\u001b[0mX_train\u001b[0m\u001b[0;34m,\u001b[0m \u001b[0my_train\u001b[0m\u001b[0;34m)\u001b[0m\u001b[0;34m\u001b[0m\u001b[0m\n\u001b[1;32m      2\u001b[0m \u001b[0;34m\u001b[0m\u001b[0m\n\u001b[0;32m----> 3\u001b[0;31m \u001b[0mreport_cross_validation_results\u001b[0m\u001b[0;34m(\u001b[0m\u001b[0mxgb\u001b[0m\u001b[0;34m)\u001b[0m\u001b[0;34m\u001b[0m\u001b[0m\n\u001b[0m\u001b[1;32m      4\u001b[0m \u001b[0mreport_results_with_test_set\u001b[0m\u001b[0;34m(\u001b[0m\u001b[0mxgb\u001b[0m\u001b[0;34m)\u001b[0m\u001b[0;34m\u001b[0m\u001b[0m\n\u001b[1;32m      5\u001b[0m \u001b[0msave_trained_model\u001b[0m\u001b[0;34m(\u001b[0m\u001b[0mxgb\u001b[0m\u001b[0;34m,\u001b[0m \u001b[0mModelsPaths\u001b[0m\u001b[0;34m.\u001b[0m\u001b[0mXGB_PATH\u001b[0m\u001b[0;34m)\u001b[0m\u001b[0;34m\u001b[0m\u001b[0m\n",
      "\u001b[0;31mNameError\u001b[0m: name 'report_cross_validation_results' is not defined"
     ]
    }
   ],
   "source": [
    "xgb = XGBClassifier(learning_rate=0.1, silent=1, seed=42).fit(X_train, y_train)\n",
    "\n",
    "report_cross_validation_results(xgb)\n",
    "report_results_with_test_set(xgb)\n",
    "save_trained_model(xgb, ModelsPaths.XGB_PATH)"
   ]
  }
 ],
 "metadata": {
  "kernelspec": {
   "display_name": "Python 3",
   "language": "python",
   "name": "python3"
  },
  "language_info": {
   "codemirror_mode": {
    "name": "ipython",
    "version": 3
   },
   "file_extension": ".py",
   "mimetype": "text/x-python",
   "name": "python",
   "nbconvert_exporter": "python",
   "pygments_lexer": "ipython3",
   "version": "3.6.6"
  }
 },
 "nbformat": 4,
 "nbformat_minor": 2
}
