{
 "cells": [
  {
   "cell_type": "markdown",
   "metadata": {},
   "source": [
    "# Descrição\n",
    "\n",
    "Nessa tarefa você vai estender sua implementação da tarefa passada para considerar múltiplas variáveis. Você pode estender a versão vetorizada implementada neste notebook para regressão simples. \n",
    "\n",
    "- Rode o algoritmo nesses dados, onde as linhas representam as notas de alunos de computação de alunos da UFCG em algumas disciplinas do primeiro período. A última coluna é a variável alvo representando o CRA final depois de concluir o curso. As outras colunas são algumas disciplinas do primeiro período. O pressuposto aqui é que as notas em disciplinas no primeiro período ajudam a explicar o CRA final dos alunos de computação.\n",
    "\n",
    "- Compare o valor dos coeficientes estimados pelo seu algoritmo com o valor dos coeficientes da regressão linear do scikit learn para testar se o seu algoritmo está funcionando corretamente.\n",
    "\n",
    "A entrega deve ser o link no seu github para o notebook Jupyter com código python e texto explicativo quando necessário. De preferência, crie um repositório na sua conta do github e envie o link do html do notebook."
   ]
  },
  {
   "cell_type": "markdown",
   "metadata": {},
   "source": [
    "# Import Libraries"
   ]
  },
  {
   "cell_type": "code",
   "execution_count": 24,
   "metadata": {},
   "outputs": [],
   "source": [
    "import numpy as np\n",
    "import pandas as pd\n",
    "from sklearn import linear_model\n",
    "from sklearn.metrics import mean_squared_error, r2_score\n",
    "\n",
    "import matplotlib.pyplot as plt\n",
    "from mpl_toolkits.mplot3d import Axes3D\n",
    "\n",
    "import seaborn as sns\n",
    "sns.set(style=\"ticks\")"
   ]
  },
  {
   "cell_type": "markdown",
   "metadata": {},
   "source": [
    "# Load Data"
   ]
  },
  {
   "cell_type": "code",
   "execution_count": 25,
   "metadata": {},
   "outputs": [
    {
     "data": {
      "text/html": [
       "<div>\n",
       "<style scoped>\n",
       "    .dataframe tbody tr th:only-of-type {\n",
       "        vertical-align: middle;\n",
       "    }\n",
       "\n",
       "    .dataframe tbody tr th {\n",
       "        vertical-align: top;\n",
       "    }\n",
       "\n",
       "    .dataframe thead th {\n",
       "        text-align: right;\n",
       "    }\n",
       "</style>\n",
       "<table border=\"1\" class=\"dataframe\">\n",
       "  <thead>\n",
       "    <tr style=\"text-align: right;\">\n",
       "      <th></th>\n",
       "      <th>Calc1</th>\n",
       "      <th>LPT</th>\n",
       "      <th>P1</th>\n",
       "      <th>IC</th>\n",
       "      <th>Calc2</th>\n",
       "      <th>cra</th>\n",
       "    </tr>\n",
       "  </thead>\n",
       "  <tbody>\n",
       "    <tr>\n",
       "      <th>0</th>\n",
       "      <td>8.7</td>\n",
       "      <td>10.0</td>\n",
       "      <td>9.0</td>\n",
       "      <td>9.1</td>\n",
       "      <td>8.4</td>\n",
       "      <td>8.477647</td>\n",
       "    </tr>\n",
       "    <tr>\n",
       "      <th>1</th>\n",
       "      <td>7.0</td>\n",
       "      <td>7.0</td>\n",
       "      <td>7.7</td>\n",
       "      <td>7.0</td>\n",
       "      <td>6.2</td>\n",
       "      <td>6.851724</td>\n",
       "    </tr>\n",
       "    <tr>\n",
       "      <th>2</th>\n",
       "      <td>8.6</td>\n",
       "      <td>9.8</td>\n",
       "      <td>7.9</td>\n",
       "      <td>9.6</td>\n",
       "      <td>8.7</td>\n",
       "      <td>9.090588</td>\n",
       "    </tr>\n",
       "    <tr>\n",
       "      <th>3</th>\n",
       "      <td>7.8</td>\n",
       "      <td>8.3</td>\n",
       "      <td>6.8</td>\n",
       "      <td>8.2</td>\n",
       "      <td>8.0</td>\n",
       "      <td>7.283516</td>\n",
       "    </tr>\n",
       "    <tr>\n",
       "      <th>4</th>\n",
       "      <td>5.2</td>\n",
       "      <td>9.3</td>\n",
       "      <td>5.0</td>\n",
       "      <td>8.5</td>\n",
       "      <td>5.0</td>\n",
       "      <td>7.205747</td>\n",
       "    </tr>\n",
       "  </tbody>\n",
       "</table>\n",
       "</div>"
      ],
      "text/plain": [
       "   Calc1   LPT   P1   IC  Calc2       cra\n",
       "0    8.7  10.0  9.0  9.1    8.4  8.477647\n",
       "1    7.0   7.0  7.7  7.0    6.2  6.851724\n",
       "2    8.6   9.8  7.9  9.6    8.7  9.090588\n",
       "3    7.8   8.3  6.8  8.2    8.0  7.283516\n",
       "4    5.2   9.3  5.0  8.5    5.0  7.205747"
      ]
     },
     "execution_count": 25,
     "metadata": {},
     "output_type": "execute_result"
    }
   ],
   "source": [
    "grades_df = pd.read_csv('../data/grades.csv')\n",
    "grades_df.rename(index=str, columns={'Cálculo1': 'Calc1', 'Cálculo2': 'Calc2'}, inplace=True)\n",
    "grades_df.head()"
   ]
  },
  {
   "cell_type": "markdown",
   "metadata": {},
   "source": [
    "### Check Dataset Size"
   ]
  },
  {
   "cell_type": "code",
   "execution_count": 26,
   "metadata": {},
   "outputs": [
    {
     "data": {
      "text/plain": [
       "(88, 6)"
      ]
     },
     "execution_count": 26,
     "metadata": {},
     "output_type": "execute_result"
    }
   ],
   "source": [
    "grades_df.shape"
   ]
  },
  {
   "cell_type": "code",
   "execution_count": 27,
   "metadata": {},
   "outputs": [
    {
     "data": {
      "text/html": [
       "<div>\n",
       "<style scoped>\n",
       "    .dataframe tbody tr th:only-of-type {\n",
       "        vertical-align: middle;\n",
       "    }\n",
       "\n",
       "    .dataframe tbody tr th {\n",
       "        vertical-align: top;\n",
       "    }\n",
       "\n",
       "    .dataframe thead th {\n",
       "        text-align: right;\n",
       "    }\n",
       "</style>\n",
       "<table border=\"1\" class=\"dataframe\">\n",
       "  <thead>\n",
       "    <tr style=\"text-align: right;\">\n",
       "      <th></th>\n",
       "      <th>Calc1</th>\n",
       "      <th>LPT</th>\n",
       "      <th>P1</th>\n",
       "      <th>IC</th>\n",
       "      <th>Calc2</th>\n",
       "      <th>cra</th>\n",
       "      <th>Status</th>\n",
       "    </tr>\n",
       "  </thead>\n",
       "  <tbody>\n",
       "    <tr>\n",
       "      <th>0</th>\n",
       "      <td>8.7</td>\n",
       "      <td>10.0</td>\n",
       "      <td>9.0</td>\n",
       "      <td>9.1</td>\n",
       "      <td>8.4</td>\n",
       "      <td>8.477647</td>\n",
       "      <td>Success</td>\n",
       "    </tr>\n",
       "    <tr>\n",
       "      <th>1</th>\n",
       "      <td>7.0</td>\n",
       "      <td>7.0</td>\n",
       "      <td>7.7</td>\n",
       "      <td>7.0</td>\n",
       "      <td>6.2</td>\n",
       "      <td>6.851724</td>\n",
       "      <td>Fail</td>\n",
       "    </tr>\n",
       "    <tr>\n",
       "      <th>2</th>\n",
       "      <td>8.6</td>\n",
       "      <td>9.8</td>\n",
       "      <td>7.9</td>\n",
       "      <td>9.6</td>\n",
       "      <td>8.7</td>\n",
       "      <td>9.090588</td>\n",
       "      <td>Success</td>\n",
       "    </tr>\n",
       "    <tr>\n",
       "      <th>3</th>\n",
       "      <td>7.8</td>\n",
       "      <td>8.3</td>\n",
       "      <td>6.8</td>\n",
       "      <td>8.2</td>\n",
       "      <td>8.0</td>\n",
       "      <td>7.283516</td>\n",
       "      <td>Success</td>\n",
       "    </tr>\n",
       "    <tr>\n",
       "      <th>4</th>\n",
       "      <td>5.2</td>\n",
       "      <td>9.3</td>\n",
       "      <td>5.0</td>\n",
       "      <td>8.5</td>\n",
       "      <td>5.0</td>\n",
       "      <td>7.205747</td>\n",
       "      <td>Success</td>\n",
       "    </tr>\n",
       "  </tbody>\n",
       "</table>\n",
       "</div>"
      ],
      "text/plain": [
       "   Calc1   LPT   P1   IC  Calc2       cra   Status\n",
       "0    8.7  10.0  9.0  9.1    8.4  8.477647  Success\n",
       "1    7.0   7.0  7.7  7.0    6.2  6.851724     Fail\n",
       "2    8.6   9.8  7.9  9.6    8.7  9.090588  Success\n",
       "3    7.8   8.3  6.8  8.2    8.0  7.283516  Success\n",
       "4    5.2   9.3  5.0  8.5    5.0  7.205747  Success"
      ]
     },
     "execution_count": 27,
     "metadata": {},
     "output_type": "execute_result"
    }
   ],
   "source": [
    "grades_df_aux = pd.DataFrame(grades_df)\n",
    "grades_df_aux['Status'] = grades_df_aux.cra.apply(lambda x:  \"Success\" if x >= 7 else \"Fail\")\n",
    "grades_df_aux.head()"
   ]
  },
  {
   "cell_type": "markdown",
   "metadata": {},
   "source": [
    "### Plot Scatterplots"
   ]
  },
  {
   "cell_type": "code",
   "execution_count": 28,
   "metadata": {},
   "outputs": [
    {
     "data": {
      "text/plain": [
       "<seaborn.axisgrid.PairGrid at 0x7f3c160bc400>"
      ]
     },
     "execution_count": 28,
     "metadata": {},
     "output_type": "execute_result"
    },
    {
     "data": {
      "image/png": "[encoded data removed]",
      "text/plain": [
       "<Figure size 984.1x180 with 5 Axes>"
      ]
     },
     "metadata": {},
     "output_type": "display_data"
    }
   ],
   "source": [
    "sns.pairplot(grades_df_aux, hue=\"Status\", y_vars=['cra'], x_vars=['Calc1', 'Calc2','IC','P1','LPT'])"
   ]
  },
  {
   "cell_type": "markdown",
   "metadata": {},
   "source": [
    "## Define Functions\n",
    "\n",
    "### Compute Mean Squared Error - Vectorized Version\n",
    "\n",
    "$MSE(\\hat{w})=\\frac{1}{N}(y-\\hat{\\mathbf{w}}^T\\mathbf{x})^T(y-\\hat{\\mathbf{w}}^T\\mathbf{x})$"
   ]
  },
  {
   "cell_type": "code",
   "execution_count": 29,
   "metadata": {},
   "outputs": [],
   "source": [
    "def compute_mse_vectorized(w, X, Y):\n",
    "    res = Y - np.dot(X,w)\n",
    "    totalError = np.dot(res.T,res)\n",
    "    return totalError / float(len(Y))"
   ]
  },
  {
   "cell_type": "markdown",
   "metadata": {},
   "source": [
    "### Função para fazer uma atualização dos parâmetros no Gradiente Descendente:"
   ]
  },
  {
   "cell_type": "code",
   "execution_count": 30,
   "metadata": {},
   "outputs": [],
   "source": [
    "def step_gradient_vectorized(w_current, X, Y, lr):\n",
    "    temp1 = np.multiply(-2, X.T)\n",
    "    temp2 = Y - np.dot(X, w_current)\n",
    "    grads = np.matmul(temp1, temp2)\n",
    "        \n",
    "    new_w = np.array([w_current[i] - lr * grads[i] for i in range(len(grads))])\n",
    "    \n",
    "    new_error = compute_mse_vectorized(new_w, X, Y)\n",
    "    l2_norm = np.linalg.norm(grads, ord=2)  # compute l2-norm\n",
    "    \n",
    "    return [new_w, grads, new_error, l2_norm]"
   ]
  },
  {
   "cell_type": "markdown",
   "metadata": {},
   "source": [
    "### Função para rodar o gradiente descendente vetorizado"
   ]
  },
  {
   "cell_type": "code",
   "execution_count": 31,
   "metadata": {},
   "outputs": [],
   "source": [
    "def gradient_descent_runner_vectorized(starting_w, X, Y, learning_rate, epsilon, verbose=False, period=1000):\n",
    "    history = pd.DataFrame(columns=['weights','grads','error','iter','l2_norm'])\n",
    "    w = starting_w\n",
    "    grads = np.array([np.inf for feat in range(X.shape[1])])\n",
    "    i = 0\n",
    "    while (np.linalg.norm(grads) >= epsilon):\n",
    "        step_grad = step_gradient_vectorized(w, X, Y, learning_rate)\n",
    "        w, grads, new_error, l2_norm = step_grad[0], step_grad[1], step_grad[2], step_grad[3]\n",
    "        \n",
    "        if verbose and (i % period == 0):\n",
    "            print(\"MSE na iteração {0} é de {1}\".format(i, new_error))\n",
    "        \n",
    "        history = history.append({'weights': w, 'grads': grads, 'error': new_error, 'iter': i, 'l2_norm': l2_norm}, ignore_index=True)\n",
    "        i+= 1\n",
    "        \n",
    "    return history"
   ]
  },
  {
   "cell_type": "markdown",
   "metadata": {},
   "source": [
    "### Função para fazer o treinamento"
   ]
  },
  {
   "cell_type": "code",
   "execution_count": 32,
   "metadata": {},
   "outputs": [
    {
     "name": "stdout",
     "output_type": "stream",
     "text": [
      "Starting gradient descent at weights = [[0.]\n",
      " [0.]\n",
      " [0.]\n",
      " [0.]\n",
      " [0.]], error = [[54.47995386]]\n",
      "Running...\n",
      "MSE na iteração 0 é de [[13.63352979]]\n",
      "MSE na iteração 1000 é de [[0.43870244]]\n",
      "MSE na iteração 2000 é de [[0.43328946]]\n",
      "MSE na iteração 3000 é de [[0.43257927]]\n",
      "MSE na iteração 4000 é de [[0.43248347]]\n",
      "MSE na iteração 5000 é de [[0.43247052]]\n",
      "After 5636 iterations\n",
      "Ending gradient descent at  weights = [[0.13444624]\n",
      " [0.12631814]\n",
      " [0.16074068]\n",
      " [0.46815686]\n",
      " [0.04179104]], error = [[0.43246906]]\n",
      "Learning Rate = 1e-05\n",
      "CPU times: user 15.3 s, sys: 24 ms, total: 15.3 s\n",
      "Wall time: 15.3 s\n"
     ]
    }
   ],
   "source": [
    "%%time\n",
    "\n",
    "def run():\n",
    "    X = grades_df.iloc[:, 0:5]\n",
    "    Y = grades_df.cra[:,np.newaxis]\n",
    "    init_w = np.zeros((X.shape[1],1))\n",
    "    \n",
    "    learning_rate = 1e-5\n",
    "    epsilon = 1e-1\n",
    "    \n",
    "    initial_error = compute_mse_vectorized(init_w, X,Y)\n",
    "    print(\"Starting gradient descent at weights = {0}, error = {1}\".format(str(init_w), initial_error))\n",
    "    print(\"Running...\")\n",
    "    \n",
    "    history = gradient_descent_runner_vectorized(init_w, X, Y, learning_rate, epsilon, verbose=True)\n",
    "    \n",
    "    final_error = compute_mse_vectorized(history.weights.iloc[-1], X,Y)\n",
    "    \n",
    "    print(\"After {0} iterations\".format(history.iter.iloc[-1]))\n",
    "    print(\"Ending gradient descent at  weights = {0}, error = {1}\".format(str(history.weights.iloc[-1]), final_error))\n",
    "    print(\"Learning Rate = {}\".format(learning_rate))\n",
    "    \n",
    "    return history    \n",
    "\n",
    "\n",
    "h = run()"
   ]
  },
  {
   "cell_type": "markdown",
   "metadata": {},
   "source": [
    "## Testing with the Scikit-Learn Lib"
   ]
  },
  {
   "cell_type": "code",
   "execution_count": 33,
   "metadata": {},
   "outputs": [
    {
     "name": "stdout",
     "output_type": "stream",
     "text": [
      "Coefficients: \n",
      " [[0.10304143 0.0464367  0.16409834 0.38117843 0.02027816]]\n",
      "Mean squared error: 0.4113\n",
      "Variance score: 0.42\n",
      "CPU times: user 2.28 ms, sys: 0 ns, total: 2.28 ms\n",
      "Wall time: 1.9 ms\n"
     ]
    }
   ],
   "source": [
    "%%time\n",
    "\n",
    "X = grades_df.iloc[:, 0:5]\n",
    "Y = grades_df.cra[:,np.newaxis]\n",
    "\n",
    "regr = linear_model.LinearRegression()\n",
    "regr.fit(X, Y)\n",
    "\n",
    "Y_pred = regr.predict(X)\n",
    "\n",
    "# The coefficients\n",
    "print('Coefficients: \\n', regr.coef_)\n",
    "\n",
    "# The mean squared error\n",
    "print(\"Mean squared error: %.4f\"\n",
    "      % mean_squared_error(Y, Y_pred))\n",
    "\n",
    "# Explained variance score: 1 is perfect prediction\n",
    "print('Variance score: %.2f' % r2_score(Y, Y_pred))\n"
   ]
  },
  {
   "cell_type": "markdown",
   "metadata": {},
   "source": [
    "### Conclusões\n",
    "\n",
    "Observando os resultados obtidos com a biblioteca scikit-learn, nós podemos concluir que chegamos em um resultado bastante próximo em termos numéricos considerando tantos os pesos quanto o erro calculado (MSE). Entretanto, em termos de tempo de execução, nossa implementação é bem mais ineficiente."
   ]
  },
  {
   "cell_type": "markdown",
   "metadata": {},
   "source": [
    "# Extras"
   ]
  },
  {
   "cell_type": "markdown",
   "metadata": {},
   "source": [
    "## Define Plot Functions"
   ]
  },
  {
   "cell_type": "code",
   "execution_count": 45,
   "metadata": {},
   "outputs": [],
   "source": [
    "def calculate_cra(row, weights):\n",
    "    print(row)\n",
    "    print(\"row: \" + str(row))\n",
    "    print(\"weights: \" + str(weights))\n",
    "    return weights[0] * row['Calc1'] + \\\n",
    "           weights[1] * row['LPT'] + \\\n",
    "           weights[2] * row['P1'] + \\\n",
    "           weights[3] * row['IC'] + \\\n",
    "           weights[4] * row['Calc2']"
   ]
  },
  {
   "cell_type": "code",
   "execution_count": 46,
   "metadata": {},
   "outputs": [],
   "source": [
    "def plot_predicted_values_vs_orig_values(hist):\n",
    "    predictions_df = pd.DataFrame(grades_df)\n",
    "    \n",
    "    weights = [hist.grads.iloc[-1][i][0] for i in range(0, 5)]\n",
    "    \n",
    "    predictions_df['Predicted_Cra'] = predictions_df.apply(lambda row : calculate_cra(row, weights))\n",
    "   \n",
    "    \"\"\"for i in range(0, predictions_df.shape[0]):\n",
    "        [i] = '{:2.6f}'.format(w0 * predictions_df.Calc1.iloc[i] \\\n",
    "                                                              + w1 * predictions_df.LPT.iloc[i] \\\n",
    "                                                              + w2 * predictions_df.P1.iloc[i] \\\n",
    "                                                              + w3 * predictions_df.IC.iloc[i] \\\n",
    "                                                              + w4 * predictions_df.Calc2.iloc[i])\n",
    "    \"\"\"\n",
    "    \n",
    "    plt.plot(predictions_df['cra'], predictions_df['Predicted_Cra'], 'bo') \n",
    "    plt.title('Comparison of Original Cra and Predicted Cra') \n",
    "    plt.xlabel('Original CRA')\n",
    "    plt.ylabel('Predicted CRA')\n",
    "    plt.legend()\n",
    "\n",
    "    plt.figure()\n",
    "    plt.show()\n",
    "    "
   ]
  },
  {
   "cell_type": "code",
   "execution_count": 47,
   "metadata": {},
   "outputs": [],
   "source": [
    "def plot_model_error_on_training(hist):\n",
    "    plt.plot(hist['iter'], hist['error'] , 'r', label='Model Error') \n",
    "    plt.title('Model Error (RSS) By Iteration') \n",
    "    plt.legend()\n",
    "    \n",
    "    plt.xlabel(\"Iteration\")\n",
    "    plt.ylabel(\"Error\")\n",
    "    plt.figure()\n",
    "\n",
    "    plt.show()"
   ]
  },
  {
   "cell_type": "code",
   "execution_count": 48,
   "metadata": {},
   "outputs": [],
   "source": [
    "def plot_gradient_on_training(hist):\n",
    "    fig = plt.figure()\n",
    "    ax = fig.add_subplot(111, projection='3d')\n",
    "    \n",
    "    ax.scatter(hist['iter'], \n",
    "               hist['bias_grad'], \n",
    "               hist['slope_grad'])\n",
    "    ax.set_ylabel('Bias Gradient')\n",
    "    ax.set_zlabel('Slope Gradient')\n",
    "    ax.set_xlabel('Iter')\n",
    "    \n",
    "    plt.show()"
   ]
  },
  {
   "cell_type": "code",
   "execution_count": 49,
   "metadata": {},
   "outputs": [
    {
     "name": "stdout",
     "output_type": "stream",
     "text": [
      "Starting gradient descent at weights = [[0.]\n",
      " [0.]\n",
      " [0.]\n",
      " [0.]\n",
      " [0.]], error = [[54.47995386]]\n",
      "Running...\n",
      "MSE na iteração 0 é de [[13.63352979]]\n",
      "MSE na iteração 1000 é de [[0.43870244]]\n",
      "MSE na iteração 2000 é de [[0.43328946]]\n",
      "MSE na iteração 3000 é de [[0.43257927]]\n",
      "MSE na iteração 4000 é de [[0.43248347]]\n",
      "MSE na iteração 5000 é de [[0.43247052]]\n",
      "After 5636 iterations\n",
      "Ending gradient descent at  weights = [[0.13444624]\n",
      " [0.12631814]\n",
      " [0.16074068]\n",
      " [0.46815686]\n",
      " [0.04179104]], error = [[0.43246906]]\n",
      "Learning Rate = 1e-05\n"
     ]
    }
   ],
   "source": [
    "hist_1 = run()"
   ]
  },
  {
   "cell_type": "code",
   "execution_count": 50,
   "metadata": {},
   "outputs": [
    {
     "data": {
      "image/png": "[encoded data removed]",
      "text/plain": [
       "<Figure size 432x288 with 1 Axes>"
      ]
     },
     "metadata": {},
     "output_type": "display_data"
    },
    {
     "data": {
      "text/plain": [
       "<Figure size 432x288 with 0 Axes>"
      ]
     },
     "metadata": {},
     "output_type": "display_data"
    },
    {
     "name": "stdout",
     "output_type": "stream",
     "text": [
      "0     8.7\n",
      "1       7\n",
      "2     8.6\n",
      "3     7.8\n",
      "4     5.2\n",
      "5     6.1\n",
      "6     6.3\n",
      "7     7.5\n",
      "8     6.6\n",
      "9     7.5\n",
      "10    6.6\n",
      "11    8.4\n",
      "12    5.6\n",
      "13    9.7\n",
      "14    7.4\n",
      "15    7.2\n",
      "16    8.8\n",
      "17      7\n",
      "18    5.8\n",
      "19      7\n",
      "20      7\n",
      "21    9.2\n",
      "22    7.2\n",
      "23    5.6\n",
      "24    7.3\n",
      "25      7\n",
      "26    8.8\n",
      "27    8.3\n",
      "28      7\n",
      "29    6.1\n",
      "     ... \n",
      "58    8.7\n",
      "59    5.9\n",
      "60    7.2\n",
      "61    8.7\n",
      "62    7.2\n",
      "63    6.8\n",
      "64    8.1\n",
      "65    7.5\n",
      "66    7.1\n",
      "67    7.3\n",
      "68      7\n",
      "69    5.8\n",
      "70    5.1\n",
      "71    8.2\n",
      "72    9.8\n",
      "73    6.2\n",
      "74    8.7\n",
      "75    6.2\n",
      "76    7.8\n",
      "77    5.2\n",
      "78    6.7\n",
      "79    5.3\n",
      "80    7.2\n",
      "81    9.5\n",
      "82    5.6\n",
      "83    7.1\n",
      "84      8\n",
      "85      5\n",
      "86    9.5\n",
      "87    6.1\n",
      "Name: Calc1, Length: 88, dtype: object\n",
      "row: 0     8.7\n",
      "1       7\n",
      "2     8.6\n",
      "3     7.8\n",
      "4     5.2\n",
      "5     6.1\n",
      "6     6.3\n",
      "7     7.5\n",
      "8     6.6\n",
      "9     7.5\n",
      "10    6.6\n",
      "11    8.4\n",
      "12    5.6\n",
      "13    9.7\n",
      "14    7.4\n",
      "15    7.2\n",
      "16    8.8\n",
      "17      7\n",
      "18    5.8\n",
      "19      7\n",
      "20      7\n",
      "21    9.2\n",
      "22    7.2\n",
      "23    5.6\n",
      "24    7.3\n",
      "25      7\n",
      "26    8.8\n",
      "27    8.3\n",
      "28      7\n",
      "29    6.1\n",
      "     ... \n",
      "58    8.7\n",
      "59    5.9\n",
      "60    7.2\n",
      "61    8.7\n",
      "62    7.2\n",
      "63    6.8\n",
      "64    8.1\n",
      "65    7.5\n",
      "66    7.1\n",
      "67    7.3\n",
      "68      7\n",
      "69    5.8\n",
      "70    5.1\n",
      "71    8.2\n",
      "72    9.8\n",
      "73    6.2\n",
      "74    8.7\n",
      "75    6.2\n",
      "76    7.8\n",
      "77    5.2\n",
      "78    6.7\n",
      "79    5.3\n",
      "80    7.2\n",
      "81    9.5\n",
      "82    5.6\n",
      "83    7.1\n",
      "84      8\n",
      "85      5\n",
      "86    9.5\n",
      "87    6.1\n",
      "Name: Calc1, Length: 88, dtype: object\n",
      "weights: [0.013422219684933623, 0.045923277769801985, 0.023207198753325997, -0.08451374178635973, 0.005001236143968413]\n",
      "0     8.7\n",
      "1     7.0\n",
      "2     8.6\n",
      "3     7.8\n",
      "4     5.2\n",
      "5     6.1\n",
      "6     6.3\n",
      "7     7.5\n",
      "8     6.6\n",
      "9     7.5\n",
      "10    6.6\n",
      "11    8.4\n",
      "12    5.6\n",
      "13    9.7\n",
      "14    7.4\n",
      "15    7.2\n",
      "16    8.8\n",
      "17    7.0\n",
      "18    5.8\n",
      "19    7.0\n",
      "20    7.0\n",
      "21    9.2\n",
      "22    7.2\n",
      "23    5.6\n",
      "24    7.3\n",
      "25    7.0\n",
      "26    8.8\n",
      "27    8.3\n",
      "28    7.0\n",
      "29    6.1\n",
      "     ... \n",
      "58    8.7\n",
      "59    5.9\n",
      "60    7.2\n",
      "61    8.7\n",
      "62    7.2\n",
      "63    6.8\n",
      "64    8.1\n",
      "65    7.5\n",
      "66    7.1\n",
      "67    7.3\n",
      "68    7.0\n",
      "69    5.8\n",
      "70    5.1\n",
      "71    8.2\n",
      "72    9.8\n",
      "73    6.2\n",
      "74    8.7\n",
      "75    6.2\n",
      "76    7.8\n",
      "77    5.2\n",
      "78    6.7\n",
      "79    5.3\n",
      "80    7.2\n",
      "81    9.5\n",
      "82    5.6\n",
      "83    7.1\n",
      "84    8.0\n",
      "85    5.0\n",
      "86    9.5\n",
      "87    6.1\n",
      "Name: Calc1, Length: 88, dtype: float64\n",
      "row: 0     8.7\n",
      "1     7.0\n",
      "2     8.6\n",
      "3     7.8\n",
      "4     5.2\n",
      "5     6.1\n",
      "6     6.3\n",
      "7     7.5\n",
      "8     6.6\n",
      "9     7.5\n",
      "10    6.6\n",
      "11    8.4\n",
      "12    5.6\n",
      "13    9.7\n",
      "14    7.4\n",
      "15    7.2\n",
      "16    8.8\n",
      "17    7.0\n",
      "18    5.8\n",
      "19    7.0\n",
      "20    7.0\n",
      "21    9.2\n",
      "22    7.2\n",
      "23    5.6\n",
      "24    7.3\n",
      "25    7.0\n",
      "26    8.8\n",
      "27    8.3\n",
      "28    7.0\n",
      "29    6.1\n",
      "     ... \n",
      "58    8.7\n",
      "59    5.9\n",
      "60    7.2\n",
      "61    8.7\n",
      "62    7.2\n",
      "63    6.8\n",
      "64    8.1\n",
      "65    7.5\n",
      "66    7.1\n",
      "67    7.3\n",
      "68    7.0\n",
      "69    5.8\n",
      "70    5.1\n",
      "71    8.2\n",
      "72    9.8\n",
      "73    6.2\n",
      "74    8.7\n",
      "75    6.2\n",
      "76    7.8\n",
      "77    5.2\n",
      "78    6.7\n",
      "79    5.3\n",
      "80    7.2\n",
      "81    9.5\n",
      "82    5.6\n",
      "83    7.1\n",
      "84    8.0\n",
      "85    5.0\n",
      "86    9.5\n",
      "87    6.1\n",
      "Name: Calc1, Length: 88, dtype: float64\n",
      "weights: [0.013422219684933623, 0.045923277769801985, 0.023207198753325997, -0.08451374178635973, 0.005001236143968413]\n"
     ]
    },
    {
     "ename": "KeyError",
     "evalue": "('Calc1', 'occurred at index Calc1')",
     "output_type": "error",
     "traceback": [
      "\u001b[0;31m---------------------------------------------------------------------------\u001b[0m",
      "\u001b[0;31mTypeError\u001b[0m                                 Traceback (most recent call last)",
      "\u001b[0;32m~/anaconda3/envs/ml-mestrado/lib/python3.6/site-packages/pandas/core/indexes/base.py\u001b[0m in \u001b[0;36mget_value\u001b[0;34m(self, series, key)\u001b[0m\n\u001b[1;32m   3123\u001b[0m             \u001b[0;32mtry\u001b[0m\u001b[0;34m:\u001b[0m\u001b[0;34m\u001b[0m\u001b[0m\n\u001b[0;32m-> 3124\u001b[0;31m                 \u001b[0;32mreturn\u001b[0m \u001b[0mlibindex\u001b[0m\u001b[0;34m.\u001b[0m\u001b[0mget_value_box\u001b[0m\u001b[0;34m(\u001b[0m\u001b[0ms\u001b[0m\u001b[0;34m,\u001b[0m \u001b[0mkey\u001b[0m\u001b[0;34m)\u001b[0m\u001b[0;34m\u001b[0m\u001b[0m\n\u001b[0m\u001b[1;32m   3125\u001b[0m             \u001b[0;32mexcept\u001b[0m \u001b[0mIndexError\u001b[0m\u001b[0;34m:\u001b[0m\u001b[0;34m\u001b[0m\u001b[0m\n",
      "\u001b[0;32mpandas/_libs/index.pyx\u001b[0m in \u001b[0;36mpandas._libs.index.get_value_box\u001b[0;34m()\u001b[0m\n",
      "\u001b[0;32mpandas/_libs/index.pyx\u001b[0m in \u001b[0;36mpandas._libs.index.get_value_box\u001b[0;34m()\u001b[0m\n",
      "\u001b[0;31mTypeError\u001b[0m: 'str' object cannot be interpreted as an integer",
      "\nDuring handling of the above exception, another exception occurred:\n",
      "\u001b[0;31mKeyError\u001b[0m                                  Traceback (most recent call last)",
      "\u001b[0;32m<ipython-input-50-bdef03ba5134>\u001b[0m in \u001b[0;36m<module>\u001b[0;34m()\u001b[0m\n\u001b[1;32m      1\u001b[0m \u001b[0mplot_model_error_on_training\u001b[0m\u001b[0;34m(\u001b[0m\u001b[0mhist_1\u001b[0m\u001b[0;34m)\u001b[0m\u001b[0;34m\u001b[0m\u001b[0m\n\u001b[0;32m----> 2\u001b[0;31m \u001b[0mplot_predicted_values_vs_orig_values\u001b[0m\u001b[0;34m(\u001b[0m\u001b[0mhist_1\u001b[0m\u001b[0;34m)\u001b[0m\u001b[0;34m\u001b[0m\u001b[0m\n\u001b[0m\u001b[1;32m      3\u001b[0m \u001b[0;31m#plot_gradient_on_training(hist_ite/m_5)\u001b[0m\u001b[0;34m\u001b[0m\u001b[0;34m\u001b[0m\u001b[0m\n",
      "\u001b[0;32m<ipython-input-46-b8a0b46d1928>\u001b[0m in \u001b[0;36mplot_predicted_values_vs_orig_values\u001b[0;34m(hist)\u001b[0m\n\u001b[1;32m      4\u001b[0m     \u001b[0mweights\u001b[0m \u001b[0;34m=\u001b[0m \u001b[0;34m[\u001b[0m\u001b[0mhist\u001b[0m\u001b[0;34m.\u001b[0m\u001b[0mgrads\u001b[0m\u001b[0;34m.\u001b[0m\u001b[0miloc\u001b[0m\u001b[0;34m[\u001b[0m\u001b[0;34m-\u001b[0m\u001b[0;36m1\u001b[0m\u001b[0;34m]\u001b[0m\u001b[0;34m[\u001b[0m\u001b[0mi\u001b[0m\u001b[0;34m]\u001b[0m\u001b[0;34m[\u001b[0m\u001b[0;36m0\u001b[0m\u001b[0;34m]\u001b[0m \u001b[0;32mfor\u001b[0m \u001b[0mi\u001b[0m \u001b[0;32min\u001b[0m \u001b[0mrange\u001b[0m\u001b[0;34m(\u001b[0m\u001b[0;36m0\u001b[0m\u001b[0;34m,\u001b[0m \u001b[0;36m5\u001b[0m\u001b[0;34m)\u001b[0m\u001b[0;34m]\u001b[0m\u001b[0;34m\u001b[0m\u001b[0m\n\u001b[1;32m      5\u001b[0m \u001b[0;34m\u001b[0m\u001b[0m\n\u001b[0;32m----> 6\u001b[0;31m     \u001b[0mpredictions_df\u001b[0m\u001b[0;34m[\u001b[0m\u001b[0;34m'Predicted_Cra'\u001b[0m\u001b[0;34m]\u001b[0m \u001b[0;34m=\u001b[0m \u001b[0mpredictions_df\u001b[0m\u001b[0;34m.\u001b[0m\u001b[0mapply\u001b[0m\u001b[0;34m(\u001b[0m\u001b[0;32mlambda\u001b[0m \u001b[0mrow\u001b[0m \u001b[0;34m:\u001b[0m \u001b[0mcalculate_cra\u001b[0m\u001b[0;34m(\u001b[0m\u001b[0mrow\u001b[0m\u001b[0;34m,\u001b[0m \u001b[0mweights\u001b[0m\u001b[0;34m)\u001b[0m\u001b[0;34m)\u001b[0m\u001b[0;34m\u001b[0m\u001b[0m\n\u001b[0m\u001b[1;32m      7\u001b[0m \u001b[0;34m\u001b[0m\u001b[0m\n\u001b[1;32m      8\u001b[0m     \"\"\"for i in range(0, predictions_df.shape[0]):\n",
      "\u001b[0;32m~/anaconda3/envs/ml-mestrado/lib/python3.6/site-packages/pandas/core/frame.py\u001b[0m in \u001b[0;36mapply\u001b[0;34m(self, func, axis, broadcast, raw, reduce, result_type, args, **kwds)\u001b[0m\n\u001b[1;32m   6012\u001b[0m                          \u001b[0margs\u001b[0m\u001b[0;34m=\u001b[0m\u001b[0margs\u001b[0m\u001b[0;34m,\u001b[0m\u001b[0;34m\u001b[0m\u001b[0m\n\u001b[1;32m   6013\u001b[0m                          kwds=kwds)\n\u001b[0;32m-> 6014\u001b[0;31m         \u001b[0;32mreturn\u001b[0m \u001b[0mop\u001b[0m\u001b[0;34m.\u001b[0m\u001b[0mget_result\u001b[0m\u001b[0;34m(\u001b[0m\u001b[0;34m)\u001b[0m\u001b[0;34m\u001b[0m\u001b[0m\n\u001b[0m\u001b[1;32m   6015\u001b[0m \u001b[0;34m\u001b[0m\u001b[0m\n\u001b[1;32m   6016\u001b[0m     \u001b[0;32mdef\u001b[0m \u001b[0mapplymap\u001b[0m\u001b[0;34m(\u001b[0m\u001b[0mself\u001b[0m\u001b[0;34m,\u001b[0m \u001b[0mfunc\u001b[0m\u001b[0;34m)\u001b[0m\u001b[0;34m:\u001b[0m\u001b[0;34m\u001b[0m\u001b[0m\n",
      "\u001b[0;32m~/anaconda3/envs/ml-mestrado/lib/python3.6/site-packages/pandas/core/apply.py\u001b[0m in \u001b[0;36mget_result\u001b[0;34m(self)\u001b[0m\n\u001b[1;32m    316\u001b[0m                                       *self.args, **self.kwds)\n\u001b[1;32m    317\u001b[0m \u001b[0;34m\u001b[0m\u001b[0m\n\u001b[0;32m--> 318\u001b[0;31m         \u001b[0;32mreturn\u001b[0m \u001b[0msuper\u001b[0m\u001b[0;34m(\u001b[0m\u001b[0mFrameRowApply\u001b[0m\u001b[0;34m,\u001b[0m \u001b[0mself\u001b[0m\u001b[0;34m)\u001b[0m\u001b[0;34m.\u001b[0m\u001b[0mget_result\u001b[0m\u001b[0;34m(\u001b[0m\u001b[0;34m)\u001b[0m\u001b[0;34m\u001b[0m\u001b[0m\n\u001b[0m\u001b[1;32m    319\u001b[0m \u001b[0;34m\u001b[0m\u001b[0m\n\u001b[1;32m    320\u001b[0m     \u001b[0;32mdef\u001b[0m \u001b[0mapply_broadcast\u001b[0m\u001b[0;34m(\u001b[0m\u001b[0mself\u001b[0m\u001b[0;34m)\u001b[0m\u001b[0;34m:\u001b[0m\u001b[0;34m\u001b[0m\u001b[0m\n",
      "\u001b[0;32m~/anaconda3/envs/ml-mestrado/lib/python3.6/site-packages/pandas/core/apply.py\u001b[0m in \u001b[0;36mget_result\u001b[0;34m(self)\u001b[0m\n\u001b[1;32m    140\u001b[0m             \u001b[0;32mreturn\u001b[0m \u001b[0mself\u001b[0m\u001b[0;34m.\u001b[0m\u001b[0mapply_raw\u001b[0m\u001b[0;34m(\u001b[0m\u001b[0;34m)\u001b[0m\u001b[0;34m\u001b[0m\u001b[0m\n\u001b[1;32m    141\u001b[0m \u001b[0;34m\u001b[0m\u001b[0m\n\u001b[0;32m--> 142\u001b[0;31m         \u001b[0;32mreturn\u001b[0m \u001b[0mself\u001b[0m\u001b[0;34m.\u001b[0m\u001b[0mapply_standard\u001b[0m\u001b[0;34m(\u001b[0m\u001b[0;34m)\u001b[0m\u001b[0;34m\u001b[0m\u001b[0m\n\u001b[0m\u001b[1;32m    143\u001b[0m \u001b[0;34m\u001b[0m\u001b[0m\n\u001b[1;32m    144\u001b[0m     \u001b[0;32mdef\u001b[0m \u001b[0mapply_empty_result\u001b[0m\u001b[0;34m(\u001b[0m\u001b[0mself\u001b[0m\u001b[0;34m)\u001b[0m\u001b[0;34m:\u001b[0m\u001b[0;34m\u001b[0m\u001b[0m\n",
      "\u001b[0;32m~/anaconda3/envs/ml-mestrado/lib/python3.6/site-packages/pandas/core/apply.py\u001b[0m in \u001b[0;36mapply_standard\u001b[0;34m(self)\u001b[0m\n\u001b[1;32m    246\u001b[0m \u001b[0;34m\u001b[0m\u001b[0m\n\u001b[1;32m    247\u001b[0m         \u001b[0;31m# compute the result using the series generator\u001b[0m\u001b[0;34m\u001b[0m\u001b[0;34m\u001b[0m\u001b[0m\n\u001b[0;32m--> 248\u001b[0;31m         \u001b[0mself\u001b[0m\u001b[0;34m.\u001b[0m\u001b[0mapply_series_generator\u001b[0m\u001b[0;34m(\u001b[0m\u001b[0;34m)\u001b[0m\u001b[0;34m\u001b[0m\u001b[0m\n\u001b[0m\u001b[1;32m    249\u001b[0m \u001b[0;34m\u001b[0m\u001b[0m\n\u001b[1;32m    250\u001b[0m         \u001b[0;31m# wrap results\u001b[0m\u001b[0;34m\u001b[0m\u001b[0;34m\u001b[0m\u001b[0m\n",
      "\u001b[0;32m~/anaconda3/envs/ml-mestrado/lib/python3.6/site-packages/pandas/core/apply.py\u001b[0m in \u001b[0;36mapply_series_generator\u001b[0;34m(self)\u001b[0m\n\u001b[1;32m    275\u001b[0m             \u001b[0;32mtry\u001b[0m\u001b[0;34m:\u001b[0m\u001b[0;34m\u001b[0m\u001b[0m\n\u001b[1;32m    276\u001b[0m                 \u001b[0;32mfor\u001b[0m \u001b[0mi\u001b[0m\u001b[0;34m,\u001b[0m \u001b[0mv\u001b[0m \u001b[0;32min\u001b[0m \u001b[0menumerate\u001b[0m\u001b[0;34m(\u001b[0m\u001b[0mseries_gen\u001b[0m\u001b[0;34m)\u001b[0m\u001b[0;34m:\u001b[0m\u001b[0;34m\u001b[0m\u001b[0m\n\u001b[0;32m--> 277\u001b[0;31m                     \u001b[0mresults\u001b[0m\u001b[0;34m[\u001b[0m\u001b[0mi\u001b[0m\u001b[0;34m]\u001b[0m \u001b[0;34m=\u001b[0m \u001b[0mself\u001b[0m\u001b[0;34m.\u001b[0m\u001b[0mf\u001b[0m\u001b[0;34m(\u001b[0m\u001b[0mv\u001b[0m\u001b[0;34m)\u001b[0m\u001b[0;34m\u001b[0m\u001b[0m\n\u001b[0m\u001b[1;32m    278\u001b[0m                     \u001b[0mkeys\u001b[0m\u001b[0;34m.\u001b[0m\u001b[0mappend\u001b[0m\u001b[0;34m(\u001b[0m\u001b[0mv\u001b[0m\u001b[0;34m.\u001b[0m\u001b[0mname\u001b[0m\u001b[0;34m)\u001b[0m\u001b[0;34m\u001b[0m\u001b[0m\n\u001b[1;32m    279\u001b[0m             \u001b[0;32mexcept\u001b[0m \u001b[0mException\u001b[0m \u001b[0;32mas\u001b[0m \u001b[0me\u001b[0m\u001b[0;34m:\u001b[0m\u001b[0;34m\u001b[0m\u001b[0m\n",
      "\u001b[0;32m<ipython-input-46-b8a0b46d1928>\u001b[0m in \u001b[0;36m<lambda>\u001b[0;34m(row)\u001b[0m\n\u001b[1;32m      4\u001b[0m     \u001b[0mweights\u001b[0m \u001b[0;34m=\u001b[0m \u001b[0;34m[\u001b[0m\u001b[0mhist\u001b[0m\u001b[0;34m.\u001b[0m\u001b[0mgrads\u001b[0m\u001b[0;34m.\u001b[0m\u001b[0miloc\u001b[0m\u001b[0;34m[\u001b[0m\u001b[0;34m-\u001b[0m\u001b[0;36m1\u001b[0m\u001b[0;34m]\u001b[0m\u001b[0;34m[\u001b[0m\u001b[0mi\u001b[0m\u001b[0;34m]\u001b[0m\u001b[0;34m[\u001b[0m\u001b[0;36m0\u001b[0m\u001b[0;34m]\u001b[0m \u001b[0;32mfor\u001b[0m \u001b[0mi\u001b[0m \u001b[0;32min\u001b[0m \u001b[0mrange\u001b[0m\u001b[0;34m(\u001b[0m\u001b[0;36m0\u001b[0m\u001b[0;34m,\u001b[0m \u001b[0;36m5\u001b[0m\u001b[0;34m)\u001b[0m\u001b[0;34m]\u001b[0m\u001b[0;34m\u001b[0m\u001b[0m\n\u001b[1;32m      5\u001b[0m \u001b[0;34m\u001b[0m\u001b[0m\n\u001b[0;32m----> 6\u001b[0;31m     \u001b[0mpredictions_df\u001b[0m\u001b[0;34m[\u001b[0m\u001b[0;34m'Predicted_Cra'\u001b[0m\u001b[0;34m]\u001b[0m \u001b[0;34m=\u001b[0m \u001b[0mpredictions_df\u001b[0m\u001b[0;34m.\u001b[0m\u001b[0mapply\u001b[0m\u001b[0;34m(\u001b[0m\u001b[0;32mlambda\u001b[0m \u001b[0mrow\u001b[0m \u001b[0;34m:\u001b[0m \u001b[0mcalculate_cra\u001b[0m\u001b[0;34m(\u001b[0m\u001b[0mrow\u001b[0m\u001b[0;34m,\u001b[0m \u001b[0mweights\u001b[0m\u001b[0;34m)\u001b[0m\u001b[0;34m)\u001b[0m\u001b[0;34m\u001b[0m\u001b[0m\n\u001b[0m\u001b[1;32m      7\u001b[0m \u001b[0;34m\u001b[0m\u001b[0m\n\u001b[1;32m      8\u001b[0m     \"\"\"for i in range(0, predictions_df.shape[0]):\n",
      "\u001b[0;32m<ipython-input-45-44d2fd7a80c8>\u001b[0m in \u001b[0;36mcalculate_cra\u001b[0;34m(row, weights)\u001b[0m\n\u001b[1;32m      3\u001b[0m     \u001b[0mprint\u001b[0m\u001b[0;34m(\u001b[0m\u001b[0;34m\"row: \"\u001b[0m \u001b[0;34m+\u001b[0m \u001b[0mstr\u001b[0m\u001b[0;34m(\u001b[0m\u001b[0mrow\u001b[0m\u001b[0;34m)\u001b[0m\u001b[0;34m)\u001b[0m\u001b[0;34m\u001b[0m\u001b[0m\n\u001b[1;32m      4\u001b[0m     \u001b[0mprint\u001b[0m\u001b[0;34m(\u001b[0m\u001b[0;34m\"weights: \"\u001b[0m \u001b[0;34m+\u001b[0m \u001b[0mstr\u001b[0m\u001b[0;34m(\u001b[0m\u001b[0mweights\u001b[0m\u001b[0;34m)\u001b[0m\u001b[0;34m)\u001b[0m\u001b[0;34m\u001b[0m\u001b[0m\n\u001b[0;32m----> 5\u001b[0;31m     \u001b[0;32mreturn\u001b[0m \u001b[0mweights\u001b[0m\u001b[0;34m[\u001b[0m\u001b[0;36m0\u001b[0m\u001b[0;34m]\u001b[0m \u001b[0;34m*\u001b[0m \u001b[0mrow\u001b[0m\u001b[0;34m[\u001b[0m\u001b[0;34m'Calc1'\u001b[0m\u001b[0;34m]\u001b[0m \u001b[0;34m+\u001b[0m            \u001b[0mweights\u001b[0m\u001b[0;34m[\u001b[0m\u001b[0;36m1\u001b[0m\u001b[0;34m]\u001b[0m \u001b[0;34m*\u001b[0m \u001b[0mrow\u001b[0m\u001b[0;34m[\u001b[0m\u001b[0;34m'LPT'\u001b[0m\u001b[0;34m]\u001b[0m \u001b[0;34m+\u001b[0m            \u001b[0mweights\u001b[0m\u001b[0;34m[\u001b[0m\u001b[0;36m2\u001b[0m\u001b[0;34m]\u001b[0m \u001b[0;34m*\u001b[0m \u001b[0mrow\u001b[0m\u001b[0;34m[\u001b[0m\u001b[0;34m'P1'\u001b[0m\u001b[0;34m]\u001b[0m \u001b[0;34m+\u001b[0m            \u001b[0mweights\u001b[0m\u001b[0;34m[\u001b[0m\u001b[0;36m3\u001b[0m\u001b[0;34m]\u001b[0m \u001b[0;34m*\u001b[0m \u001b[0mrow\u001b[0m\u001b[0;34m[\u001b[0m\u001b[0;34m'IC'\u001b[0m\u001b[0;34m]\u001b[0m \u001b[0;34m+\u001b[0m            \u001b[0mweights\u001b[0m\u001b[0;34m[\u001b[0m\u001b[0;36m4\u001b[0m\u001b[0;34m]\u001b[0m \u001b[0;34m*\u001b[0m \u001b[0mrow\u001b[0m\u001b[0;34m[\u001b[0m\u001b[0;34m'Calc2'\u001b[0m\u001b[0;34m]\u001b[0m\u001b[0;34m\u001b[0m\u001b[0m\n\u001b[0m",
      "\u001b[0;32m~/anaconda3/envs/ml-mestrado/lib/python3.6/site-packages/pandas/core/series.py\u001b[0m in \u001b[0;36m__getitem__\u001b[0;34m(self, key)\u001b[0m\n\u001b[1;32m    765\u001b[0m         \u001b[0mkey\u001b[0m \u001b[0;34m=\u001b[0m \u001b[0mcom\u001b[0m\u001b[0;34m.\u001b[0m\u001b[0m_apply_if_callable\u001b[0m\u001b[0;34m(\u001b[0m\u001b[0mkey\u001b[0m\u001b[0;34m,\u001b[0m \u001b[0mself\u001b[0m\u001b[0;34m)\u001b[0m\u001b[0;34m\u001b[0m\u001b[0m\n\u001b[1;32m    766\u001b[0m         \u001b[0;32mtry\u001b[0m\u001b[0;34m:\u001b[0m\u001b[0;34m\u001b[0m\u001b[0m\n\u001b[0;32m--> 767\u001b[0;31m             \u001b[0mresult\u001b[0m \u001b[0;34m=\u001b[0m \u001b[0mself\u001b[0m\u001b[0;34m.\u001b[0m\u001b[0mindex\u001b[0m\u001b[0;34m.\u001b[0m\u001b[0mget_value\u001b[0m\u001b[0;34m(\u001b[0m\u001b[0mself\u001b[0m\u001b[0;34m,\u001b[0m \u001b[0mkey\u001b[0m\u001b[0;34m)\u001b[0m\u001b[0;34m\u001b[0m\u001b[0m\n\u001b[0m\u001b[1;32m    768\u001b[0m \u001b[0;34m\u001b[0m\u001b[0m\n\u001b[1;32m    769\u001b[0m             \u001b[0;32mif\u001b[0m \u001b[0;32mnot\u001b[0m \u001b[0mis_scalar\u001b[0m\u001b[0;34m(\u001b[0m\u001b[0mresult\u001b[0m\u001b[0;34m)\u001b[0m\u001b[0;34m:\u001b[0m\u001b[0;34m\u001b[0m\u001b[0m\n",
      "\u001b[0;32m~/anaconda3/envs/ml-mestrado/lib/python3.6/site-packages/pandas/core/indexes/base.py\u001b[0m in \u001b[0;36mget_value\u001b[0;34m(self, series, key)\u001b[0m\n\u001b[1;32m   3130\u001b[0m                     \u001b[0;32mraise\u001b[0m \u001b[0mInvalidIndexError\u001b[0m\u001b[0;34m(\u001b[0m\u001b[0mkey\u001b[0m\u001b[0;34m)\u001b[0m\u001b[0;34m\u001b[0m\u001b[0m\n\u001b[1;32m   3131\u001b[0m                 \u001b[0;32melse\u001b[0m\u001b[0;34m:\u001b[0m\u001b[0;34m\u001b[0m\u001b[0m\n\u001b[0;32m-> 3132\u001b[0;31m                     \u001b[0;32mraise\u001b[0m \u001b[0me1\u001b[0m\u001b[0;34m\u001b[0m\u001b[0m\n\u001b[0m\u001b[1;32m   3133\u001b[0m             \u001b[0;32mexcept\u001b[0m \u001b[0mException\u001b[0m\u001b[0;34m:\u001b[0m  \u001b[0;31m# pragma: no cover\u001b[0m\u001b[0;34m\u001b[0m\u001b[0m\n\u001b[1;32m   3134\u001b[0m                 \u001b[0;32mraise\u001b[0m \u001b[0me1\u001b[0m\u001b[0;34m\u001b[0m\u001b[0m\n",
      "\u001b[0;32m~/anaconda3/envs/ml-mestrado/lib/python3.6/site-packages/pandas/core/indexes/base.py\u001b[0m in \u001b[0;36mget_value\u001b[0;34m(self, series, key)\u001b[0m\n\u001b[1;32m   3116\u001b[0m         \u001b[0;32mtry\u001b[0m\u001b[0;34m:\u001b[0m\u001b[0;34m\u001b[0m\u001b[0m\n\u001b[1;32m   3117\u001b[0m             return self._engine.get_value(s, k,\n\u001b[0;32m-> 3118\u001b[0;31m                                           tz=getattr(series.dtype, 'tz', None))\n\u001b[0m\u001b[1;32m   3119\u001b[0m         \u001b[0;32mexcept\u001b[0m \u001b[0mKeyError\u001b[0m \u001b[0;32mas\u001b[0m \u001b[0me1\u001b[0m\u001b[0;34m:\u001b[0m\u001b[0;34m\u001b[0m\u001b[0m\n\u001b[1;32m   3120\u001b[0m             \u001b[0;32mif\u001b[0m \u001b[0mlen\u001b[0m\u001b[0;34m(\u001b[0m\u001b[0mself\u001b[0m\u001b[0;34m)\u001b[0m \u001b[0;34m>\u001b[0m \u001b[0;36m0\u001b[0m \u001b[0;32mand\u001b[0m \u001b[0mself\u001b[0m\u001b[0;34m.\u001b[0m\u001b[0minferred_type\u001b[0m \u001b[0;32min\u001b[0m \u001b[0;34m[\u001b[0m\u001b[0;34m'integer'\u001b[0m\u001b[0;34m,\u001b[0m \u001b[0;34m'boolean'\u001b[0m\u001b[0;34m]\u001b[0m\u001b[0;34m:\u001b[0m\u001b[0;34m\u001b[0m\u001b[0m\n",
      "\u001b[0;32mpandas/_libs/index.pyx\u001b[0m in \u001b[0;36mpandas._libs.index.IndexEngine.get_value\u001b[0;34m()\u001b[0m\n",
      "\u001b[0;32mpandas/_libs/index.pyx\u001b[0m in \u001b[0;36mpandas._libs.index.IndexEngine.get_value\u001b[0;34m()\u001b[0m\n",
      "\u001b[0;32mpandas/_libs/index.pyx\u001b[0m in \u001b[0;36mpandas._libs.index.IndexEngine.get_loc\u001b[0;34m()\u001b[0m\n",
      "\u001b[0;32mpandas/_libs/hashtable_class_helper.pxi\u001b[0m in \u001b[0;36mpandas._libs.hashtable.PyObjectHashTable.get_item\u001b[0;34m()\u001b[0m\n",
      "\u001b[0;32mpandas/_libs/hashtable_class_helper.pxi\u001b[0m in \u001b[0;36mpandas._libs.hashtable.PyObjectHashTable.get_item\u001b[0;34m()\u001b[0m\n",
      "\u001b[0;31mKeyError\u001b[0m: ('Calc1', 'occurred at index Calc1')"
     ]
    }
   ],
   "source": [
    "plot_model_error_on_training(hist_1)\n",
    "plot_predicted_values_vs_orig_values(hist_1)\n",
    "#plot_gradient_on_training(hist_ite/m_5)"
   ]
  }
 ],
 "metadata": {
  "kernelspec": {
   "display_name": "Python 3",
   "language": "python",
   "name": "python3"
  },
  "language_info": {
   "codemirror_mode": {
    "name": "ipython",
    "version": 3
   },
   "file_extension": ".py",
   "mimetype": "text/x-python",
   "name": "python",
   "nbconvert_exporter": "python",
   "pygments_lexer": "ipython3",
   "version": "3.6.6"
  }
 },
 "nbformat": 4,
 "nbformat_minor": 2
}
