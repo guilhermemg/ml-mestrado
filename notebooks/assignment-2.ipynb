{
 "cells": [
  {
   "cell_type": "markdown",
   "metadata": {},
   "source": [
    "# Descrição\n",
    "\n",
    "Nessa tarefa você vai estender sua implementação da tarefa passada para considerar múltiplas variáveis. Você pode estender a versão vetorizada implementada neste notebook para regressão simples. \n",
    "\n",
    "- Rode o algoritmo nesses dados, onde as linhas representam as notas de alunos de computação de alunos da UFCG em algumas disciplinas do primeiro período. A última coluna é a variável alvo representando o CRA final depois de concluir o curso. As outras colunas são algumas disciplinas do primeiro período. O pressuposto aqui é que as notas em disciplinas no primeiro período ajudam a explicar o CRA final dos alunos de computação.\n",
    "\n",
    "- Compare o valor dos coeficientes estimados pelo seu algoritmo com o valor dos coeficientes da regressão linear do scikit learn para testar se o seu algoritmo está funcionando corretamente.\n",
    "\n",
    "A entrega deve ser o link no seu github para o notebook Jupyter com código python e texto explicativo quando necessário. De preferência, crie um repositório na sua conta do github e envie o link do html do notebook."
   ]
  },
  {
   "cell_type": "markdown",
   "metadata": {},
   "source": [
    "# Import Libraries"
   ]
  },
  {
   "cell_type": "code",
   "execution_count": 128,
   "metadata": {},
   "outputs": [],
   "source": [
    "import numpy as np\n",
    "import pandas as pd\n",
    "from sklearn import linear_model\n",
    "from sklearn.metrics import mean_squared_error, r2_score\n",
    "\n",
    "import matplotlib.pyplot as plt\n",
    "from mpl_toolkits.mplot3d import Axes3D\n",
    "\n",
    "import seaborn as sns\n",
    "sns.set(style=\"ticks\")"
   ]
  },
  {
   "cell_type": "markdown",
   "metadata": {},
   "source": [
    "# Load Data"
   ]
  },
  {
   "cell_type": "code",
   "execution_count": 129,
   "metadata": {},
   "outputs": [
    {
     "data": {
      "text/html": [
       "<div>\n",
       "<style scoped>\n",
       "    .dataframe tbody tr th:only-of-type {\n",
       "        vertical-align: middle;\n",
       "    }\n",
       "\n",
       "    .dataframe tbody tr th {\n",
       "        vertical-align: top;\n",
       "    }\n",
       "\n",
       "    .dataframe thead th {\n",
       "        text-align: right;\n",
       "    }\n",
       "</style>\n",
       "<table border=\"1\" class=\"dataframe\">\n",
       "  <thead>\n",
       "    <tr style=\"text-align: right;\">\n",
       "      <th></th>\n",
       "      <th>Calc1</th>\n",
       "      <th>LPT</th>\n",
       "      <th>P1</th>\n",
       "      <th>IC</th>\n",
       "      <th>Calc2</th>\n",
       "      <th>cra</th>\n",
       "    </tr>\n",
       "  </thead>\n",
       "  <tbody>\n",
       "    <tr>\n",
       "      <th>0</th>\n",
       "      <td>8.7</td>\n",
       "      <td>10.0</td>\n",
       "      <td>9.0</td>\n",
       "      <td>9.1</td>\n",
       "      <td>8.4</td>\n",
       "      <td>8.477647</td>\n",
       "    </tr>\n",
       "    <tr>\n",
       "      <th>1</th>\n",
       "      <td>7.0</td>\n",
       "      <td>7.0</td>\n",
       "      <td>7.7</td>\n",
       "      <td>7.0</td>\n",
       "      <td>6.2</td>\n",
       "      <td>6.851724</td>\n",
       "    </tr>\n",
       "    <tr>\n",
       "      <th>2</th>\n",
       "      <td>8.6</td>\n",
       "      <td>9.8</td>\n",
       "      <td>7.9</td>\n",
       "      <td>9.6</td>\n",
       "      <td>8.7</td>\n",
       "      <td>9.090588</td>\n",
       "    </tr>\n",
       "    <tr>\n",
       "      <th>3</th>\n",
       "      <td>7.8</td>\n",
       "      <td>8.3</td>\n",
       "      <td>6.8</td>\n",
       "      <td>8.2</td>\n",
       "      <td>8.0</td>\n",
       "      <td>7.283516</td>\n",
       "    </tr>\n",
       "    <tr>\n",
       "      <th>4</th>\n",
       "      <td>5.2</td>\n",
       "      <td>9.3</td>\n",
       "      <td>5.0</td>\n",
       "      <td>8.5</td>\n",
       "      <td>5.0</td>\n",
       "      <td>7.205747</td>\n",
       "    </tr>\n",
       "  </tbody>\n",
       "</table>\n",
       "</div>"
      ],
      "text/plain": [
       "   Calc1   LPT   P1   IC  Calc2       cra\n",
       "0    8.7  10.0  9.0  9.1    8.4  8.477647\n",
       "1    7.0   7.0  7.7  7.0    6.2  6.851724\n",
       "2    8.6   9.8  7.9  9.6    8.7  9.090588\n",
       "3    7.8   8.3  6.8  8.2    8.0  7.283516\n",
       "4    5.2   9.3  5.0  8.5    5.0  7.205747"
      ]
     },
     "execution_count": 129,
     "metadata": {},
     "output_type": "execute_result"
    }
   ],
   "source": [
    "grades_df = pd.read_csv('../data/grades.csv')\n",
    "grades_df.rename(index=str, columns={'Cálculo1': 'Calc1', 'Cálculo2': 'Calc2'}, inplace=True)\n",
    "grades_df.head()"
   ]
  },
  {
   "cell_type": "markdown",
   "metadata": {},
   "source": [
    "### Check Dataset Size"
   ]
  },
  {
   "cell_type": "code",
   "execution_count": 130,
   "metadata": {},
   "outputs": [
    {
     "data": {
      "text/plain": [
       "(88, 6)"
      ]
     },
     "execution_count": 130,
     "metadata": {},
     "output_type": "execute_result"
    }
   ],
   "source": [
    "grades_df.shape"
   ]
  },
  {
   "cell_type": "code",
   "execution_count": 131,
   "metadata": {},
   "outputs": [
    {
     "data": {
      "text/html": [
       "<div>\n",
       "<style scoped>\n",
       "    .dataframe tbody tr th:only-of-type {\n",
       "        vertical-align: middle;\n",
       "    }\n",
       "\n",
       "    .dataframe tbody tr th {\n",
       "        vertical-align: top;\n",
       "    }\n",
       "\n",
       "    .dataframe thead th {\n",
       "        text-align: right;\n",
       "    }\n",
       "</style>\n",
       "<table border=\"1\" class=\"dataframe\">\n",
       "  <thead>\n",
       "    <tr style=\"text-align: right;\">\n",
       "      <th></th>\n",
       "      <th>Calc1</th>\n",
       "      <th>LPT</th>\n",
       "      <th>P1</th>\n",
       "      <th>IC</th>\n",
       "      <th>Calc2</th>\n",
       "      <th>cra</th>\n",
       "      <th>Status</th>\n",
       "    </tr>\n",
       "  </thead>\n",
       "  <tbody>\n",
       "    <tr>\n",
       "      <th>0</th>\n",
       "      <td>8.7</td>\n",
       "      <td>10.0</td>\n",
       "      <td>9.0</td>\n",
       "      <td>9.1</td>\n",
       "      <td>8.4</td>\n",
       "      <td>8.477647</td>\n",
       "      <td>Success</td>\n",
       "    </tr>\n",
       "    <tr>\n",
       "      <th>1</th>\n",
       "      <td>7.0</td>\n",
       "      <td>7.0</td>\n",
       "      <td>7.7</td>\n",
       "      <td>7.0</td>\n",
       "      <td>6.2</td>\n",
       "      <td>6.851724</td>\n",
       "      <td>Fail</td>\n",
       "    </tr>\n",
       "    <tr>\n",
       "      <th>2</th>\n",
       "      <td>8.6</td>\n",
       "      <td>9.8</td>\n",
       "      <td>7.9</td>\n",
       "      <td>9.6</td>\n",
       "      <td>8.7</td>\n",
       "      <td>9.090588</td>\n",
       "      <td>Success</td>\n",
       "    </tr>\n",
       "    <tr>\n",
       "      <th>3</th>\n",
       "      <td>7.8</td>\n",
       "      <td>8.3</td>\n",
       "      <td>6.8</td>\n",
       "      <td>8.2</td>\n",
       "      <td>8.0</td>\n",
       "      <td>7.283516</td>\n",
       "      <td>Success</td>\n",
       "    </tr>\n",
       "    <tr>\n",
       "      <th>4</th>\n",
       "      <td>5.2</td>\n",
       "      <td>9.3</td>\n",
       "      <td>5.0</td>\n",
       "      <td>8.5</td>\n",
       "      <td>5.0</td>\n",
       "      <td>7.205747</td>\n",
       "      <td>Success</td>\n",
       "    </tr>\n",
       "  </tbody>\n",
       "</table>\n",
       "</div>"
      ],
      "text/plain": [
       "   Calc1   LPT   P1   IC  Calc2       cra   Status\n",
       "0    8.7  10.0  9.0  9.1    8.4  8.477647  Success\n",
       "1    7.0   7.0  7.7  7.0    6.2  6.851724     Fail\n",
       "2    8.6   9.8  7.9  9.6    8.7  9.090588  Success\n",
       "3    7.8   8.3  6.8  8.2    8.0  7.283516  Success\n",
       "4    5.2   9.3  5.0  8.5    5.0  7.205747  Success"
      ]
     },
     "execution_count": 131,
     "metadata": {},
     "output_type": "execute_result"
    }
   ],
   "source": [
    "grades_df_aux = pd.DataFrame(grades_df)\n",
    "grades_df_aux['Status'] = grades_df_aux.cra.apply(lambda x:  \"Success\" if x >= 7 else \"Fail\")\n",
    "grades_df_aux.head()"
   ]
  },
  {
   "cell_type": "markdown",
   "metadata": {},
   "source": [
    "### Plot Scatterplots"
   ]
  },
  {
   "cell_type": "code",
   "execution_count": 132,
   "metadata": {},
   "outputs": [
    {
     "data": {
      "text/plain": [
       "<seaborn.axisgrid.PairGrid at 0x7f5d5fc42358>"
      ]
     },
     "execution_count": 132,
     "metadata": {},
     "output_type": "execute_result"
    },
    {
     "data": {
      "image/png": "[encoded data removed]",
      "text/plain": [
       "<Figure size 984.1x180 with 5 Axes>"
      ]
     },
     "metadata": {},
     "output_type": "display_data"
    }
   ],
   "source": [
    "sns.pairplot(grades_df_aux, hue=\"Status\", y_vars=['cra'], x_vars=['Calc1', 'Calc2','IC','P1','LPT'])"
   ]
  },
  {
   "cell_type": "markdown",
   "metadata": {},
   "source": [
    "## Define Functions\n",
    "\n",
    "### Compute Mean Squared Error - Vectorized Version\n",
    "\n",
    "$MSE(\\hat{w})=\\frac{1}{N}(y-\\hat{\\mathbf{w}}^T\\mathbf{x})^T(y-\\hat{\\mathbf{w}}^T\\mathbf{x})$"
   ]
  },
  {
   "cell_type": "code",
   "execution_count": 133,
   "metadata": {},
   "outputs": [],
   "source": [
    "def compute_mse_vectorized(w, X, Y):\n",
    "    res = Y - np.dot(X,w)\n",
    "    totalError = np.dot(res.T,res)\n",
    "    return totalError / float(len(Y))"
   ]
  },
  {
   "cell_type": "markdown",
   "metadata": {},
   "source": [
    "### Função para fazer uma atualização dos parâmetros no Gradiente Descendente:"
   ]
  },
  {
   "cell_type": "code",
   "execution_count": 134,
   "metadata": {},
   "outputs": [],
   "source": [
    "def step_gradient_vectorized(w_current, X, Y, lr):\n",
    "    temp1 = np.multiply(-2, X.T)\n",
    "    temp2 = Y - np.dot(X, w_current)\n",
    "    grads = np.matmul(temp1, temp2)\n",
    "        \n",
    "    new_w = np.array([w_current[i] - lr * grads[i] for i in range(len(grads))])\n",
    "    \n",
    "    new_error = compute_mse_vectorized(new_w, X, Y)\n",
    "    l2_norm = np.linalg.norm(grads, ord=2)  # compute l2-norm\n",
    "    \n",
    "    return [new_w, grads, new_error, l2_norm]"
   ]
  },
  {
   "cell_type": "markdown",
   "metadata": {},
   "source": [
    "### Função para rodar o gradiente descendente vetorizado"
   ]
  },
  {
   "cell_type": "code",
   "execution_count": 135,
   "metadata": {},
   "outputs": [],
   "source": [
    "def gradient_descent_runner_vectorized(starting_w, X, Y, learning_rate, epsilon, verbose=False, period=1000):\n",
    "    history = pd.DataFrame(columns=['weights','grads','error','iter','l2_norm'])\n",
    "    w = starting_w\n",
    "    grads = np.array([np.inf for feat in range(X.shape[1])])\n",
    "    i = 0\n",
    "    while (np.linalg.norm(grads) >= epsilon):\n",
    "        step_grad = step_gradient_vectorized(w, X, Y, learning_rate)\n",
    "        w, grads, new_error, l2_norm = step_grad[0], step_grad[1], step_grad[2], step_grad[3]\n",
    "        \n",
    "        if verbose and (i % period == 0):\n",
    "            print(\"MSE na iteração {0} é de {1}\".format(i, new_error))\n",
    "        \n",
    "        history = history.append({'weights': w, 'grads': grads, 'error': new_error, 'iter': i, 'l2_norm': l2_norm}, ignore_index=True)\n",
    "        i+= 1\n",
    "        \n",
    "    return history"
   ]
  },
  {
   "cell_type": "markdown",
   "metadata": {},
   "source": [
    "### Função para fazer o treinamento"
   ]
  },
  {
   "cell_type": "code",
   "execution_count": 136,
   "metadata": {},
   "outputs": [
    {
     "name": "stdout",
     "output_type": "stream",
     "text": [
      "Starting gradient descent at weights = [[0.]\n",
      " [0.]\n",
      " [0.]\n",
      " [0.]\n",
      " [0.]], error = [[54.47995386]]\n",
      "Running...\n",
      "MSE na iteração 0 é de [[13.63352979]]\n",
      "MSE na iteração 1000 é de [[0.43870244]]\n",
      "MSE na iteração 2000 é de [[0.43328946]]\n",
      "MSE na iteração 3000 é de [[0.43257927]]\n",
      "MSE na iteração 4000 é de [[0.43248347]]\n",
      "MSE na iteração 5000 é de [[0.43247052]]\n",
      "After 5636 iterations\n",
      "Ending gradient descent at  weights = [[0.13444624]\n",
      " [0.12631814]\n",
      " [0.16074068]\n",
      " [0.46815686]\n",
      " [0.04179104]], error = [[0.43246906]]\n",
      "Learning Rate = 1e-05\n",
      "CPU times: user 15.5 s, sys: 12 ms, total: 15.5 s\n",
      "Wall time: 15.5 s\n"
     ]
    }
   ],
   "source": [
    "%%time\n",
    "\n",
    "def run():\n",
    "    X = grades_df.iloc[:, 0:5]\n",
    "    Y = grades_df.cra[:,np.newaxis]\n",
    "    init_w = np.zeros((X.shape[1],1))\n",
    "    \n",
    "    learning_rate = 1e-5\n",
    "    epsilon = 1e-1\n",
    "    \n",
    "    initial_error = compute_mse_vectorized(init_w, X,Y)\n",
    "    print(\"Starting gradient descent at weights = {0}, error = {1}\".format(str(init_w), initial_error))\n",
    "    print(\"Running...\")\n",
    "    \n",
    "    history = gradient_descent_runner_vectorized(init_w, X, Y, learning_rate, epsilon, verbose=True)\n",
    "    \n",
    "    final_error = compute_mse_vectorized(history.weights.iloc[-1], X,Y)\n",
    "    \n",
    "    print(\"After {0} iterations\".format(history.iter.iloc[-1]))\n",
    "    print(\"Ending gradient descent at  weights = {0}, error = {1}\".format(str(history.weights.iloc[-1]), final_error))\n",
    "    print(\"Learning Rate = {}\".format(learning_rate))\n",
    "    \n",
    "    return history    \n",
    "\n",
    "\n",
    "h = run()"
   ]
  },
  {
   "cell_type": "markdown",
   "metadata": {},
   "source": [
    "## Testing with the Scikit-Learn Lib"
   ]
  },
  {
   "cell_type": "code",
   "execution_count": 137,
   "metadata": {},
   "outputs": [
    {
     "name": "stdout",
     "output_type": "stream",
     "text": [
      "Coefficients: \n",
      " [[0.10304143 0.0464367  0.16409834 0.38117843 0.02027816]]\n",
      "Mean squared error: 0.4113\n",
      "Variance score: 0.42\n",
      "CPU times: user 5.46 ms, sys: 11 µs, total: 5.47 ms\n",
      "Wall time: 2.04 ms\n"
     ]
    }
   ],
   "source": [
    "%%time\n",
    "\n",
    "X = grades_df.iloc[:, 0:5]\n",
    "Y = grades_df.cra[:,np.newaxis]\n",
    "\n",
    "regr = linear_model.LinearRegression()\n",
    "regr.fit(X, Y)\n",
    "\n",
    "Y_pred = regr.predict(X)\n",
    "\n",
    "# The coefficients\n",
    "print('Coefficients: \\n', regr.coef_)\n",
    "\n",
    "# The mean squared error\n",
    "print(\"Mean squared error: %.4f\"\n",
    "      % mean_squared_error(Y, Y_pred))\n",
    "\n",
    "# Explained variance score: 1 is perfect prediction\n",
    "print('Variance score: %.2f' % r2_score(Y, Y_pred))\n"
   ]
  },
  {
   "cell_type": "markdown",
   "metadata": {},
   "source": [
    "### Conclusões\n",
    "\n",
    "Observando os resultados obtidos com a biblioteca scikit-learn, nós podemos concluir que chegamos em um resultado bastante próximo em termos numéricos considerando tantos os pesos quanto o erro calculado (MSE). Entretanto, em termos de tempo de execução, nossa implementação é bem mais ineficiente."
   ]
  },
  {
   "cell_type": "markdown",
   "metadata": {},
   "source": [
    "# Extras"
   ]
  },
  {
   "cell_type": "code",
   "execution_count": 138,
   "metadata": {},
   "outputs": [
    {
     "name": "stdout",
     "output_type": "stream",
     "text": [
      "Starting gradient descent at weights = [[0.]\n",
      " [0.]\n",
      " [0.]\n",
      " [0.]\n",
      " [0.]], error = [[54.47995386]]\n",
      "Running...\n",
      "MSE na iteração 0 é de [[13.63352979]]\n",
      "MSE na iteração 1000 é de [[0.43870244]]\n",
      "MSE na iteração 2000 é de [[0.43328946]]\n",
      "MSE na iteração 3000 é de [[0.43257927]]\n",
      "MSE na iteração 4000 é de [[0.43248347]]\n",
      "MSE na iteração 5000 é de [[0.43247052]]\n",
      "After 5636 iterations\n",
      "Ending gradient descent at  weights = [[0.13444624]\n",
      " [0.12631814]\n",
      " [0.16074068]\n",
      " [0.46815686]\n",
      " [0.04179104]], error = [[0.43246906]]\n",
      "Learning Rate = 1e-05\n"
     ]
    }
   ],
   "source": [
    "hist_1 = run()"
   ]
  },
  {
   "cell_type": "markdown",
   "metadata": {},
   "source": [
    "## Define Plot Functions"
   ]
  },
  {
   "cell_type": "code",
   "execution_count": 139,
   "metadata": {},
   "outputs": [
    {
     "data": {
      "image/png": "[encoded data removed]",
      "text/plain": [
       "<Figure size 432x288 with 1 Axes>"
      ]
     },
     "metadata": {},
     "output_type": "display_data"
    },
    {
     "data": {
      "text/plain": [
       "<Figure size 432x288 with 0 Axes>"
      ]
     },
     "metadata": {},
     "output_type": "display_data"
    }
   ],
   "source": [
    "def _calculate_cra(row, weights):\n",
    "    return weights[0] * row[0] + \\\n",
    "           weights[1] * row[1] + \\\n",
    "           weights[2] * row[2] + \\\n",
    "           weights[3] * row[3] + \\\n",
    "           weights[4] * row[4]\n",
    "\n",
    "def plot_predicted_values_vs_orig_values(hist):\n",
    "    predictions_df = pd.DataFrame(grades_df)\n",
    "    \n",
    "    weights = [hist.weights.iloc[-1][i][0] for i in range(0, 5)]\n",
    "    \n",
    "    predictions_df['Predicted_Cra'] = predictions_df.apply(lambda row : _calculate_cra(row, weights), axis=1)\n",
    "    \n",
    "    plt.plot(predictions_df['cra'], predictions_df['Predicted_Cra'], 'rv') \n",
    "    plt.title('Comparison of Original Cra and Predicted Cra') \n",
    "    plt.xlabel('Original CRA')\n",
    "    plt.ylabel('Predicted CRA')\n",
    "    \n",
    "    plt.xlim(4, 10)\n",
    "    plt.ylim(4, 10)\n",
    "    plt.gca().set_aspect('equal', adjustable='box')\n",
    "    \n",
    "    plt.figure()\n",
    "    plt.show()\n",
    "\n",
    "plot_predicted_values_vs_orig_values(hist_1)    "
   ]
  },
  {
   "cell_type": "code",
   "execution_count": 143,
   "metadata": {},
   "outputs": [
    {
     "data": {
      "image/png": "[encoded data removed]",
      "text/plain": [
       "<Figure size 432x288 with 1 Axes>"
      ]
     },
     "metadata": {},
     "output_type": "display_data"
    },
    {
     "data": {
      "text/plain": [
       "<Figure size 432x288 with 0 Axes>"
      ]
     },
     "metadata": {},
     "output_type": "display_data"
    }
   ],
   "source": [
    "def plot_predicted_values_from_scikit_lib():\n",
    "    X = grades_df.iloc[:, 0:5]\n",
    "    Y = grades_df.cra[:,np.newaxis]\n",
    "    regr = linear_model.LinearRegression()\n",
    "    regr.fit(X, Y)\n",
    "    Y_pred = regr.predict(X)\n",
    "    \n",
    "    plt.plot(Y, Y_pred , 'r^') \n",
    "    plt.title('Comparison of Original Cra and Predicted Cra - Scikit-Learn')\n",
    "    \n",
    "    plt.xlabel(\"Original CRA\")\n",
    "    plt.ylabel(\"Predicted CRA\")\n",
    "    \n",
    "    plt.xlim(4, 10)\n",
    "    plt.ylim(4, 10)\n",
    "    plt.gca().set_aspect('equal', adjustable='box')\n",
    "    \n",
    "    plt.figure()\n",
    "    plt.show()\n",
    "\n",
    "plot_predicted_values_from_scikit_lib()    "
   ]
  },
  {
   "cell_type": "code",
   "execution_count": 140,
   "metadata": {},
   "outputs": [
    {
     "data": {
      "image/png": "[encoded data removed]",
      "text/plain": [
       "<Figure size 432x288 with 1 Axes>"
      ]
     },
     "metadata": {},
     "output_type": "display_data"
    },
    {
     "data": {
      "text/plain": [
       "<Figure size 432x288 with 0 Axes>"
      ]
     },
     "metadata": {},
     "output_type": "display_data"
    }
   ],
   "source": [
    "def plot_model_error_on_training(hist):\n",
    "    plt.plot(hist['iter'], hist['error'] , 'r', label='Model Error') \n",
    "    plt.title('Model Error (RSS) By Iteration')\n",
    "    \n",
    "    plt.xlabel(\"Iteration\")\n",
    "    plt.ylabel(\"Error\")\n",
    "    plt.figure()\n",
    "\n",
    "    plt.show()\n",
    "\n",
    "plot_model_error_on_training(hist_1)"
   ]
  }
 ],
 "metadata": {
  "kernelspec": {
   "display_name": "Python 3",
   "language": "python",
   "name": "python3"
  },
  "language_info": {
   "codemirror_mode": {
    "name": "ipython",
    "version": 3
   },
   "file_extension": ".py",
   "mimetype": "text/x-python",
   "name": "python",
   "nbconvert_exporter": "python",
   "pygments_lexer": "ipython3",
   "version": "3.6.6"
  }
 },
 "nbformat": 4,
 "nbformat_minor": 2
}
