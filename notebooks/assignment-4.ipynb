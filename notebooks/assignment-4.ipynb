{
 "cells": [
  {
   "cell_type": "markdown",
   "metadata": {},
   "source": [
    "# Descrição de Atividade\n",
    "\n",
    "Nessa atividade você irá usar seus conhecimentos sobre classificação para prever quais candidatos à Câmara de Deputados foram eleitos nas eleições de 2014. De forma específica:\n",
    "\n",
    " 1. Há desbalanceamento das classes (isto é, uma classe tem muito mais instâncias que outra)? Em que proporção? Quais efeitos colaterais o desbalanceamento de classes pode causar no classificador? Como você poderia tratar isso? (1 pt.)\n",
    " 2. Treine: um modelo de regressão logística, KNN, uma árvore de decisão e um modelo de adaboost. Tune esses modelos usando validação cruzada e controle overfitting se necessário, considerando as particularidades de cada modelo.  (2 pts.)\n",
    "Reporte Precision, Recall e AUC-Precision&Recall no treino e validação. Há uma grande diferença de desempenho no treino/validação? Como você avalia os resultados? Justifique sua resposta. (2 pt.)\n",
    " 3. Interprete as saídas dos modelos. Quais atributos parecem ser mais importantes de acordo com cada modelo?  (2 pts.)\n",
    " 4. Envie seus melhores modelos à competição do Kaggle. Faça pelo menos uma submissão. Sugestões para melhorar o modelo: (2 pts.)\n",
    " 5. Experimente outros modelos (e.g. SVM, RandomForests e GradientBoosting).\n",
    " 6. Experimente outras estratégias de ensembles (e.g. Stacking).\n",
    " 7. Experimente balancear as classes,  caso estejam desbalanceadas.\n",
    "\n",
    "Os dados estão neste link: https://www.kaggle.com/c/ufcg-cdp-20182-lab3/data. Links para um site externo\n",
    "\n",
    "Para a entrega envie o link no GitHub com o notebook usado para resolver o Lab.\n",
    "\n",
    "\n",
    "### Descrição dos dados:\n",
    "\n",
    "Os dados utilizados correspondem aos das eleições de Deputado Federal nos anos de 2006, 2010 e 2014. Estão dividos nas seguintes colunas:\n",
    "\n",
    "* **ano**: Ano da eleição;\n",
    "* **sequencial_candidato**: O identificador do candidato. Corresponde à coluna Id do arquivo de submissão;\n",
    "* **nome**: Nome do candidato;\n",
    "* **uf**: Sigla do estado do candidato;\n",
    "* **partido**: Partido do candidato;\n",
    "* **quantidade_doacoes**: Número de doações que um candidato recebeu;\n",
    "* **quantidade_doadores**: Numero de doadores que um candidato teve;\n",
    "* **total_receita**: Total de receita de um candidato;\n",
    "* **media_receita**: Média da receita de um candidato;\n",
    "* **recursos_de_outros_candidatos.comites**: Total de receita proveniente de outros candidatos e comitês;\n",
    "* **recursos_de_pessoas_fisicas**: Total de receita proveniente de pessoas físicas;\n",
    "* **recursos_de_pessoas_juridicas**: Total de receita proveniente de pessoas juridicas;\n",
    "* **recursos_proprios**:Total de receita proveniente dos próprios candidatos;\n",
    "* **recursos_de_partido_politico**: Total de receita proveniente do partido do candidato;\n",
    "* **quantidade_despesas**: Número de despesas que um candidato teve;\n",
    "* **quantidade_fornecedores**: Número de fornecedores que um candidato teve;\n",
    "* **total_despesa**: Total de depesa de um candidato;\n",
    "* **media_despesa**: Média da despesa de um candidato;\n",
    "* **cargo**: Cargo ao qual o candidato está concorrendo;\n",
    "* **sexo**: Sexo do candidato;\n",
    "* **grau**: Grau de escolaridade do candidato;\n",
    "* **estado_civil**: Estado civil do candidato;\n",
    "* **ocupacao**: Ocupação do candidato;\n",
    "* **situacao**: Situação final do candidato. Corresponde à coluna **Predict** do arquivo de submissão;"
   ]
  },
  {
   "cell_type": "markdown",
   "metadata": {},
   "source": [
    "## Import Libraries"
   ]
  },
  {
   "cell_type": "code",
   "execution_count": 1,
   "metadata": {},
   "outputs": [
    {
     "data": {
      "text/html": [
       "<script type=\"text/javascript\">window.PlotlyConfig = {MathJaxConfig: 'local'};</script><script type=\"text/javascript\">if (window.MathJax) {MathJax.Hub.Config({SVG: {font: \"STIX-Web\"}});}</script><script>requirejs.config({paths: { 'plotly': ['https://cdn.plot.ly/plotly-latest.min']},});if(!window._Plotly) {require(['plotly'],function(plotly) {window._Plotly=plotly;});}</script>"
      ],
      "text/vnd.plotly.v1+html": [
       "<script type=\"text/javascript\">window.PlotlyConfig = {MathJaxConfig: 'local'};</script><script type=\"text/javascript\">if (window.MathJax) {MathJax.Hub.Config({SVG: {font: \"STIX-Web\"}});}</script><script>requirejs.config({paths: { 'plotly': ['https://cdn.plot.ly/plotly-latest.min']},});if(!window._Plotly) {require(['plotly'],function(plotly) {window._Plotly=plotly;});}</script>"
      ]
     },
     "metadata": {},
     "output_type": "display_data"
    }
   ],
   "source": [
    "import pandas as pd\n",
    "import numpy as np\n",
    "import seaborn as sns\n",
    "import pickle\n",
    "\n",
    "from sklearn.preprocessing import QuantileTransformer\n",
    "from sklearn.linear_model import LogisticRegression\n",
    "from sklearn.neighbors import KNeighborsClassifier\n",
    "from sklearn.ensemble import RandomForestClassifier, AdaBoostClassifier, ExtraTreesClassifier\n",
    "from sklearn.tree import DecisionTreeClassifier\n",
    "from sklearn.svm import SVC\n",
    "from sklearn.pipeline import Pipeline\n",
    "from sklearn.metrics import precision_recall_curve, precision_score, recall_score, f1_score, accuracy_score, roc_auc_score, auc\n",
    "from sklearn.metrics import classification_report, confusion_matrix\n",
    "from sklearn.model_selection import KFold, StratifiedKFold\n",
    "from sklearn.model_selection import cross_val_score, train_test_split, cross_validate, cross_val_predict\n",
    "from sklearn.externals.joblib import Parallel, delayed\n",
    "\n",
    "from catboost import CatBoostClassifier\n",
    "from lightgbm import LGBMClassifier\n",
    "from xgboost import XGBClassifier\n",
    "\n",
    "from imblearn.over_sampling import SMOTE, ADASYN\n",
    "\n",
    "from collections import Counter\n",
    "\n",
    "from enum import Enum\n",
    "\n",
    "import plotly.offline as py\n",
    "import plotly.graph_objs as go\n",
    "import plotly.tools as tls\n",
    "\n",
    "py.init_notebook_mode(connected=True)\n",
    "\n",
    "sns.set(style=\"ticks\")"
   ]
  },
  {
   "cell_type": "markdown",
   "metadata": {},
   "source": [
    "## Load Data"
   ]
  },
  {
   "cell_type": "code",
   "execution_count": 2,
   "metadata": {},
   "outputs": [],
   "source": [
    "train_df = pd.read_csv('../data/assignment_4/train.csv')\n",
    "test_df = pd.read_csv('../data/assignment_4/test.csv')\n",
    "\n",
    "data = pd.concat([train_df, test_df], sort=False)\n",
    "\n",
    "data.set_index('sequencial_candidato', inplace=True, drop=True)"
   ]
  },
  {
   "cell_type": "markdown",
   "metadata": {},
   "source": [
    "## Preprocess Data"
   ]
  },
  {
   "cell_type": "code",
   "execution_count": 3,
   "metadata": {},
   "outputs": [],
   "source": [
    "data.drop(columns=['nome'], inplace=True)"
   ]
  },
  {
   "cell_type": "code",
   "execution_count": 4,
   "metadata": {},
   "outputs": [],
   "source": [
    "qt = QuantileTransformer(random_state=2, output_distribution='normal')\n",
    "\n",
    "skewed_features = ['quantidade_doacoes', 'quantidade_doadores', 'total_receita',\n",
    "       'media_receita', 'recursos_de_outros_candidatos.comites',\n",
    "       'recursos_de_pessoas_fisicas', 'recursos_de_pessoas_juridicas',\n",
    "       'recursos_proprios', 'recursos_de_partido_politico',\n",
    "       'quantidade_despesas', 'quantidade_fornecedores', 'total_despesa',\n",
    "       'media_despesa']\n",
    "\n",
    "data[skewed_features] = qt.fit_transform(X=data[skewed_features])"
   ]
  },
  {
   "cell_type": "code",
   "execution_count": 5,
   "metadata": {},
   "outputs": [],
   "source": [
    "cleanup_nums = {\"grau\" : {\"LÊ E ESCREVE\": 1, \n",
    "                       \"ENSINO FUNDAMENTAL INCOMPLETO\":2, \n",
    "                       \"ENSINO FUNDAMENTAL COMPLETO\":3, \n",
    "                       \"ENSINO MÉDIO INCOMPLETO\":4,\n",
    "                       \"ENSINO MÉDIO COMPLETO\":5,\n",
    "                       \"SUPERIOR INCOMPLETO\":6,\n",
    "                       \"SUPERIOR COMPLETO\": 7}}\n",
    "\n",
    "data.replace(cleanup_nums, inplace=True)\n",
    "data[\"grau\"] = pd.to_numeric(data[\"grau\"])"
   ]
  },
  {
   "cell_type": "code",
   "execution_count": 6,
   "metadata": {},
   "outputs": [
    {
     "data": {
      "text/plain": [
       "(12214, 258)"
      ]
     },
     "execution_count": 6,
     "metadata": {},
     "output_type": "execute_result"
    }
   ],
   "source": [
    "categorical_feats = [col for col in data.columns if not np.issubdtype(data[str(col)].dtype, np.number) and col not in ['nome', 'situacao']]\n",
    "\n",
    "data = pd.get_dummies(data, columns=categorical_feats)\n",
    "data.shape"
   ]
  },
  {
   "cell_type": "markdown",
   "metadata": {},
   "source": [
    "## Split Data into Train and Test"
   ]
  },
  {
   "cell_type": "code",
   "execution_count": 7,
   "metadata": {},
   "outputs": [
    {
     "name": "stdout",
     "output_type": "stream",
     "text": [
      "(7622, 259)\n",
      "(4592, 259)\n"
     ]
    }
   ],
   "source": [
    "data['situacao_dummy'] = data['situacao'].map({'eleito': 1, 'nao_eleito': 0})\n",
    "\n",
    "train = data[(data.ano == 2006) | (data.ano == 2010)]\n",
    "test = data[data.ano == 2014]\n",
    "\n",
    "print(train.shape)\n",
    "print(test.shape)"
   ]
  },
  {
   "cell_type": "markdown",
   "metadata": {},
   "source": [
    "## Target Class Imbalancing"
   ]
  },
  {
   "cell_type": "code",
   "execution_count": 8,
   "metadata": {},
   "outputs": [
    {
     "data": {
      "text/plain": [
       "<matplotlib.axes._subplots.AxesSubplot at 0x7f5796b45f98>"
      ]
     },
     "execution_count": 8,
     "metadata": {},
     "output_type": "execute_result"
    },
    {
     "data": {
      "image/png": "[encoded data removed]",
      "text/plain": [
       "<Figure size 432x288 with 1 Axes>"
      ]
     },
     "metadata": {},
     "output_type": "display_data"
    }
   ],
   "source": [
    "sns.countplot(x='situacao', data=train)"
   ]
  },
  {
   "cell_type": "code",
   "execution_count": 9,
   "metadata": {},
   "outputs": [
    {
     "name": "stdout",
     "output_type": "stream",
     "text": [
      "Número de candidatos Eleitos: 1026\n",
      "Número de candidatos Não-Eleitos: 6596\n",
      "Total de candidatos: 7622\n",
      "\n",
      "Proporção de candidatos eleitos: 13.46%\n",
      "Proporção de candidatos não-eleitos: 86.54%\n"
     ]
    }
   ],
   "source": [
    "num_elected_candidates = train.situacao[train.situacao == 'eleito'].count()\n",
    "num_not_elected_candidates = train.situacao[train.situacao == 'nao_eleito'].count()\n",
    "total_candidates = train.shape[0]\n",
    "\n",
    "print(\"Número de candidatos Eleitos: {}\".format(num_elected_candidates))\n",
    "print(\"Número de candidatos Não-Eleitos: {}\".format(num_not_elected_candidates))\n",
    "print(\"Total de candidatos: {}\\n\".format(total_candidates))\n",
    "\n",
    "print(\"Proporção de candidatos eleitos: {:2.2%}\".format((num_elected_candidates/total_candidates)))\n",
    "print(\"Proporção de candidatos não-eleitos: {:2.2%}\".format((num_not_elected_candidates/total_candidates)))"
   ]
  },
  {
   "cell_type": "markdown",
   "metadata": {},
   "source": [
    "A variável alvo **situacao** é bastante _desbalanceada_, em uma proporção de aproximadamente 1 eleito para cada 6 não-eleitos. Precisamente 13.46% dos candidatos foram eleitos, enquanto 86.54% não foram eleitos.\n",
    "\n",
    "Esse desbalanceamento pode causar alguns efeitos colaterais na classificação feita pelo modelo preditor, tais como overfitting do modelo em relação à classe majoritária, o que prejudica a acurácia da predição, podendo causar até mesmo a interpretação incorreta dos resultados se o desbalanceamento não for endereçado corretamente.\n",
    "\n",
    "Existem algumas práticas que podemos adotar para corrigir e lidar com esse desbalanceamento, a saber:\n",
    "\n",
    "* Coleta de mais dados, que poderia rebalancear as classes, a depender da natureza do problema;\n",
    "* Mudar a forma de amostragem do dataset, a qual pode estar gerando uma amostra desbalanceada, contudo o dataset não está desbalanceado;\n",
    "* Usar alguma forma de gerar dados sintéticos como Synthetic Minority Over-sampling Technique [SMOTE](https://imbalanced-learn.org/en/stable/over_sampling.html#cbhk2002) e Adaptive Synthetic [ADASYN](https://imbalanced-learn.org/en/stable/over_sampling.html#hbgl2008);\n",
    "* Incorporar algum modelo que tem uma forma de penalização para compensar o desbalanceamento de classes a exemplo de penalized-LDA e penalized-SVM.\n",
    "\n",
    "\n",
    "Para essa atividade nós usaremos a técnica de geração de dados sintéticos SMOTE."
   ]
  },
  {
   "cell_type": "code",
   "execution_count": 10,
   "metadata": {},
   "outputs": [
    {
     "name": "stderr",
     "output_type": "stream",
     "text": [
      "/home/guilherme/anaconda3/envs/ml-mestrado/lib/python3.6/site-packages/pandas/core/frame.py:3697: SettingWithCopyWarning:\n",
      "\n",
      "\n",
      "A value is trying to be set on a copy of a slice from a DataFrame\n",
      "\n",
      "See the caveats in the documentation: http://pandas.pydata.org/pandas-docs/stable/indexing.html#indexing-view-versus-copy\n",
      "\n"
     ]
    },
    {
     "name": "stdout",
     "output_type": "stream",
     "text": [
      "Train SMOTE: [(0.0, 6596), (1.0, 6596)]\n",
      "Test.shape: (4592, 257)\n"
     ]
    }
   ],
   "source": [
    "train.drop(['situacao'], axis=1, inplace=True)\n",
    "test.drop(['situacao', 'situacao_dummy'], axis=1, inplace=True)\n",
    "\n",
    "X = train.loc[:, train.columns != 'situacao_dummy']\n",
    "y = train.situacao_dummy\n",
    "\n",
    "X_train, y_train = SMOTE().fit_resample(X, y)\n",
    "print(\"Train SMOTE: {}\".format(sorted(Counter(y_train).items())))\n",
    "\n",
    "#X_train = pd.DataFrame(X_train, columns=X.columns)\n",
    "\n",
    "X_test = test\n",
    "print(\"Test.shape: {}\".format(X_test.shape))"
   ]
  },
  {
   "cell_type": "markdown",
   "metadata": {},
   "source": [
    "## Modelos"
   ]
  },
  {
   "cell_type": "markdown",
   "metadata": {},
   "source": [
    "#### Auxiliary Functions"
   ]
  },
  {
   "cell_type": "code",
   "execution_count": 11,
   "metadata": {},
   "outputs": [],
   "source": [
    "def save_trained_model(self, path):\n",
    "    pickle.dump(self.model, open(path.value, 'wb'))\n",
    "\n",
    "def load_trained_model(self, path):\n",
    "    return pickle.load(open(path.value, 'rb'))\n",
    "\n",
    "def _get_top_10_features_and_imps(self, f_names, f_imps):\n",
    "    aux = [(f_name, f_imp) for f_idx_a, f_name in f_names for f_idx_b, f_imp in f_imps if f_idx_a == f_idx_b]\n",
    "    aux.sort(key=lambda tup: -tup[1]) # sort by feature_importance, descending order\n",
    "\n",
    "    top_10_features = aux[:10]\n",
    "    features_names = [x for x,_ in top_10_features]\n",
    "    features_imps = [y for _,y in top_10_features]\n",
    "\n",
    "    return (features_names, features_imps)\n",
    "\n",
    "def _get_feat_names_and_imps_1(self):\n",
    "    f_names = [(f_idx, f_name) for f_idx, f_name in enumerate(train.columns)]\n",
    "    f_imps = [(f_idx, f_imp) for f_idx, f_imp in enumerate(self.model.feature_importances_)]\n",
    "\n",
    "    return _get_top_10_features_and_imps(f_names, f_imps)\n",
    "\n",
    "def _get_feat_names_and_imps_2(self):\n",
    "    imps = (np.std(X_train, 0) * self.model.coef_)[0]\n",
    "\n",
    "    f_names = [(f_idx, f_name) for f_idx, f_name in enumerate(train.columns)]\n",
    "    f_imps = [(f_idx, f_imp) for f_idx, f_imp in enumerate(imps)]\n",
    "\n",
    "    return _get_top_10_features_and_imps(f_names, f_imps)\n",
    "\n",
    "\n",
    "def _plot_graph(self, model_name, features_names, features_imps):\n",
    "    # Scatter plot \n",
    "    trace = go.Scatter(\n",
    "        y = features_imps,\n",
    "        x = features_names,\n",
    "        mode='markers',\n",
    "        marker=dict(\n",
    "            sizemode = 'diameter',\n",
    "            sizeref = 1,\n",
    "            size = 25,\n",
    "            color = features_imps,\n",
    "            colorscale='Portland',\n",
    "            showscale=True\n",
    "        ),\n",
    "        text = features_names\n",
    "    )\n",
    "    data = [trace]\n",
    "\n",
    "    layout= go.Layout(\n",
    "        autosize= True,\n",
    "        title= '{} Feature Importance'.format(model_name.value),\n",
    "        hovermode= 'closest',\n",
    "        yaxis=dict(\n",
    "            title= 'Feature Importance',\n",
    "            ticklen= 5,\n",
    "            gridwidth= 2\n",
    "        ),\n",
    "        showlegend= False\n",
    "    )\n",
    "    fig = go.Figure(data=data, layout=layout)\n",
    "    py.iplot(fig, filename='scatter2010')\n",
    "\n",
    "\n",
    "def plot_feature_importances(self, model_name):\n",
    "    feature_names, feature_imps = None,None\n",
    "\n",
    "    if model_name in [ModelsNames.DT, ModelsNames.ET, ModelsNames.RF, ModelsNames.ADA]:\n",
    "        feature_names, feature_imps = _get_feat_names_and_imps_1()\n",
    "    elif model_name in [ModelsNames.LR]:\n",
    "        feature_names, feature_imps = _get_feat_names_and_imps_2()\n",
    "\n",
    "    _plot_graph(model_name, feature_names, feature_imps)"
   ]
  },
  {
   "cell_type": "markdown",
   "metadata": {},
   "source": [
    "#### Enumerations"
   ]
  },
  {
   "cell_type": "code",
   "execution_count": 12,
   "metadata": {},
   "outputs": [],
   "source": [
    "class ModelsPaths(Enum):\n",
    "    KNR_PATH = 'assignment4-models/knr.p'\n",
    "    LR_PATH = 'assignment4-models/lr.p'\n",
    "    DT_PATH = 'assignment4-models/dt.p'\n",
    "    ADA_PATH = 'assignment4-models/ada.p'\n",
    "    RF_PATH = 'assignment4-models/rf.p'\n",
    "    ET_PATH = 'assignment4-models/et.p'\n",
    "    SVC_PATH = 'assignment4-models/svc.p'\n",
    "    LGBM_PATH = 'assignment4-models/lgbm.p'\n",
    "    CAT_PATH = 'assignment4-models/cat.p'\n",
    "    XGB_PATH = 'assignment4-models/xgb.p'\n",
    "\n",
    "class ModelsNames(Enum):\n",
    "    LR = 'Logistic Regression'\n",
    "    DT = 'Decision Trees'\n",
    "    ET = 'Extra Trees'\n",
    "    RF = 'Random Forest'\n",
    "    ADA = 'AdaBoost'\n",
    "    SVC = 'Support Vector Machine'\n",
    "    LGBM = 'LGBM'\n",
    "    CAT = 'CatBoost'\n",
    "    XGB = 'XGBoost'\n",
    "    KNR = 'KNR'"
   ]
  },
  {
   "cell_type": "markdown",
   "metadata": {},
   "source": [
    "#### Model Definitions\n",
    "\n",
    "Abaixo definimos alguns wrappers para os modelos que vamos utilizar. Créditos para [**eliotbarr**](https://www.kaggle.com/eliotbarr/stacking-test-sklearn-xgboost-catboost-lightgbm/code) e [**arthurtok**](https://www.kaggle.com/arthurtok/introduction-to-ensembling-stacking-in-python) no Kaggle."
   ]
  },
  {
   "cell_type": "code",
   "execution_count": 13,
   "metadata": {},
   "outputs": [],
   "source": [
    "ntrain = X_train.shape[0]\n",
    "ntest = X_test.shape[0]\n",
    "\n",
    "NFOLDS = 3\n",
    "SEED = 42\n",
    "\n",
    "class GenericWrapper(object):\n",
    "    def __init__(self, clf, params=None):\n",
    "        self.clf = clf(**params)\n",
    "\n",
    "    def train(self, X_train, y_train):\n",
    "        self.clf.fit(X_train, y_train)\n",
    "\n",
    "    def predict(self, x):\n",
    "        return self.clf.predict(x)\n",
    "    \n",
    "    def predict_proba(self, x):\n",
    "        return self.clf.predict_proba(x)[:,1]\n",
    "\n",
    "class SklearnWrapper_1(GenericWrapper):\n",
    "    def __init__(self, clf, seed=0, params=None):\n",
    "        params['random_state'] = seed\n",
    "        super().__init__(clf, params)\n",
    "    \n",
    "    def train(self, X_train, y_train):\n",
    "        super().train(X_train, y_train)\n",
    "    \n",
    "    def predict(self, x):\n",
    "        return super().predict(x)\n",
    "    \n",
    "    def predict_proba(self, x):\n",
    "        return super().predict_proba(x)\n",
    "    \n",
    "class SklearnWrapper_2(GenericWrapper):\n",
    "    def __init__(self, clf, params=None):\n",
    "        super().__init__(clf, params)\n",
    "    \n",
    "    def train(self, X_train, y_train):\n",
    "        super().train(X_train, y_train)\n",
    "    \n",
    "    def predict(self, x):\n",
    "        return super().predict(x)\n",
    "    \n",
    "    def predict_proba(self, x):\n",
    "        return super().predict_proba(x)\n",
    "    \n",
    "    \n",
    "class CatboostWrapper(GenericWrapper):\n",
    "    def __init__(self, clf, seed=0, params=None):\n",
    "        params['random_seed'] = seed\n",
    "        self.clf = clf(**params)\n",
    "\n",
    "    def train(self, X_train, y_train):\n",
    "        super().train(X_train, y_train)\n",
    "    \n",
    "    def predict(self, x):\n",
    "        return super().predict(x)\n",
    "    \n",
    "    def predict_proba(self, x):\n",
    "        return super().predict_proba(x)\n",
    "        \n",
    "class LightGBMWrapper(GenericWrapper):\n",
    "    def __init__(self, clf, seed=0, params=None):\n",
    "        params['feature_fraction_seed'] = seed\n",
    "        params['bagging_seed'] = seed\n",
    "        self.clf = clf(**params)\n",
    "\n",
    "    def train(self, X_train, y_train):\n",
    "        super().train(X_train, y_train)\n",
    "    \n",
    "    def predict(self, x):\n",
    "        return super().predict(x)\n",
    "    \n",
    "    def predict_proba(self, x):\n",
    "        return super().predict_proba(x)   "
   ]
  },
  {
   "cell_type": "markdown",
   "metadata": {},
   "source": [
    "#### GetOOF Function"
   ]
  },
  {
   "cell_type": "code",
   "execution_count": 14,
   "metadata": {},
   "outputs": [],
   "source": [
    "def get_oof(clf):\n",
    "    oof_train = np.zeros((ntrain,))\n",
    "    oof_test = np.zeros((ntest,))\n",
    "    oof_test_proba = np.zeros((ntest,))\n",
    "    \n",
    "    oof_test_skf = np.empty((NFOLDS, ntest))\n",
    "    oof_test_skf_proba = np.empty((NFOLDS, ntest))\n",
    "    \n",
    "    kf = StratifiedKFold(shuffle=True, random_state=SEED, n_splits=NFOLDS)\n",
    "    for i, (train_index, test_index) in enumerate(kf.split(X_train, y_train)):\n",
    "        x_tr = X_train[train_index]\n",
    "        y_tr = y_train[train_index]\n",
    "        x_te = X_train[test_index]\n",
    "\n",
    "        clf.train(x_tr, y_tr)\n",
    "\n",
    "        oof_train[test_index] = clf.predict(x_te)\n",
    "        oof_test_skf[i, :] = clf.predict(X_test)\n",
    "        oof_test_skf_proba[i, :] = clf.predict_proba(X_test)\n",
    "\n",
    "    oof_test[:] = oof_test_skf.mean(axis=0)\n",
    "    oof_test_proba[:] = oof_test_skf_proba.mean(axis=0)\n",
    "    return oof_train.reshape(-1, 1), oof_test.reshape(-1, 1), oof_test_proba.reshape(-1,1)"
   ]
  },
  {
   "cell_type": "markdown",
   "metadata": {},
   "source": [
    "#### Model Parameters"
   ]
  },
  {
   "cell_type": "code",
   "execution_count": 15,
   "metadata": {},
   "outputs": [],
   "source": [
    "lr_params = {\n",
    "    'solver': 'liblinear'\n",
    "}\n",
    "\n",
    "knr_params = {\n",
    "    'n_neighbors': 3\n",
    "}\n",
    "\n",
    "dt_params = {\n",
    "}\n",
    "\n",
    "ada_params = {\n",
    "    'learning_rate': 0.01\n",
    "}\n",
    "\n",
    "et_params = {\n",
    "    #'n_jobs': 16,\n",
    "    #'n_estimators': 200,\n",
    "    #'max_features': 0.5,\n",
    "    #'max_depth': 12,\n",
    "    #'min_samples_leaf': 2\n",
    "}\n",
    "\n",
    "rf_params = {\n",
    "    #'n_jobs': 16,\n",
    "    #'n_estimators': 200,\n",
    "    #'max_features': 0.2,\n",
    "    #'max_depth': 12,\n",
    "    #'min_samples_leaf': 2\n",
    "}\n",
    "\n",
    "svc_params = {\n",
    "    'probability': True,\n",
    "    'gamma' : 'auto'\n",
    "}\n",
    "\n",
    "lightgbm_params = {\n",
    "    #'n_estimators':200,\n",
    "    'learning_rate':0.1,\n",
    "    #'num_leaves':123,\n",
    "    #'colsample_bytree':0.8,\n",
    "    #'subsample':0.9,\n",
    "    #'max_depth':15,\n",
    "    #'reg_alpha':0.1,\n",
    "    #'reg_lambda':0.1,\n",
    "    #'min_split_gain':0.01,\n",
    "    #'min_child_weight':2  ,\n",
    "    'silent': 1,\n",
    "    'random_state': 42\n",
    "}\n",
    "\n",
    "catboost_params = {\n",
    "    'iterations': 200,\n",
    "    'learning_rate': 0.5,\n",
    "    'depth': 3,\n",
    "    #'l2_leaf_reg': 40,\n",
    "    #'bootstrap_type': 'Bernoulli',\n",
    "    #'subsample': 0.7,\n",
    "    #'scale_pos_weight': 5,\n",
    "    'eval_metric': 'AUC',\n",
    "    #'od_type': 'Iter',\n",
    "    'allow_writing_files': False,\n",
    "    'verbose': 0\n",
    "}\n",
    "\n",
    "xgb_params = {\n",
    "    #'colsample_bytree': 0.7,\n",
    "    'silent': 1,\n",
    "    #'subsample': 0.7,\n",
    "    'learning_rate': 0.1,\n",
    "    'objective': 'binary:logistic',\n",
    "    'max_depth': 2,\n",
    "    #'num_parallel_tree': 1,\n",
    "    #'min_child_weight': 1,\n",
    "    'nrounds': 250\n",
    "}"
   ]
  },
  {
   "cell_type": "markdown",
   "metadata": {},
   "source": [
    "### Models"
   ]
  },
  {
   "cell_type": "markdown",
   "metadata": {},
   "source": [
    "### Feature Importances Plots"
   ]
  },
  {
   "cell_type": "markdown",
   "metadata": {},
   "source": [
    "Abaixo listamos as 10 features mais importantes elencadas por diferentes modelos que usamos, após o treinamento destes. Créditos para [**arthurtok**](https://www.kaggle.com/arthurtok/introduction-to-ensembling-stacking-in-python/notebook) no Kaggle."
   ]
  },
  {
   "cell_type": "markdown",
   "metadata": {},
   "source": [
    "### Decision Tress, AdaBoost, Random Forest Classifier e Extra Trees Classifier"
   ]
  },
  {
   "cell_type": "code",
   "execution_count": 16,
   "metadata": {},
   "outputs": [
    {
     "ename": "TypeError",
     "evalue": "load_trained_model() missing 1 required positional argument: 'path'",
     "output_type": "error",
     "traceback": [
      "\u001b[0;31m---------------------------------------------------------------------------\u001b[0m",
      "\u001b[0;31mTypeError\u001b[0m                                 Traceback (most recent call last)",
      "\u001b[0;32m<ipython-input-16-997cf8f159a1>\u001b[0m in \u001b[0;36m<module>\u001b[0;34m()\u001b[0m\n\u001b[0;32m----> 1\u001b[0;31m \u001b[0mdt\u001b[0m   \u001b[0;34m=\u001b[0m \u001b[0mload_trained_model\u001b[0m\u001b[0;34m(\u001b[0m\u001b[0mModelsPaths\u001b[0m\u001b[0;34m.\u001b[0m\u001b[0mDT_PATH\u001b[0m\u001b[0;34m)\u001b[0m\u001b[0;34m\u001b[0m\u001b[0m\n\u001b[0m\u001b[1;32m      2\u001b[0m \u001b[0mada\u001b[0m  \u001b[0;34m=\u001b[0m \u001b[0mload_trained_model\u001b[0m\u001b[0;34m(\u001b[0m\u001b[0mModelsPaths\u001b[0m\u001b[0;34m.\u001b[0m\u001b[0mADA_PATH\u001b[0m\u001b[0;34m)\u001b[0m\u001b[0;34m\u001b[0m\u001b[0m\n\u001b[1;32m      3\u001b[0m \u001b[0mrf\u001b[0m   \u001b[0;34m=\u001b[0m \u001b[0mload_trained_model\u001b[0m\u001b[0;34m(\u001b[0m\u001b[0mModelsPaths\u001b[0m\u001b[0;34m.\u001b[0m\u001b[0mRF_PATH\u001b[0m\u001b[0;34m)\u001b[0m\u001b[0;34m\u001b[0m\u001b[0m\n\u001b[1;32m      4\u001b[0m \u001b[0met\u001b[0m   \u001b[0;34m=\u001b[0m \u001b[0mload_trained_model\u001b[0m\u001b[0;34m(\u001b[0m\u001b[0mModelsPaths\u001b[0m\u001b[0;34m.\u001b[0m\u001b[0mET_PATH\u001b[0m\u001b[0;34m)\u001b[0m\u001b[0;34m\u001b[0m\u001b[0m\n\u001b[1;32m      5\u001b[0m \u001b[0;34m\u001b[0m\u001b[0m\n",
      "\u001b[0;31mTypeError\u001b[0m: load_trained_model() missing 1 required positional argument: 'path'"
     ]
    }
   ],
   "source": [
    "dt   = load_trained_model(ModelsPaths.DT_PATH)\n",
    "ada  = load_trained_model(ModelsPaths.ADA_PATH)\n",
    "rf   = load_trained_model(ModelsPaths.RF_PATH)\n",
    "et   = load_trained_model(ModelsPaths.ET_PATH)\n",
    "\n",
    "models = [(dt, ModelsNames.DT), (ada, ModelsNames.ADA), (rf, ModelsNames.RF), (et, ModelsNames.ET)]\n",
    "\n",
    "for model, model_name in models:\n",
    "    plot_feature_importances(model, model_name)"
   ]
  },
  {
   "cell_type": "markdown",
   "metadata": {},
   "source": [
    "Podemos observar que esses modelos divergem quanto à principal feature que deve ser considerada para que um candidato seja eleito. Entretanto, podemos ver algumas que se repetem e que eles consideram como tendo maior importância:\n",
    "\n",
    "* total receita\n",
    "* ocupação Deputado (candidatos tentando reeleição)\n",
    "* total despesa\n",
    "* recursos obtidos (pessoas jurídicas, pessoas físicas, etc.)\n",
    "\n"
   ]
  },
  {
   "cell_type": "markdown",
   "metadata": {},
   "source": [
    "### Logistic Regression"
   ]
  },
  {
   "cell_type": "code",
   "execution_count": null,
   "metadata": {},
   "outputs": [],
   "source": [
    "lr   = load_trained_model(ModelsPaths.LR_PATH)\n",
    "plot_feature_importances(lr, ModelsNames.LR)"
   ]
  },
  {
   "cell_type": "markdown",
   "metadata": {},
   "source": [
    "### KNR"
   ]
  },
  {
   "cell_type": "code",
   "execution_count": null,
   "metadata": {},
   "outputs": [],
   "source": [
    "knr  = load_trained_model(ModelsPaths.KNR_PATH)\n",
    "svc  = load_trained_model(ModelsPaths.SVC_PATH)\n",
    "lgbm = load_trained_model(ModelsPaths.LGBM_PATH)\n",
    "cat  = load_trained_model(ModelsPaths.CAT_PATH)\n",
    "xgb  = load_trained_model(ModelsPaths.XGB_PATH)"
   ]
  },
  {
   "cell_type": "markdown",
   "metadata": {},
   "source": [
    "# Second Level Training - Stacking"
   ]
  },
  {
   "cell_type": "markdown",
   "metadata": {},
   "source": [
    "#### _**Logistic Regression-based Stacking Classifier**_"
   ]
  },
  {
   "cell_type": "code",
   "execution_count": 17,
   "metadata": {},
   "outputs": [
    {
     "data": {
      "text/plain": [
       "array([[0.81032485, 0.18967517],\n",
       "       [0.81032485, 0.18967517],\n",
       "       [0.33078867, 0.6692113 ],\n",
       "       ...,\n",
       "       [0.81032485, 0.18967517],\n",
       "       [0.81032485, 0.18967517],\n",
       "       [0.81032485, 0.18967517]], dtype=float32)"
      ]
     },
     "execution_count": 17,
     "metadata": {},
     "output_type": "execute_result"
    }
   ],
   "source": [
    "xbc = XGBClassifier(learning_rate=0.01, seed=SEED, silent=True)\n",
    "xbc.fit(pd.DataFrame(X_train, columns=X_test.columns), y_train)\n",
    "xbc.predict_proba(X_test)"
   ]
  },
  {
   "cell_type": "code",
   "execution_count": 35,
   "metadata": {},
   "outputs": [],
   "source": [
    "\"\"\"class XgbWrapper(object):\n",
    "    def __init__(self, clf, seed=0, params=None):\n",
    "        params['seed'] = seed\n",
    "        self.clf = clf(**params)\n",
    "\n",
    "    def train(self, X_train, y_train):\n",
    "        print(pd.DataFrame(X_train).shape)\n",
    "        self.clf.fit(pd.DataFrame(X_train, columns=X_test.columns), y_train)\n",
    "    \n",
    "    def predict(self, x):\n",
    "        return self.clf.predict(x)\n",
    "    \n",
    "    def predict_proba(self, x):\n",
    "        return self.clf.predict_proba(x)\"\"\"\n",
    "\n",
    "import xgboost as xgb\n",
    "\n",
    "def get_oof_2(clf):\n",
    "    oof_train = np.zeros((ntrain,))\n",
    "    oof_test = np.zeros((ntest,))\n",
    "    oof_test_proba = np.zeros((ntest,))\n",
    "    \n",
    "    oof_test_skf = np.empty((NFOLDS, ntest))\n",
    "    oof_test_skf_proba = np.empty((NFOLDS, ntest))\n",
    "    \n",
    "    kf = StratifiedKFold(shuffle=True, random_state=SEED, n_splits=NFOLDS)\n",
    "    for i, (train_index, test_index) in enumerate(kf.split(X_train, y_train)):\n",
    "        x_tr = X_train[train_index]\n",
    "        y_tr = y_train[train_index]\n",
    "        x_te = X_train[test_index]\n",
    "\n",
    "        clf.train(x_tr, y_tr)\n",
    "        \n",
    "        print(\"x_tr.shape: {}\".format(x_tr.shape))\n",
    "        print(\"y_tr.shape: {}\".format(y_tr.shape))\n",
    "        print(\"x_te.shape: {}\".format(x_te.shape))\n",
    "        \n",
    "        oof_train[test_index] = clf.predict(x_te)\n",
    "        oof_test_skf[i, :] = clf.predict(X_test)\n",
    "        oof_test_skf_proba[i, :] = clf.predict_proba(X_test)\n",
    "\n",
    "    oof_test[:] = oof_test_skf.mean(axis=0)\n",
    "    oof_test_proba[:] = oof_test_skf_proba.mean(axis=0)\n",
    "    return oof_train.reshape(-1, 1), oof_test.reshape(-1, 1), oof_test_proba.reshape(-1,1)\n",
    "\n",
    "\n",
    "class XgbWrapper(object):\n",
    "    def __init__(self, seed=0, params=None):\n",
    "        self.param = params\n",
    "        self.param['seed'] = seed\n",
    "        self.nrounds = params.pop('nrounds', 250)\n",
    "        self.train_test_cols = [c for c in data.columns if c not in ['situacao', 'situacao_dummy']]\n",
    "        self.aa = None\n",
    "\n",
    "    def train(self, x_train, y_train):\n",
    "        self.dd = pd.DataFrame(x_train, columns=self.train_test_cols)\n",
    "        dtrain = xgb.DMatrix(self.dd, label=y_train)\n",
    "        self.gbdt = xgb.train(self.param, dtrain, self.nrounds)\n",
    "\n",
    "    def predict(self, x):\n",
    "        return self.gbdt.predict(xgb.DMatrix(pd.DataFrame(x)[self.train_test_cols]))   \n",
    "\n",
    "    def predict_proba(self, x):\n",
    "        return self.gbdt.predict_proba(xgb.DMatrix(pd.DataFrame(x)[self.train_test_cols]))\n",
    "    \n",
    "xg = XgbWrapper(seed=SEED, params=xgb_params)\n",
    "ad = SklearnWrapper_1(clf=AdaBoostClassifier, seed=SEED, params=ada_params)\n",
    "\n",
    "#xg.train(X_train, y_train)\n",
    "#xg.predict(X_test)"
   ]
  },
  {
   "cell_type": "code",
   "execution_count": 36,
   "metadata": {},
   "outputs": [
    {
     "name": "stdout",
     "output_type": "stream",
     "text": [
      "\n",
      "Ada Training --------------------------------\n",
      "x_tr.shape: (8794, 257)\n",
      "y_tr.shape: (8794,)\n",
      "x_te.shape: (4398, 257)\n",
      "x_tr.shape: (8794, 257)\n",
      "y_tr.shape: (8794,)\n",
      "x_te.shape: (4398, 257)\n",
      "x_tr.shape: (8796, 257)\n",
      "y_tr.shape: (8796,)\n",
      "x_te.shape: (4396, 257)\n",
      "Ada Training Finished -------------------------------\n",
      "\n",
      "\n",
      "XGBoost Training ----------------------------------\n",
      "x_tr.shape: (8794, 257)\n",
      "y_tr.shape: (8794,)\n",
      "x_te.shape: (4398, 257)\n"
     ]
    },
    {
     "ename": "KeyError",
     "evalue": "\"['ano' 'quantidade_doacoes' 'quantidade_doadores' 'total_receita'\\n 'media_receita' 'recursos_de_outros_candidatos.comites'\\n 'recursos_de_pessoas_fisicas' 'recursos_de_pessoas_juridicas'\\n 'recursos_proprios' 'recursos_de_partido_politico' 'quantidade_despesas'\\n 'quantidade_fornecedores' 'total_despesa' 'media_despesa' 'grau' 'uf_AC'\\n 'uf_AL' 'uf_AM' 'uf_AP' 'uf_BA' 'uf_CE' 'uf_DF' 'uf_ES' 'uf_GO' 'uf_MA'\\n 'uf_MG' 'uf_MS' 'uf_MT' 'uf_PA' 'uf_PB' 'uf_PE' 'uf_PI' 'uf_PR' 'uf_RJ'\\n 'uf_RN' 'uf_RO' 'uf_RR' 'uf_RS' 'uf_SC' 'uf_SE' 'uf_SP' 'uf_TO'\\n 'partido_DEM' 'partido_PAN' 'partido_PC do B' 'partido_PCB' 'partido_PCO'\\n 'partido_PDT' 'partido_PFL' 'partido_PHS' 'partido_PL' 'partido_PMDB'\\n 'partido_PMN' 'partido_PP' 'partido_PPS' 'partido_PR' 'partido_PRB'\\n 'partido_PRONA' 'partido_PRP' 'partido_PRTB' 'partido_PSB' 'partido_PSC'\\n 'partido_PSDB' 'partido_PSDC' 'partido_PSL' 'partido_PSOL' 'partido_PSTU'\\n 'partido_PT' 'partido_PT do B' 'partido_PTB' 'partido_PTC' 'partido_PTN'\\n 'partido_PV' 'cargo_DEPUTADO FEDERAL' 'sexo_FEMININO' 'sexo_MASCULINO'\\n 'estado_civil_CASADO(A)' 'estado_civil_DIVORCIADO(A)'\\n 'estado_civil_SEPARADO(A) JUDICIALMENTE' 'estado_civil_SOLTEIRO(A)'\\n 'estado_civil_VIÚVO(A)' 'ocupacao_ADMINISTRADOR' 'ocupacao_ADVOGADO'\\n 'ocupacao_AGENCIADOR DE PROPAGANDA' 'ocupacao_AGENTE ADMINISTRATIVO'\\n 'ocupacao_AGENTE DE SAÚDE E SANITARISTA' 'ocupacao_AGENTE DE VIAGEM'\\n 'ocupacao_AGENTE POSTAL' 'ocupacao_AGRICULTOR' 'ocupacao_AGRÔNOMO'\\n 'ocupacao_ALFAIATE E COSTUREIRO' 'ocupacao_ALMOXARIFE'\\n 'ocupacao_ANALISTA DE SISTEMAS'\\n 'ocupacao_APOSENTADO (EXCETO SERVIDOR PÚBLICO)' 'ocupacao_ARQUEÓLOGO'\\n 'ocupacao_ARQUITETO' 'ocupacao_ARTESÃO' 'ocupacao_ARTISTA DE CIRCO'\\n 'ocupacao_ARTISTA PLÁSTICO E ASSEMELHADOS' 'ocupacao_ASSISTENTE SOCIAL'\\n 'ocupacao_ASTRÔNOMO'\\n 'ocupacao_ATLETA PROFISSIONAL E TÉCNICO EM DESPORTOS'\\n 'ocupacao_ATOR E DIRETOR DE ESPETÁCULOS PÚBLICOS'\\n 'ocupacao_AUXILIAR DE ESCRITÓRIO E ASSEMELHADOS'\\n 'ocupacao_AUXILIAR DE LABORATÓRIO' 'ocupacao_BANCÁRIO E ECONOMIÁRIO'\\n 'ocupacao_BIBLIOTECÁRIO' 'ocupacao_BIOMÉDICO' 'ocupacao_BIÓLOGO'\\n 'ocupacao_BOMBEIRO MILITAR' 'ocupacao_CABELEIREIRO E BARBEIRO'\\n 'ocupacao_CANTOR E COMPOSITOR'\\n 'ocupacao_CAPITALISTA DE ATIVOS FINANCEIROS'\\n 'ocupacao_CARPINTEIRO, MARCENEIRO E ASSEMELHADOS'\\n 'ocupacao_CIENTISTA POLÍTICO' 'ocupacao_COBRADOR DE TRANSPORTE COLETIVO'\\n 'ocupacao_COMERCIANTE' 'ocupacao_COMERCIÁRIO' 'ocupacao_COMUNICÓLOGO'\\n 'ocupacao_CONTADOR'\\n 'ocupacao_CORRETOR DE IMÓVEIS, SEGUROS, TÍTULOS E VALORES'\\n 'ocupacao_COZINHEIRO' 'ocupacao_DEMONSTRADOR' 'ocupacao_DEPUTADO'\\n 'ocupacao_DESENHISTA' 'ocupacao_DESPACHANTE'\\n 'ocupacao_DETETIVE PARTICULAR' 'ocupacao_DIGITADOR' 'ocupacao_DIPLOMATA'\\n 'ocupacao_DIRETOR DE EMPRESAS'\\n 'ocupacao_DIRETOR DE ESTABELECIMENTO DE ENSINO' 'ocupacao_DONA DE CASA'\\n 'ocupacao_ECONOMISTA' 'ocupacao_ELETRICISTA E ASSEMELHADOS'\\n 'ocupacao_EMPRESÁRIO'\\n 'ocupacao_ENCANADOR, SOLDADOR, CHAPEADOR E CALDEIREIRO'\\n 'ocupacao_ENFERMEIRO' 'ocupacao_ENGENHEIRO' 'ocupacao_ESCRITOR E CRÍTICO'\\n 'ocupacao_ESCULTOR E PINTOR' 'ocupacao_ESTETICISTA'\\n 'ocupacao_ESTIVADOR, CARREGADOR E ASSEMELHADOS'\\n 'ocupacao_ESTUDANTE, BOLSISTA, ESTAGIÁRIO E ASSEMELHADOS'\\n 'ocupacao_FARMACÊUTICO' 'ocupacao_FAXINEIRO'\\n 'ocupacao_FEIRANTE, AMBULANTE E MASCATE' 'ocupacao_FERROVIÁRIO'\\n 'ocupacao_FIANDEIRO, TECELÃO, TINGIDOR E ASSEMELHADOS' 'ocupacao_FISCAL'\\n 'ocupacao_FISCAL DE TRANSPORTE COLETIVO'\\n 'ocupacao_FISIOTERAPEUTA E TERAPEUTA OCUPACIONAL'\\n 'ocupacao_FONOAUDIÓLOGO' 'ocupacao_FOTÓGRAFO E ASSEMELHADOS'\\n 'ocupacao_FRENTISTA' 'ocupacao_FÍSICO' 'ocupacao_GARI OU LIXEIRO'\\n 'ocupacao_GARÇOM' 'ocupacao_GERENTE' 'ocupacao_GEÓGRAFO'\\n 'ocupacao_GEÓLOGO' 'ocupacao_GUIA DE TURISMO' 'ocupacao_HISTORIADOR'\\n 'ocupacao_INDUSTRIAL' 'ocupacao_JORNALISTA E REDATOR'\\n 'ocupacao_LEILOEIRO, AVALIADOR E ASSEMELHADOS'\\n 'ocupacao_LOCUTOR E COMENTARISTA DE RÁDIO E TELEVISÃO E RADIALISTA'\\n 'ocupacao_MANICURE E MAQUILADOR'\\n 'ocupacao_MARINHEIRO CIVIL, CANOEIRO, EMBARCADO E ASSEMELHADOS'\\n 'ocupacao_MECÂNICO DE MANUTENÇÃO' 'ocupacao_MEMBRO DAS FORÇAS ARMADAS'\\n 'ocupacao_MEMBRO DO MINISTÉRIO PÚBLICO'\\n 'ocupacao_MESTRE E CONTRAMESTRE DE EMBARCAÇÃO'\\n 'ocupacao_MILITAR REFORMADO' 'ocupacao_MODELO' 'ocupacao_MOTOBOY'\\n 'ocupacao_MOTORISTA DE VEÍCULOS DE TRANSPORTE COLETIVO DE PASSAGEIROS'\\n 'ocupacao_MOTORISTA DE VEÍCULOS DE TRANSPORTE DE CARGA'\\n 'ocupacao_MOTORISTA PARTICULAR' 'ocupacao_MÉDICO' 'ocupacao_MÚSICO'\\n 'ocupacao_OCUPANTE DE CARGO EM COMISSÃO' 'ocupacao_ODONTÓLOGO'\\n 'ocupacao_OPERADOR DE APARELHOS DE PRODUÇÃO INDUSTRIAL'\\n 'ocupacao_OPERADOR DE COMPUTADOR'\\n 'ocupacao_OPERADOR DE EQUIPAMENTO DE RÁDIO, TELEVISÃO, SOM E CINEMA'\\n 'ocupacao_OPERADOR DE INSTALAÇÃO DE PRODUÇÃO DE ENERGIA ELÉTRICA E NUCLEAR'\\n 'ocupacao_OUTROS' 'ocupacao_PADEIRO, CONFEITEIRO E ASSEMELHADOS'\\n 'ocupacao_PECUARISTA' 'ocupacao_PEDAGOGO' 'ocupacao_PESCADOR'\\n 'ocupacao_PETROLEIRO'\\n 'ocupacao_PILOTO DE AVIAÇÃO COMERCIAL, NAVEGADOR, MECÂNICO DE VÔO E ASSEMELHADOS'\\n 'ocupacao_POLICIAL CIVIL' 'ocupacao_POLICIAL MILITAR'\\n 'ocupacao_PORTEIRO DE EDIFÍCIO, ASCENSORISTA, GARAGISTA E ZELADOR'\\n 'ocupacao_PREFEITO' 'ocupacao_PRODUTOR AGROPECUÁRIO'\\n 'ocupacao_PRODUTOR DE ESPETÁCULOS PÚBLICOS'\\n 'ocupacao_PROFESSOR DE ENSINO FUNDAMENTAL'\\n 'ocupacao_PROFESSOR DE ENSINO MÉDIO'\\n 'ocupacao_PROFESSOR DE ENSINO SUPERIOR'\\n 'ocupacao_PROFESSOR E INSTRUTOR DE FORMAÇÃO PROFISSIONAL'\\n 'ocupacao_PROGRAMADOR DE COMPUTADOR' 'ocupacao_PROTÉTICO'\\n 'ocupacao_PSICÓLOGO' 'ocupacao_PUBLICITÁRIO' 'ocupacao_QUÍMICO'\\n 'ocupacao_RECEPCIONISTA' 'ocupacao_REPRESENTANTE COMERCIAL'\\n 'ocupacao_SACERDOTE OU MEMBRO DE ORDEM OU SEITA RELIGIOSA'\\n 'ocupacao_SECRETÁRIO E DATILÓGRAFO' 'ocupacao_SECURITÁRIO'\\n 'ocupacao_SENADOR' 'ocupacao_SERRALHEIRO'\\n 'ocupacao_SERVENTUÁRIO DE JUSTIÇA'\\n 'ocupacao_SERVIDOR DA JUSTIÇA ELEITORAL'\\n 'ocupacao_SERVIDOR PÚBLICO CIVIL APOSENTADO'\\n 'ocupacao_SERVIDOR PÚBLICO ESTADUAL' 'ocupacao_SERVIDOR PÚBLICO FEDERAL'\\n 'ocupacao_SERVIDOR PÚBLICO MUNICIPAL' 'ocupacao_SOCIÓLOGO'\\n 'ocupacao_SUPERVISOR, INSPETOR E AGENTE DE COMPRAS E VENDAS'\\n 'ocupacao_TABELIÃO' 'ocupacao_TAQUÍGRAFO E ESTENÓGRAFO'\\n 'ocupacao_TAXISTA' 'ocupacao_TELEFONISTA' 'ocupacao_TERAPEUTA'\\n 'ocupacao_TORNEIRO MECÂNICO' 'ocupacao_TRABALHADOR DE ARTES GRÁFICAS'\\n 'ocupacao_TRABALHADOR DE CONSTRUÇÃO CIVIL'\\n 'ocupacao_TRABALHADOR DE FABRICAÇÃO DE ROUPAS'\\n 'ocupacao_TRABALHADOR DE FABRICAÇÃO E PREPARAÇÃO DE ALIMENTOS E BEBIDAS'\\n 'ocupacao_TRABALHADOR DE HOTELARIA'\\n 'ocupacao_TRABALHADOR DE MINAS E PEDREIRAS, SONDADOR E ASSEMELHADOS'\\n 'ocupacao_TRABALHADOR DE USINAGEM DE METAIS'\\n 'ocupacao_TRABALHADOR DOS SERVIÇOS DE CONTABILIDADE, DE CAIXA E ASSEMELHADOS'\\n 'ocupacao_TRABALHADOR EM ATIVIDADE DE PROCESSAMENTO QUÍMICO'\\n 'ocupacao_TRABALHADOR METALÚRGICO E SIDERÚRGICO'\\n 'ocupacao_TRABALHADOR RURAL'\\n 'ocupacao_TÉCNICO CONTABILIDADE, ESTATÍSTICA, ECONOMIA DOMÉSTICA E ADMINISTRAÇÃO'\\n 'ocupacao_TÉCNICO DE BIOLOGIA'\\n 'ocupacao_TÉCNICO DE ELETRICIDADE, ELETRÔNICA E TELECOMUNICAÇÕES'\\n 'ocupacao_TÉCNICO DE ENFERMAGEM E ASSEMELHADOS (EXCETO ENFERMEIRO)'\\n 'ocupacao_TÉCNICO DE LABORATÓRIO E RAIOS X'\\n 'ocupacao_TÉCNICO DE MECÂNICA'\\n 'ocupacao_TÉCNICO DE MINERAÇÃO, METALURGIA E GEOLOGIA'\\n 'ocupacao_TÉCNICO DE OBRAS CIVIS, ESTRADAS, SANEAMENTO E ASSEMELHADOS'\\n 'ocupacao_TÉCNICO EM AGRONOMIA E AGRIMENSURA'\\n 'ocupacao_TÉCNICO EM EDIFICAÇÕES' 'ocupacao_TÉCNICO EM INFORMÁTICA'\\n 'ocupacao_VENDEDOR DE COMÉRCIO VAREJISTA E ATACADISTA'\\n 'ocupacao_VENDEDOR PRACISTA, REPRESENTANTE, CAIXEIRO-VIAJANTE E ASSEMELHADOS'\\n 'ocupacao_VEREADOR' 'ocupacao_VETERINÁRIO' 'ocupacao_VIGILANTE'\\n 'ocupacao_ZOOTECNISTA'] not in index\"",
     "output_type": "error",
     "traceback": [
      "\u001b[0;31m---------------------------------------------------------------------------\u001b[0m",
      "\u001b[0;31mKeyError\u001b[0m                                  Traceback (most recent call last)",
      "\u001b[0;32m<ipython-input-36-2404ee78c3c9>\u001b[0m in \u001b[0;36m<module>\u001b[0;34m()\u001b[0m\n\u001b[1;32m      4\u001b[0m \u001b[0;34m\u001b[0m\u001b[0m\n\u001b[1;32m      5\u001b[0m \u001b[0mprint\u001b[0m\u001b[0;34m(\u001b[0m\u001b[0;34m\"\\nXGBoost Training ----------------------------------\"\u001b[0m\u001b[0;34m)\u001b[0m\u001b[0;34m\u001b[0m\u001b[0m\n\u001b[0;32m----> 6\u001b[0;31m \u001b[0mxg_oof_train\u001b[0m\u001b[0;34m,\u001b[0m \u001b[0mxg_oof_test\u001b[0m\u001b[0;34m,\u001b[0m \u001b[0mxg_oof_test_proba\u001b[0m \u001b[0;34m=\u001b[0m \u001b[0mget_oof_2\u001b[0m\u001b[0;34m(\u001b[0m\u001b[0mxg\u001b[0m\u001b[0;34m)\u001b[0m\u001b[0;34m\u001b[0m\u001b[0m\n\u001b[0m\u001b[1;32m      7\u001b[0m \u001b[0mprint\u001b[0m\u001b[0;34m(\u001b[0m\u001b[0;34m\"XGBoost Training ------------------------------\\n\"\u001b[0m\u001b[0;34m)\u001b[0m\u001b[0;34m\u001b[0m\u001b[0m\n\u001b[1;32m      8\u001b[0m \u001b[0;34m\u001b[0m\u001b[0m\n",
      "\u001b[0;32m<ipython-input-35-6c08689ddff4>\u001b[0m in \u001b[0;36mget_oof_2\u001b[0;34m(clf)\u001b[0m\n\u001b[1;32m     36\u001b[0m         \u001b[0mprint\u001b[0m\u001b[0;34m(\u001b[0m\u001b[0;34m\"x_te.shape: {}\"\u001b[0m\u001b[0;34m.\u001b[0m\u001b[0mformat\u001b[0m\u001b[0;34m(\u001b[0m\u001b[0mx_te\u001b[0m\u001b[0;34m.\u001b[0m\u001b[0mshape\u001b[0m\u001b[0;34m)\u001b[0m\u001b[0;34m)\u001b[0m\u001b[0;34m\u001b[0m\u001b[0m\n\u001b[1;32m     37\u001b[0m \u001b[0;34m\u001b[0m\u001b[0m\n\u001b[0;32m---> 38\u001b[0;31m         \u001b[0moof_train\u001b[0m\u001b[0;34m[\u001b[0m\u001b[0mtest_index\u001b[0m\u001b[0;34m]\u001b[0m \u001b[0;34m=\u001b[0m \u001b[0mclf\u001b[0m\u001b[0;34m.\u001b[0m\u001b[0mpredict\u001b[0m\u001b[0;34m(\u001b[0m\u001b[0mx_te\u001b[0m\u001b[0;34m)\u001b[0m\u001b[0;34m\u001b[0m\u001b[0m\n\u001b[0m\u001b[1;32m     39\u001b[0m         \u001b[0moof_test_skf\u001b[0m\u001b[0;34m[\u001b[0m\u001b[0mi\u001b[0m\u001b[0;34m,\u001b[0m \u001b[0;34m:\u001b[0m\u001b[0;34m]\u001b[0m \u001b[0;34m=\u001b[0m \u001b[0mclf\u001b[0m\u001b[0;34m.\u001b[0m\u001b[0mpredict\u001b[0m\u001b[0;34m(\u001b[0m\u001b[0mX_test\u001b[0m\u001b[0;34m)\u001b[0m\u001b[0;34m\u001b[0m\u001b[0m\n\u001b[1;32m     40\u001b[0m         \u001b[0moof_test_skf_proba\u001b[0m\u001b[0;34m[\u001b[0m\u001b[0mi\u001b[0m\u001b[0;34m,\u001b[0m \u001b[0;34m:\u001b[0m\u001b[0;34m]\u001b[0m \u001b[0;34m=\u001b[0m \u001b[0mclf\u001b[0m\u001b[0;34m.\u001b[0m\u001b[0mpredict_proba\u001b[0m\u001b[0;34m(\u001b[0m\u001b[0mX_test\u001b[0m\u001b[0;34m)\u001b[0m\u001b[0;34m\u001b[0m\u001b[0m\n",
      "\u001b[0;32m<ipython-input-35-6c08689ddff4>\u001b[0m in \u001b[0;36mpredict\u001b[0;34m(self, x)\u001b[0m\n\u001b[1;32m     59\u001b[0m \u001b[0;34m\u001b[0m\u001b[0m\n\u001b[1;32m     60\u001b[0m     \u001b[0;32mdef\u001b[0m \u001b[0mpredict\u001b[0m\u001b[0;34m(\u001b[0m\u001b[0mself\u001b[0m\u001b[0;34m,\u001b[0m \u001b[0mx\u001b[0m\u001b[0;34m)\u001b[0m\u001b[0;34m:\u001b[0m\u001b[0;34m\u001b[0m\u001b[0m\n\u001b[0;32m---> 61\u001b[0;31m         \u001b[0;32mreturn\u001b[0m \u001b[0mself\u001b[0m\u001b[0;34m.\u001b[0m\u001b[0mgbdt\u001b[0m\u001b[0;34m.\u001b[0m\u001b[0mpredict\u001b[0m\u001b[0;34m(\u001b[0m\u001b[0mxgb\u001b[0m\u001b[0;34m.\u001b[0m\u001b[0mDMatrix\u001b[0m\u001b[0;34m(\u001b[0m\u001b[0mpd\u001b[0m\u001b[0;34m.\u001b[0m\u001b[0mDataFrame\u001b[0m\u001b[0;34m(\u001b[0m\u001b[0mx\u001b[0m\u001b[0;34m)\u001b[0m\u001b[0;34m[\u001b[0m\u001b[0mself\u001b[0m\u001b[0;34m.\u001b[0m\u001b[0mtrain_test_cols\u001b[0m\u001b[0;34m]\u001b[0m\u001b[0;34m)\u001b[0m\u001b[0;34m)\u001b[0m\u001b[0;34m\u001b[0m\u001b[0m\n\u001b[0m\u001b[1;32m     62\u001b[0m \u001b[0;34m\u001b[0m\u001b[0m\n\u001b[1;32m     63\u001b[0m     \u001b[0;32mdef\u001b[0m \u001b[0mpredict_proba\u001b[0m\u001b[0;34m(\u001b[0m\u001b[0mself\u001b[0m\u001b[0;34m,\u001b[0m \u001b[0mx\u001b[0m\u001b[0;34m)\u001b[0m\u001b[0;34m:\u001b[0m\u001b[0;34m\u001b[0m\u001b[0m\n",
      "\u001b[0;32m~/anaconda3/envs/ml-mestrado/lib/python3.6/site-packages/pandas/core/frame.py\u001b[0m in \u001b[0;36m__getitem__\u001b[0;34m(self, key)\u001b[0m\n\u001b[1;32m   2680\u001b[0m         \u001b[0;32mif\u001b[0m \u001b[0misinstance\u001b[0m\u001b[0;34m(\u001b[0m\u001b[0mkey\u001b[0m\u001b[0;34m,\u001b[0m \u001b[0;34m(\u001b[0m\u001b[0mSeries\u001b[0m\u001b[0;34m,\u001b[0m \u001b[0mnp\u001b[0m\u001b[0;34m.\u001b[0m\u001b[0mndarray\u001b[0m\u001b[0;34m,\u001b[0m \u001b[0mIndex\u001b[0m\u001b[0;34m,\u001b[0m \u001b[0mlist\u001b[0m\u001b[0;34m)\u001b[0m\u001b[0;34m)\u001b[0m\u001b[0;34m:\u001b[0m\u001b[0;34m\u001b[0m\u001b[0m\n\u001b[1;32m   2681\u001b[0m             \u001b[0;31m# either boolean or fancy integer index\u001b[0m\u001b[0;34m\u001b[0m\u001b[0;34m\u001b[0m\u001b[0m\n\u001b[0;32m-> 2682\u001b[0;31m             \u001b[0;32mreturn\u001b[0m \u001b[0mself\u001b[0m\u001b[0;34m.\u001b[0m\u001b[0m_getitem_array\u001b[0m\u001b[0;34m(\u001b[0m\u001b[0mkey\u001b[0m\u001b[0;34m)\u001b[0m\u001b[0;34m\u001b[0m\u001b[0m\n\u001b[0m\u001b[1;32m   2683\u001b[0m         \u001b[0;32melif\u001b[0m \u001b[0misinstance\u001b[0m\u001b[0;34m(\u001b[0m\u001b[0mkey\u001b[0m\u001b[0;34m,\u001b[0m \u001b[0mDataFrame\u001b[0m\u001b[0;34m)\u001b[0m\u001b[0;34m:\u001b[0m\u001b[0;34m\u001b[0m\u001b[0m\n\u001b[1;32m   2684\u001b[0m             \u001b[0;32mreturn\u001b[0m \u001b[0mself\u001b[0m\u001b[0;34m.\u001b[0m\u001b[0m_getitem_frame\u001b[0m\u001b[0;34m(\u001b[0m\u001b[0mkey\u001b[0m\u001b[0;34m)\u001b[0m\u001b[0;34m\u001b[0m\u001b[0m\n",
      "\u001b[0;32m~/anaconda3/envs/ml-mestrado/lib/python3.6/site-packages/pandas/core/frame.py\u001b[0m in \u001b[0;36m_getitem_array\u001b[0;34m(self, key)\u001b[0m\n\u001b[1;32m   2724\u001b[0m             \u001b[0;32mreturn\u001b[0m \u001b[0mself\u001b[0m\u001b[0;34m.\u001b[0m\u001b[0m_take\u001b[0m\u001b[0;34m(\u001b[0m\u001b[0mindexer\u001b[0m\u001b[0;34m,\u001b[0m \u001b[0maxis\u001b[0m\u001b[0;34m=\u001b[0m\u001b[0;36m0\u001b[0m\u001b[0;34m)\u001b[0m\u001b[0;34m\u001b[0m\u001b[0m\n\u001b[1;32m   2725\u001b[0m         \u001b[0;32melse\u001b[0m\u001b[0;34m:\u001b[0m\u001b[0;34m\u001b[0m\u001b[0m\n\u001b[0;32m-> 2726\u001b[0;31m             \u001b[0mindexer\u001b[0m \u001b[0;34m=\u001b[0m \u001b[0mself\u001b[0m\u001b[0;34m.\u001b[0m\u001b[0mloc\u001b[0m\u001b[0;34m.\u001b[0m\u001b[0m_convert_to_indexer\u001b[0m\u001b[0;34m(\u001b[0m\u001b[0mkey\u001b[0m\u001b[0;34m,\u001b[0m \u001b[0maxis\u001b[0m\u001b[0;34m=\u001b[0m\u001b[0;36m1\u001b[0m\u001b[0;34m)\u001b[0m\u001b[0;34m\u001b[0m\u001b[0m\n\u001b[0m\u001b[1;32m   2727\u001b[0m             \u001b[0;32mreturn\u001b[0m \u001b[0mself\u001b[0m\u001b[0;34m.\u001b[0m\u001b[0m_take\u001b[0m\u001b[0;34m(\u001b[0m\u001b[0mindexer\u001b[0m\u001b[0;34m,\u001b[0m \u001b[0maxis\u001b[0m\u001b[0;34m=\u001b[0m\u001b[0;36m1\u001b[0m\u001b[0;34m)\u001b[0m\u001b[0;34m\u001b[0m\u001b[0m\n\u001b[1;32m   2728\u001b[0m \u001b[0;34m\u001b[0m\u001b[0m\n",
      "\u001b[0;32m~/anaconda3/envs/ml-mestrado/lib/python3.6/site-packages/pandas/core/indexing.py\u001b[0m in \u001b[0;36m_convert_to_indexer\u001b[0;34m(self, obj, axis, is_setter)\u001b[0m\n\u001b[1;32m   1325\u001b[0m                 \u001b[0;32mif\u001b[0m \u001b[0mmask\u001b[0m\u001b[0;34m.\u001b[0m\u001b[0many\u001b[0m\u001b[0;34m(\u001b[0m\u001b[0;34m)\u001b[0m\u001b[0;34m:\u001b[0m\u001b[0;34m\u001b[0m\u001b[0m\n\u001b[1;32m   1326\u001b[0m                     raise KeyError('{mask} not in index'\n\u001b[0;32m-> 1327\u001b[0;31m                                    .format(mask=objarr[mask]))\n\u001b[0m\u001b[1;32m   1328\u001b[0m \u001b[0;34m\u001b[0m\u001b[0m\n\u001b[1;32m   1329\u001b[0m                 \u001b[0;32mreturn\u001b[0m \u001b[0mcom\u001b[0m\u001b[0;34m.\u001b[0m\u001b[0m_values_from_object\u001b[0m\u001b[0;34m(\u001b[0m\u001b[0mindexer\u001b[0m\u001b[0;34m)\u001b[0m\u001b[0;34m\u001b[0m\u001b[0m\n",
      "\u001b[0;31mKeyError\u001b[0m: \"['ano' 'quantidade_doacoes' 'quantidade_doadores' 'total_receita'\\n 'media_receita' 'recursos_de_outros_candidatos.comites'\\n 'recursos_de_pessoas_fisicas' 'recursos_de_pessoas_juridicas'\\n 'recursos_proprios' 'recursos_de_partido_politico' 'quantidade_despesas'\\n 'quantidade_fornecedores' 'total_despesa' 'media_despesa' 'grau' 'uf_AC'\\n 'uf_AL' 'uf_AM' 'uf_AP' 'uf_BA' 'uf_CE' 'uf_DF' 'uf_ES' 'uf_GO' 'uf_MA'\\n 'uf_MG' 'uf_MS' 'uf_MT' 'uf_PA' 'uf_PB' 'uf_PE' 'uf_PI' 'uf_PR' 'uf_RJ'\\n 'uf_RN' 'uf_RO' 'uf_RR' 'uf_RS' 'uf_SC' 'uf_SE' 'uf_SP' 'uf_TO'\\n 'partido_DEM' 'partido_PAN' 'partido_PC do B' 'partido_PCB' 'partido_PCO'\\n 'partido_PDT' 'partido_PFL' 'partido_PHS' 'partido_PL' 'partido_PMDB'\\n 'partido_PMN' 'partido_PP' 'partido_PPS' 'partido_PR' 'partido_PRB'\\n 'partido_PRONA' 'partido_PRP' 'partido_PRTB' 'partido_PSB' 'partido_PSC'\\n 'partido_PSDB' 'partido_PSDC' 'partido_PSL' 'partido_PSOL' 'partido_PSTU'\\n 'partido_PT' 'partido_PT do B' 'partido_PTB' 'partido_PTC' 'partido_PTN'\\n 'partido_PV' 'cargo_DEPUTADO FEDERAL' 'sexo_FEMININO' 'sexo_MASCULINO'\\n 'estado_civil_CASADO(A)' 'estado_civil_DIVORCIADO(A)'\\n 'estado_civil_SEPARADO(A) JUDICIALMENTE' 'estado_civil_SOLTEIRO(A)'\\n 'estado_civil_VIÚVO(A)' 'ocupacao_ADMINISTRADOR' 'ocupacao_ADVOGADO'\\n 'ocupacao_AGENCIADOR DE PROPAGANDA' 'ocupacao_AGENTE ADMINISTRATIVO'\\n 'ocupacao_AGENTE DE SAÚDE E SANITARISTA' 'ocupacao_AGENTE DE VIAGEM'\\n 'ocupacao_AGENTE POSTAL' 'ocupacao_AGRICULTOR' 'ocupacao_AGRÔNOMO'\\n 'ocupacao_ALFAIATE E COSTUREIRO' 'ocupacao_ALMOXARIFE'\\n 'ocupacao_ANALISTA DE SISTEMAS'\\n 'ocupacao_APOSENTADO (EXCETO SERVIDOR PÚBLICO)' 'ocupacao_ARQUEÓLOGO'\\n 'ocupacao_ARQUITETO' 'ocupacao_ARTESÃO' 'ocupacao_ARTISTA DE CIRCO'\\n 'ocupacao_ARTISTA PLÁSTICO E ASSEMELHADOS' 'ocupacao_ASSISTENTE SOCIAL'\\n 'ocupacao_ASTRÔNOMO'\\n 'ocupacao_ATLETA PROFISSIONAL E TÉCNICO EM DESPORTOS'\\n 'ocupacao_ATOR E DIRETOR DE ESPETÁCULOS PÚBLICOS'\\n 'ocupacao_AUXILIAR DE ESCRITÓRIO E ASSEMELHADOS'\\n 'ocupacao_AUXILIAR DE LABORATÓRIO' 'ocupacao_BANCÁRIO E ECONOMIÁRIO'\\n 'ocupacao_BIBLIOTECÁRIO' 'ocupacao_BIOMÉDICO' 'ocupacao_BIÓLOGO'\\n 'ocupacao_BOMBEIRO MILITAR' 'ocupacao_CABELEIREIRO E BARBEIRO'\\n 'ocupacao_CANTOR E COMPOSITOR'\\n 'ocupacao_CAPITALISTA DE ATIVOS FINANCEIROS'\\n 'ocupacao_CARPINTEIRO, MARCENEIRO E ASSEMELHADOS'\\n 'ocupacao_CIENTISTA POLÍTICO' 'ocupacao_COBRADOR DE TRANSPORTE COLETIVO'\\n 'ocupacao_COMERCIANTE' 'ocupacao_COMERCIÁRIO' 'ocupacao_COMUNICÓLOGO'\\n 'ocupacao_CONTADOR'\\n 'ocupacao_CORRETOR DE IMÓVEIS, SEGUROS, TÍTULOS E VALORES'\\n 'ocupacao_COZINHEIRO' 'ocupacao_DEMONSTRADOR' 'ocupacao_DEPUTADO'\\n 'ocupacao_DESENHISTA' 'ocupacao_DESPACHANTE'\\n 'ocupacao_DETETIVE PARTICULAR' 'ocupacao_DIGITADOR' 'ocupacao_DIPLOMATA'\\n 'ocupacao_DIRETOR DE EMPRESAS'\\n 'ocupacao_DIRETOR DE ESTABELECIMENTO DE ENSINO' 'ocupacao_DONA DE CASA'\\n 'ocupacao_ECONOMISTA' 'ocupacao_ELETRICISTA E ASSEMELHADOS'\\n 'ocupacao_EMPRESÁRIO'\\n 'ocupacao_ENCANADOR, SOLDADOR, CHAPEADOR E CALDEIREIRO'\\n 'ocupacao_ENFERMEIRO' 'ocupacao_ENGENHEIRO' 'ocupacao_ESCRITOR E CRÍTICO'\\n 'ocupacao_ESCULTOR E PINTOR' 'ocupacao_ESTETICISTA'\\n 'ocupacao_ESTIVADOR, CARREGADOR E ASSEMELHADOS'\\n 'ocupacao_ESTUDANTE, BOLSISTA, ESTAGIÁRIO E ASSEMELHADOS'\\n 'ocupacao_FARMACÊUTICO' 'ocupacao_FAXINEIRO'\\n 'ocupacao_FEIRANTE, AMBULANTE E MASCATE' 'ocupacao_FERROVIÁRIO'\\n 'ocupacao_FIANDEIRO, TECELÃO, TINGIDOR E ASSEMELHADOS' 'ocupacao_FISCAL'\\n 'ocupacao_FISCAL DE TRANSPORTE COLETIVO'\\n 'ocupacao_FISIOTERAPEUTA E TERAPEUTA OCUPACIONAL'\\n 'ocupacao_FONOAUDIÓLOGO' 'ocupacao_FOTÓGRAFO E ASSEMELHADOS'\\n 'ocupacao_FRENTISTA' 'ocupacao_FÍSICO' 'ocupacao_GARI OU LIXEIRO'\\n 'ocupacao_GARÇOM' 'ocupacao_GERENTE' 'ocupacao_GEÓGRAFO'\\n 'ocupacao_GEÓLOGO' 'ocupacao_GUIA DE TURISMO' 'ocupacao_HISTORIADOR'\\n 'ocupacao_INDUSTRIAL' 'ocupacao_JORNALISTA E REDATOR'\\n 'ocupacao_LEILOEIRO, AVALIADOR E ASSEMELHADOS'\\n 'ocupacao_LOCUTOR E COMENTARISTA DE RÁDIO E TELEVISÃO E RADIALISTA'\\n 'ocupacao_MANICURE E MAQUILADOR'\\n 'ocupacao_MARINHEIRO CIVIL, CANOEIRO, EMBARCADO E ASSEMELHADOS'\\n 'ocupacao_MECÂNICO DE MANUTENÇÃO' 'ocupacao_MEMBRO DAS FORÇAS ARMADAS'\\n 'ocupacao_MEMBRO DO MINISTÉRIO PÚBLICO'\\n 'ocupacao_MESTRE E CONTRAMESTRE DE EMBARCAÇÃO'\\n 'ocupacao_MILITAR REFORMADO' 'ocupacao_MODELO' 'ocupacao_MOTOBOY'\\n 'ocupacao_MOTORISTA DE VEÍCULOS DE TRANSPORTE COLETIVO DE PASSAGEIROS'\\n 'ocupacao_MOTORISTA DE VEÍCULOS DE TRANSPORTE DE CARGA'\\n 'ocupacao_MOTORISTA PARTICULAR' 'ocupacao_MÉDICO' 'ocupacao_MÚSICO'\\n 'ocupacao_OCUPANTE DE CARGO EM COMISSÃO' 'ocupacao_ODONTÓLOGO'\\n 'ocupacao_OPERADOR DE APARELHOS DE PRODUÇÃO INDUSTRIAL'\\n 'ocupacao_OPERADOR DE COMPUTADOR'\\n 'ocupacao_OPERADOR DE EQUIPAMENTO DE RÁDIO, TELEVISÃO, SOM E CINEMA'\\n 'ocupacao_OPERADOR DE INSTALAÇÃO DE PRODUÇÃO DE ENERGIA ELÉTRICA E NUCLEAR'\\n 'ocupacao_OUTROS' 'ocupacao_PADEIRO, CONFEITEIRO E ASSEMELHADOS'\\n 'ocupacao_PECUARISTA' 'ocupacao_PEDAGOGO' 'ocupacao_PESCADOR'\\n 'ocupacao_PETROLEIRO'\\n 'ocupacao_PILOTO DE AVIAÇÃO COMERCIAL, NAVEGADOR, MECÂNICO DE VÔO E ASSEMELHADOS'\\n 'ocupacao_POLICIAL CIVIL' 'ocupacao_POLICIAL MILITAR'\\n 'ocupacao_PORTEIRO DE EDIFÍCIO, ASCENSORISTA, GARAGISTA E ZELADOR'\\n 'ocupacao_PREFEITO' 'ocupacao_PRODUTOR AGROPECUÁRIO'\\n 'ocupacao_PRODUTOR DE ESPETÁCULOS PÚBLICOS'\\n 'ocupacao_PROFESSOR DE ENSINO FUNDAMENTAL'\\n 'ocupacao_PROFESSOR DE ENSINO MÉDIO'\\n 'ocupacao_PROFESSOR DE ENSINO SUPERIOR'\\n 'ocupacao_PROFESSOR E INSTRUTOR DE FORMAÇÃO PROFISSIONAL'\\n 'ocupacao_PROGRAMADOR DE COMPUTADOR' 'ocupacao_PROTÉTICO'\\n 'ocupacao_PSICÓLOGO' 'ocupacao_PUBLICITÁRIO' 'ocupacao_QUÍMICO'\\n 'ocupacao_RECEPCIONISTA' 'ocupacao_REPRESENTANTE COMERCIAL'\\n 'ocupacao_SACERDOTE OU MEMBRO DE ORDEM OU SEITA RELIGIOSA'\\n 'ocupacao_SECRETÁRIO E DATILÓGRAFO' 'ocupacao_SECURITÁRIO'\\n 'ocupacao_SENADOR' 'ocupacao_SERRALHEIRO'\\n 'ocupacao_SERVENTUÁRIO DE JUSTIÇA'\\n 'ocupacao_SERVIDOR DA JUSTIÇA ELEITORAL'\\n 'ocupacao_SERVIDOR PÚBLICO CIVIL APOSENTADO'\\n 'ocupacao_SERVIDOR PÚBLICO ESTADUAL' 'ocupacao_SERVIDOR PÚBLICO FEDERAL'\\n 'ocupacao_SERVIDOR PÚBLICO MUNICIPAL' 'ocupacao_SOCIÓLOGO'\\n 'ocupacao_SUPERVISOR, INSPETOR E AGENTE DE COMPRAS E VENDAS'\\n 'ocupacao_TABELIÃO' 'ocupacao_TAQUÍGRAFO E ESTENÓGRAFO'\\n 'ocupacao_TAXISTA' 'ocupacao_TELEFONISTA' 'ocupacao_TERAPEUTA'\\n 'ocupacao_TORNEIRO MECÂNICO' 'ocupacao_TRABALHADOR DE ARTES GRÁFICAS'\\n 'ocupacao_TRABALHADOR DE CONSTRUÇÃO CIVIL'\\n 'ocupacao_TRABALHADOR DE FABRICAÇÃO DE ROUPAS'\\n 'ocupacao_TRABALHADOR DE FABRICAÇÃO E PREPARAÇÃO DE ALIMENTOS E BEBIDAS'\\n 'ocupacao_TRABALHADOR DE HOTELARIA'\\n 'ocupacao_TRABALHADOR DE MINAS E PEDREIRAS, SONDADOR E ASSEMELHADOS'\\n 'ocupacao_TRABALHADOR DE USINAGEM DE METAIS'\\n 'ocupacao_TRABALHADOR DOS SERVIÇOS DE CONTABILIDADE, DE CAIXA E ASSEMELHADOS'\\n 'ocupacao_TRABALHADOR EM ATIVIDADE DE PROCESSAMENTO QUÍMICO'\\n 'ocupacao_TRABALHADOR METALÚRGICO E SIDERÚRGICO'\\n 'ocupacao_TRABALHADOR RURAL'\\n 'ocupacao_TÉCNICO CONTABILIDADE, ESTATÍSTICA, ECONOMIA DOMÉSTICA E ADMINISTRAÇÃO'\\n 'ocupacao_TÉCNICO DE BIOLOGIA'\\n 'ocupacao_TÉCNICO DE ELETRICIDADE, ELETRÔNICA E TELECOMUNICAÇÕES'\\n 'ocupacao_TÉCNICO DE ENFERMAGEM E ASSEMELHADOS (EXCETO ENFERMEIRO)'\\n 'ocupacao_TÉCNICO DE LABORATÓRIO E RAIOS X'\\n 'ocupacao_TÉCNICO DE MECÂNICA'\\n 'ocupacao_TÉCNICO DE MINERAÇÃO, METALURGIA E GEOLOGIA'\\n 'ocupacao_TÉCNICO DE OBRAS CIVIS, ESTRADAS, SANEAMENTO E ASSEMELHADOS'\\n 'ocupacao_TÉCNICO EM AGRONOMIA E AGRIMENSURA'\\n 'ocupacao_TÉCNICO EM EDIFICAÇÕES' 'ocupacao_TÉCNICO EM INFORMÁTICA'\\n 'ocupacao_VENDEDOR DE COMÉRCIO VAREJISTA E ATACADISTA'\\n 'ocupacao_VENDEDOR PRACISTA, REPRESENTANTE, CAIXEIRO-VIAJANTE E ASSEMELHADOS'\\n 'ocupacao_VEREADOR' 'ocupacao_VETERINÁRIO' 'ocupacao_VIGILANTE'\\n 'ocupacao_ZOOTECNISTA'] not in index\""
     ]
    }
   ],
   "source": [
    "print(\"\\nAda Training --------------------------------\")\n",
    "ad_oof_train, ad_oof_test, ad_oof_test_proba = get_oof_2(ad)\n",
    "print(\"Ada Training Finished -------------------------------\\n\")\n",
    "\n",
    "\n",
    "print(\"\\nXGBoost Training ----------------------------------\")\n",
    "xg_oof_train, xg_oof_test, xg_oof_test_proba = get_oof_2(xg)\n",
    "print(\"XGBoost Training ------------------------------\\n\")\n",
    "\n",
    "xg_oof_test"
   ]
  },
  {
   "cell_type": "code",
   "execution_count": null,
   "metadata": {},
   "outputs": [],
   "source": [
    "lr = SklearnWrapper_1(clf=LogisticRegression, params=lr_params)\n",
    "ad = SklearnWrapper_1(clf=AdaBoostClassifier, seed=SEED, params=ada_params)\n",
    "et = SklearnWrapper_1(clf=ExtraTreesClassifier, seed=SEED, params=et_params)\n",
    "rf = SklearnWrapper_1(clf=RandomForestClassifier, seed=SEED, params=rf_params)\n",
    "dt = SklearnWrapper_1(clf=DecisionTreeClassifier, seed=SEED, params=dt_params)\n",
    "sv = SklearnWrapper_1(clf=SVC, seed=SEED, params=svc_params)\n",
    "kn = SklearnWrapper_2(clf=KNeighborsClassifier, params=knr_params)\n",
    "lg = LightGBMWrapper(clf = LGBMClassifier, seed = SEED, params = lightgbm_params)\n",
    "cb = CatboostWrapper(clf= CatBoostClassifier, seed = SEED, params=catboost_params)\n",
    "\n",
    "\n",
    "lr_oof_train, lr_oof_test, lr_oof_test_proba = get_oof(lr)\n",
    "ad_oof_train, ad_oof_test, ad_oof_test_proba = get_oof(ad)\n",
    "et_oof_train, et_oof_test, et_oof_test_proba = get_oof(et)\n",
    "rf_oof_train, rf_oof_test, rf_oof_test_proba = get_oof(rf)\n",
    "dt_oof_train, dt_oof_test, dt_oof_test_proba = get_oof(dt)\n",
    "sv_oof_train, sv_oof_test, sv_oof_test_proba = get_oof(sv)\n",
    "kn_oof_train, kn_oof_test, kn_oof_test_proba = get_oof(kn)\n",
    "lg_oof_train, lg_oof_test, lg_oof_test_proba = get_oof(lg)\n",
    "cb_oof_train, cb_oof_test, cb_oof_test_proba = get_oof(cb)\n"
   ]
  },
  {
   "cell_type": "markdown",
   "metadata": {},
   "source": [
    "### Analyze Intermediary Models Performance"
   ]
  },
  {
   "cell_type": "code",
   "execution_count": null,
   "metadata": {},
   "outputs": [],
   "source": [
    "results = [(ModelsNames.LR, lr_oof_train), (ModelsNames.ADA, ad_oof_train), \n",
    "           (ModelsNames.ET, et_oof_train), (ModelsNames.RF, rf_oof_train), \n",
    "           (ModelsNames.DT, dt_oof_train), (ModelsNames.KNR, kn_oof_train), \n",
    "           (ModelsNames.SVC, sv_oof_train), (ModelsNames.LGBM, lg_oof_train), \n",
    "           (ModelsNames.CAT, cb_oof_train)]\n",
    "\n",
    "\n",
    "for m_name, m_train_result in results:        \n",
    "    print(\"Model: {}\".format(m_name.value))\n",
    "    print(\"Precision: {:.4}\".format(precision_score(y_train, m_train_result)))\n",
    "    print(\"Recall: {:.4}\".format(recall_score(y_train, m_train_result)))\n",
    "    print(\"F1: {:.4}\".format(f1_score(y_train, m_train_result)))\n",
    "    print(\"Accuracy: {:.4}\".format(accuracy_score(y_train, m_train_result)))\n",
    "    print(\"Roc_auc: {:.4}\".format(roc_auc_score(y_train, m_train_result)))\n",
    "    print(\"----------------------\")"
   ]
  },
  {
   "cell_type": "code",
   "execution_count": null,
   "metadata": {},
   "outputs": [],
   "source": [
    "def evaluate_stacked_model(model):\n",
    "    scoring = ['precision', 'recall', 'f1', 'accuracy', 'roc_auc']\n",
    "    scores = cross_validate(model, x__train, y__train, cv=3, scoring=scoring)\n",
    "    \n",
    "    print(\"\\nAvaliação de Stacked Model com CV:\")\n",
    "    print(\"Precision: {:.4}\".format(scores['test_precision'].mean()))\n",
    "    print(\"Recall: {:.4}\".format(scores['test_recall'].mean()))\n",
    "    print(\"F1: {:.4}\".format(scores['test_f1'].mean()))\n",
    "    print(\"Accuracy: {:.4}\".format(scores['test_accuracy'].mean()))\n",
    "    print(\"Roc_auc: {:.4}\".format(scores['test_roc_auc'].mean()))"
   ]
  },
  {
   "cell_type": "code",
   "execution_count": null,
   "metadata": {},
   "outputs": [],
   "source": [
    "x__train = np.concatenate((lr_oof_train, ad_oof_train, et_oof_train, rf_oof_train, dt_oof_train,\n",
    "                          kn_oof_train, sv_oof_train, lg_oof_train, cb_oof_train), axis=1)\n",
    "x__test = np.concatenate((lr_oof_test, ad_oof_test, et_oof_test, rf_oof_test, dt_oof_test,\n",
    "                         kn_oof_test, sv_oof_test, lg_oof_test, cb_oof_test), axis=1)\n",
    "y__train = y_train.copy()\n",
    "\n",
    "print(\"x__train.shape: {}\".format(x__train.shape))\n",
    "print(\"y__train.shape: {}\".format(y__train.shape))\n",
    "print(\"x__test.shape:{}\".format(x__test.shape))\n",
    "\n",
    "scoring = ['precision', 'recall', 'f1', 'accuracy', 'roc_auc']\n",
    "clf = LogisticRegression(solver='liblinear')\n",
    "clf.fit(x__train, y__train)\n",
    "\n",
    "evaluate_stacked_model(clf)"
   ]
  },
  {
   "cell_type": "markdown",
   "metadata": {},
   "source": [
    "#### Generate Prediction to Test Data"
   ]
  },
  {
   "cell_type": "code",
   "execution_count": null,
   "metadata": {},
   "outputs": [],
   "source": [
    "stack_df = pd.DataFrame(X_test)\n",
    "pred = logistic_regression.predict(x__test)\n",
    "stack_df['Predicted'] = pred\n",
    "\n",
    "seq_candidato = stack_df.index\n",
    "\n",
    "stack_df.replace({'Predicted': {0: 'nao_eleito', 1: 'eleito'}}, inplace=True)\n",
    "stack_df.reset_index(drop=True, inplace=True)\n",
    "\n",
    "final_df = pd.DataFrame(columns=['Id','Predicted'])\n",
    "final_df['Id'] = seq_candidato\n",
    "final_df['Predicted'] = stack_df['Predicted']\n",
    "\n",
    "final_df.to_csv('../data/assignment_4/second_submission.csv', index=False)\n",
    "final_df.head(10)"
   ]
  },
  {
   "cell_type": "code",
   "execution_count": null,
   "metadata": {},
   "outputs": [],
   "source": [
    "origin_models = ['knr','lr','dt','ada','rf','svc','et','lgbm','cat','xgb']\n",
    "\n",
    "stack_df = pd.DataFrame(columns=origin_models + ['oracle'])\n",
    "\n",
    "stack_df['knr'] = knr.predict_proba(X_test)[:,1]\n",
    "stack_df['lr'] = lr.predict_proba(X_test)[:,1]\n",
    "stack_df['dt'] = dt.predict_proba(X_test)[:,1]\n",
    "stack_df['ada'] = ada.predict_proba(X_test)[:,1]\n",
    "stack_df['rf'] = rf.predict_proba(X_test)[:,1]\n",
    "stack_df['svc'] = svc.predict_proba(X_test)[:,1]\n",
    "stack_df['et'] = et.predict_proba(X_test)[:,1]\n",
    "stack_df['lgbm'] = lgbm.predict_proba(X_test)[:,1]\n",
    "stack_df['cat'] = cat.predict_proba(X_test)[:,1]\n",
    "stack_df['xgb'] = xgb.predict_proba(X_test)[:,1]\n",
    "stack_df['oracle'] = y_test\n",
    "\n",
    "stack_df.head()"
   ]
  },
  {
   "cell_type": "markdown",
   "metadata": {},
   "source": [
    "Previouslly:\n",
    "\n",
    "* Precision: 0.9481\n",
    "* Recall: 0.9884\n",
    "* F1: 0.9679\n",
    "* Accuracy: 0.9678\n",
    "* Roc_auc: 0.9682\n",
    "\n",
    "After add XGBoostClassifier:\n",
    "\n",
    "* Precision: 0.9658\n",
    "* Recall: 0.9807\n",
    "* F1: 0.9732\n",
    "* Accuracy: 0.9735\n",
    "* Roc_auc: 0.9736"
   ]
  },
  {
   "cell_type": "code",
   "execution_count": null,
   "metadata": {},
   "outputs": [],
   "source": [
    "x__train, x__test, y__train, y__test = train_test_split(stack_df[origin_models], stack_df.oracle, test_size=0.2, random_state=42)\n",
    "\n",
    "stack_lr = LogisticRegression(solver='liblinear').fit(x__train, y__train)\n",
    "pred = stack_lr.predict(x__test)\n",
    "\n",
    "print('Precision: {:.4}'.format(precision_score(y__test, pred)))\n",
    "print('Recall: {:.4}'.format(recall_score(y__test, pred)))\n",
    "print('F1: {:.4}'.format(f1_score(y__test, pred)))\n",
    "print('Accuracy: {:.4}'.format(accuracy_score(y__test, pred)))\n",
    "print('Roc_auc: {:.4}'.format(roc_auc_score(y__test, pred)))"
   ]
  },
  {
   "cell_type": "markdown",
   "metadata": {},
   "source": [
    "## EXTRA - Usando Pipelines e GridSearch do Scikit Learn\n",
    "\n",
    "Abaixo nós fazemos alguns pipelines e grid searches com os mesmos algoritmos usados acima com o intuito de checar se os valores obtidos são correspondentes."
   ]
  },
  {
   "cell_type": "raw",
   "metadata": {},
   "source": [
    "from sklearn.pipeline import Pipeline\n",
    "from sklearn.model_selection import GridSearchCV\n",
    "from sklearn.metrics import make_scorer\n",
    "\n",
    "def rmse_function(y_pred, y_true):\n",
    "    return np.sqrt(mean_squared_error(y_true=y_true, y_pred=y_pred))\n",
    "\n",
    "scorer = make_scorer(rmse_function, greater_is_better=False)\n",
    "\n",
    "# Construct some pipelines\n",
    "pipe_lr = Pipeline([('reg', LinearRegression())])\n",
    "pipe_rf = Pipeline([('reg', RandomForestRegressor())])\n",
    "pipe_lasso = Pipeline([('reg', LassoCV())])\n",
    "pipe_ridge = Pipeline([('reg', RidgeCV())])\n",
    "pipe_knn = Pipeline([('reg', KNeighborsRegressor())])\n",
    "pipe_dt = Pipeline([('reg', DecisionTreeRegressor())])\n",
    "pipe_svr = Pipeline([('reg', SVR())])\n",
    "\n",
    "\n",
    "param_range = [1, 2, 3, 4, 5, 6, 7, 8, 9, 10]\n",
    "\n",
    "grid_params_lr = [{}] \n",
    "\n",
    "grid_params_lasso = [{'reg__alphas' : [[5e-1, 1e-1, 5e-2, 1e-3, 1e-4, 1e-5, 1e-6]],\n",
    "                      'reg__max_iter' : [1e5],\n",
    "                      'reg__random_state' : [2]}]\n",
    "\n",
    "grid_params_ridge = [{'reg__alphas' : [[0.05, 0.1, 0.3, 1, 3, 5, 10, 15, 30, 50, 75]]}]\n",
    "\n",
    "grid_params_rf = [{}]\n",
    "\n",
    "grid_params_knn = [{'reg__n_neighbors' : [1, 3, 5, 7, 10, 15, 18, 21]}]\n",
    "\n",
    "grid_params_dt = [{'reg__random_state' : [2],\n",
    "                   'reg__max_depth' : [5, 10, 50]}]\n",
    "\n",
    "grid_params_svr = [{'reg__C': [1e0, 1e1, 1e2, 1e3]}]\n",
    "\n",
    "# Construct grid searches\n",
    "jobs = -1\n",
    "\n",
    "gs_lr = GridSearchCV(estimator = pipe_lr,\n",
    "                param_grid = grid_params_lr,\n",
    "                scoring = scorer,\n",
    "                cv = 5) \n",
    "\n",
    "gs_rf = GridSearchCV(estimator = pipe_rf,\n",
    "                param_grid = grid_params_rf,\n",
    "                scoring = scorer,\n",
    "                cv = 5, \n",
    "                n_jobs = jobs)\n",
    "\n",
    "gs_lasso = GridSearchCV(estimator = pipe_lasso,\n",
    "                       param_grid = grid_params_lasso,\n",
    "                       scoring = scorer,\n",
    "                       cv = 5,\n",
    "                       n_jobs = jobs)\n",
    "\n",
    "gs_ridge = GridSearchCV(estimator = pipe_ridge,\n",
    "                       param_grid = grid_params_ridge,\n",
    "                       scoring = scorer,\n",
    "                       cv = 5,\n",
    "                       n_jobs = jobs)\n",
    "\n",
    "gs_knn = GridSearchCV(estimator = pipe_knn,\n",
    "                     param_grid = grid_params_knn,\n",
    "                     scoring = scorer,\n",
    "                     cv = 5,\n",
    "                     n_jobs = jobs)\n",
    "\n",
    "gs_dt = GridSearchCV(estimator = pipe_dt,\n",
    "                    param_grid = grid_params_dt,\n",
    "                    scoring = scorer,\n",
    "                    cv = 5,\n",
    "                    n_jobs = jobs)\n",
    "\n",
    "gs_svr = GridSearchCV(estimator = pipe_svr,\n",
    "                     param_grid = grid_params_svr,\n",
    "                     scoring = scorer,\n",
    "                     cv = 5,\n",
    "                     n_jobs = jobs)\n",
    "\n",
    "# List of pipelines for ease of iteration\n",
    "grids = [gs_lr, gs_rf, gs_ridge, gs_lasso, gs_knn, gs_dt, gs_svr]\n",
    "\n",
    "# Dictionary of pipelines and classifier types for ease of reference\n",
    "grid_dict = {0: 'Linear Regressor', 1: 'Random Forest Regressor', \n",
    "            2: 'Ridge Regressor', 3: 'Lasso Regressor', \n",
    "            4: 'KNN Regressor', 5: 'Decision Tree Regressor',\n",
    "            6: 'SVR Regressor'}\n",
    "\n",
    "\n",
    "# Fit the grid search objects\n",
    "print('Performing model optimizations...')\n",
    "best_rmse = float(\"inf\")\n",
    "best_reg = 0\n",
    "best_gs = ''\n",
    "for idx, gs in enumerate(grids):\n",
    "    print('\\nEstimator: %s' % grid_dict[idx])\n",
    "    # Fit grid search\n",
    "    gs.fit(X_train, y_train)\n",
    "\n",
    "    # Best params\n",
    "    print('Best params: %s' % gs.best_params_)\n",
    "    \n",
    "    # Best training data accuracy\n",
    "    print('Best RMSE for training set: %.10f' % -gs.best_score_)\n",
    "    \n",
    "    # Predict on test data with best params\n",
    "    y_pred = gs.predict(X_test)\n",
    "    \n",
    "    rmse = np.sqrt(mean_squared_error(y_true=y_test, y_pred=y_pred))\n",
    "    \n",
    "    # Validation data accuracy of model with best params\n",
    "    print('Test set RMSE for best params: %.10f ' % rmse)\n",
    "    \n",
    "    # Track best (smallest rmse) model\n",
    "    if best_rmse > rmse:\n",
    "        best_rmse = rmse\n",
    "        best_gs = gs\n",
    "        best_reg = idx\n",
    "        \n",
    "print('\\nRegressor with best test set RMSE: ** %s **' % grid_dict[best_reg])"
   ]
  },
  {
   "cell_type": "markdown",
   "metadata": {},
   "source": [
    "### Conclusão\n",
    "\n",
    "Como se observa acima, o melhor modelo encontrado foi o modelo **Lasso Regressor** em termos de RMSE, com o modelo **Ridge Regressor** bem próximo dele em termos de RMSE.\n",
    "\n",
    "Entretanto os valores de RMSE são distintos dos valores encontrados acima. Isso pode se dever ao ajuste dos parâmetros dos modelos, feitos durante a própria busca, e/ou por alguma diferença na função de scoring, que talvez tenha passado despercebida pela nossa análise."
   ]
  }
 ],
 "metadata": {
  "kernelspec": {
   "display_name": "Python 3",
   "language": "python",
   "name": "python3"
  },
  "language_info": {
   "codemirror_mode": {
    "name": "ipython",
    "version": 3
   },
   "file_extension": ".py",
   "mimetype": "text/x-python",
   "name": "python",
   "nbconvert_exporter": "python",
   "pygments_lexer": "ipython3",
   "version": "3.6.6"
  }
 },
 "nbformat": 4,
 "nbformat_minor": 2
}
